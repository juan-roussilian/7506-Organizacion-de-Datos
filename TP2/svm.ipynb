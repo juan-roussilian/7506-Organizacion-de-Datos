{
 "cells": [
  {
   "cell_type": "code",
   "execution_count": 1,
   "id": "dcba4b8e-174e-4edc-a7f5-dca0db98d31e",
   "metadata": {},
   "outputs": [],
   "source": [
    "import pandas as pd\n",
    "import numpy as np\n",
    "\n",
    "from sklearn import tree\n",
    "from sklearn.model_selection import train_test_split\n",
    "from sklearn.metrics import classification_report\n",
    "from sklearn.metrics import roc_auc_score\n",
    "from sklearn.model_selection import KFold, StratifiedKFold\n",
    "from sklearn.svm import SVC\n",
    "\n",
    "from preprocessing import preprocesamiento_basico, normalizar_datos\n",
    "from graficos_modelos import mostrar_reporte_clasificacion, graficar_auc_roc,graficar_matriz_confusion\n",
    "from funciones_auxiliares import traer_datasets, traer_dataset_prediccion_final, separar_dataset, encontrar_hiperparametros_RGSCV, mapear_target_binario"
   ]
  },
  {
   "cell_type": "markdown",
   "id": "608f5146-35a4-4989-9d80-84c5b10061d3",
   "metadata": {},
   "source": [
    "# Support Vector Machines"
   ]
  },
  {
   "cell_type": "markdown",
   "id": "bc1bfe73-d902-4602-8a2e-b8497052a0ca",
   "metadata": {},
   "source": [
    "### Obtención de los datos y preprocesamiento"
   ]
  },
  {
   "cell_type": "code",
   "execution_count": 2,
   "id": "3148b579-0c3a-41b8-b428-3366406e0844",
   "metadata": {},
   "outputs": [],
   "source": [
    "df, df_sin_target, solo_target = traer_datasets()\n",
    "\n",
    "X_train, X_test, y_train, y_test = separar_dataset(df_sin_target, solo_target)\n",
    "\n",
    "X_train.is_copy=False\n",
    "X_test.is_copy=False\n",
    "y_train.is_copy=False\n",
    "y_test.is_copy=False\n",
    "\n",
    "y_train.set_index('id', inplace=True)\n",
    "y_train = y_train.sort_values(by=['id'], ascending=True).copy()\n",
    "\n",
    "y_test.set_index('id', inplace=True)\n",
    "y_test = y_test.sort_values(by=['id'], ascending=True).copy()\n"
   ]
  },
  {
   "cell_type": "markdown",
   "id": "0c07afed-7652-4936-8ac5-e53694eee262",
   "metadata": {},
   "source": [
    "Aplicamos metodo de feature engineering general"
   ]
  },
  {
   "cell_type": "code",
   "execution_count": 3,
   "id": "7d1536d8-12f0-4db2-8ef3-5e55ab9efea3",
   "metadata": {},
   "outputs": [],
   "source": [
    "dataframes_procesados = preprocesamiento_basico([X_train, X_test])\n",
    "X_train = dataframes_procesados[0]\n",
    "X_test = dataframes_procesados[1]"
   ]
  },
  {
   "cell_type": "markdown",
   "id": "7e52a4e1-a5f1-470a-9a19-b0fd7a37f97a",
   "metadata": {},
   "source": [
    "Además es buena práctica realizar una normalización previa de las escalas de los datos, por lo que recurriremos al siguiente preprocesamiento adicional:"
   ]
  },
  {
   "cell_type": "code",
   "execution_count": 4,
   "id": "24ee8849-b56b-4880-a1e8-f0ca75ea0b1b",
   "metadata": {},
   "outputs": [],
   "source": [
    "dataframes_normalizados = normalizar_datos([X_train, X_test])\n",
    "X_train = dataframes_normalizados[0]\n",
    "X_test = dataframes_normalizados[1]"
   ]
  },
  {
   "cell_type": "code",
   "execution_count": 5,
   "id": "697972b0-00be-4daf-863b-3e8ca6eb178b",
   "metadata": {},
   "outputs": [
    {
     "data": {
      "text/plain": [
       "array([[-0.11207163, -1.42769342,  0.11177061, ...,  0.67593366,\n",
       "        -0.53062659, -0.10042639],\n",
       "       [ 0.85991399, -1.28254569, -1.31112628, ..., -1.12909687,\n",
       "        -0.53062659, -0.10042639],\n",
       "       [ 1.30635422, -1.0406328 , -1.62732559, ...,  0.56311925,\n",
       "        -0.53062659, -0.10042639],\n",
       "       ...,\n",
       "       [ 0.74192682, -1.33092826, -0.94222709, ..., -0.1137672 ,\n",
       "        -0.53062659, -0.10042639],\n",
       "       [ 0.92761988, -1.476076  , -0.67872766, ..., -0.1137672 ,\n",
       "        -0.53062659, -0.10042639],\n",
       "       [ 0.91512075, -1.33092826, -0.94222709, ..., -0.1137672 ,\n",
       "        -0.53062659, -0.10042639]])"
      ]
     },
     "execution_count": 5,
     "metadata": {},
     "output_type": "execute_result"
    }
   ],
   "source": [
    "X_train"
   ]
  },
  {
   "cell_type": "markdown",
   "id": "b7a8d8c9-e725-4fa4-ae4c-2d034f6e3058",
   "metadata": {},
   "source": [
    "### Búsqueda de Hiperparámetros"
   ]
  },
  {
   "cell_type": "markdown",
   "id": "395a8e07-17c6-40f3-8868-d95363332ddb",
   "metadata": {},
   "source": [
    "Buscamos hiperparámetros con RandomGridSearch, pues GridSearch iterativamente es bastante lento. En el caso de SVM, estos serán 'C' (dureza ante outliers), 'kernel' (el kernel a utilizar para evitar problemas linealmente inseparables), 'degree' (grado del kernel polinomial, ignorado por los otros kernels) y  'max_iter' (el número máximo de iteraciones como criterio de paro)."
   ]
  },
  {
   "cell_type": "code",
   "execution_count": 6,
   "id": "b16bf2c9-0606-421d-9959-0e14bf33c8dd",
   "metadata": {},
   "outputs": [
    {
     "name": "stderr",
     "output_type": "stream",
     "text": [
      "C:\\Users\\Guillermo\\anaconda3\\envs\\orgadatos\\lib\\site-packages\\sklearn\\svm\\_base.py:255: ConvergenceWarning: Solver terminated early (max_iter=5000).  Consider pre-processing your data with StandardScaler or MinMaxScaler.\n",
      "  warnings.warn('Solver terminated early (max_iter=%i).'\n"
     ]
    }
   ],
   "source": [
    "params = {'C': [0.1, 1, 10], 'kernel': ['poly', 'rbf', 'sigmoid'], 'degree':[2,3,4], 'max_iter': [10000]}\n",
    "hiperparametros = encontrar_hiperparametros_RGSCV(SVC(), params=params, x_np=X_train, y_np=y_train.to_numpy().ravel())"
   ]
  },
  {
   "cell_type": "code",
   "execution_count": 9,
   "id": "da10c8a2-9d3a-4ffd-a2f2-38d51a0ae6ff",
   "metadata": {},
   "outputs": [
    {
     "name": "stdout",
     "output_type": "stream",
     "text": [
      "Mejor C: 1\n",
      "Mejor iteración máxima: 5000\n",
      "Mejor kernel: sigmoid\n",
      "Mejor grado para kernel polinomial: 4\n"
     ]
    }
   ],
   "source": [
    "c_elegido = hiperparametros['C']\n",
    "max_iter_elegida = hiperparametros['max_iter']\n",
    "grado_elegido = hiperparametros['degree']\n",
    "kernel_elegido = hiperparametros['kernel']\n",
    "print(f'Mejor C: {c_elegido}')\n",
    "print(f'Mejor iteración máxima: {max_iter_elegida}')\n",
    "print(f'Mejor kernel: {kernel_elegido}')\n",
    "print(f'Mejor grado para kernel polinomial: {grado_elegido}')"
   ]
  },
  {
   "cell_type": "markdown",
   "id": "b5342653-7674-4ac6-990c-d79390cae5d6",
   "metadata": {},
   "source": [
    "### Entrenando el Modelo con CrossValidation"
   ]
  },
  {
   "cell_type": "markdown",
   "id": "d2c86964-0d50-455b-acb9-8ea17a09a2c5",
   "metadata": {},
   "source": [
    "Procedemos a testear con kfolds, stratificados pues nuestro dataset es desbalanceado. Además, usamos los hiperparámetros encontrados previamente."
   ]
  },
  {
   "cell_type": "code",
   "execution_count": 11,
   "id": "69c2f2e1-9415-455d-a3ae-7476df162242",
   "metadata": {
    "tags": []
   },
   "outputs": [
    {
     "name": "stderr",
     "output_type": "stream",
     "text": [
      "C:\\Users\\Guillermo\\anaconda3\\envs\\orgadatos\\lib\\site-packages\\sklearn\\utils\\validation.py:63: DataConversionWarning: A column-vector y was passed when a 1d array was expected. Please change the shape of y to (n_samples, ), for example using ravel().\n",
      "  return f(*args, **kwargs)\n"
     ]
    },
    {
     "name": "stdout",
     "output_type": "stream",
     "text": [
      "Reporte para el FOLD 0\n",
      "                                          precision    recall  f1-score   support\n",
      "\n",
      "No llueven hamburguesas al dia siguiente       0.84      0.86      0.85     15891\n",
      "   Llueven hamburguesas al dia siguiente       0.46      0.42      0.44      4581\n",
      "\n",
      "                                accuracy                           0.76     20472\n",
      "                               macro avg       0.65      0.64      0.64     20472\n",
      "                            weighted avg       0.75      0.76      0.76     20472\n",
      "\n"
     ]
    },
    {
     "name": "stderr",
     "output_type": "stream",
     "text": [
      "C:\\Users\\Guillermo\\anaconda3\\envs\\orgadatos\\lib\\site-packages\\sklearn\\utils\\validation.py:63: DataConversionWarning: A column-vector y was passed when a 1d array was expected. Please change the shape of y to (n_samples, ), for example using ravel().\n",
      "  return f(*args, **kwargs)\n"
     ]
    },
    {
     "name": "stdout",
     "output_type": "stream",
     "text": [
      "Reporte para el FOLD 1\n",
      "                                          precision    recall  f1-score   support\n",
      "\n",
      "No llueven hamburguesas al dia siguiente       0.85      0.87      0.86     15891\n",
      "   Llueven hamburguesas al dia siguiente       0.51      0.48      0.50      4580\n",
      "\n",
      "                                accuracy                           0.78     20471\n",
      "                               macro avg       0.68      0.68      0.68     20471\n",
      "                            weighted avg       0.78      0.78      0.78     20471\n",
      "\n"
     ]
    },
    {
     "name": "stderr",
     "output_type": "stream",
     "text": [
      "C:\\Users\\Guillermo\\anaconda3\\envs\\orgadatos\\lib\\site-packages\\sklearn\\utils\\validation.py:63: DataConversionWarning: A column-vector y was passed when a 1d array was expected. Please change the shape of y to (n_samples, ), for example using ravel().\n",
      "  return f(*args, **kwargs)\n"
     ]
    },
    {
     "name": "stdout",
     "output_type": "stream",
     "text": [
      "Reporte para el FOLD 2\n",
      "                                          precision    recall  f1-score   support\n",
      "\n",
      "No llueven hamburguesas al dia siguiente       0.82      0.81      0.81     15891\n",
      "   Llueven hamburguesas al dia siguiente       0.37      0.39      0.38      4580\n",
      "\n",
      "                                accuracy                           0.71     20471\n",
      "                               macro avg       0.60      0.60      0.60     20471\n",
      "                            weighted avg       0.72      0.71      0.72     20471\n",
      "\n"
     ]
    },
    {
     "name": "stderr",
     "output_type": "stream",
     "text": [
      "C:\\Users\\Guillermo\\anaconda3\\envs\\orgadatos\\lib\\site-packages\\sklearn\\utils\\validation.py:63: DataConversionWarning: A column-vector y was passed when a 1d array was expected. Please change the shape of y to (n_samples, ), for example using ravel().\n",
      "  return f(*args, **kwargs)\n",
      "C:\\Users\\Guillermo\\anaconda3\\envs\\orgadatos\\lib\\site-packages\\sklearn\\svm\\_base.py:255: ConvergenceWarning: Solver terminated early (max_iter=20000).  Consider pre-processing your data with StandardScaler or MinMaxScaler.\n",
      "  warnings.warn('Solver terminated early (max_iter=%i).'\n"
     ]
    },
    {
     "name": "stdout",
     "output_type": "stream",
     "text": [
      "Reporte para el FOLD 3\n",
      "                                          precision    recall  f1-score   support\n",
      "\n",
      "No llueven hamburguesas al dia siguiente       0.85      0.86      0.86     15891\n",
      "   Llueven hamburguesas al dia siguiente       0.50      0.49      0.49      4580\n",
      "\n",
      "                                accuracy                           0.77     20471\n",
      "                               macro avg       0.68      0.67      0.67     20471\n",
      "                            weighted avg       0.77      0.77      0.77     20471\n",
      "\n"
     ]
    },
    {
     "name": "stderr",
     "output_type": "stream",
     "text": [
      "C:\\Users\\Guillermo\\anaconda3\\envs\\orgadatos\\lib\\site-packages\\sklearn\\utils\\validation.py:63: DataConversionWarning: A column-vector y was passed when a 1d array was expected. Please change the shape of y to (n_samples, ), for example using ravel().\n",
      "  return f(*args, **kwargs)\n",
      "C:\\Users\\Guillermo\\anaconda3\\envs\\orgadatos\\lib\\site-packages\\sklearn\\svm\\_base.py:255: ConvergenceWarning: Solver terminated early (max_iter=20000).  Consider pre-processing your data with StandardScaler or MinMaxScaler.\n",
      "  warnings.warn('Solver terminated early (max_iter=%i).'\n"
     ]
    },
    {
     "name": "stdout",
     "output_type": "stream",
     "text": [
      "Reporte para el FOLD 4\n",
      "                                          precision    recall  f1-score   support\n",
      "\n",
      "No llueven hamburguesas al dia siguiente       0.85      0.89      0.87     15890\n",
      "   Llueven hamburguesas al dia siguiente       0.54      0.46      0.50      4581\n",
      "\n",
      "                                accuracy                           0.79     20471\n",
      "                               macro avg       0.69      0.67      0.68     20471\n",
      "                            weighted avg       0.78      0.79      0.78     20471\n",
      "\n"
     ]
    }
   ],
   "source": [
    "kf = StratifiedKFold(n_splits=5)\n",
    "for fold_idx, (train_index, test_index) in enumerate(kf.split(X_train, y_train)):\n",
    "    svm_clasificacion = SVC(max_iter=20000, C=c_elegido, kernel=kernel_elegido, degree=grado_elegido)\n",
    "    svm_clasificacion.fit(X_train[train_index], y_train.iloc[train_index])\n",
    "    print ('Reporte para el FOLD ' + str(fold_idx))\n",
    "    print(classification_report(y_train.iloc[test_index], svm_clasificacion.predict(X_train[test_index]), target_names=['No llueven hamburguesas al dia siguiente', 'Llueven hamburguesas al dia siguiente']))\n",
    "    "
   ]
  },
  {
   "cell_type": "markdown",
   "id": "4f454599-13d2-4547-b906-fc0c15baa62c",
   "metadata": {},
   "source": [
    "### Predicción del modelo sobre holdout"
   ]
  },
  {
   "cell_type": "markdown",
   "id": "f9f16703-38ae-49fa-986c-1ddfecef41b8",
   "metadata": {},
   "source": [
    "Una vez entrenado y validado el modelo con CrossValidation, viendo que las métricas resultantes fueron razonables y no dan indicio de overfit o mala división del dataset, pasaremos a probar el modelo en la partición Holdout. Para esto usaremos los mejores hiperparámetros hallados previamente en Training."
   ]
  },
  {
   "cell_type": "code",
   "execution_count": 1,
   "id": "0cfe0a9f-961c-487d-8548-5e0bbafc7e74",
   "metadata": {},
   "outputs": [
    {
     "ename": "NameError",
     "evalue": "name 'SVC' is not defined",
     "output_type": "error",
     "traceback": [
      "\u001b[1;31m---------------------------------------------------------------------------\u001b[0m",
      "\u001b[1;31mNameError\u001b[0m                                 Traceback (most recent call last)",
      "\u001b[1;32m<ipython-input-1-4be63cf78012>\u001b[0m in \u001b[0;36m<module>\u001b[1;34m\u001b[0m\n\u001b[1;32m----> 1\u001b[1;33m \u001b[0msvm_holdout\u001b[0m \u001b[1;33m=\u001b[0m \u001b[0mSVC\u001b[0m\u001b[1;33m(\u001b[0m\u001b[0mmax_iter\u001b[0m\u001b[1;33m=\u001b[0m\u001b[1;36m50000\u001b[0m\u001b[1;33m,\u001b[0m \u001b[0mC\u001b[0m\u001b[1;33m=\u001b[0m\u001b[0mc_elegido\u001b[0m\u001b[1;33m,\u001b[0m \u001b[0mkernel\u001b[0m\u001b[1;33m=\u001b[0m\u001b[0mkernel_elegido\u001b[0m\u001b[1;33m,\u001b[0m \u001b[0mdegree\u001b[0m\u001b[1;33m=\u001b[0m\u001b[0mgrado_elegido\u001b[0m\u001b[1;33m,\u001b[0m \u001b[0mprobability\u001b[0m\u001b[1;33m=\u001b[0m\u001b[1;32mTrue\u001b[0m\u001b[1;33m)\u001b[0m\u001b[1;33m\u001b[0m\u001b[1;33m\u001b[0m\u001b[0m\n\u001b[0m\u001b[0;32m      2\u001b[0m \u001b[0msvm_holdout\u001b[0m\u001b[1;33m.\u001b[0m\u001b[0mfit\u001b[0m\u001b[1;33m(\u001b[0m\u001b[0mX_train\u001b[0m\u001b[1;33m,\u001b[0m \u001b[0my_train\u001b[0m\u001b[1;33m.\u001b[0m\u001b[0mto_numpy\u001b[0m\u001b[1;33m(\u001b[0m\u001b[1;33m)\u001b[0m\u001b[1;33m.\u001b[0m\u001b[0mravel\u001b[0m\u001b[1;33m(\u001b[0m\u001b[1;33m)\u001b[0m\u001b[1;33m)\u001b[0m\u001b[1;33m\u001b[0m\u001b[1;33m\u001b[0m\u001b[0m\n",
      "\u001b[1;31mNameError\u001b[0m: name 'SVC' is not defined"
     ]
    }
   ],
   "source": [
    "svm_holdout = SVC(max_iter=50000, C=c_elegido, kernel=kernel_elegido, degree=grado_elegido, probability=True)\n",
    "svm_holdout.fit(X_train, y_train.to_numpy().ravel())"
   ]
  },
  {
   "cell_type": "code",
   "execution_count": null,
   "id": "58da92c3-cf58-431e-9592-f6df4337ae2b",
   "metadata": {
    "tags": []
   },
   "outputs": [],
   "source": [
    "mapeo_binario_v = np.vectorize(mapear_target_binario)\n",
    "y_pred = svm_holdout.predict(X_test)\n",
    "y_pred_binario = mapeo_binario_v(y_pred)\n",
    "y_pred_proba = svm_holdout.predict_proba(X_test)[:, 1]\n",
    "y_test_binario = y_test['llovieron_hamburguesas_al_dia_siguiente'].map({'si': 1, 'no': 0}).to_numpy()\n",
    "print(classification_report(y_test['llovieron_hamburguesas_al_dia_siguiente'].to_numpy(), y_pred))"
   ]
  },
  {
   "cell_type": "markdown",
   "id": "727c1241-57e9-4aad-9fe5-7ec16424ccf7",
   "metadata": {},
   "source": [
    "### Curva AUC ROC\n"
   ]
  },
  {
   "cell_type": "code",
   "execution_count": null,
   "id": "d5a29849-6959-4db6-ac1e-b34f9f3fd8ce",
   "metadata": {},
   "outputs": [],
   "source": [
    "graficar_auc_roc(y_test_binario, y_pred_proba)"
   ]
  },
  {
   "cell_type": "markdown",
   "id": "f8d1f2cc-3d4a-4b92-9d39-ea3988da6627",
   "metadata": {},
   "source": [
    "### Matriz de confusion"
   ]
  },
  {
   "cell_type": "code",
   "execution_count": null,
   "id": "744e1bcf-6980-475f-bba0-73c6780b898e",
   "metadata": {},
   "outputs": [],
   "source": [
    "graficar_matriz_confusion(y_test_binario, y_pred_binario)"
   ]
  },
  {
   "cell_type": "markdown",
   "id": "46a427a2-52ff-4141-ba6d-d08072191805",
   "metadata": {},
   "source": [
    "## Predicción con el dataset nuevo\n",
    "A continuación, realizamos la predicción con el árbol sin expandir el dataset sobre el dataset de predicciones nuevo, y la escribimos al archivo 'SVM.csv'"
   ]
  },
  {
   "cell_type": "code",
   "execution_count": null,
   "id": "e01fc36b-d7fb-4052-94d3-3f2edca94f71",
   "metadata": {},
   "outputs": [],
   "source": [
    "from funciones_auxiliares import exportar_prediccion_final\n",
    "\n",
    "df_prediccion_final = traer_dataset_prediccion_final()\n",
    "ids = df_prediccion_final['id'].to_numpy()\n",
    "\n",
    "df_prediccion_final = preprocesamiento_basico([df_prediccion_final])[0]\n",
    "df_preddiccion_final = normalizar_datos([df_prediccion_final])[0]\n",
    "predicciones = svc_holdout.predict(df_prediccion_final.to_numpy())\n",
    "\n",
    "exportar_prediccion_final(ids, predicciones, 'SVM.csv')"
   ]
  },
  {
   "cell_type": "code",
   "execution_count": null,
   "id": "9964b2e7-7f82-468d-b997-ed5aa465e9b8",
   "metadata": {},
   "outputs": [],
   "source": []
  }
 ],
 "metadata": {
  "kernelspec": {
   "display_name": "Python 3",
   "language": "python",
   "name": "python3"
  },
  "language_info": {
   "codemirror_mode": {
    "name": "ipython",
    "version": 3
   },
   "file_extension": ".py",
   "mimetype": "text/x-python",
   "name": "python",
   "nbconvert_exporter": "python",
   "pygments_lexer": "ipython3",
   "version": "3.8.8"
  }
 },
 "nbformat": 4,
 "nbformat_minor": 5
}

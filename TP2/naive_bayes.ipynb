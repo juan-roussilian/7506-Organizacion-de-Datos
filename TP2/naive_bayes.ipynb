{
 "cells": [
  {
   "cell_type": "code",
   "execution_count": 1,
   "id": "3304735d-9a24-4cbb-9049-c270bb30efd7",
   "metadata": {},
   "outputs": [],
   "source": [
    "import pandas as pd\n",
    "import numpy as np\n",
    "\n",
    "from sklearn import tree\n",
    "from sklearn.model_selection import train_test_split, StratifiedKFold\n",
    "\n",
    "from sklearn.metrics import classification_report\n",
    "from sklearn.metrics import roc_auc_score\n",
    "from sklearn.naive_bayes import GaussianNB\n",
    "from sklearn.naive_bayes import MultinomialNB\n",
    "from sklearn.naive_bayes import CategoricalNB\n",
    "\n",
    "from preprocessing import preprocesamiento_GNB\n",
    "from graficos_modelos import mostrar_reporte_clasificacion, graficar_auc_roc,graficar_matriz_confusion\n",
    "from funciones_auxiliares import traer_datasets, traer_dataset_prediccion_final, separar_dataset, encontrar_hiperparametros_RGSCV,encontrar_hiperparametros_GSCV, mapear_target_binario"
   ]
  },
  {
   "cell_type": "markdown",
   "id": "e8ffc962-13a4-49ad-a873-c16f33254f14",
   "metadata": {},
   "source": [
    "# Naive Bayes"
   ]
  },
  {
   "cell_type": "markdown",
   "id": "66023437-a06a-49a0-a86f-61db4b76a643",
   "metadata": {},
   "source": [
    "### Obtención de los datos y preprocesamiento"
   ]
  },
  {
   "cell_type": "code",
   "execution_count": 2,
   "id": "b47ede94-fbe2-4e7e-8cb0-77a18336d396",
   "metadata": {},
   "outputs": [],
   "source": [
    "df, df_sin_target, solo_target = traer_datasets()\n",
    "\n",
    "X_train, X_test, y_train, y_test = separar_dataset(df_sin_target, solo_target)\n",
    "\n",
    "y_train.set_index('id', inplace=True)\n",
    "y_train = y_train.sort_values(by=['id'], ascending=True).copy()\n",
    "\n",
    "y_test.set_index('id', inplace=True)\n",
    "y_test = y_test.sort_values(by=['id'], ascending=True).copy()\n"
   ]
  },
  {
   "cell_type": "markdown",
   "id": "770b58bf-7b42-4bf4-8710-c693da318886",
   "metadata": {},
   "source": [
    "Aplicamos preprocesamiento especifico para el modelo de naive bayes gaussiano"
   ]
  },
  {
   "cell_type": "code",
   "execution_count": 3,
   "id": "c9cd554c-e772-421b-9a40-3b01d8cdffb6",
   "metadata": {},
   "outputs": [],
   "source": [
    "dataframes_procesados = preprocesamiento_GNB([X_train, X_test])\n",
    "X_train = dataframes_procesados[0]\n",
    "X_test = dataframes_procesados[1]"
   ]
  },
  {
   "cell_type": "markdown",
   "id": "54537407-8170-4e90-a6e7-3647818d484e",
   "metadata": {},
   "source": [
    "### Búsqueda de Hiperparámetros"
   ]
  },
  {
   "cell_type": "markdown",
   "id": "5e13078d-4ac6-4490-8cc6-4fb7f4f4d9d0",
   "metadata": {},
   "source": [
    "Buscamos hiperparámetros GridSearch pues al ser un solo hiperparametro limitado a los valores seleccionados, no tendremos problemas de performance y será deterministico."
   ]
  },
  {
   "cell_type": "code",
   "execution_count": 4,
   "id": "729b29fb-5153-4368-a772-5aa29a13fdd7",
   "metadata": {},
   "outputs": [
    {
     "name": "stdout",
     "output_type": "stream",
     "text": [
      "Mejor suavizado: 0.0001\n"
     ]
    }
   ],
   "source": [
    "params = {'var_smoothing': [1e-9,1e-8,1e-7,1e-6,1e-5,1e-4]}\n",
    "hiperparametros = encontrar_hiperparametros_GSCV(GaussianNB(), params=params, x_np=X_train.to_numpy(), y_np=y_train['llovieron_hamburguesas_al_dia_siguiente'].to_numpy())\n",
    "\n",
    "suavizado_elegido = hiperparametros['var_smoothing']\n",
    "print(f'Mejor suavizado: {suavizado_elegido}')"
   ]
  },
  {
   "cell_type": "markdown",
   "id": "3570d0d2-d566-405e-ab12-843fcb978c98",
   "metadata": {},
   "source": [
    "### Entrenando el Modelo con CrossValidation"
   ]
  },
  {
   "cell_type": "markdown",
   "id": "315eb135-4279-444e-a6ff-41f74a7b189e",
   "metadata": {},
   "source": [
    "Procedemos a testear con kfolds, stratificados pues nuestro dataset es desbalanceado. Además, usamos los hiperparámetros encontrados previamente."
   ]
  },
  {
   "cell_type": "code",
   "execution_count": 5,
   "id": "d73ecb60-872c-403e-accb-a7b8acc881bd",
   "metadata": {
    "tags": []
   },
   "outputs": [
    {
     "name": "stderr",
     "output_type": "stream",
     "text": [
      "C:\\Users\\Guillermo\\anaconda3\\lib\\site-packages\\sklearn\\utils\\validation.py:63: DataConversionWarning: A column-vector y was passed when a 1d array was expected. Please change the shape of y to (n_samples, ), for example using ravel().\n",
      "  return f(*args, **kwargs)\n"
     ]
    },
    {
     "name": "stdout",
     "output_type": "stream",
     "text": [
      "Reporte para el FOLD 0\n",
      "                                          precision    recall  f1-score   support\n",
      "\n",
      "No llueven hamburguesas al dia siguiente       0.88      0.88      0.88     15891\n",
      "   Llueven hamburguesas al dia siguiente       0.59      0.59      0.59      4581\n",
      "\n",
      "                                accuracy                           0.82     20472\n",
      "                               macro avg       0.73      0.73      0.73     20472\n",
      "                            weighted avg       0.82      0.82      0.82     20472\n",
      "\n",
      "Reporte para el FOLD 1\n"
     ]
    },
    {
     "name": "stderr",
     "output_type": "stream",
     "text": [
      "C:\\Users\\Guillermo\\anaconda3\\lib\\site-packages\\sklearn\\utils\\validation.py:63: DataConversionWarning: A column-vector y was passed when a 1d array was expected. Please change the shape of y to (n_samples, ), for example using ravel().\n",
      "  return f(*args, **kwargs)\n"
     ]
    },
    {
     "name": "stdout",
     "output_type": "stream",
     "text": [
      "                                          precision    recall  f1-score   support\n",
      "\n",
      "No llueven hamburguesas al dia siguiente       0.90      0.77      0.83     15891\n",
      "   Llueven hamburguesas al dia siguiente       0.47      0.70      0.56      4580\n",
      "\n",
      "                                accuracy                           0.76     20471\n",
      "                               macro avg       0.68      0.74      0.70     20471\n",
      "                            weighted avg       0.80      0.76      0.77     20471\n",
      "\n",
      "Reporte para el FOLD 2\n"
     ]
    },
    {
     "name": "stderr",
     "output_type": "stream",
     "text": [
      "C:\\Users\\Guillermo\\anaconda3\\lib\\site-packages\\sklearn\\utils\\validation.py:63: DataConversionWarning: A column-vector y was passed when a 1d array was expected. Please change the shape of y to (n_samples, ), for example using ravel().\n",
      "  return f(*args, **kwargs)\n"
     ]
    },
    {
     "name": "stdout",
     "output_type": "stream",
     "text": [
      "                                          precision    recall  f1-score   support\n",
      "\n",
      "No llueven hamburguesas al dia siguiente       0.91      0.77      0.83     15891\n",
      "   Llueven hamburguesas al dia siguiente       0.48      0.73      0.58      4580\n",
      "\n",
      "                                accuracy                           0.76     20471\n",
      "                               macro avg       0.69      0.75      0.70     20471\n",
      "                            weighted avg       0.81      0.76      0.78     20471\n",
      "\n",
      "Reporte para el FOLD 3\n"
     ]
    },
    {
     "name": "stderr",
     "output_type": "stream",
     "text": [
      "C:\\Users\\Guillermo\\anaconda3\\lib\\site-packages\\sklearn\\utils\\validation.py:63: DataConversionWarning: A column-vector y was passed when a 1d array was expected. Please change the shape of y to (n_samples, ), for example using ravel().\n",
      "  return f(*args, **kwargs)\n"
     ]
    },
    {
     "name": "stdout",
     "output_type": "stream",
     "text": [
      "                                          precision    recall  f1-score   support\n",
      "\n",
      "No llueven hamburguesas al dia siguiente       0.89      0.87      0.88     15891\n",
      "   Llueven hamburguesas al dia siguiente       0.58      0.64      0.61      4580\n",
      "\n",
      "                                accuracy                           0.82     20471\n",
      "                               macro avg       0.74      0.75      0.74     20471\n",
      "                            weighted avg       0.82      0.82      0.82     20471\n",
      "\n",
      "Reporte para el FOLD 4\n"
     ]
    },
    {
     "name": "stderr",
     "output_type": "stream",
     "text": [
      "C:\\Users\\Guillermo\\anaconda3\\lib\\site-packages\\sklearn\\utils\\validation.py:63: DataConversionWarning: A column-vector y was passed when a 1d array was expected. Please change the shape of y to (n_samples, ), for example using ravel().\n",
      "  return f(*args, **kwargs)\n"
     ]
    },
    {
     "name": "stdout",
     "output_type": "stream",
     "text": [
      "                                          precision    recall  f1-score   support\n",
      "\n",
      "No llueven hamburguesas al dia siguiente       0.89      0.90      0.89     15890\n",
      "   Llueven hamburguesas al dia siguiente       0.63      0.60      0.61      4581\n",
      "\n",
      "                                accuracy                           0.83     20471\n",
      "                               macro avg       0.76      0.75      0.75     20471\n",
      "                            weighted avg       0.83      0.83      0.83     20471\n",
      "\n"
     ]
    }
   ],
   "source": [
    "kf = StratifiedKFold(n_splits=5)\n",
    "for fold_idx, (train_index, test_index) in enumerate(kf.split(X_train, y_train)):\n",
    "    naive_bayes_gaussiano = GaussianNB(var_smoothing=suavizado_elegido)\n",
    "    naive_bayes_gaussiano.fit(X_train.iloc[train_index], y_train.iloc[train_index])\n",
    "    print ('Reporte para el FOLD ' + str(fold_idx))\n",
    "    print(classification_report(y_train.iloc[test_index], naive_bayes_gaussiano.predict(X_train.iloc[test_index]), target_names=['No llueven hamburguesas al dia siguiente', 'Llueven hamburguesas al dia siguiente']))\n",
    "    "
   ]
  },
  {
   "cell_type": "markdown",
   "id": "a4ed0b53-4880-40c8-aa40-de6a6de68d43",
   "metadata": {},
   "source": [
    "### Predicción del modelo sobre holdout"
   ]
  },
  {
   "cell_type": "markdown",
   "id": "7870cb7a-389f-49a6-ba6f-895f0c6691af",
   "metadata": {},
   "source": [
    "Una vez entrenado y validado el modelo con CrossValidation, viendo que las métricas resultantes fueron razonables y no dan indicio de overfit o mala división del dataset, pasaremos a probar el modelo en la partición Holdout. Para esto usaremos los mejores hiperparámetros hallados previamente en Training."
   ]
  },
  {
   "cell_type": "code",
   "execution_count": 6,
   "id": "abf8f0b2-5f5c-4ba1-981c-e8618825073e",
   "metadata": {},
   "outputs": [
    {
     "name": "stderr",
     "output_type": "stream",
     "text": [
      "C:\\Users\\Guillermo\\anaconda3\\lib\\site-packages\\sklearn\\utils\\validation.py:63: DataConversionWarning: A column-vector y was passed when a 1d array was expected. Please change the shape of y to (n_samples, ), for example using ravel().\n",
      "  return f(*args, **kwargs)\n"
     ]
    },
    {
     "data": {
      "text/plain": [
       "GaussianNB(var_smoothing=0.0001)"
      ]
     },
     "execution_count": 6,
     "metadata": {},
     "output_type": "execute_result"
    }
   ],
   "source": [
    "gnb_holdout = GaussianNB(var_smoothing=suavizado_elegido)\n",
    "gnb_holdout.fit(X_train.to_numpy(), y_train.to_numpy())"
   ]
  },
  {
   "cell_type": "code",
   "execution_count": 7,
   "id": "cfda0646-673b-4fde-958c-54791fcd839a",
   "metadata": {
    "tags": []
   },
   "outputs": [
    {
     "name": "stdout",
     "output_type": "stream",
     "text": [
      "              precision    recall  f1-score   support\n",
      "\n",
      "          no       0.89      0.84      0.87      8828\n",
      "          si       0.54      0.65      0.59      2545\n",
      "\n",
      "    accuracy                           0.80     11373\n",
      "   macro avg       0.72      0.74      0.73     11373\n",
      "weighted avg       0.81      0.80      0.80     11373\n",
      "\n"
     ]
    }
   ],
   "source": [
    "mapeo_binario_v = np.vectorize(mapear_target_binario)\n",
    "y_pred = gnb_holdout.predict(X_test.to_numpy())\n",
    "y_pred_binario = mapeo_binario_v(y_pred)\n",
    "y_pred_proba = gnb_holdout.predict_proba(X_test.to_numpy())[:, 1]\n",
    "y_test_binario = y_test['llovieron_hamburguesas_al_dia_siguiente'].map({'si': 1, 'no': 0}).to_numpy()\n",
    "print(classification_report(y_test['llovieron_hamburguesas_al_dia_siguiente'].to_numpy(), y_pred))"
   ]
  },
  {
   "cell_type": "markdown",
   "id": "ae69e2a7-6ffc-4a95-b296-d7c544e0fbc0",
   "metadata": {},
   "source": [
    "### Curva AUC ROC\n"
   ]
  },
  {
   "cell_type": "code",
   "execution_count": 8,
   "id": "506292ad-880a-446c-a1ac-b6eaf05df505",
   "metadata": {},
   "outputs": [
    {
     "data": {
      "image/png": "[encoded data removed]",
      "text/plain": [
       "<Figure size 1080x720 with 1 Axes>"
      ]
     },
     "metadata": {
      "needs_background": "light"
     },
     "output_type": "display_data"
    },
    {
     "name": "stdout",
     "output_type": "stream",
     "text": [
      "AUC-ROC para este modelo es: 0.8311036815348201\n"
     ]
    }
   ],
   "source": [
    "graficar_auc_roc(y_test_binario, y_pred_proba)"
   ]
  },
  {
   "cell_type": "markdown",
   "id": "1719d472-0c79-401b-bfa0-5e84507166a2",
   "metadata": {},
   "source": [
    "### Matriz de confusion"
   ]
  },
  {
   "cell_type": "code",
   "execution_count": 9,
   "id": "fea9182e-d337-49bf-91bd-50a17a17ed43",
   "metadata": {},
   "outputs": [
    {
     "name": "stderr",
     "output_type": "stream",
     "text": [
      "C:\\Users\\Guillermo\\anaconda3\\lib\\site-packages\\sklearn\\utils\\validation.py:70: FutureWarning: Pass labels=[0, 1] as keyword args. From version 1.0 (renaming of 0.25) passing these as positional arguments will result in an error\n",
      "  warnings.warn(f\"Pass {args_msg} as keyword args. From version \"\n"
     ]
    },
    {
     "data": {
      "image/png": "[encoded data removed]",
      "text/plain": [
       "<Figure size 600x400 with 2 Axes>"
      ]
     },
     "metadata": {
      "needs_background": "light"
     },
     "output_type": "display_data"
    }
   ],
   "source": [
    "graficar_matriz_confusion(y_test_binario, y_pred_binario)"
   ]
  },
  {
   "cell_type": "markdown",
   "id": "99865d64-a41a-4e38-95c6-70efccfb37b0",
   "metadata": {},
   "source": [
    "## Predicción con el dataset nuevo\n",
    "A continuación, realizamos la predicción con el árbol sin expandir el dataset sobre el dataset de predicciones nuevo, y la escribimos al archivo 'NaiveBayes.csv'"
   ]
  },
  {
   "cell_type": "code",
   "execution_count": 10,
   "id": "a9d436f5-bd82-41b6-b134-289e468ee6c9",
   "metadata": {},
   "outputs": [],
   "source": [
    "from funciones_auxiliares import exportar_prediccion_final\n",
    "\n",
    "df_prediccion_final = traer_dataset_prediccion_final()\n",
    "ids = df_prediccion_final['id'].to_numpy()\n",
    "\n",
    "df_prediccion_final = preprocesamiento_GNB([df_prediccion_final])[0]\n",
    "predicciones = gnb_holdout.predict(df_prediccion_final.to_numpy())\n",
    "\n",
    "exportar_prediccion_final(ids, predicciones, 'NaiveBayes')"
   ]
  }
 ],
 "metadata": {
  "kernelspec": {
   "display_name": "Python 3",
   "language": "python",
   "name": "python3"
  },
  "language_info": {
   "codemirror_mode": {
    "name": "ipython",
    "version": 3
   },
   "file_extension": ".py",
   "mimetype": "text/x-python",
   "name": "python",
   "nbconvert_exporter": "python",
   "pygments_lexer": "ipython3",
   "version": "3.8.8"
  }
 },
 "nbformat": 4,
 "nbformat_minor": 5
}

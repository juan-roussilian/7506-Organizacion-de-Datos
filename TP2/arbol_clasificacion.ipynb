{
 "cells": [
  {
   "cell_type": "code",
   "execution_count": null,
   "id": "dcba4b8e-174e-4edc-a7f5-dca0db98d31e",
   "metadata": {},
   "outputs": [],
   "source": [
    "import pandas as pd\n",
    "import numpy as np\n"
   ]
  },
  {
   "cell_type": "code",
   "execution_count": null,
   "id": "5dc64f02-49dd-4ead-b23f-0e402b63c208",
   "metadata": {},
   "outputs": [],
   "source": [
    "from sklearn import tree\n",
    "from sklearn.metrics import confusion_matrix\n",
    "from sklearn.model_selection import train_test_split\n",
    "from sklearn.metrics import classification_report\n",
    "from sklearn.model_selection import KFold, StratifiedKFold\n",
    "from sklearn.metrics import roc_auc_score\n",
    "from sklearn.model_selection import GridSearchCV\n",
    "from sklearn.impute import KNNImputer"
   ]
  },
  {
   "cell_type": "code",
   "execution_count": null,
   "id": "b71bd78b-81db-46f4-9f2b-bca5146a7c32",
   "metadata": {},
   "outputs": [],
   "source": [
    "from sklearn.tree import DecisionTreeClassifier"
   ]
  },
  {
   "cell_type": "code",
   "execution_count": null,
   "id": "cd3991c1-2deb-48eb-b6ab-5a3412e799f0",
   "metadata": {},
   "outputs": [],
   "source": [
    "from preprocessing import traer_datasets\n",
    "from preprocessing import separar_dataset\n",
    "from preprocessing import feature_engineering_general"
   ]
  },
  {
   "cell_type": "markdown",
   "id": "6052bae9-a800-47d4-b2f5-965497cdfa3e",
   "metadata": {},
   "source": [
    "Traemos datasets y particionamos"
   ]
  },
  {
   "cell_type": "code",
   "execution_count": null,
   "id": "3148b579-0c3a-41b8-b428-3366406e0844",
   "metadata": {},
   "outputs": [],
   "source": [
    "df, df_sin_target, solo_target = traer_datasets()\n",
    "X_train, X_test, y_train, y_test = separar_dataset(df_sin_target, solo_target)\n",
    "X_train.is_copy=False\n",
    "X_test.is_copy=False\n",
    "y_train.is_copy=False\n",
    "y_train.is_copy=False"
   ]
  },
  {
   "cell_type": "markdown",
   "id": "0c07afed-7652-4936-8ac5-e53694eee262",
   "metadata": {},
   "source": [
    "Aplicamos metodo de feature engineering general"
   ]
  },
  {
   "cell_type": "code",
   "execution_count": null,
   "id": "7d1536d8-12f0-4db2-8ef3-5e55ab9efea3",
   "metadata": {},
   "outputs": [],
   "source": [
    "X_train, X_test = feature_engineering_general(X_train, X_test)\n",
    "X_train.head(20)\n"
   ]
  },
  {
   "cell_type": "markdown",
   "id": "d2c86964-0d50-455b-acb9-8ea17a09a2c5",
   "metadata": {},
   "source": [
    "Procedemos a testear con kfolds, stratificados pues nuestro dataset es desbalanceado"
   ]
  },
  {
   "cell_type": "code",
   "execution_count": null,
   "id": "69c2f2e1-9415-455d-a3ae-7476df162242",
   "metadata": {
    "tags": []
   },
   "outputs": [],
   "source": [
    "kf = StratifiedKFold(n_splits=5)\n",
    "test_accuracies = []\n",
    "max_depth = 5\n",
    "min_samples_leaf = 4\n",
    "\n",
    "for fold_idx, (train_index, test_index) in enumerate(kf.split(X_train, y_train)):\n",
    "    clf = DecisionTreeClassifier(max_depth=max_depth, min_samples_leaf=min_samples_leaf, random_state=117)\n",
    "    clf.fit(X_train, y_train)\n",
    "    print ('Reporte para el FOLD ' + str(fold_idx))\n",
    "    print(classification_report(y_train, clf.predict(X_train)))"
   ]
  },
  {
   "cell_type": "code",
   "execution_count": null,
   "id": "7cc0496d-25f7-4eb4-b6be-eaa61fb7f6f6",
   "metadata": {},
   "outputs": [],
   "source": []
  }
 ],
 "metadata": {
  "kernelspec": {
   "display_name": "Python 3",
   "language": "python",
   "name": "python3"
  },
  "language_info": {
   "codemirror_mode": {
    "name": "ipython",
    "version": 3
   },
   "file_extension": ".py",
   "mimetype": "text/x-python",
   "name": "python",
   "nbconvert_exporter": "python",
   "pygments_lexer": "ipython3",
   "version": "3.8.8"
  }
 },
 "nbformat": 4,
 "nbformat_minor": 5
}

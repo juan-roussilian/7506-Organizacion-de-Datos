{
 "cells": [
  {
   "cell_type": "code",
   "execution_count": 1,
   "id": "dcba4b8e-174e-4edc-a7f5-dca0db98d31e",
   "metadata": {},
   "outputs": [],
   "source": [
    "import pandas as pd\n",
    "import numpy as np\n"
   ]
  },
  {
   "cell_type": "code",
   "execution_count": 2,
   "id": "5dc64f02-49dd-4ead-b23f-0e402b63c208",
   "metadata": {},
   "outputs": [],
   "source": [
    "from sklearn import tree\n",
    "from sklearn.metrics import confusion_matrix\n",
    "from sklearn.model_selection import train_test_split\n",
    "from sklearn.metrics import classification_report\n",
    "from sklearn.model_selection import KFold, StratifiedKFold\n",
    "from sklearn.metrics import roc_auc_score\n",
    "from sklearn.model_selection import GridSearchCV\n",
    "from sklearn.impute import KNNImputer"
   ]
  },
  {
   "cell_type": "code",
   "execution_count": 3,
   "id": "b71bd78b-81db-46f4-9f2b-bca5146a7c32",
   "metadata": {},
   "outputs": [],
   "source": [
    "from sklearn.tree import DecisionTreeClassifier"
   ]
  },
  {
   "cell_type": "code",
   "execution_count": 4,
   "id": "cd3991c1-2deb-48eb-b6ab-5a3412e799f0",
   "metadata": {},
   "outputs": [],
   "source": [
    "from preprocessing import traer_datasets\n",
    "from preprocessing import separar_dataset\n",
    "from preprocessing import feature_engineering_general"
   ]
  },
  {
   "cell_type": "code",
   "execution_count": 5,
   "id": "0adf3601-bd2e-4552-9078-a0c50cbd45b9",
   "metadata": {},
   "outputs": [],
   "source": [
    "from funciones_auxiliares import encontrar_hiperparametros_RGSCV"
   ]
  },
  {
   "cell_type": "markdown",
   "id": "bc1bfe73-d902-4602-8a2e-b8497052a0ca",
   "metadata": {},
   "source": [
    "### Obtención de los datos y preprocesamiento"
   ]
  },
  {
   "cell_type": "markdown",
   "id": "6052bae9-a800-47d4-b2f5-965497cdfa3e",
   "metadata": {},
   "source": [
    "Traemos datasets y particionamos"
   ]
  },
  {
   "cell_type": "code",
   "execution_count": 6,
   "id": "3148b579-0c3a-41b8-b428-3366406e0844",
   "metadata": {},
   "outputs": [
    {
     "name": "stderr",
     "output_type": "stream",
     "text": [
      "<ipython-input-6-b691744235d5>:10: SettingWithCopyWarning: \n",
      "A value is trying to be set on a copy of a slice from a DataFrame\n",
      "\n",
      "See the caveats in the documentation: https://pandas.pydata.org/pandas-docs/stable/user_guide/indexing.html#returning-a-view-versus-a-copy\n",
      "  y_train.sort_values(by=['id'], inplace=True, ascending=True)\n",
      "<ipython-input-6-b691744235d5>:13: SettingWithCopyWarning: \n",
      "A value is trying to be set on a copy of a slice from a DataFrame\n",
      "\n",
      "See the caveats in the documentation: https://pandas.pydata.org/pandas-docs/stable/user_guide/indexing.html#returning-a-view-versus-a-copy\n",
      "  y_test.sort_values(by=['id'], inplace=True, ascending=True)\n"
     ]
    }
   ],
   "source": [
    "df, df_sin_target, solo_target = traer_datasets()\n",
    "\n",
    "X_train, X_test, y_train, y_test = separar_dataset(df_sin_target, solo_target)\n",
    "X_train.is_copy=False\n",
    "X_test.is_copy=False\n",
    "y_train.is_copy=False\n",
    "y_train.is_copy=False\n",
    "\n",
    "y_train.set_index('id', inplace=True)\n",
    "y_train.sort_values(by=['id'], inplace=True, ascending=True)\n",
    "\n",
    "y_test.set_index('id', inplace=True)\n",
    "y_test.sort_values(by=['id'], inplace=True, ascending=True)"
   ]
  },
  {
   "cell_type": "markdown",
   "id": "0c07afed-7652-4936-8ac5-e53694eee262",
   "metadata": {},
   "source": [
    "Aplicamos metodo de feature engineering general"
   ]
  },
  {
   "cell_type": "code",
   "execution_count": 7,
   "id": "7d1536d8-12f0-4db2-8ef3-5e55ab9efea3",
   "metadata": {},
   "outputs": [],
   "source": [
    "X_train, X_test = feature_engineering_general(X_train, X_test)"
   ]
  },
  {
   "cell_type": "markdown",
   "id": "b7a8d8c9-e725-4fa4-ae4c-2d034f6e3058",
   "metadata": {},
   "source": [
    "### Búsqueda de Hiperparámetros"
   ]
  },
  {
   "cell_type": "markdown",
   "id": "395a8e07-17c6-40f3-8868-d95363332ddb",
   "metadata": {},
   "source": [
    "Buscamos hiperparámetros con RandomGridSearch, pues GridSearch iterativamente es bastante lento."
   ]
  },
  {
   "cell_type": "code",
   "execution_count": 8,
   "id": "b16bf2c9-0606-421d-9959-0e14bf33c8dd",
   "metadata": {},
   "outputs": [],
   "source": [
    "params = {'criterion': ['gini','entropy'], 'min_samples_leaf':np.arange(1,16),'max_depth': np.arange(1,30)}\n",
    "hiperparametros = encontrar_hiperparametros_RGSCV(DecisionTreeClassifier(), params=params, X=X_train, y=y_train)"
   ]
  },
  {
   "cell_type": "code",
   "execution_count": 9,
   "id": "da10c8a2-9d3a-4ffd-a2f2-38d51a0ae6ff",
   "metadata": {},
   "outputs": [
    {
     "name": "stdout",
     "output_type": "stream",
     "text": [
      "Mejor criterio: entropy\n",
      "Mejor profundidad máxima: 8\n",
      "Mejor mínima cantidad de instancias por hoja: 11\n"
     ]
    }
   ],
   "source": [
    "criterio_elegido = hiperparametros['criterion']\n",
    "profundidad_elegida = hiperparametros['max_depth']\n",
    "min_leaf_elegido = hiperparametros['min_samples_leaf']\n",
    "print(f'Mejor criterio: {criterio_elegido}')\n",
    "print(f'Mejor profundidad máxima: {profundidad_elegida}')\n",
    "print(f'Mejor mínima cantidad de instancias por hoja: {min_leaf_elegido}')"
   ]
  },
  {
   "cell_type": "markdown",
   "id": "b5342653-7674-4ac6-990c-d79390cae5d6",
   "metadata": {},
   "source": [
    "### Entrenando el Modelo con CrossValidation"
   ]
  },
  {
   "cell_type": "markdown",
   "id": "d2c86964-0d50-455b-acb9-8ea17a09a2c5",
   "metadata": {},
   "source": [
    "Procedemos a testear con kfolds, stratificados pues nuestro dataset es desbalanceado. Además, usamos los hiperparámetros encontrados previamente."
   ]
  },
  {
   "cell_type": "code",
   "execution_count": 10,
   "id": "69c2f2e1-9415-455d-a3ae-7476df162242",
   "metadata": {
    "tags": []
   },
   "outputs": [
    {
     "name": "stdout",
     "output_type": "stream",
     "text": [
      "Reporte para el FOLD 0\n",
      "              precision    recall  f1-score   support\n",
      "\n",
      "          no       0.86      0.95      0.90     15891\n",
      "          si       0.73      0.45      0.55      4581\n",
      "\n",
      "    accuracy                           0.84     20472\n",
      "   macro avg       0.79      0.70      0.73     20472\n",
      "weighted avg       0.83      0.84      0.82     20472\n",
      "\n",
      "Reporte para el FOLD 1\n",
      "              precision    recall  f1-score   support\n",
      "\n",
      "          no       0.87      0.90      0.89     15891\n",
      "          si       0.61      0.54      0.57      4580\n",
      "\n",
      "    accuracy                           0.82     20471\n",
      "   macro avg       0.74      0.72      0.73     20471\n",
      "weighted avg       0.81      0.82      0.81     20471\n",
      "\n",
      "Reporte para el FOLD 2\n",
      "              precision    recall  f1-score   support\n",
      "\n",
      "          no       0.86      0.93      0.90     15891\n",
      "          si       0.68      0.49      0.57      4580\n",
      "\n",
      "    accuracy                           0.83     20471\n",
      "   macro avg       0.77      0.71      0.73     20471\n",
      "weighted avg       0.82      0.83      0.82     20471\n",
      "\n",
      "Reporte para el FOLD 3\n",
      "              precision    recall  f1-score   support\n",
      "\n",
      "          no       0.85      0.96      0.90     15891\n",
      "          si       0.75      0.43      0.55      4580\n",
      "\n",
      "    accuracy                           0.84     20471\n",
      "   macro avg       0.80      0.69      0.72     20471\n",
      "weighted avg       0.83      0.84      0.82     20471\n",
      "\n",
      "Reporte para el FOLD 4\n",
      "              precision    recall  f1-score   support\n",
      "\n",
      "          no       0.85      0.96      0.90     15890\n",
      "          si       0.76      0.42      0.54      4581\n",
      "\n",
      "    accuracy                           0.84     20471\n",
      "   macro avg       0.81      0.69      0.72     20471\n",
      "weighted avg       0.83      0.84      0.82     20471\n",
      "\n"
     ]
    }
   ],
   "source": [
    "kf = StratifiedKFold(n_splits=5)\n",
    "for fold_idx, (train_index, test_index) in enumerate(kf.split(X_train, y_train)):\n",
    "    clf = DecisionTreeClassifier(max_depth=profundidad_elegida, min_samples_leaf=min_leaf_elegido, criterion=criterio_elegido, random_state=117)\n",
    "    clf.fit(X_train.iloc[train_index], y_train.iloc[train_index])\n",
    "    print ('Reporte para el FOLD ' + str(fold_idx))\n",
    "    print(classification_report(y_train.iloc[test_index], clf.predict(X_train.iloc[test_index])))"
   ]
  },
  {
   "cell_type": "code",
   "execution_count": null,
   "id": "7cc0496d-25f7-4eb4-b6be-eaa61fb7f6f6",
   "metadata": {},
   "outputs": [],
   "source": []
  }
 ],
 "metadata": {
  "kernelspec": {
   "display_name": "Python 3",
   "language": "python",
   "name": "python3"
  },
  "language_info": {
   "codemirror_mode": {
    "name": "ipython",
    "version": 3
   },
   "file_extension": ".py",
   "mimetype": "text/x-python",
   "name": "python",
   "nbconvert_exporter": "python",
   "pygments_lexer": "ipython3",
   "version": "3.8.8"
  }
 },
 "nbformat": 4,
 "nbformat_minor": 5
}

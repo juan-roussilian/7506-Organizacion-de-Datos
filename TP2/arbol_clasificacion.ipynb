{
 "cells": [
  {
   "cell_type": "code",
   "execution_count": null,
   "id": "dcba4b8e-174e-4edc-a7f5-dca0db98d31e",
   "metadata": {},
   "outputs": [],
   "source": [
    "import pandas as pd\n",
    "import numpy as np\n"
   ]
  },
  {
   "cell_type": "code",
   "execution_count": null,
   "id": "5dc64f02-49dd-4ead-b23f-0e402b63c208",
   "metadata": {},
   "outputs": [],
   "source": [
    "from sklearn import tree\n",
    "from sklearn.metrics import confusion_matrix\n",
    "from sklearn.model_selection import train_test_split\n",
    "from sklearn.metrics import classification_report\n",
    "from sklearn.model_selection import KFold, StratifiedKFold\n",
    "from sklearn.metrics import roc_auc_score\n",
    "from sklearn.model_selection import GridSearchCV\n",
    "from sklearn.impute import KNNImputer"
   ]
  },
  {
   "cell_type": "code",
   "execution_count": null,
   "id": "b71bd78b-81db-46f4-9f2b-bca5146a7c32",
   "metadata": {},
   "outputs": [],
   "source": [
    "from sklearn.tree import DecisionTreeClassifier"
   ]
  },
  {
   "cell_type": "code",
   "execution_count": null,
   "id": "cd3991c1-2deb-48eb-b6ab-5a3412e799f0",
   "metadata": {},
   "outputs": [],
   "source": [
    "from preprocessing import traer_datasets\n",
    "from preprocessing import separar_dataset\n",
    "from preprocessing import feature_engineering_general"
   ]
  },
  {
   "cell_type": "code",
   "execution_count": null,
   "id": "0c4d3aa7-0c51-47a0-b227-0b6fad191f5c",
   "metadata": {},
   "outputs": [],
   "source": [
    "from graficos_modelos import mostrar_reporte_clasificacion, graficar_auc_roc"
   ]
  },
  {
   "cell_type": "code",
   "execution_count": null,
   "id": "0adf3601-bd2e-4552-9078-a0c50cbd45b9",
   "metadata": {},
   "outputs": [],
   "source": [
    "from funciones_auxiliares import encontrar_hiperparametros_RGSCV"
   ]
  },
  {
   "cell_type": "markdown",
   "id": "bc1bfe73-d902-4602-8a2e-b8497052a0ca",
   "metadata": {},
   "source": [
    "### Obtención de los datos y preprocesamiento"
   ]
  },
  {
   "cell_type": "markdown",
   "id": "6052bae9-a800-47d4-b2f5-965497cdfa3e",
   "metadata": {},
   "source": [
    "Traemos datasets y particionamos"
   ]
  },
  {
   "cell_type": "code",
   "execution_count": null,
   "id": "3148b579-0c3a-41b8-b428-3366406e0844",
   "metadata": {},
   "outputs": [],
   "source": [
    "df, df_sin_target, solo_target = traer_datasets()\n",
    "\n",
    "X_train, X_test, y_train, y_test = separar_dataset(df_sin_target, solo_target)\n",
    "X_train.is_copy=False\n",
    "X_test.is_copy=False\n",
    "y_train.is_copy=False\n",
    "y_train.is_copy=False\n",
    "\n",
    "y_train.set_index('id', inplace=True)\n",
    "y_train.sort_values(by=['id'], inplace=True, ascending=True)\n",
    "\n",
    "y_test.set_index('id', inplace=True)\n",
    "y_test.sort_values(by=['id'], inplace=True, ascending=True)"
   ]
  },
  {
   "cell_type": "markdown",
   "id": "0c07afed-7652-4936-8ac5-e53694eee262",
   "metadata": {},
   "source": [
    "Aplicamos metodo de feature engineering general"
   ]
  },
  {
   "cell_type": "code",
   "execution_count": null,
   "id": "7d1536d8-12f0-4db2-8ef3-5e55ab9efea3",
   "metadata": {},
   "outputs": [],
   "source": [
    "X_train, X_test = feature_engineering_general(X_train, X_test)"
   ]
  },
  {
   "cell_type": "markdown",
   "id": "b7a8d8c9-e725-4fa4-ae4c-2d034f6e3058",
   "metadata": {},
   "source": [
    "### Búsqueda de Hiperparámetros"
   ]
  },
  {
   "cell_type": "markdown",
   "id": "395a8e07-17c6-40f3-8868-d95363332ddb",
   "metadata": {},
   "source": [
    "Buscamos hiperparámetros con RandomGridSearch, pues GridSearch iterativamente es bastante lento."
   ]
  },
  {
   "cell_type": "code",
   "execution_count": null,
   "id": "b16bf2c9-0606-421d-9959-0e14bf33c8dd",
   "metadata": {},
   "outputs": [],
   "source": [
    "params = {'criterion': ['gini','entropy'], 'min_samples_leaf':np.arange(1,16),'max_depth': np.arange(1,30)}\n",
    "hiperparametros = encontrar_hiperparametros_RGSCV(DecisionTreeClassifier(), params=params, X=X_train, y=y_train)"
   ]
  },
  {
   "cell_type": "code",
   "execution_count": null,
   "id": "da10c8a2-9d3a-4ffd-a2f2-38d51a0ae6ff",
   "metadata": {},
   "outputs": [],
   "source": [
    "criterio_elegido = hiperparametros['criterion']\n",
    "profundidad_elegida = hiperparametros['max_depth']\n",
    "min_leaf_elegido = hiperparametros['min_samples_leaf']\n",
    "print(f'Mejor criterio: {criterio_elegido}')\n",
    "print(f'Mejor profundidad máxima: {profundidad_elegida}')\n",
    "print(f'Mejor mínima cantidad de instancias por hoja: {min_leaf_elegido}')"
   ]
  },
  {
   "cell_type": "markdown",
   "id": "b5342653-7674-4ac6-990c-d79390cae5d6",
   "metadata": {},
   "source": [
    "### Entrenando el Modelo con CrossValidation"
   ]
  },
  {
   "cell_type": "markdown",
   "id": "d2c86964-0d50-455b-acb9-8ea17a09a2c5",
   "metadata": {},
   "source": [
    "Procedemos a testear con kfolds, stratificados pues nuestro dataset es desbalanceado. Además, usamos los hiperparámetros encontrados previamente."
   ]
  },
  {
   "cell_type": "code",
   "execution_count": null,
   "id": "69c2f2e1-9415-455d-a3ae-7476df162242",
   "metadata": {
    "tags": []
   },
   "outputs": [],
   "source": [
    "kf = StratifiedKFold(n_splits=5)\n",
    "for fold_idx, (train_index, test_index) in enumerate(kf.split(X_train, y_train)):\n",
    "    clf = DecisionTreeClassifier(max_depth=profundidad_elegida, min_samples_leaf=min_leaf_elegido, criterion=criterio_elegido, random_state=117)\n",
    "    clf.fit(X_train.iloc[train_index], y_train.iloc[train_index])\n",
    "    print ('Reporte para el FOLD ' + str(fold_idx))\n",
    "    print(classification_report(y_train.iloc[test_index], clf.predict(X_train.iloc[test_index])))"
   ]
  },
  {
   "cell_type": "markdown",
   "id": "4f454599-13d2-4547-b906-fc0c15baa62c",
   "metadata": {},
   "source": [
    "### Predicción del modelo sobre holdout"
   ]
  },
  {
   "cell_type": "markdown",
   "id": "f9f16703-38ae-49fa-986c-1ddfecef41b8",
   "metadata": {},
   "source": [
    "Una vez entrenado y validado el modelo con CrossValidation, viendo que las métricas resultantes fueron razonables y no dan indicio de overfit o mala división del dataset, pasaremos a probar el modelo en la partición Holdout. Para esto usaremos los mejores hiperparámetros hallados previamente en Training."
   ]
  },
  {
   "cell_type": "code",
   "execution_count": null,
   "id": "0cfe0a9f-961c-487d-8548-5e0bbafc7e74",
   "metadata": {},
   "outputs": [],
   "source": [
    "arbol_holdout = DecisionTreeClassifier(max_depth=profundidad_elegida, min_samples_leaf=min_leaf_elegido, criterion=criterio_elegido, random_state=117)\n",
    "arbol_holdout.fit(X_train.to_numpy(), y_train.to_numpy())"
   ]
  },
  {
   "cell_type": "code",
   "execution_count": null,
   "id": "58da92c3-cf58-431e-9592-f6df4337ae2b",
   "metadata": {
    "tags": []
   },
   "outputs": [],
   "source": [
    "y_pred = arbol_holdout.predict(X_test.to_numpy())\n",
    "y_pred_proba = arbol_holdout.predict_proba(X_test.to_numpy())[:, 1]\n",
    "print(classification_report(y_test['llovieron_hamburguesas_al_dia_siguiente'].to_numpy(), y_pred))"
   ]
  },
  {
   "cell_type": "code",
   "execution_count": null,
   "id": "d5a29849-6959-4db6-ac1e-b34f9f3fd8ce",
   "metadata": {},
   "outputs": [],
   "source": [
    "graficar_auc_roc(y_test['llovieron_hamburguesas_al_dia_siguiente'], y_pred_proba)"
   ]
  },
  {
   "cell_type": "code",
   "execution_count": null,
   "id": "40c32c6e-feba-4d23-b97d-2971d16f3b32",
   "metadata": {},
   "outputs": [],
   "source": []
  },
  {
   "cell_type": "code",
   "execution_count": null,
   "id": "bcb6a1fe-011e-4275-8293-7535d1a1ac5c",
   "metadata": {},
   "outputs": [],
   "source": []
  }
 ],
 "metadata": {
  "kernelspec": {
   "display_name": "Python 3 (ipykernel)",
   "language": "python",
   "name": "python3"
  },
  "language_info": {
   "codemirror_mode": {
    "name": "ipython",
    "version": 3
   },
   "file_extension": ".py",
   "mimetype": "text/x-python",
   "name": "python",
   "nbconvert_exporter": "python",
   "pygments_lexer": "ipython3",
   "version": "3.9.7"
  }
 },
 "nbformat": 4,
 "nbformat_minor": 5
}

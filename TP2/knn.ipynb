{
 "cells": [
  {
   "cell_type": "code",
   "execution_count": 1,
   "id": "dcba4b8e-174e-4edc-a7f5-dca0db98d31e",
   "metadata": {},
   "outputs": [],
   "source": [
    "import pandas as pd\n",
    "import numpy as np\n",
    "\n",
    "from sklearn import tree\n",
    "from sklearn.model_selection import train_test_split\n",
    "from sklearn.metrics import classification_report\n",
    "from sklearn.metrics import roc_auc_score\n",
    "from sklearn.model_selection import KFold, StratifiedKFold\n",
    "from sklearn.neighbors import KNeighborsClassifier\n",
    "\n",
    "from preprocessing import preprocesamiento_basico, reduccion_TSNE\n",
    "from graficos_modelos import mostrar_reporte_clasificacion, graficar_auc_roc,graficar_matriz_confusion\n",
    "from funciones_auxiliares import traer_datasets, traer_dataset_prediccion_final, separar_dataset, encontrar_hiperparametros_RGSCV, mapear_target_binario"
   ]
  },
  {
   "cell_type": "markdown",
   "id": "608f5146-35a4-4989-9d80-84c5b10061d3",
   "metadata": {},
   "source": [
    "# K Nearest Neighbors"
   ]
  },
  {
   "cell_type": "markdown",
   "id": "bc1bfe73-d902-4602-8a2e-b8497052a0ca",
   "metadata": {},
   "source": [
    "### Obtención de los datos y preprocesamiento"
   ]
  },
  {
   "cell_type": "markdown",
   "id": "6052bae9-a800-47d4-b2f5-965497cdfa3e",
   "metadata": {},
   "source": [
    "Traemos datasets y particionamos"
   ]
  },
  {
   "cell_type": "code",
   "execution_count": 2,
   "id": "3148b579-0c3a-41b8-b428-3366406e0844",
   "metadata": {},
   "outputs": [],
   "source": [
    "df, df_sin_target, solo_target = traer_datasets()\n",
    "\n",
    "X_train, X_test, y_train, y_test = separar_dataset(df_sin_target, solo_target)\n",
    "\n",
    "X_train.is_copy=False\n",
    "X_test.is_copy=False\n",
    "y_train.is_copy=False\n",
    "y_test.is_copy=False\n",
    "\n",
    "y_train.set_index('id', inplace=True)\n",
    "y_train = y_train.sort_values(by=['id'], ascending=True).copy()\n",
    "\n",
    "y_test.set_index('id', inplace=True)\n",
    "y_test = y_test.sort_values(by=['id'], ascending=True).copy()\n"
   ]
  },
  {
   "cell_type": "markdown",
   "id": "0c07afed-7652-4936-8ac5-e53694eee262",
   "metadata": {},
   "source": [
    "Aplicamos metodo de feature engineering general"
   ]
  },
  {
   "cell_type": "code",
   "execution_count": 3,
   "id": "7d1536d8-12f0-4db2-8ef3-5e55ab9efea3",
   "metadata": {},
   "outputs": [
    {
     "data": {
      "text/html": [
       "<div>\n",
       "<style scoped>\n",
       "    .dataframe tbody tr th:only-of-type {\n",
       "        vertical-align: middle;\n",
       "    }\n",
       "\n",
       "    .dataframe tbody tr th {\n",
       "        vertical-align: top;\n",
       "    }\n",
       "\n",
       "    .dataframe thead th {\n",
       "        text-align: right;\n",
       "    }\n",
       "</style>\n",
       "<table border=\"1\" class=\"dataframe\">\n",
       "  <thead>\n",
       "    <tr style=\"text-align: right;\">\n",
       "      <th></th>\n",
       "      <th>horas_de_sol</th>\n",
       "      <th>humedad_tarde</th>\n",
       "      <th>humedad_temprano</th>\n",
       "      <th>mm_evaporados_agua</th>\n",
       "      <th>mm_lluvia_dia</th>\n",
       "      <th>nubosidad_tarde</th>\n",
       "      <th>nubosidad_temprano</th>\n",
       "      <th>presion_atmosferica_tarde</th>\n",
       "      <th>presion_atmosferica_temprano</th>\n",
       "      <th>rafaga_viento_max_velocidad</th>\n",
       "      <th>temp_max</th>\n",
       "      <th>temp_min</th>\n",
       "      <th>temperatura_tarde</th>\n",
       "      <th>temperatura_temprano</th>\n",
       "      <th>velocidad_viendo_tarde</th>\n",
       "      <th>velocidad_viendo_temprano</th>\n",
       "      <th>llovieron_hamburguesas_hoy_si</th>\n",
       "      <th>llovieron_hamburguesas_hoy_nan</th>\n",
       "    </tr>\n",
       "    <tr>\n",
       "      <th>id</th>\n",
       "      <th></th>\n",
       "      <th></th>\n",
       "      <th></th>\n",
       "      <th></th>\n",
       "      <th></th>\n",
       "      <th></th>\n",
       "      <th></th>\n",
       "      <th></th>\n",
       "      <th></th>\n",
       "      <th></th>\n",
       "      <th></th>\n",
       "      <th></th>\n",
       "      <th></th>\n",
       "      <th></th>\n",
       "      <th></th>\n",
       "      <th></th>\n",
       "      <th></th>\n",
       "      <th></th>\n",
       "    </tr>\n",
       "  </thead>\n",
       "  <tbody>\n",
       "    <tr>\n",
       "      <th>0.0</th>\n",
       "      <td>7.057564</td>\n",
       "      <td>22.0</td>\n",
       "      <td>71.0</td>\n",
       "      <td>6.698444</td>\n",
       "      <td>0.6</td>\n",
       "      <td>5.131311</td>\n",
       "      <td>8.000000</td>\n",
       "      <td>1007.1</td>\n",
       "      <td>1007.7</td>\n",
       "      <td>44.0</td>\n",
       "      <td>22.9</td>\n",
       "      <td>13.4</td>\n",
       "      <td>21.8</td>\n",
       "      <td>16.9</td>\n",
       "      <td>24.0</td>\n",
       "      <td>20.0</td>\n",
       "      <td>0.0</td>\n",
       "      <td>0.0</td>\n",
       "    </tr>\n",
       "    <tr>\n",
       "      <th>1.0</th>\n",
       "      <td>10.325746</td>\n",
       "      <td>25.0</td>\n",
       "      <td>44.0</td>\n",
       "      <td>6.441120</td>\n",
       "      <td>0.0</td>\n",
       "      <td>3.251213</td>\n",
       "      <td>2.405358</td>\n",
       "      <td>1007.8</td>\n",
       "      <td>1010.6</td>\n",
       "      <td>44.0</td>\n",
       "      <td>25.1</td>\n",
       "      <td>7.4</td>\n",
       "      <td>24.3</td>\n",
       "      <td>17.2</td>\n",
       "      <td>22.0</td>\n",
       "      <td>4.0</td>\n",
       "      <td>0.0</td>\n",
       "      <td>0.0</td>\n",
       "    </tr>\n",
       "    <tr>\n",
       "      <th>2.0</th>\n",
       "      <td>11.826846</td>\n",
       "      <td>30.0</td>\n",
       "      <td>38.0</td>\n",
       "      <td>8.830632</td>\n",
       "      <td>0.0</td>\n",
       "      <td>2.000000</td>\n",
       "      <td>2.021427</td>\n",
       "      <td>1008.7</td>\n",
       "      <td>1007.6</td>\n",
       "      <td>46.0</td>\n",
       "      <td>25.7</td>\n",
       "      <td>12.9</td>\n",
       "      <td>23.2</td>\n",
       "      <td>21.0</td>\n",
       "      <td>26.0</td>\n",
       "      <td>19.0</td>\n",
       "      <td>0.0</td>\n",
       "      <td>0.0</td>\n",
       "    </tr>\n",
       "    <tr>\n",
       "      <th>3.0</th>\n",
       "      <td>10.864304</td>\n",
       "      <td>16.0</td>\n",
       "      <td>45.0</td>\n",
       "      <td>6.884644</td>\n",
       "      <td>0.0</td>\n",
       "      <td>2.729534</td>\n",
       "      <td>1.804408</td>\n",
       "      <td>1012.8</td>\n",
       "      <td>1017.6</td>\n",
       "      <td>24.0</td>\n",
       "      <td>28.0</td>\n",
       "      <td>9.2</td>\n",
       "      <td>26.5</td>\n",
       "      <td>18.1</td>\n",
       "      <td>9.0</td>\n",
       "      <td>11.0</td>\n",
       "      <td>0.0</td>\n",
       "      <td>0.0</td>\n",
       "    </tr>\n",
       "    <tr>\n",
       "      <th>4.0</th>\n",
       "      <td>5.517970</td>\n",
       "      <td>33.0</td>\n",
       "      <td>82.0</td>\n",
       "      <td>7.667447</td>\n",
       "      <td>1.0</td>\n",
       "      <td>8.000000</td>\n",
       "      <td>7.000000</td>\n",
       "      <td>1006.0</td>\n",
       "      <td>1010.8</td>\n",
       "      <td>41.0</td>\n",
       "      <td>32.3</td>\n",
       "      <td>17.5</td>\n",
       "      <td>29.7</td>\n",
       "      <td>17.8</td>\n",
       "      <td>20.0</td>\n",
       "      <td>7.0</td>\n",
       "      <td>0.0</td>\n",
       "      <td>0.0</td>\n",
       "    </tr>\n",
       "    <tr>\n",
       "      <th>...</th>\n",
       "      <td>...</td>\n",
       "      <td>...</td>\n",
       "      <td>...</td>\n",
       "      <td>...</td>\n",
       "      <td>...</td>\n",
       "      <td>...</td>\n",
       "      <td>...</td>\n",
       "      <td>...</td>\n",
       "      <td>...</td>\n",
       "      <td>...</td>\n",
       "      <td>...</td>\n",
       "      <td>...</td>\n",
       "      <td>...</td>\n",
       "      <td>...</td>\n",
       "      <td>...</td>\n",
       "      <td>...</td>\n",
       "      <td>...</td>\n",
       "      <td>...</td>\n",
       "    </tr>\n",
       "    <tr>\n",
       "      <th>145453.0</th>\n",
       "      <td>8.396280</td>\n",
       "      <td>33.0</td>\n",
       "      <td>63.0</td>\n",
       "      <td>4.448138</td>\n",
       "      <td>0.0</td>\n",
       "      <td>3.168128</td>\n",
       "      <td>3.672605</td>\n",
       "      <td>1023.3</td>\n",
       "      <td>1027.2</td>\n",
       "      <td>35.0</td>\n",
       "      <td>20.6</td>\n",
       "      <td>7.4</td>\n",
       "      <td>20.3</td>\n",
       "      <td>11.0</td>\n",
       "      <td>17.0</td>\n",
       "      <td>15.0</td>\n",
       "      <td>0.0</td>\n",
       "      <td>0.0</td>\n",
       "    </tr>\n",
       "    <tr>\n",
       "      <th>145454.0</th>\n",
       "      <td>9.455552</td>\n",
       "      <td>27.0</td>\n",
       "      <td>59.0</td>\n",
       "      <td>4.608633</td>\n",
       "      <td>0.0</td>\n",
       "      <td>2.968087</td>\n",
       "      <td>2.735666</td>\n",
       "      <td>1021.2</td>\n",
       "      <td>1024.7</td>\n",
       "      <td>31.0</td>\n",
       "      <td>21.8</td>\n",
       "      <td>3.5</td>\n",
       "      <td>20.9</td>\n",
       "      <td>9.4</td>\n",
       "      <td>13.0</td>\n",
       "      <td>15.0</td>\n",
       "      <td>0.0</td>\n",
       "      <td>0.0</td>\n",
       "    </tr>\n",
       "    <tr>\n",
       "      <th>145455.0</th>\n",
       "      <td>9.929029</td>\n",
       "      <td>24.0</td>\n",
       "      <td>51.0</td>\n",
       "      <td>5.058719</td>\n",
       "      <td>0.0</td>\n",
       "      <td>2.777257</td>\n",
       "      <td>2.103057</td>\n",
       "      <td>1020.3</td>\n",
       "      <td>1024.6</td>\n",
       "      <td>31.0</td>\n",
       "      <td>23.4</td>\n",
       "      <td>2.8</td>\n",
       "      <td>22.4</td>\n",
       "      <td>10.1</td>\n",
       "      <td>11.0</td>\n",
       "      <td>13.0</td>\n",
       "      <td>0.0</td>\n",
       "      <td>0.0</td>\n",
       "    </tr>\n",
       "    <tr>\n",
       "      <th>145456.0</th>\n",
       "      <td>10.553399</td>\n",
       "      <td>21.0</td>\n",
       "      <td>56.0</td>\n",
       "      <td>5.092514</td>\n",
       "      <td>0.0</td>\n",
       "      <td>2.495360</td>\n",
       "      <td>2.048714</td>\n",
       "      <td>1019.1</td>\n",
       "      <td>1023.5</td>\n",
       "      <td>22.0</td>\n",
       "      <td>25.3</td>\n",
       "      <td>3.6</td>\n",
       "      <td>24.5</td>\n",
       "      <td>10.9</td>\n",
       "      <td>9.0</td>\n",
       "      <td>13.0</td>\n",
       "      <td>0.0</td>\n",
       "      <td>0.0</td>\n",
       "    </tr>\n",
       "    <tr>\n",
       "      <th>145458.0</th>\n",
       "      <td>10.511372</td>\n",
       "      <td>24.0</td>\n",
       "      <td>51.0</td>\n",
       "      <td>6.589630</td>\n",
       "      <td>0.0</td>\n",
       "      <td>2.000000</td>\n",
       "      <td>3.000000</td>\n",
       "      <td>1016.5</td>\n",
       "      <td>1019.4</td>\n",
       "      <td>28.0</td>\n",
       "      <td>27.0</td>\n",
       "      <td>7.8</td>\n",
       "      <td>26.0</td>\n",
       "      <td>15.1</td>\n",
       "      <td>7.0</td>\n",
       "      <td>13.0</td>\n",
       "      <td>0.0</td>\n",
       "      <td>0.0</td>\n",
       "    </tr>\n",
       "  </tbody>\n",
       "</table>\n",
       "<p>102356 rows × 18 columns</p>\n",
       "</div>"
      ],
      "text/plain": [
       "          horas_de_sol  humedad_tarde  humedad_temprano  mm_evaporados_agua  \\\n",
       "id                                                                            \n",
       "0.0           7.057564           22.0              71.0            6.698444   \n",
       "1.0          10.325746           25.0              44.0            6.441120   \n",
       "2.0          11.826846           30.0              38.0            8.830632   \n",
       "3.0          10.864304           16.0              45.0            6.884644   \n",
       "4.0           5.517970           33.0              82.0            7.667447   \n",
       "...                ...            ...               ...                 ...   \n",
       "145453.0      8.396280           33.0              63.0            4.448138   \n",
       "145454.0      9.455552           27.0              59.0            4.608633   \n",
       "145455.0      9.929029           24.0              51.0            5.058719   \n",
       "145456.0     10.553399           21.0              56.0            5.092514   \n",
       "145458.0     10.511372           24.0              51.0            6.589630   \n",
       "\n",
       "          mm_lluvia_dia  nubosidad_tarde  nubosidad_temprano  \\\n",
       "id                                                             \n",
       "0.0                 0.6         5.131311            8.000000   \n",
       "1.0                 0.0         3.251213            2.405358   \n",
       "2.0                 0.0         2.000000            2.021427   \n",
       "3.0                 0.0         2.729534            1.804408   \n",
       "4.0                 1.0         8.000000            7.000000   \n",
       "...                 ...              ...                 ...   \n",
       "145453.0            0.0         3.168128            3.672605   \n",
       "145454.0            0.0         2.968087            2.735666   \n",
       "145455.0            0.0         2.777257            2.103057   \n",
       "145456.0            0.0         2.495360            2.048714   \n",
       "145458.0            0.0         2.000000            3.000000   \n",
       "\n",
       "          presion_atmosferica_tarde  presion_atmosferica_temprano  \\\n",
       "id                                                                  \n",
       "0.0                          1007.1                        1007.7   \n",
       "1.0                          1007.8                        1010.6   \n",
       "2.0                          1008.7                        1007.6   \n",
       "3.0                          1012.8                        1017.6   \n",
       "4.0                          1006.0                        1010.8   \n",
       "...                             ...                           ...   \n",
       "145453.0                     1023.3                        1027.2   \n",
       "145454.0                     1021.2                        1024.7   \n",
       "145455.0                     1020.3                        1024.6   \n",
       "145456.0                     1019.1                        1023.5   \n",
       "145458.0                     1016.5                        1019.4   \n",
       "\n",
       "          rafaga_viento_max_velocidad  temp_max  temp_min  temperatura_tarde  \\\n",
       "id                                                                             \n",
       "0.0                              44.0      22.9      13.4               21.8   \n",
       "1.0                              44.0      25.1       7.4               24.3   \n",
       "2.0                              46.0      25.7      12.9               23.2   \n",
       "3.0                              24.0      28.0       9.2               26.5   \n",
       "4.0                              41.0      32.3      17.5               29.7   \n",
       "...                               ...       ...       ...                ...   \n",
       "145453.0                         35.0      20.6       7.4               20.3   \n",
       "145454.0                         31.0      21.8       3.5               20.9   \n",
       "145455.0                         31.0      23.4       2.8               22.4   \n",
       "145456.0                         22.0      25.3       3.6               24.5   \n",
       "145458.0                         28.0      27.0       7.8               26.0   \n",
       "\n",
       "          temperatura_temprano  velocidad_viendo_tarde  \\\n",
       "id                                                       \n",
       "0.0                       16.9                    24.0   \n",
       "1.0                       17.2                    22.0   \n",
       "2.0                       21.0                    26.0   \n",
       "3.0                       18.1                     9.0   \n",
       "4.0                       17.8                    20.0   \n",
       "...                        ...                     ...   \n",
       "145453.0                  11.0                    17.0   \n",
       "145454.0                   9.4                    13.0   \n",
       "145455.0                  10.1                    11.0   \n",
       "145456.0                  10.9                     9.0   \n",
       "145458.0                  15.1                     7.0   \n",
       "\n",
       "          velocidad_viendo_temprano  llovieron_hamburguesas_hoy_si  \\\n",
       "id                                                                   \n",
       "0.0                            20.0                            0.0   \n",
       "1.0                             4.0                            0.0   \n",
       "2.0                            19.0                            0.0   \n",
       "3.0                            11.0                            0.0   \n",
       "4.0                             7.0                            0.0   \n",
       "...                             ...                            ...   \n",
       "145453.0                       15.0                            0.0   \n",
       "145454.0                       15.0                            0.0   \n",
       "145455.0                       13.0                            0.0   \n",
       "145456.0                       13.0                            0.0   \n",
       "145458.0                       13.0                            0.0   \n",
       "\n",
       "          llovieron_hamburguesas_hoy_nan  \n",
       "id                                        \n",
       "0.0                                  0.0  \n",
       "1.0                                  0.0  \n",
       "2.0                                  0.0  \n",
       "3.0                                  0.0  \n",
       "4.0                                  0.0  \n",
       "...                                  ...  \n",
       "145453.0                             0.0  \n",
       "145454.0                             0.0  \n",
       "145455.0                             0.0  \n",
       "145456.0                             0.0  \n",
       "145458.0                             0.0  \n",
       "\n",
       "[102356 rows x 18 columns]"
      ]
     },
     "metadata": {},
     "output_type": "display_data"
    }
   ],
   "source": [
    "dataframes_preprocesados = preprocesamiento_basico([X_train, X_test])\n",
    "X_train = dataframes_preprocesados[0]\n",
    "X_test = dataframes_preprocesados[1]\n",
    "display(X_train)"
   ]
  },
  {
   "cell_type": "markdown",
   "id": "246dd8b5-9559-4153-9a0e-aa6d3889f844",
   "metadata": {},
   "source": [
    "Sabiendo que vamos a aplicar KNN, el cuál tiende a dejar de funcionar con dimensionalidad elevada, vamos a aplicar primero un algoritmo de reducción de dimensionalidad. En este caso optaremos por T-SNE:"
   ]
  },
  {
   "cell_type": "code",
   "execution_count": 4,
   "id": "2670443a-5e3a-41f2-8712-87ae49df63fb",
   "metadata": {},
   "outputs": [
    {
     "data": {
      "text/plain": [
       "array([[ 13.512829  ,  10.396277  , -10.524072  ],\n",
       "       [ 14.386551  ,  17.038382  ,   3.9522173 ],\n",
       "       [ 18.690655  ,   3.0076787 ,   1.6988611 ],\n",
       "       ...,\n",
       "       [  5.837806  ,   9.582092  ,   6.0645833 ],\n",
       "       [  3.8928535 ,   9.867698  ,   5.6736693 ],\n",
       "       [  6.38055   ,  10.553072  ,   0.33256292]], dtype=float32)"
      ]
     },
     "metadata": {},
     "output_type": "display_data"
    }
   ],
   "source": [
    "X_train = reduccion_TSNE(X_train)\n",
    "X_test = reduccion_TSNE(X_test)\n",
    "\n",
    "display(X_train)"
   ]
  },
  {
   "cell_type": "markdown",
   "id": "b7a8d8c9-e725-4fa4-ae4c-2d034f6e3058",
   "metadata": {},
   "source": [
    "### Búsqueda de Hiperparámetros"
   ]
  },
  {
   "cell_type": "markdown",
   "id": "395a8e07-17c6-40f3-8868-d95363332ddb",
   "metadata": {},
   "source": [
    "Buscamos hiperparámetros con RandomGridSearch, pues GridSearch iterativamente es bastante lento."
   ]
  },
  {
   "cell_type": "code",
   "execution_count": 5,
   "id": "b16bf2c9-0606-421d-9959-0e14bf33c8dd",
   "metadata": {},
   "outputs": [
    {
     "name": "stderr",
     "output_type": "stream",
     "text": [
      "C:\\Users\\Guillermo\\anaconda3\\envs\\orgadatos\\lib\\site-packages\\sklearn\\neighbors\\_classification.py:179: DataConversionWarning: A column-vector y was passed when a 1d array was expected. Please change the shape of y to (n_samples,), for example using ravel().\n",
      "  return self._fit(X, y)\n"
     ]
    }
   ],
   "source": [
    "params = {'weights': ['uniform', 'distance'], 'n_neighbors':[5, 10, 25, 50],'metric': ['cosine','euclidean']}\n",
    "hiperparametros = encontrar_hiperparametros_RGSCV(KNeighborsClassifier(), params=params, x_np=X_train, y_np=y_train.to_numpy())"
   ]
  },
  {
   "cell_type": "code",
   "execution_count": 6,
   "id": "da10c8a2-9d3a-4ffd-a2f2-38d51a0ae6ff",
   "metadata": {},
   "outputs": [
    {
     "name": "stdout",
     "output_type": "stream",
     "text": [
      "Mejor peso: uniform\n",
      "Mejor tipo de distancia: euclidean\n",
      "Mejor cantidad de K vecinos: 50\n"
     ]
    }
   ],
   "source": [
    "peso_elegido = hiperparametros['weights']\n",
    "distancia_elegida = hiperparametros['metric']\n",
    "k_vecinos_elegido = hiperparametros['n_neighbors']\n",
    "print(f'Mejor peso: {peso_elegido}')\n",
    "print(f'Mejor tipo de distancia: {distancia_elegida}')\n",
    "print(f'Mejor cantidad de K vecinos: {k_vecinos_elegido}')"
   ]
  },
  {
   "cell_type": "markdown",
   "id": "b5342653-7674-4ac6-990c-d79390cae5d6",
   "metadata": {},
   "source": [
    "### Entrenando el Modelo con CrossValidation"
   ]
  },
  {
   "cell_type": "markdown",
   "id": "d2c86964-0d50-455b-acb9-8ea17a09a2c5",
   "metadata": {},
   "source": [
    "Procedemos a testear con kfolds, stratificados pues nuestro dataset es desbalanceado. Además, usamos los hiperparámetros encontrados previamente."
   ]
  },
  {
   "cell_type": "code",
   "execution_count": 7,
   "id": "69c2f2e1-9415-455d-a3ae-7476df162242",
   "metadata": {
    "tags": []
   },
   "outputs": [
    {
     "name": "stdout",
     "output_type": "stream",
     "text": [
      "Reporte para el FOLD 0\n",
      "                                          precision    recall  f1-score   support\n",
      "\n",
      "No llueven hamburguesas al dia siguiente       0.85      0.96      0.90     15891\n",
      "   Llueven hamburguesas al dia siguiente       0.75      0.42      0.54      4581\n",
      "\n",
      "                                accuracy                           0.84     20472\n",
      "                               macro avg       0.80      0.69      0.72     20472\n",
      "                            weighted avg       0.83      0.84      0.82     20472\n",
      "\n",
      "Reporte para el FOLD 1\n",
      "                                          precision    recall  f1-score   support\n",
      "\n",
      "No llueven hamburguesas al dia siguiente       0.86      0.92      0.89     15891\n",
      "   Llueven hamburguesas al dia siguiente       0.63      0.50      0.56      4580\n",
      "\n",
      "                                accuracy                           0.82     20471\n",
      "                               macro avg       0.75      0.71      0.72     20471\n",
      "                            weighted avg       0.81      0.82      0.81     20471\n",
      "\n",
      "Reporte para el FOLD 2\n",
      "                                          precision    recall  f1-score   support\n",
      "\n",
      "No llueven hamburguesas al dia siguiente       0.86      0.94      0.90     15891\n",
      "   Llueven hamburguesas al dia siguiente       0.68      0.48      0.57      4580\n",
      "\n",
      "                                accuracy                           0.83     20471\n",
      "                               macro avg       0.77      0.71      0.73     20471\n",
      "                            weighted avg       0.82      0.83      0.82     20471\n",
      "\n",
      "Reporte para el FOLD 3\n",
      "                                          precision    recall  f1-score   support\n",
      "\n",
      "No llueven hamburguesas al dia siguiente       0.85      0.96      0.90     15891\n",
      "   Llueven hamburguesas al dia siguiente       0.77      0.42      0.55      4580\n",
      "\n",
      "                                accuracy                           0.84     20471\n",
      "                               macro avg       0.81      0.69      0.73     20471\n",
      "                            weighted avg       0.83      0.84      0.82     20471\n",
      "\n",
      "Reporte para el FOLD 4\n",
      "                                          precision    recall  f1-score   support\n",
      "\n",
      "No llueven hamburguesas al dia siguiente       0.85      0.96      0.90     15890\n",
      "   Llueven hamburguesas al dia siguiente       0.75      0.43      0.55      4581\n",
      "\n",
      "                                accuracy                           0.84     20471\n",
      "                               macro avg       0.80      0.70      0.73     20471\n",
      "                            weighted avg       0.83      0.84      0.82     20471\n",
      "\n"
     ]
    }
   ],
   "source": [
    "kf = StratifiedKFold(n_splits=5)\n",
    "for fold_idx, (train_index, test_index) in enumerate(kf.split(X_train, y_train)):\n",
    "    knn_clasificacion = KNeighborsClassifier(metric=distancia_elegida, n_neighbors=k_vecinos_elegido, weights=peso_elegido)\n",
    "    knn_clasificacion.fit(X_train[train_index], y_train.iloc[train_index].values.ravel())\n",
    "    print ('Reporte para el FOLD ' + str(fold_idx))\n",
    "    print(classification_report(y_train.iloc[test_index], knn_clasificacion.predict(X_train[test_index]), target_names=['No llueven hamburguesas al dia siguiente', 'Llueven hamburguesas al dia siguiente']))\n",
    "    "
   ]
  },
  {
   "cell_type": "markdown",
   "id": "4f454599-13d2-4547-b906-fc0c15baa62c",
   "metadata": {},
   "source": [
    "### Predicción del modelo sobre holdout"
   ]
  },
  {
   "cell_type": "markdown",
   "id": "f9f16703-38ae-49fa-986c-1ddfecef41b8",
   "metadata": {},
   "source": [
    "Una vez entrenado y validado el modelo con CrossValidation, viendo que las métricas resultantes fueron razonables y no dan indicio de overfit o mala división del dataset, pasaremos a probar el modelo en la partición Holdout. Para esto usaremos los mejores hiperparámetros hallados previamente en Training."
   ]
  },
  {
   "cell_type": "code",
   "execution_count": 8,
   "id": "0cfe0a9f-961c-487d-8548-5e0bbafc7e74",
   "metadata": {},
   "outputs": [
    {
     "data": {
      "text/plain": [
       "KNeighborsClassifier(metric='euclidean', n_neighbors=50)"
      ]
     },
     "execution_count": 8,
     "metadata": {},
     "output_type": "execute_result"
    }
   ],
   "source": [
    "knn_holdout = KNeighborsClassifier(metric=distancia_elegida, n_neighbors=k_vecinos_elegido, weights=peso_elegido)\n",
    "knn_holdout.fit(X_train, y_train.to_numpy().ravel())"
   ]
  },
  {
   "cell_type": "code",
   "execution_count": 9,
   "id": "58da92c3-cf58-431e-9592-f6df4337ae2b",
   "metadata": {
    "tags": []
   },
   "outputs": [
    {
     "name": "stdout",
     "output_type": "stream",
     "text": [
      "              precision    recall  f1-score   support\n",
      "\n",
      "          no       0.81      0.82      0.82      8828\n",
      "          si       0.36      0.35      0.36      2545\n",
      "\n",
      "    accuracy                           0.71     11373\n",
      "   macro avg       0.59      0.59      0.59     11373\n",
      "weighted avg       0.71      0.71      0.71     11373\n",
      "\n"
     ]
    }
   ],
   "source": [
    "mapeo_binario_v = np.vectorize(mapear_target_binario)\n",
    "y_pred = knn_holdout.predict(X_test)\n",
    "y_pred_binario = mapeo_binario_v(y_pred)\n",
    "y_pred_proba = knn_holdout.predict_proba(X_test)[:, 1]\n",
    "y_test_binario = y_test['llovieron_hamburguesas_al_dia_siguiente'].map({'si': 1, 'no': 0}).to_numpy()\n",
    "print(classification_report(y_test['llovieron_hamburguesas_al_dia_siguiente'].to_numpy(), y_pred))"
   ]
  },
  {
   "cell_type": "markdown",
   "id": "727c1241-57e9-4aad-9fe5-7ec16424ccf7",
   "metadata": {},
   "source": [
    "### Curva AUC ROC\n"
   ]
  },
  {
   "cell_type": "code",
   "execution_count": 10,
   "id": "d5a29849-6959-4db6-ac1e-b34f9f3fd8ce",
   "metadata": {},
   "outputs": [
    {
     "data": {
      "image/png": "[encoded data removed]",
      "text/plain": [
       "<Figure size 1080x720 with 1 Axes>"
      ]
     },
     "metadata": {
      "needs_background": "light"
     },
     "output_type": "display_data"
    },
    {
     "name": "stdout",
     "output_type": "stream",
     "text": [
      "AUC-ROC para este modelo es: 0.6470894982298688\n"
     ]
    }
   ],
   "source": [
    "graficar_auc_roc(y_test_binario, y_pred_proba)"
   ]
  },
  {
   "cell_type": "markdown",
   "id": "f8d1f2cc-3d4a-4b92-9d39-ea3988da6627",
   "metadata": {},
   "source": [
    "### Matriz de confusion"
   ]
  },
  {
   "cell_type": "code",
   "execution_count": 11,
   "id": "744e1bcf-6980-475f-bba0-73c6780b898e",
   "metadata": {},
   "outputs": [
    {
     "name": "stderr",
     "output_type": "stream",
     "text": [
      "C:\\Users\\Guillermo\\anaconda3\\envs\\orgadatos\\lib\\site-packages\\sklearn\\utils\\validation.py:70: FutureWarning: Pass labels=[0, 1] as keyword args. From version 1.0 (renaming of 0.25) passing these as positional arguments will result in an error\n",
      "  warnings.warn(f\"Pass {args_msg} as keyword args. From version \"\n"
     ]
    },
    {
     "data": {
      "image/png": "[encoded data removed]",
      "text/plain": [
       "<Figure size 600x400 with 2 Axes>"
      ]
     },
     "metadata": {
      "needs_background": "light"
     },
     "output_type": "display_data"
    }
   ],
   "source": [
    "graficar_matriz_confusion(y_test_binario, y_pred_binario)"
   ]
  },
  {
   "cell_type": "markdown",
   "id": "46a427a2-52ff-4141-ba6d-d08072191805",
   "metadata": {},
   "source": [
    "## Predicción con el dataset nuevo\n",
    "A continuación, realizamos la predicción con el árbol sin expandir el dataset sobre el dataset de predicciones nuevo, y la escribimos al archivo 'KNN.csv'"
   ]
  },
  {
   "cell_type": "code",
   "execution_count": 13,
   "id": "e01fc36b-d7fb-4052-94d3-3f2edca94f71",
   "metadata": {},
   "outputs": [],
   "source": [
    "from funciones_auxiliares import exportar_prediccion_final\n",
    "\n",
    "df_prediccion_final = traer_dataset_prediccion_final()\n",
    "ids = df_prediccion_final['id'].to_numpy()\n",
    "\n",
    "df_prediccion_final = (preprocesamiento_basico([df_prediccion_final]))[0]\n",
    "df_prediccion_final = reduccion_TSNE(df_prediccion_final)\n",
    "\n",
    "predicciones = knn_holdout.predict(df_prediccion_final)\n",
    "exportar_prediccion_final(ids, predicciones, 'KNN')"
   ]
  },
  {
   "cell_type": "code",
   "execution_count": null,
   "id": "0b2230fd-c085-4646-a148-590a67c515ae",
   "metadata": {},
   "outputs": [],
   "source": []
  }
 ],
 "metadata": {
  "kernelspec": {
   "display_name": "Python 3 (ipykernel)",
   "language": "python",
   "name": "python3"
  },
  "language_info": {
   "codemirror_mode": {
    "name": "ipython",
    "version": 3
   },
   "file_extension": ".py",
   "mimetype": "text/x-python",
   "name": "python",
   "nbconvert_exporter": "python",
   "pygments_lexer": "ipython3",
   "version": "3.9.7"
  }
 },
 "nbformat": 4,
 "nbformat_minor": 5
}

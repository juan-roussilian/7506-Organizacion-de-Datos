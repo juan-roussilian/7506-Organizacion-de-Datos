{
 "cells": [
  {
   "cell_type": "code",
   "execution_count": 1,
   "id": "0bcd0619-b049-40f0-9345-72ae53c14b60",
   "metadata": {
    "tags": []
   },
   "outputs": [],
   "source": [
    "import pandas as pd\n",
    "import numpy as np\n",
    "import matplotlib.pyplot as plt\n",
    "import seaborn as sns\n",
    "import tensorflow.keras as keras\n",
    "\n",
    "from sklearn.model_selection import train_test_split\n",
    "from sklearn import preprocessing\n",
    "from tensorflow.keras.models import Sequential\n",
    "from tensorflow.keras.models import load_model\n",
    "from tensorflow.keras.layers import Dense, Dropout\n",
    "from tensorflow.keras.callbacks import EarlyStopping, ModelCheckpoint\n",
    "from tensorflow.keras.wrappers.scikit_learn import KerasClassifier\n",
    "from tensorflow.keras import backend as K\n",
    "\n",
    "from preprocessing import preprocesamiento_basico\n",
    "from graficos_modelos import mostrar_reporte_clasificacion, graficar_auc_roc, graficar_matriz_confusion, graficar_curva_aprendizaje\n",
    "from funciones_auxiliares import traer_datasets, traer_dataset_prediccion_final, separar_dataset, encontrar_hiperparametros_GSCV, mapear_target_binario"
   ]
  },
  {
   "cell_type": "markdown",
   "id": "a69748e5-3844-41e9-b10c-f9fdf720b736",
   "metadata": {},
   "source": [
    "# Redes neuronales"
   ]
  },
  {
   "cell_type": "markdown",
   "id": "7e824e6e-8e5c-4aea-a431-7f46d8661fd2",
   "metadata": {},
   "source": [
    "Definimos el método que generará la red neuronal con una arquitectura constante, la cual tendra dos capas ocultas de 10 y 8 neuronas respectivamente. A su vez, se utilizara la funcion de activación de tangente hiperbólica en las capas ocultas, y una sigmoidea en la capa de output ya que se trata de un problema de clasificación binaria. Por el mismo motivo, la funcion de perdida a optimizar será la cross-entropy.\n",
    "El método de regularización a utilizar sera dropout con parametro 1/3 para mantener el modelo lo más simple posible y no sobrecargarlo con computo."
   ]
  },
  {
   "cell_type": "code",
   "execution_count": 2,
   "id": "a20e0044-38fc-40e6-b23c-b97fb6f36583",
   "metadata": {},
   "outputs": [],
   "source": [
    "def crear_red(optimizer='SGD'):\n",
    "    red_neuronal = Sequential()\n",
    "    #, kernel_regularizer=l2(0.001)\n",
    "    red_neuronal.add(Dense(8, input_dim=18, activation='tanh'))\n",
    "    red_neuronal.add(Dropout(0.25))\n",
    "    red_neuronal.add(Dense(5, activation='tanh'))\n",
    "    red_neuronal.add(Dropout(0.25))\n",
    "    red_neuronal.add(Dense(1, activation='sigmoid'))\n",
    "    red_neuronal.compile(loss=\"binary_crossentropy\", optimizer=optimizer, metrics=[keras.metrics.AUC()])\n",
    "    return red_neuronal"
   ]
  },
  {
   "cell_type": "markdown",
   "id": "6009a14f-91c3-487d-87b9-e2faef95cdf6",
   "metadata": {},
   "source": [
    "## Modelo con preprocesamiento básico:"
   ]
  },
  {
   "cell_type": "markdown",
   "id": "d4506788-5284-4546-ba48-c899c5a3ffb7",
   "metadata": {},
   "source": [
    "Obtención de datos y preprocesamiento"
   ]
  },
  {
   "cell_type": "code",
   "execution_count": 3,
   "id": "3b823e42-e883-4406-aab2-53415122b113",
   "metadata": {},
   "outputs": [],
   "source": [
    "df, df_sin_target, solo_target = traer_datasets()\n",
    "\n",
    "X_train, X_test, y_train, y_test = separar_dataset(df_sin_target, solo_target)\n",
    "\n",
    "X_train.is_copy=False\n",
    "X_test.is_copy=False\n",
    "y_train.is_copy=False\n",
    "y_test.is_copy=False\n",
    "\n",
    "y_train.set_index('id', inplace=True)\n",
    "y_train = y_train.sort_values(by=['id'], ascending=True).copy()\n",
    "\n",
    "y_test.set_index('id', inplace=True)\n",
    "y_test = y_test.sort_values(by=['id'], ascending=True).copy()"
   ]
  },
  {
   "cell_type": "code",
   "execution_count": null,
   "id": "0e4855da-f5e9-4a3f-9a2a-61648ced1e21",
   "metadata": {},
   "outputs": [],
   "source": [
    "dataframes_procesados = preprocesamiento_basico([X_train, X_test])\n",
    "X_train = dataframes_procesados[0]\n",
    "X_test = dataframes_procesados[1]"
   ]
  },
  {
   "cell_type": "markdown",
   "id": "403ebc0e-60ce-48f5-b0a6-8e3b3faae19a",
   "metadata": {},
   "source": [
    "Planteamos como posibles hiperpametros dos optimizadores, SGD que resulta el más simple de los posibles, y adam que es un optimizador de complejidad media. Como el problema a resolver no es extremadamente complejo, no hay necesidad de complejizar tanto el computo de la red con optimizadores mas elaborados para obtener una buena performance.\n",
    "Los learning rates propuestos se consideran relativamente valores bajos para que el aprendizaje sea suave y no abrupto/errático"
   ]
  },
  {
   "cell_type": "markdown",
   "id": "bcb74953-01a0-4265-ae5d-e44817fa9caf",
   "metadata": {},
   "source": [
    "Siendo los mejores hiperparametros:"
   ]
  },
  {
   "cell_type": "code",
   "execution_count": null,
   "id": "c3edccda-e583-4996-8647-a0dbb723bcb3",
   "metadata": {},
   "outputs": [],
   "source": [
    "mapeo_binario_v = np.vectorize(mapear_target_binario)\n",
    "\n",
    "y_train_np = y_train['llovieron_hamburguesas_al_dia_siguiente'].to_numpy()\n",
    "y_train_binario = mapeo_binario_v(y_train_np)\n",
    "\n",
    "y_test_np = y_test['llovieron_hamburguesas_al_dia_siguiente'].to_numpy()\n",
    "y_test_binario = mapeo_binario_v(y_test_np)\n"
   ]
  },
  {
   "cell_type": "markdown",
   "id": "550908b4-bc2a-4286-9bab-bcec06bf4946",
   "metadata": {},
   "source": [
    "Creamos entonces la red con el mejor optimizador, y entrenamos para la mejor cantidad de epochs halladas"
   ]
  },
  {
   "cell_type": "code",
   "execution_count": null,
   "id": "31b1e59f-2bf0-41f6-9047-110da12fdb9b",
   "metadata": {},
   "outputs": [],
   "source": [
    "red_n = crear_red(keras.optimizers.SGD(learning_rate=0.0001))\n",
    "red_n.summary()"
   ]
  },
  {
   "cell_type": "code",
   "execution_count": null,
   "id": "b1b704fb-3cb8-439d-aab7-2234e9e1d001",
   "metadata": {
    "scrolled": true,
    "tags": []
   },
   "outputs": [],
   "source": [
    "historia = red_n.fit(\n",
    "    X_train.values, y_train_binario, epochs=100, \n",
    "    validation_data=(X_test.values, y_test_binario), \n",
    "    verbose=1,\n",
    ")"
   ]
  },
  {
   "cell_type": "markdown",
   "id": "51993adb-0ea3-4fc1-8878-89f1abb34104",
   "metadata": {},
   "source": [
    "### Curva de aprendizaje\n",
    "\n",
    "\n",
    "Graficamos la curva de aprendizaje para tener una mejor idea de como fue el entrenamiento de nuestra red"
   ]
  },
  {
   "cell_type": "code",
   "execution_count": null,
   "id": "88829ad1-9d41-4f1c-8503-9d5e81099a11",
   "metadata": {},
   "outputs": [],
   "source": [
    "graficar_curva_aprendizaje(historia,'loss')\n",
    "graficar_curva_aprendizaje(historia,'auc')"
   ]
  },
  {
   "cell_type": "markdown",
   "id": "ce055f71-28ae-45d3-88f0-ccc64c73e0f7",
   "metadata": {},
   "source": [
    "### Predicción del modelo sobre holdout\n",
    "\n",
    "Una vez que vimos que no se produjo un overfitting y que la métrica alcanzada es lo suficientemente buena, realizamos la predicción sobre los valores de holdout, y gráficamos la curva AUC-ROC y la matriz de confusión"
   ]
  },
  {
   "cell_type": "code",
   "execution_count": null,
   "id": "eb99e515-f571-404c-b27a-0cfe1e06c12e",
   "metadata": {},
   "outputs": [],
   "source": [
    "y_pred = red_n.predict(X_test)"
   ]
  },
  {
   "cell_type": "code",
   "execution_count": null,
   "id": "6fd61589-f3fa-4b9c-9d6c-6e7c24fc7308",
   "metadata": {},
   "outputs": [],
   "source": [
    "graficar_auc_roc(y_test_binario, y_pred) "
   ]
  },
  {
   "cell_type": "code",
   "execution_count": null,
   "id": "62a9941e-df73-4e06-825f-dd8def512580",
   "metadata": {},
   "outputs": [],
   "source": [
    "graficar_matriz_confusion(y_test_binario, y_pred.round())"
   ]
  },
  {
   "cell_type": "markdown",
   "id": "1cd41b2a-48c1-48dc-8c3e-f214f4e0310f",
   "metadata": {},
   "source": [
    "Sin embargo vemos que nuestra red no es capaz de detectar correctamente los true positives, ya que en la matriz de confusion hay 0 de dichos casos acertados. \n",
    "Intentaremos mejorar dicha performance duplicando la cantidad de epochs y utilizando una red mas simple"
   ]
  },
  {
   "cell_type": "code",
   "execution_count": null,
   "id": "7c1c66f2-f11a-46d9-9b0a-990b2fa9fbf4",
   "metadata": {},
   "outputs": [],
   "source": [
    "def crear_red_simplificada(optimizer='adam'):\n",
    "    red_neuronal = Sequential()\n",
    "    red_neuronal.add(Dense(5, input_dim=18, activation='tanh'))\n",
    "    red_neuronal.add(Dropout(0.25))\n",
    "    red_neuronal.add(Dense(3, activation='tanh', kernel_regularizer=l2(0.001)))\n",
    "    red_neuronal.add(Dropout(0.25))\n",
    "    red_neuronal.add(Dense(1, activation='sigmoid', kernel_regularizer=l2(0.001)))\n",
    "    red_neuronal.compile(loss=\"binary_crossentropy\", optimizer=optimizer, metrics=[keras.metrics.AUC()])\n",
    "    return red_neuronal"
   ]
  },
  {
   "cell_type": "code",
   "execution_count": null,
   "id": "bb244230-d198-421b-a4d9-ac7e8f95e59d",
   "metadata": {},
   "outputs": [],
   "source": [
    "red_n = crear_red_simplificada(keras.optimizers.SGD(learning_rate=0.0001))\n",
    "red_n.summary()"
   ]
  },
  {
   "cell_type": "code",
   "execution_count": null,
   "id": "d6782f97-7d49-43f0-b1fe-9e36970a7969",
   "metadata": {
    "scrolled": true,
    "tags": []
   },
   "outputs": [],
   "source": [
    "historia = red_n.fit(\n",
    "    X_train.values, y_train_binario, epochs=200, \n",
    "    validation_data=(X_test.values, y_test_binario), \n",
    "    verbose=1,\n",
    ")"
   ]
  },
  {
   "cell_type": "code",
   "execution_count": null,
   "id": "a4a615da-d081-4219-bad6-e6ca54d1eaec",
   "metadata": {},
   "outputs": [],
   "source": [
    "graficar_curva_aprendizaje(historia,'loss')\n",
    "graficar_curva_aprendizaje(historia,'auc_1')\n"
   ]
  },
  {
   "cell_type": "code",
   "execution_count": null,
   "id": "af5823c4-cc71-44e2-a65a-d96d80ba7b33",
   "metadata": {},
   "outputs": [],
   "source": [
    "y_pred = red_n.predict(X_test)"
   ]
  },
  {
   "cell_type": "code",
   "execution_count": null,
   "id": "f90ebdab-bcf9-4aee-bf79-02bdc31e3b4b",
   "metadata": {},
   "outputs": [],
   "source": [
    "graficar_auc_roc(y_test_binario, y_pred) "
   ]
  },
  {
   "cell_type": "code",
   "execution_count": null,
   "id": "90c1486a-e8be-4bde-a378-d4760c7fa9cb",
   "metadata": {},
   "outputs": [],
   "source": [
    "graficar_matriz_confusion(y_test_binario, y_pred.round())"
   ]
  }
 ],
 "metadata": {
  "kernelspec": {
   "display_name": "Python 3 (ipykernel)",
   "language": "python",
   "name": "python3"
  },
  "language_info": {
   "codemirror_mode": {
    "name": "ipython",
    "version": 3
   },
   "file_extension": ".py",
   "mimetype": "text/x-python",
   "name": "python",
   "nbconvert_exporter": "python",
   "pygments_lexer": "ipython3",
   "version": "3.8.2"
  }
 },
 "nbformat": 4,
 "nbformat_minor": 5
}

{
 "cells": [
  {
   "cell_type": "code",
   "execution_count": 1,
   "id": "dcba4b8e-174e-4edc-a7f5-dca0db98d31e",
   "metadata": {},
   "outputs": [],
   "source": [
    "import pandas as pd\n",
    "import numpy as np\n",
    "\n",
    "from sklearn import tree\n",
    "from sklearn.model_selection import train_test_split\n",
    "from sklearn.metrics import classification_report\n",
    "from sklearn.metrics import roc_auc_score\n",
    "from sklearn.model_selection import KFold, StratifiedKFold\n",
    "from sklearn.ensemble import GradientBoostingClassifier\n",
    "from sklearn.ensemble import RandomForestClassifier\n",
    "from sklearn.feature_selection import SelectFromModel\n",
    "\n",
    "from preprocessing import limpiar_datos, aplicar_dummy_variables_encoding, eliminar_features, entrenar_iterative_imputer, imputar_missings_iterative\n",
    "from graficos_modelos import mostrar_reporte_clasificacion, graficar_auc_roc,graficar_matriz_confusion\n",
    "from funciones_auxiliares import traer_datasets, traer_dataset_prediccion_final, separar_dataset, encontrar_hiperparametros_RGSCV, mapear_target_binario"
   ]
  },
  {
   "cell_type": "markdown",
   "id": "608f5146-35a4-4989-9d80-84c5b10061d3",
   "metadata": {},
   "source": [
    "# Boosting"
   ]
  },
  {
   "cell_type": "markdown",
   "id": "bc1bfe73-d902-4602-8a2e-b8497052a0ca",
   "metadata": {},
   "source": [
    "### Obtención de los datos"
   ]
  },
  {
   "cell_type": "code",
   "execution_count": 2,
   "id": "3148b579-0c3a-41b8-b428-3366406e0844",
   "metadata": {},
   "outputs": [],
   "source": [
    "df, df_sin_target, solo_target = traer_datasets()\n",
    "\n",
    "X_train, X_test, y_train, y_test = separar_dataset(df_sin_target, solo_target)\n",
    "\n",
    "X_train.is_copy=False\n",
    "X_test.is_copy=False\n",
    "y_train.is_copy=False\n",
    "y_test.is_copy=False\n",
    "\n",
    "y_train.set_index('id', inplace=True)\n",
    "y_train = y_train.sort_values(by=['id'], ascending=True).copy()\n",
    "\n",
    "y_test.set_index('id', inplace=True)\n",
    "y_test = y_test.sort_values(by=['id'], ascending=True).copy()\n"
   ]
  },
  {
   "cell_type": "markdown",
   "id": "80616540-d390-4907-86d4-92d8d99fce1c",
   "metadata": {},
   "source": [
    "### Definiendo distintos preprocesamientos"
   ]
  },
  {
   "cell_type": "markdown",
   "id": "709ae744-c56c-432c-86c4-f1786c51ea00",
   "metadata": {},
   "source": [
    "Definiremos entonces dos preprocesamientos distintos a comparar para este modelo, y quedarnos con el mejor de ellos cuando probemos en holdout."
   ]
  },
  {
   "cell_type": "code",
   "execution_count": 3,
   "id": "f95eb0a8-e579-4baa-8447-0fc13722a1ad",
   "metadata": {},
   "outputs": [],
   "source": [
    "def preprocesamiento_1(df_original:pd.DataFrame, imputer=None):\n",
    "    df = df_original.copy(deep=True)\n",
    "    df = limpiar_datos(df)\n",
    "    df = aplicar_dummy_variables_encoding(df, ['llovieron_hamburguesas_hoy'])\n",
    "    eliminar_features(df, ['dia','barrio', 'direccion_viento_tarde', 'direccion_viento_temprano', 'rafaga_viento_max_direccion'])\n",
    "    \n",
    "    if(imputer is None):\n",
    "        imputer = entrenar_iterative_imputer(df)\n",
    "    df = imputar_missings_iterative(df, imputer)\n",
    "    \n",
    "    return df, imputer"
   ]
  },
  {
   "cell_type": "markdown",
   "id": "0a087501-eaae-49fb-80c9-8ecc30c0439a",
   "metadata": {},
   "source": [
    "Vemos que el primero de ellos primero corrije los datos con formato erróneo del dataset, como por ejemplo direcciones IP registradas en la feature 'presion_atmosférica_tarde', o datos que deberían ser NaNs pero son whitespace. Luego se aplica dummy encoding a la única feature categórica que nos resultó importante del análisis en el TP1. Pasamos a eliminar el resto de features categóricas y finalmente completamos los missings con el IterativeImputer."
   ]
  },
  {
   "cell_type": "code",
   "execution_count": 4,
   "id": "b0048e26-f5ea-4095-9a55-9712b56ba791",
   "metadata": {},
   "outputs": [],
   "source": [
    "def preprocesamiento_2(df_original:pd.DataFrame, imputer=None, seleccion_random_forest=None):\n",
    "    df = df_original.copy(deep=True)\n",
    "    df = limpiar_datos(df)\n",
    "    eliminar_features(df, ['dia'])\n",
    "    df = aplicar_dummy_variables_encoding(df, ['llovieron_hamburguesas_hoy','barrio', 'direccion_viento_tarde', 'direccion_viento_temprano', 'rafaga_viento_max_direccion'])\n",
    "    if(imputer == None):\n",
    "        imputer = entrenar_iterative_imputer(df)\n",
    "    df = imputar_missings_iterative(df, imputer)\n",
    "    \n",
    "    if(seleccion_random_forest is None):\n",
    "        sel = SelectFromModel(RandomForestClassifier(n_estimators = 100))\n",
    "        sel.fit(df, y_train.to_numpy().ravel())\n",
    "        seleccion_random_forest= df.columns[(sel.get_support())]\n",
    "    \n",
    "    eliminar_features(df, df.columns.difference(seleccion_random_forest))\n",
    "    \n",
    "    return df, imputer, seleccion_random_forest"
   ]
  },
  {
   "cell_type": "markdown",
   "id": "3c7437cf-77b0-4f33-a971-f1f3b6563278",
   "metadata": {},
   "source": [
    "El segundo preprocesamiento primero corrije los datos con formato erróneo del dataset, como por ejemplo direcciones IP registradas en la feature 'presion_atmosférica_tarde', o datos que deberían ser NaNs pero son whitespace. Luego se aplica dummy encoding a todas las features categóricas. Una vez hecho esto, completamos los missings con el IterativeImputer para poder utilizar un clasificador Random Forest como método de selección de atributos. Creemos que puede usar beneficioso usar este método como selección de atributos, ya que Boosting también utiliza árboles para confeccionar el ensamble. Gracias a esta selección, podemos droppear del dataframes aquellas features que RandomForest no haya considerado importante para terminar el preprocesamiento."
   ]
  },
  {
   "cell_type": "markdown",
   "id": "1dc23aea-5536-4173-9ac9-eecd4a40b49f",
   "metadata": {},
   "source": [
    "### Aplicamos preprocesamientos 1 y 2 para obtener X_train_1 / X_test_1 y X_train_2 / X_test_2 respectivamente"
   ]
  },
  {
   "cell_type": "code",
   "execution_count": 5,
   "id": "d2fc2ac6-707b-417f-8796-1c29516b1c94",
   "metadata": {},
   "outputs": [],
   "source": [
    "X_train_1, imputer_entrenado_1 = preprocesamiento_1(X_train)\n",
    "X_test_1, imputer_entrenado_1 = preprocesamiento_1(X_test, imputer_entrenado_1)"
   ]
  },
  {
   "cell_type": "code",
   "execution_count": 6,
   "id": "b222744e-f7aa-49ff-b74b-cb37e00abc6a",
   "metadata": {},
   "outputs": [],
   "source": [
    "X_train_2, imputer_entrenado_2, seleccion_RF = preprocesamiento_2(X_train)\n",
    "X_test_2, imputer_entrenado_2, seleccion_RF = preprocesamiento_2(X_test, imputer_entrenado_2, seleccion_RF)"
   ]
  },
  {
   "cell_type": "markdown",
   "id": "1e807f58-c9a8-4512-a186-b60782ba0cb1",
   "metadata": {
    "tags": []
   },
   "source": [
    "### Búsqueda de Hiperparámetros para el modelo que entrenará sobre X_train_1"
   ]
  },
  {
   "cell_type": "markdown",
   "id": "395a8e07-17c6-40f3-8868-d95363332ddb",
   "metadata": {},
   "source": [
    "Buscamos hiperparámetros con RandomGridSearch, pues GridSearch iterativamente es bastante lento. Para Boosting, dichos parámetros son:\n",
    "* loss: La función de pérdida a optimizar.\n",
    "* n_estimators: La cantidad de etapas de boosting a realizar.\n",
    "* learning rate: Reduce la contribución de cada árbol según el learning rate, se equilibra con n_estimators.\n",
    "* criterion: La función según la cuál se verifica la calidad de una división."
   ]
  },
  {
   "cell_type": "code",
   "execution_count": 7,
   "id": "b16bf2c9-0606-421d-9959-0e14bf33c8dd",
   "metadata": {},
   "outputs": [
    {
     "name": "stderr",
     "output_type": "stream",
     "text": [
      "C:\\Users\\Guillermo\\anaconda3\\envs\\orgadatos\\lib\\site-packages\\sklearn\\model_selection\\_search.py:285: UserWarning: The total space of parameters 48 is smaller than n_iter=100. Running 48 iterations. For exhaustive searches, use GridSearchCV.\n",
      "  warnings.warn(\n"
     ]
    }
   ],
   "source": [
    "params = {'loss': ['deviance', 'exponential'], 'n_estimators':[1,10, 50, 100],'learning_rate': [0.001, 0.01, 0.1],'criterion':['friedman_mse', 'mse']}\n",
    "hiperparametros = encontrar_hiperparametros_RGSCV(GradientBoostingClassifier(), params=params, x_np=X_train_1.to_numpy(), y_np=y_train.to_numpy().ravel())"
   ]
  },
  {
   "cell_type": "code",
   "execution_count": 8,
   "id": "da10c8a2-9d3a-4ffd-a2f2-38d51a0ae6ff",
   "metadata": {},
   "outputs": [
    {
     "name": "stdout",
     "output_type": "stream",
     "text": [
      "Mejor criterio: friedman_mse\n",
      "Mejor cantidad de estimadores: 100\n",
      "Mejor loss: exponential\n",
      "Mejor learning rate: 0.1\n"
     ]
    }
   ],
   "source": [
    "criterio_elegido_1 = hiperparametros['criterion']\n",
    "cantidad_estimadores_elegida_1 = hiperparametros['n_estimators']\n",
    "perdida_elegida_1 = hiperparametros['loss']\n",
    "learning_rate_elegido_1 = hiperparametros['learning_rate']\n",
    "print(f'Mejor criterio: {criterio_elegido_1}')\n",
    "print(f'Mejor cantidad de estimadores: {cantidad_estimadores_elegida_1}')\n",
    "print(f'Mejor loss: {perdida_elegida_1}')\n",
    "print(f'Mejor learning rate: {learning_rate_elegido_1}')"
   ]
  },
  {
   "cell_type": "markdown",
   "id": "54f2ea96-fc44-4466-9661-390e18c6160f",
   "metadata": {},
   "source": [
    "### Entrenando el Modelo 1 sobre X_train_1 con CrossValidation"
   ]
  },
  {
   "cell_type": "markdown",
   "id": "d2c86964-0d50-455b-acb9-8ea17a09a2c5",
   "metadata": {},
   "source": [
    "Procedemos a testear con kfolds, stratificados pues nuestro dataset es desbalanceado. Además, usamos los hiperparámetros encontrados previamente."
   ]
  },
  {
   "cell_type": "code",
   "execution_count": 9,
   "id": "69c2f2e1-9415-455d-a3ae-7476df162242",
   "metadata": {
    "tags": []
   },
   "outputs": [
    {
     "name": "stdout",
     "output_type": "stream",
     "text": [
      "Reporte para el FOLD 0\n",
      "                                          precision    recall  f1-score   support\n",
      "\n",
      "No llueven hamburguesas al dia siguiente       0.86      0.95      0.90     15891\n",
      "   Llueven hamburguesas al dia siguiente       0.74      0.46      0.57      4581\n",
      "\n",
      "                                accuracy                           0.84     20472\n",
      "                               macro avg       0.80      0.71      0.74     20472\n",
      "                            weighted avg       0.83      0.84      0.83     20472\n",
      "\n",
      "Reporte para el FOLD 1\n",
      "                                          precision    recall  f1-score   support\n",
      "\n",
      "No llueven hamburguesas al dia siguiente       0.88      0.91      0.89     15891\n",
      "   Llueven hamburguesas al dia siguiente       0.63      0.55      0.59      4580\n",
      "\n",
      "                                accuracy                           0.83     20471\n",
      "                               macro avg       0.75      0.73      0.74     20471\n",
      "                            weighted avg       0.82      0.83      0.82     20471\n",
      "\n",
      "Reporte para el FOLD 2\n",
      "                                          precision    recall  f1-score   support\n",
      "\n",
      "No llueven hamburguesas al dia siguiente       0.87      0.93      0.90     15891\n",
      "   Llueven hamburguesas al dia siguiente       0.70      0.52      0.60      4580\n",
      "\n",
      "                                accuracy                           0.84     20471\n",
      "                               macro avg       0.78      0.73      0.75     20471\n",
      "                            weighted avg       0.83      0.84      0.83     20471\n",
      "\n",
      "Reporte para el FOLD 3\n",
      "                                          precision    recall  f1-score   support\n",
      "\n",
      "No llueven hamburguesas al dia siguiente       0.87      0.96      0.91     15891\n",
      "   Llueven hamburguesas al dia siguiente       0.77      0.49      0.60      4580\n",
      "\n",
      "                                accuracy                           0.85     20471\n",
      "                               macro avg       0.82      0.72      0.76     20471\n",
      "                            weighted avg       0.85      0.85      0.84     20471\n",
      "\n",
      "Reporte para el FOLD 4\n",
      "                                          precision    recall  f1-score   support\n",
      "\n",
      "No llueven hamburguesas al dia siguiente       0.87      0.96      0.91     15890\n",
      "   Llueven hamburguesas al dia siguiente       0.76      0.48      0.59      4581\n",
      "\n",
      "                                accuracy                           0.85     20471\n",
      "                               macro avg       0.81      0.72      0.75     20471\n",
      "                            weighted avg       0.84      0.85      0.84     20471\n",
      "\n"
     ]
    }
   ],
   "source": [
    "kf = StratifiedKFold(n_splits=5)\n",
    "for fold_idx, (train_index, test_index) in enumerate(kf.split(X_train_1, y_train)):\n",
    "    boosting_clasificacion = GradientBoostingClassifier(loss=perdida_elegida_1, n_estimators=cantidad_estimadores_elegida_1, criterion=criterio_elegido_1, learning_rate=learning_rate_elegido_1)\n",
    "    boosting_clasificacion.fit(X_train_1.iloc[train_index], y_train.iloc[train_index].values.ravel())\n",
    "    print ('Reporte para el FOLD ' + str(fold_idx))\n",
    "    print(classification_report(y_train.iloc[test_index], boosting_clasificacion.predict(X_train_1.iloc[test_index]), target_names=['No llueven hamburguesas al dia siguiente', 'Llueven hamburguesas al dia siguiente']))\n",
    "    "
   ]
  },
  {
   "cell_type": "markdown",
   "id": "97b17ca5-5568-44ec-aa88-519ab7f3c964",
   "metadata": {
    "tags": []
   },
   "source": [
    "### Búsqueda de Hiperparámetros para el modelo que entrenará sobre X_train_2"
   ]
  },
  {
   "cell_type": "markdown",
   "id": "10449db9-02ce-4e6c-8f13-427bdd808da0",
   "metadata": {},
   "source": [
    "Buscamos hiperparámetros con RandomGridSearch, pues GridSearch iterativamente es bastante lento. Para Boosting, dichos parámetros son:\n",
    "* loss: La función de pérdida a optimizar.\n",
    "* n_estimators: La cantidad de etapas de boosting a realizar.\n",
    "* learning rate: Reduce la contribución de cada árbol según el learning rate, se equilibra con n_estimators.\n",
    "* criterion: La función según la cuál se verifica la calidad de una división."
   ]
  },
  {
   "cell_type": "code",
   "execution_count": 10,
   "id": "faaeb49e-5eb2-4621-b4ad-97f7a090a72d",
   "metadata": {},
   "outputs": [
    {
     "name": "stderr",
     "output_type": "stream",
     "text": [
      "C:\\Users\\Guillermo\\anaconda3\\envs\\orgadatos\\lib\\site-packages\\sklearn\\model_selection\\_search.py:285: UserWarning: The total space of parameters 48 is smaller than n_iter=100. Running 48 iterations. For exhaustive searches, use GridSearchCV.\n",
      "  warnings.warn(\n"
     ]
    }
   ],
   "source": [
    "params = {'loss': ['deviance', 'exponential'], 'n_estimators':[1,10, 50, 100],'learning_rate': [0.001, 0.01, 0.1],'criterion':['friedman_mse', 'mse']}\n",
    "hiperparametros = encontrar_hiperparametros_RGSCV(GradientBoostingClassifier(), params=params, x_np=X_train_1.to_numpy(), y_np=y_train.to_numpy().ravel())"
   ]
  },
  {
   "cell_type": "code",
   "execution_count": 11,
   "id": "130af677-dab3-4b76-bdb5-66fef29a065d",
   "metadata": {},
   "outputs": [
    {
     "name": "stdout",
     "output_type": "stream",
     "text": [
      "Mejor criterio: mse\n",
      "Mejor cantidad de estimadores: 100\n",
      "Mejor loss: exponential\n",
      "Mejor learning rate: 0.1\n"
     ]
    }
   ],
   "source": [
    "criterio_elegido_2 = hiperparametros['criterion']\n",
    "cantidad_estimadores_elegida_2 = hiperparametros['n_estimators']\n",
    "perdida_elegida_2 = hiperparametros['loss']\n",
    "learning_rate_elegido_2 = hiperparametros['learning_rate']\n",
    "print(f'Mejor criterio: {criterio_elegido_2}')\n",
    "print(f'Mejor cantidad de estimadores: {cantidad_estimadores_elegida_2}')\n",
    "print(f'Mejor loss: {perdida_elegida_2}')\n",
    "print(f'Mejor learning rate: {learning_rate_elegido_2}')"
   ]
  },
  {
   "cell_type": "markdown",
   "id": "db91d4f1-7960-4e36-b5de-bff747ff3f1a",
   "metadata": {},
   "source": [
    "### Entrenando el Modelo 2 sobre X_train_2 con CrossValidation"
   ]
  },
  {
   "cell_type": "markdown",
   "id": "31c253e8-dd76-41cb-9fe1-e481f5b0879b",
   "metadata": {},
   "source": [
    "Procedemos a testear con kfolds, stratificados pues nuestro dataset es desbalanceado. Además, usamos los hiperparámetros encontrados previamente."
   ]
  },
  {
   "cell_type": "code",
   "execution_count": 12,
   "id": "d0a8ddbd-0617-4e8c-9751-d9e013bb5b17",
   "metadata": {
    "tags": []
   },
   "outputs": [
    {
     "name": "stdout",
     "output_type": "stream",
     "text": [
      "Reporte para el FOLD 0\n",
      "                                          precision    recall  f1-score   support\n",
      "\n",
      "No llueven hamburguesas al dia siguiente       0.86      0.95      0.90     15891\n",
      "   Llueven hamburguesas al dia siguiente       0.73      0.46      0.56      4581\n",
      "\n",
      "                                accuracy                           0.84     20472\n",
      "                               macro avg       0.80      0.71      0.73     20472\n",
      "                            weighted avg       0.83      0.84      0.83     20472\n",
      "\n",
      "Reporte para el FOLD 1\n",
      "                                          precision    recall  f1-score   support\n",
      "\n",
      "No llueven hamburguesas al dia siguiente       0.88      0.91      0.89     15891\n",
      "   Llueven hamburguesas al dia siguiente       0.63      0.55      0.59      4580\n",
      "\n",
      "                                accuracy                           0.83     20471\n",
      "                               macro avg       0.75      0.73      0.74     20471\n",
      "                            weighted avg       0.82      0.83      0.82     20471\n",
      "\n",
      "Reporte para el FOLD 2\n",
      "                                          precision    recall  f1-score   support\n",
      "\n",
      "No llueven hamburguesas al dia siguiente       0.87      0.94      0.90     15891\n",
      "   Llueven hamburguesas al dia siguiente       0.70      0.52      0.60      4580\n",
      "\n",
      "                                accuracy                           0.84     20471\n",
      "                               macro avg       0.79      0.73      0.75     20471\n",
      "                            weighted avg       0.83      0.84      0.83     20471\n",
      "\n",
      "Reporte para el FOLD 3\n",
      "                                          precision    recall  f1-score   support\n",
      "\n",
      "No llueven hamburguesas al dia siguiente       0.86      0.96      0.91     15891\n",
      "   Llueven hamburguesas al dia siguiente       0.78      0.48      0.59      4580\n",
      "\n",
      "                                accuracy                           0.85     20471\n",
      "                               macro avg       0.82      0.72      0.75     20471\n",
      "                            weighted avg       0.84      0.85      0.84     20471\n",
      "\n",
      "Reporte para el FOLD 4\n",
      "                                          precision    recall  f1-score   support\n",
      "\n",
      "No llueven hamburguesas al dia siguiente       0.86      0.96      0.91     15890\n",
      "   Llueven hamburguesas al dia siguiente       0.77      0.48      0.59      4581\n",
      "\n",
      "                                accuracy                           0.85     20471\n",
      "                               macro avg       0.82      0.72      0.75     20471\n",
      "                            weighted avg       0.84      0.85      0.84     20471\n",
      "\n"
     ]
    }
   ],
   "source": [
    "kf = StratifiedKFold(n_splits=5)\n",
    "for fold_idx, (train_index, test_index) in enumerate(kf.split(X_train_2, y_train)):\n",
    "    boosting_clasificacion = GradientBoostingClassifier(loss=perdida_elegida_2, n_estimators=cantidad_estimadores_elegida_2, criterion=criterio_elegido_2, learning_rate=learning_rate_elegido_2)\n",
    "    boosting_clasificacion.fit(X_train_2.iloc[train_index], y_train.iloc[train_index].values.ravel())\n",
    "    print ('Reporte para el FOLD ' + str(fold_idx))\n",
    "    print(classification_report(y_train.iloc[test_index], boosting_clasificacion.predict(X_train_2.iloc[test_index]), target_names=['No llueven hamburguesas al dia siguiente', 'Llueven hamburguesas al dia siguiente']))\n",
    "    "
   ]
  },
  {
   "cell_type": "markdown",
   "id": "4f454599-13d2-4547-b906-fc0c15baa62c",
   "metadata": {},
   "source": [
    "### Predicción del modelo sobre holdout"
   ]
  },
  {
   "cell_type": "markdown",
   "id": "f9f16703-38ae-49fa-986c-1ddfecef41b8",
   "metadata": {},
   "source": [
    "Una vez entrenados y validados los modelos con CrossValidation, viendo que las métricas resultantes fueron razonables y no dan indicio de overfit o mala división del dataset, debemos elegir unos de ellos para probar en Holdout. Las métricas resultaron tan similares en este caso, que optaremos por simplemente usar el modelo que requirió menor complejidad en su preprocesamiento, el modelo 1. Pasaremos a probar dicho modelo en la partición Holdout. Para esto usaremos los mejores hiperparámetros hallados previamente en Training."
   ]
  },
  {
   "cell_type": "code",
   "execution_count": 14,
   "id": "0cfe0a9f-961c-487d-8548-5e0bbafc7e74",
   "metadata": {},
   "outputs": [
    {
     "data": {
      "text/plain": [
       "GradientBoostingClassifier(loss='exponential')"
      ]
     },
     "execution_count": 14,
     "metadata": {},
     "output_type": "execute_result"
    }
   ],
   "source": [
    "boosting_holdout = GradientBoostingClassifier(loss=perdida_elegida_1, n_estimators=cantidad_estimadores_elegida_1, criterion=criterio_elegido_1, learning_rate=learning_rate_elegido_1)\n",
    "boosting_holdout.fit(X_train_1.to_numpy(), y_train.to_numpy().ravel())"
   ]
  },
  {
   "cell_type": "code",
   "execution_count": 15,
   "id": "58da92c3-cf58-431e-9592-f6df4337ae2b",
   "metadata": {
    "tags": []
   },
   "outputs": [
    {
     "name": "stdout",
     "output_type": "stream",
     "text": [
      "              precision    recall  f1-score   support\n",
      "\n",
      "          no       0.87      0.95      0.91      8828\n",
      "          si       0.74      0.51      0.61      2545\n",
      "\n",
      "    accuracy                           0.85     11373\n",
      "   macro avg       0.81      0.73      0.76     11373\n",
      "weighted avg       0.84      0.85      0.84     11373\n",
      "\n"
     ]
    }
   ],
   "source": [
    "mapeo_binario_v = np.vectorize(mapear_target_binario)\n",
    "y_pred = boosting_holdout.predict(X_test_1.to_numpy())\n",
    "y_pred_binario = mapeo_binario_v(y_pred)\n",
    "y_pred_proba = boosting_holdout.predict_proba(X_test_1.to_numpy())[:, 1]\n",
    "y_test_binario = y_test['llovieron_hamburguesas_al_dia_siguiente'].map({'si': 1, 'no': 0}).to_numpy()\n",
    "print(classification_report(y_test['llovieron_hamburguesas_al_dia_siguiente'].to_numpy(), y_pred))"
   ]
  },
  {
   "cell_type": "markdown",
   "id": "727c1241-57e9-4aad-9fe5-7ec16424ccf7",
   "metadata": {},
   "source": [
    "### Curva AUC ROC\n"
   ]
  },
  {
   "cell_type": "code",
   "execution_count": 16,
   "id": "d5a29849-6959-4db6-ac1e-b34f9f3fd8ce",
   "metadata": {},
   "outputs": [
    {
     "data": {
      "image/png": "[encoded data removed]",
      "text/plain": [
       "<Figure size 1080x720 with 1 Axes>"
      ]
     },
     "metadata": {
      "needs_background": "light"
     },
     "output_type": "display_data"
    },
    {
     "name": "stdout",
     "output_type": "stream",
     "text": [
      "AUC-ROC para este modelo es: 0.8736986397095151\n"
     ]
    }
   ],
   "source": [
    "graficar_auc_roc(y_test_binario, y_pred_proba)"
   ]
  },
  {
   "cell_type": "markdown",
   "id": "4c86938f-ca12-40b1-b27f-6d3ac88b464f",
   "metadata": {},
   "source": [
    "Vemos que la curva AUC-ROC para este modelo es hasta ahora de las mejores que hemos observado. No podemos afirmar que es un valor cercano a la perfección, pero por la complejidad del ensamble esperabamos una buena métrica de este modelo, el cual cumple con las expectativas. Además, por el classification report, vemos que el accuracy esta entre los mejores."
   ]
  },
  {
   "cell_type": "markdown",
   "id": "f8d1f2cc-3d4a-4b92-9d39-ea3988da6627",
   "metadata": {},
   "source": [
    "### Matriz de confusion"
   ]
  },
  {
   "cell_type": "code",
   "execution_count": 17,
   "id": "744e1bcf-6980-475f-bba0-73c6780b898e",
   "metadata": {},
   "outputs": [
    {
     "name": "stderr",
     "output_type": "stream",
     "text": [
      "C:\\Users\\Guillermo\\anaconda3\\envs\\orgadatos\\lib\\site-packages\\sklearn\\utils\\validation.py:70: FutureWarning: Pass labels=[0, 1] as keyword args. From version 1.0 (renaming of 0.25) passing these as positional arguments will result in an error\n",
      "  warnings.warn(f\"Pass {args_msg} as keyword args. From version \"\n"
     ]
    },
    {
     "data": {
      "image/png": "[encoded data removed]",
      "text/plain": [
       "<Figure size 600x400 with 2 Axes>"
      ]
     },
     "metadata": {
      "needs_background": "light"
     },
     "output_type": "display_data"
    }
   ],
   "source": [
    "graficar_matriz_confusion(y_test_binario, y_pred_binario)"
   ]
  },
  {
   "cell_type": "markdown",
   "id": "a9642592-9ccb-46ac-ad87-57c0ad395849",
   "metadata": {},
   "source": [
    "A pesar de tener una curva auc-roc buena, este modelo presenta el mismo problema que el resto, el cual es tener un recall bajo. Como fue mencionado con anterioridad, se le atribuye a la naturaleza de los datos. \n",
    "En este caso, la complejidad del modelo no mejoro en gran medida las métricas precision y recall, ya que estan a la par de otros modelos más simples."
   ]
  },
  {
   "cell_type": "markdown",
   "id": "46a427a2-52ff-4141-ba6d-d08072191805",
   "metadata": {},
   "source": [
    "## Predicción con el dataset nuevo\n",
    "A continuación, realizamos la predicción con el ensamble de Boosting sobre el dataset de predicciones nuevo, y la escribimos al archivo 'Boosting.csv'"
   ]
  },
  {
   "cell_type": "code",
   "execution_count": 19,
   "id": "e01fc36b-d7fb-4052-94d3-3f2edca94f71",
   "metadata": {},
   "outputs": [],
   "source": [
    "from funciones_auxiliares import exportar_prediccion_final\n",
    "\n",
    "df_prediccion_final = traer_dataset_prediccion_final()\n",
    "ids = df_prediccion_final['id'].to_numpy()\n",
    "\n",
    "df_prediccion_final, imputer_entrenado_1 = preprocesamiento_1(df_prediccion_final, imputer_entrenado_1)\n",
    "predicciones = boosting_holdout.predict(df_prediccion_final.to_numpy())\n",
    "\n",
    "exportar_prediccion_final(ids, predicciones, 'Boosting')"
   ]
  }
 ],
 "metadata": {
  "kernelspec": {
   "display_name": "Python 3 (ipykernel)",
   "language": "python",
   "name": "python3"
  },
  "language_info": {
   "codemirror_mode": {
    "name": "ipython",
    "version": 3
   },
   "file_extension": ".py",
   "mimetype": "text/x-python",
   "name": "python",
   "nbconvert_exporter": "python",
   "pygments_lexer": "ipython3",
   "version": "3.8.2"
  }
 },
 "nbformat": 4,
 "nbformat_minor": 5
}

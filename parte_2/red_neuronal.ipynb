{
 "cells": [
  {
   "cell_type": "code",
   "execution_count": 1,
   "id": "0bcd0619-b049-40f0-9345-72ae53c14b60",
   "metadata": {
    "tags": []
   },
   "outputs": [],
   "source": [
    "import pandas as pd\n",
    "import numpy as np\n",
    "import matplotlib.pyplot as plt\n",
    "import seaborn as sns\n",
    "import tensorflow.keras as keras\n",
    "import preprocessing as pre\n",
    "\n",
    "from sklearn.model_selection import train_test_split\n",
    "from sklearn import preprocessing\n",
    "from sklearn.metrics import classification_report\n",
    "\n",
    "from tensorflow.keras.models import Sequential\n",
    "from tensorflow.keras.models import load_model\n",
    "from tensorflow.keras.layers import Dense, Dropout\n",
    "from tensorflow.keras.callbacks import EarlyStopping\n",
    "from tensorflow.keras.wrappers.scikit_learn import KerasClassifier\n",
    "from tensorflow.keras.regularizers import l2\n",
    "from tensorflow.keras import backend as K\n",
    "\n",
    "from graficos_modelos import graficar_auc_roc, graficar_matriz_confusion, graficar_curva_aprendizaje\n",
    "from funciones_auxiliares import traer_datasets, traer_dataset_prediccion_final, separar_dataset, mapear_target_binario, mapear_target_binario_a_categorico"
   ]
  },
  {
   "cell_type": "markdown",
   "id": "a69748e5-3844-41e9-b10c-f9fdf720b736",
   "metadata": {},
   "source": [
    "# Redes neuronales"
   ]
  },
  {
   "cell_type": "markdown",
   "id": "7e824e6e-8e5c-4aea-a431-7f46d8661fd2",
   "metadata": {},
   "source": [
    "Definimos el método que generará la red neuronal con una arquitectura constante, la cual tendra dos capas ocultas de 10 y 8 neuronas respectivamente. A su vez, se utilizara la funcion de activación de tangente hiperbólica en las capas ocultas, y una sigmoidea en la capa de output ya que se trata de un problema de clasificación binaria. Por el mismo motivo, la funcion de perdida a optimizar será la cross-entropy.\n",
    "\n",
    "El método de regularización a utilizar sera dropout con parametro 0.25 para mantener el modelo lo más simple posible y no sobrecargarlo con computo."
   ]
  },
  {
   "cell_type": "code",
   "execution_count": 2,
   "id": "a20e0044-38fc-40e6-b23c-b97fb6f36583",
   "metadata": {},
   "outputs": [],
   "source": [
    "def crear_red(optimizer):\n",
    "    red_neuronal = Sequential()\n",
    "    red_neuronal.add(Dense(8, input_dim=18, activation='tanh', kernel_regularizer=l2(0.001)))\n",
    "    red_neuronal.add(Dropout(0.25))\n",
    "    red_neuronal.add(Dense(5, activation='tanh', kernel_regularizer=l2(0.001)))\n",
    "    red_neuronal.add(Dropout(0.25))\n",
    "    red_neuronal.add(Dense(1, activation='sigmoid'))\n",
    "    red_neuronal.compile(loss=\"binary_crossentropy\", optimizer=optimizer, metrics=keras.metrics.AUC(name=\"auc\"))\n",
    "    return red_neuronal"
   ]
  },
  {
   "cell_type": "markdown",
   "id": "9133fde4-30af-4b26-be3f-7728dba24d98",
   "metadata": {},
   "source": [
    "Dada la alta complejidad temporal de las redes neuronales, nos vemos obligados a tratarla de una manera distinta al resto de modelos. \n",
    "Esta será tal que, mateniendo una misma arquitectura, probaremos dos combinaciones distintas de hiperparametros para un mismo preprocesamiento, y la que mejor performance tenga sobre holdout, será probada con el segundo preprocesamiento. Finalmente, se comaprará la misma red con los mismos hiperpametros pero que entrenada con datos preprocesados de distinta manera, y la que mejor métricas produzca, será utilizada para la predicción final y para compararse con las otras familias de modelos"
   ]
  },
  {
   "cell_type": "markdown",
   "id": "d4506788-5284-4546-ba48-c899c5a3ffb7",
   "metadata": {},
   "source": [
    "### Obtención de datos "
   ]
  },
  {
   "cell_type": "code",
   "execution_count": 3,
   "id": "1f383523-c40e-4f87-a026-eed63b8ff7f6",
   "metadata": {},
   "outputs": [],
   "source": [
    "df, df_sin_target, solo_target = traer_datasets()\n",
    "\n",
    "X_train, X_test, y_train, y_test = separar_dataset(df_sin_target, solo_target)\n",
    "\n",
    "X_train.is_copy=False\n",
    "X_test.is_copy=False\n",
    "y_train.is_copy=False\n",
    "y_test.is_copy=False\n",
    "\n",
    "y_train.set_index('id', inplace=True)\n",
    "y_train = y_train.sort_values(by=['id'], ascending=True).copy()\n",
    "\n",
    "y_test.set_index('id', inplace=True)\n",
    "y_test = y_test.sort_values(by=['id'], ascending=True).copy()"
   ]
  },
  {
   "cell_type": "markdown",
   "id": "1abf21cd-a7a9-425a-b494-631ba2a38a13",
   "metadata": {},
   "source": [
    "### Definiendo distintos preprocesamientos"
   ]
  },
  {
   "cell_type": "code",
   "execution_count": 4,
   "id": "855815a3-272b-4728-b204-8d25d338d482",
   "metadata": {},
   "outputs": [],
   "source": [
    "def preprocesamiento_1(df_original:pd.DataFrame, imputer=None, scaler=None):\n",
    "    df = df_original.copy(deep=True)\n",
    "    df = pre.limpiar_datos(df)\n",
    "    df = pre.aplicar_dummy_variables_encoding(df, ['llovieron_hamburguesas_hoy'])\n",
    "    pre.eliminar_features(df, ['dia','barrio', 'direccion_viento_tarde', 'direccion_viento_temprano', 'rafaga_viento_max_direccion'])\n",
    "\n",
    "    if(imputer is None):\n",
    "        imputer = pre.entrenar_iterative_imputer(df)\n",
    "    df = pre.imputar_missings_iterative(df, imputer)\n",
    "    \n",
    "    if(scaler is None):\n",
    "        scaler = pre.entrenar_normalizador_minmax(df)\n",
    "    df = pre.normalizar_dataframe(df, scaler)\n",
    "    \n",
    "    return df, imputer, scaler"
   ]
  },
  {
   "cell_type": "markdown",
   "id": "d4394db7-6de1-4e1c-8ae9-9579515f96ff",
   "metadata": {},
   "source": [
    "Primer preprocesamiento: La idea de este preprocesamiento es que sea mas simple que el segundo, para poder comprar distintos niveles de complejidad y sofisticación a la hora de preprocesar datos. En este caso, se limpian los datos transformando la feature de presión atmosférica tarde a float, ya que originalmente tiene valores invalidos con tipo de dato string y además se pasan los nulos a nan de numpy. También se eliminan todas menos las features categóricas  menos \"llovieron_hamburguesas_hoy\" ya que por lo visto en la parte 1 esta es la única que proporciona información relevante respecto al target. Finalmente, para el caso de que no se reciba un imputer, creara y entrenará un iterative imputer, y ya sea reciendolo como parametro o generadolo, se usará dicho imputer para rellenar los missings. Lo mismo sucede con la normalización de los datos, ya que si no se recibe ningun normalizador, se entrenara un normalizador min max con parametros por defecto (rango 0 a 1) y se normalizaran los datos. Creemos que este normalizador es más génerico que el standard el cual usa valores del propio dataset para normalizar, y por ende menos sofisticado."
   ]
  },
  {
   "cell_type": "code",
   "execution_count": 5,
   "id": "f9a3ffac-2be5-4d45-9b70-3e9056f7f16e",
   "metadata": {},
   "outputs": [],
   "source": [
    "def preprocesamiento_2(df_original:pd.DataFrame, imputer=None, scaler=None):    \n",
    "    df = df_original.copy(deep=True)\n",
    "    df = pre.limpiar_datos(df)\n",
    "    pre.eliminar_features(df, ['dia','barrio'])\n",
    "    df = pre.aplicar_dummy_variables_encoding(df, ['llovieron_hamburguesas_hoy'])\n",
    "    df = pre.aplicar_hashing_trick(df, ['direccion_viento_tarde','direccion_viento_temprano','rafaga_viento_max_direccion'], [3,3,3])\n",
    "\n",
    "    if(imputer is None):\n",
    "        imputer = pre.entrenar_iterative_imputer(df)\n",
    "    df = pre.imputar_missings_iterative(df, imputer)\n",
    "    \n",
    "    if(scaler is None):\n",
    "        scaler = pre.entrenar_normalizador_standard(df)\n",
    "    df = pre.normalizar_dataframe(df, scaler)\n",
    "    df = pre.reduccion_PCA(df, 16)\n",
    "\n",
    "    return df, imputer, scaler"
   ]
  },
  {
   "cell_type": "markdown",
   "id": "d833593e-4658-4ed9-818c-452f6ea8f9c3",
   "metadata": {},
   "source": [
    "Segundo preprocesamiento: Tiene como objetivo ser bastante sofisticado y complejo. Esto se puede observar ya que además de limpiar los datos al igual que el primer preprocesamiento, unicamente se descartan las features dia y barrio (también por el análisis de la parte 1), y las otras categóricas se transforman tanto con dummy encoding cuando la dimensionalidad de valores posibles es baja (solo para llovieron_hamburguesas_hoy) como con hashing trick a vectores de tres dimensiones para una dimensionalidad de valores mas alta (direcciones de vientos). Utiliza nuevamente el iterative imputer, pero en lugar de usar el normalizador min max, utiliza el normalizador standard el cual como se menciono con anterioridad, esta creado sobre valores del mismo dataset. Finalmente, dado que se aumento bastante la dimensionalidad del dataset con los metodos de transformación de features categóricas, se aplicara una reducción PCA a 16 dimensiones, el cual implica que estamos reduciendo la dimensión del dataset a una dimensión mucho más pequeña para que el input de la red sea el mismo en ambos casos. Esta reducción podría generar perdida de información la cual se vería reflejada en la performance del modelo."
   ]
  },
  {
   "cell_type": "markdown",
   "id": "aaf0c7ab-c013-44e8-9de6-54dfe8f1946e",
   "metadata": {},
   "source": [
    "### Aplicamos preprocesamientos 1 y 2 para obtener X_train_1 / X_test_1 y X_train_2 / X_test_2 respectivamente"
   ]
  },
  {
   "cell_type": "code",
   "execution_count": 6,
   "id": "17f975f3-62cf-4120-8a00-d97db69ac7b3",
   "metadata": {},
   "outputs": [],
   "source": [
    "X_train_1, imputer_entrenado_1, scaler_entrenado_1  = preprocesamiento_1(X_train)\n",
    "X_test_1, imputer_entrenado_1, scaler_entrenado_1 = preprocesamiento_1(X_test, imputer_entrenado_1, scaler_entrenado_1)"
   ]
  },
  {
   "cell_type": "code",
   "execution_count": 7,
   "id": "21d4f07b-aba0-41dd-802e-86566a5d8fac",
   "metadata": {},
   "outputs": [],
   "source": [
    "X_train_2, imputer_entrenado_2, scaler_entrenado_2  = preprocesamiento_2(X_train)\n",
    "X_test_2, imputer_entrenado_2, scaler_entrenado_2 = preprocesamiento_2(X_test, imputer_entrenado_2, scaler_entrenado_2)"
   ]
  },
  {
   "cell_type": "markdown",
   "id": "ce745916-8d4f-4dcd-b60c-83244ceacba7",
   "metadata": {},
   "source": [
    "### Búsqueda de Hiperparámetros para el modelo que entrenará sobre X_train_1"
   ]
  },
  {
   "cell_type": "markdown",
   "id": "52fdc357-b567-4243-8168-a11533356474",
   "metadata": {},
   "source": [
    "Los hiperparametros a definir en una red neuronal son:\n",
    "- loss: Función de perdida a optimizar. En nuestro caso, por ser clasificación binaria, debe ser o softmax o binary cross-entropy. Elegimos la última por simpleza.\n",
    "- optimizer: El optimizador que se utilizará para encontrar los mejores parametros (pesos y biases) de la red. \n",
    "    - learning_rate: Es un hiperparametro del optimizador que indica cuan grande sera el \"aprendizaje\" en cada epoca. Si es pequeño, tomara mas epocas el entrenamiento pero tendrá menos riesgo de diverger en los parametros como lo haría un learning rate alto\n",
    "- metrics: Métricas que se utilizaran para mostrar y validar (en caso de usar callbacks) el resultado del entrenamiento\n",
    "- epochs: Cantidad de iteraciones que realizara la red para ajustar sus pesos y biases"
   ]
  },
  {
   "cell_type": "markdown",
   "id": "403ebc0e-60ce-48f5-b0a6-8e3b3faae19a",
   "metadata": {},
   "source": [
    "Planteamos como posibles hiperpametros dos optimizadores, Adam que resulta un optimizador de complejidad media, y Adagrad que es un optimizador de complejidad mas elevada. \n",
    "\n",
    "Como el problema a resolver no es extremadamente complejo, no hay necesidad de complejizar tanto el computo de la red con optimizadores mas elaborados para obtener una buena performance.\n",
    "\n",
    "Los learning rates propuestos se consideran relativamente valores bajos para que el aprendizaje sea suave y no abrupto/errático"
   ]
  },
  {
   "cell_type": "code",
   "execution_count": 8,
   "id": "210f72f5-37b5-4660-a812-24b6174b08f7",
   "metadata": {},
   "outputs": [],
   "source": [
    "mapeo_binario_v = np.vectorize(mapear_target_binario)"
   ]
  },
  {
   "cell_type": "code",
   "execution_count": 9,
   "id": "750753cd-307b-4cd5-81e6-d587aba04dba",
   "metadata": {},
   "outputs": [],
   "source": [
    "y_train_np = y_train['llovieron_hamburguesas_al_dia_siguiente'].to_numpy()\n",
    "y_train_binario = mapeo_binario_v(y_train_np)\n",
    "\n",
    "y_test_np = y_test['llovieron_hamburguesas_al_dia_siguiente'].to_numpy()\n",
    "y_test_binario = mapeo_binario_v(y_test_np)"
   ]
  },
  {
   "cell_type": "markdown",
   "id": "550908b4-bc2a-4286-9bab-bcec06bf4946",
   "metadata": {},
   "source": [
    "Creamos entonces la red con el optimizador adam, el cual esta en el medio en la escala de complejidad y performance, y entrenamos un numero arbitrario de epochs halladas. Además agregamos criterio de early stopping para no sobreentrenar la red y que overfitee."
   ]
  },
  {
   "cell_type": "code",
   "execution_count": 10,
   "id": "31b1e59f-2bf0-41f6-9047-110da12fdb9b",
   "metadata": {},
   "outputs": [
    {
     "name": "stdout",
     "output_type": "stream",
     "text": [
      "Model: \"sequential\"\n",
      "_________________________________________________________________\n",
      "Layer (type)                 Output Shape              Param #   \n",
      "=================================================================\n",
      "dense (Dense)                (None, 8)                 152       \n",
      "_________________________________________________________________\n",
      "dropout (Dropout)            (None, 8)                 0         \n",
      "_________________________________________________________________\n",
      "dense_1 (Dense)              (None, 5)                 45        \n",
      "_________________________________________________________________\n",
      "dropout_1 (Dropout)          (None, 5)                 0         \n",
      "_________________________________________________________________\n",
      "dense_2 (Dense)              (None, 1)                 6         \n",
      "=================================================================\n",
      "Total params: 203\n",
      "Trainable params: 203\n",
      "Non-trainable params: 0\n",
      "_________________________________________________________________\n"
     ]
    }
   ],
   "source": [
    "red_n = crear_red(keras.optimizers.Adam(learning_rate=0.0001))\n",
    "red_n.summary()"
   ]
  },
  {
   "cell_type": "code",
   "execution_count": 11,
   "id": "b21697f0-cae3-4420-b25c-be68a7a75c0d",
   "metadata": {
    "tags": []
   },
   "outputs": [],
   "source": [
    "early_stopping = EarlyStopping(monitor='val_auc', patience=50, mode='max')"
   ]
  },
  {
   "cell_type": "code",
   "execution_count": 12,
   "id": "2023cadc-0adc-4724-9abe-65a23c82c436",
   "metadata": {
    "scrolled": true,
    "tags": []
   },
   "outputs": [
    {
     "name": "stdout",
     "output_type": "stream",
     "text": [
      "Epoch 1/200\n",
      "3199/3199 [==============================] - 3s 673us/step - loss: 0.5486 - auc: 0.6509 - val_loss: 0.4544 - val_auc: 0.8196\n",
      "Epoch 2/200\n",
      "3199/3199 [==============================] - 2s 624us/step - loss: 0.4600 - auc: 0.7780 - val_loss: 0.4196 - val_auc: 0.8335\n",
      "Epoch 3/200\n",
      "3199/3199 [==============================] - 2s 631us/step - loss: 0.4339 - auc: 0.8079 - val_loss: 0.4046 - val_auc: 0.8431\n",
      "Epoch 4/200\n",
      "3199/3199 [==============================] - 2s 666us/step - loss: 0.4204 - auc: 0.8217 - val_loss: 0.3963 - val_auc: 0.8500\n",
      "Epoch 5/200\n",
      "3199/3199 [==============================] - 2s 639us/step - loss: 0.4142 - auc: 0.8282 - val_loss: 0.3904 - val_auc: 0.8543\n",
      "Epoch 6/200\n",
      "3199/3199 [==============================] - 2s 610us/step - loss: 0.4076 - auc: 0.8340 - val_loss: 0.3864 - val_auc: 0.8572\n",
      "Epoch 7/200\n",
      "3199/3199 [==============================] - 2s 689us/step - loss: 0.4049 - auc: 0.8368 - val_loss: 0.3835 - val_auc: 0.8590\n",
      "Epoch 8/200\n",
      "3199/3199 [==============================] - 2s 685us/step - loss: 0.4011 - auc: 0.8403 - val_loss: 0.3815 - val_auc: 0.8605\n",
      "Epoch 9/200\n",
      "3199/3199 [==============================] - 2s 631us/step - loss: 0.3979 - auc: 0.8434 - val_loss: 0.3805 - val_auc: 0.8613\n",
      "Epoch 10/200\n",
      "3199/3199 [==============================] - 2s 588us/step - loss: 0.3962 - auc: 0.8447 - val_loss: 0.3783 - val_auc: 0.8618\n",
      "Epoch 11/200\n",
      "3199/3199 [==============================] - 2s 599us/step - loss: 0.3952 - auc: 0.8452 - val_loss: 0.3774 - val_auc: 0.8623\n",
      "Epoch 12/200\n",
      "3199/3199 [==============================] - 2s 680us/step - loss: 0.3939 - auc: 0.8462 - val_loss: 0.3765 - val_auc: 0.8630\n",
      "Epoch 13/200\n",
      "3199/3199 [==============================] - 2s 621us/step - loss: 0.3932 - auc: 0.8466 - val_loss: 0.3756 - val_auc: 0.8632\n",
      "Epoch 14/200\n",
      "3199/3199 [==============================] - 2s 653us/step - loss: 0.3913 - auc: 0.8481 - val_loss: 0.3756 - val_auc: 0.8635\n",
      "Epoch 15/200\n",
      "3199/3199 [==============================] - 2s 597us/step - loss: 0.3911 - auc: 0.8480 - val_loss: 0.3741 - val_auc: 0.8638\n",
      "Epoch 16/200\n",
      "3199/3199 [==============================] - 2s 634us/step - loss: 0.3890 - auc: 0.8497 - val_loss: 0.3735 - val_auc: 0.8640\n",
      "Epoch 17/200\n",
      "3199/3199 [==============================] - 2s 650us/step - loss: 0.3893 - auc: 0.8495 - val_loss: 0.3733 - val_auc: 0.8641\n",
      "Epoch 18/200\n",
      "3199/3199 [==============================] - 2s 607us/step - loss: 0.3871 - auc: 0.8512 - val_loss: 0.3726 - val_auc: 0.8645\n",
      "Epoch 19/200\n",
      "3199/3199 [==============================] - 2s 670us/step - loss: 0.3871 - auc: 0.8509 - val_loss: 0.3722 - val_auc: 0.8645\n",
      "Epoch 20/200\n",
      "3199/3199 [==============================] - 2s 709us/step - loss: 0.3866 - auc: 0.8512 - val_loss: 0.3717 - val_auc: 0.8647\n",
      "Epoch 21/200\n",
      "3199/3199 [==============================] - 2s 602us/step - loss: 0.3860 - auc: 0.8517 - val_loss: 0.3713 - val_auc: 0.8648\n",
      "Epoch 22/200\n",
      "3199/3199 [==============================] - 2s 614us/step - loss: 0.3853 - auc: 0.8519 - val_loss: 0.3710 - val_auc: 0.8649\n",
      "Epoch 23/200\n",
      "3199/3199 [==============================] - 2s 597us/step - loss: 0.3852 - auc: 0.8522 - val_loss: 0.3704 - val_auc: 0.8649\n",
      "Epoch 24/200\n",
      "3199/3199 [==============================] - 2s 593us/step - loss: 0.3842 - auc: 0.8531 - val_loss: 0.3702 - val_auc: 0.8653\n",
      "Epoch 25/200\n",
      "3199/3199 [==============================] - 2s 594us/step - loss: 0.3826 - auc: 0.8545 - val_loss: 0.3705 - val_auc: 0.8652\n",
      "Epoch 26/200\n",
      "3199/3199 [==============================] - 2s 590us/step - loss: 0.3840 - auc: 0.8530 - val_loss: 0.3700 - val_auc: 0.8653\n",
      "Epoch 27/200\n",
      "3199/3199 [==============================] - 2s 594us/step - loss: 0.3827 - auc: 0.8539 - val_loss: 0.3696 - val_auc: 0.8654\n",
      "Epoch 28/200\n",
      "3199/3199 [==============================] - 2s 634us/step - loss: 0.3826 - auc: 0.8539 - val_loss: 0.3691 - val_auc: 0.8657\n",
      "Epoch 29/200\n",
      "3199/3199 [==============================] - 2s 680us/step - loss: 0.3831 - auc: 0.8536 - val_loss: 0.3690 - val_auc: 0.8655\n",
      "Epoch 30/200\n",
      "3199/3199 [==============================] - 2s 668us/step - loss: 0.3820 - auc: 0.8546 - val_loss: 0.3686 - val_auc: 0.8657\n",
      "Epoch 31/200\n",
      "3199/3199 [==============================] - 2s 624us/step - loss: 0.3826 - auc: 0.8540 - val_loss: 0.3684 - val_auc: 0.8657\n",
      "Epoch 32/200\n",
      "3199/3199 [==============================] - 2s 612us/step - loss: 0.3804 - auc: 0.8553 - val_loss: 0.3683 - val_auc: 0.8658\n",
      "Epoch 33/200\n",
      "3199/3199 [==============================] - 2s 674us/step - loss: 0.3821 - auc: 0.8541 - val_loss: 0.3683 - val_auc: 0.8659\n",
      "Epoch 34/200\n",
      "3199/3199 [==============================] - 2s 639us/step - loss: 0.3808 - auc: 0.8554 - val_loss: 0.3678 - val_auc: 0.8660\n",
      "Epoch 35/200\n",
      "3199/3199 [==============================] - 2s 606us/step - loss: 0.3810 - auc: 0.8549 - val_loss: 0.3676 - val_auc: 0.8662\n",
      "Epoch 36/200\n",
      "3199/3199 [==============================] - 2s 624us/step - loss: 0.3806 - auc: 0.8550 - val_loss: 0.3673 - val_auc: 0.8662\n",
      "Epoch 37/200\n",
      "3199/3199 [==============================] - 2s 611us/step - loss: 0.3804 - auc: 0.8549 - val_loss: 0.3674 - val_auc: 0.8663\n",
      "Epoch 38/200\n",
      "3199/3199 [==============================] - 2s 605us/step - loss: 0.3802 - auc: 0.8554 - val_loss: 0.3670 - val_auc: 0.8663\n",
      "Epoch 39/200\n",
      "3199/3199 [==============================] - 2s 642us/step - loss: 0.3797 - auc: 0.8558 - val_loss: 0.3669 - val_auc: 0.8662\n",
      "Epoch 40/200\n",
      "3199/3199 [==============================] - 2s 609us/step - loss: 0.3789 - auc: 0.8567 - val_loss: 0.3666 - val_auc: 0.8664\n",
      "Epoch 41/200\n",
      "3199/3199 [==============================] - 2s 612us/step - loss: 0.3789 - auc: 0.8564 - val_loss: 0.3665 - val_auc: 0.8665\n",
      "Epoch 42/200\n",
      "3199/3199 [==============================] - 2s 618us/step - loss: 0.3789 - auc: 0.8562 - val_loss: 0.3663 - val_auc: 0.8665\n",
      "Epoch 43/200\n",
      "3199/3199 [==============================] - 2s 605us/step - loss: 0.3796 - auc: 0.8556 - val_loss: 0.3665 - val_auc: 0.8666\n",
      "Epoch 44/200\n",
      "3199/3199 [==============================] - 2s 610us/step - loss: 0.3790 - auc: 0.8561 - val_loss: 0.3661 - val_auc: 0.8666\n",
      "Epoch 45/200\n",
      "3199/3199 [==============================] - 2s 587us/step - loss: 0.3786 - auc: 0.8564 - val_loss: 0.3662 - val_auc: 0.8667\n",
      "Epoch 46/200\n",
      "3199/3199 [==============================] - 2s 589us/step - loss: 0.3781 - auc: 0.8570 - val_loss: 0.3663 - val_auc: 0.8669\n",
      "Epoch 47/200\n",
      "3199/3199 [==============================] - 2s 606us/step - loss: 0.3776 - auc: 0.8572 - val_loss: 0.3659 - val_auc: 0.8669\n",
      "Epoch 48/200\n",
      "3199/3199 [==============================] - 2s 596us/step - loss: 0.3777 - auc: 0.8570 - val_loss: 0.3655 - val_auc: 0.8668\n",
      "Epoch 49/200\n",
      "3199/3199 [==============================] - 2s 603us/step - loss: 0.3771 - auc: 0.8578 - val_loss: 0.3654 - val_auc: 0.8669\n",
      "Epoch 50/200\n",
      "3199/3199 [==============================] - 2s 590us/step - loss: 0.3772 - auc: 0.8575 - val_loss: 0.3653 - val_auc: 0.8669\n",
      "Epoch 51/200\n",
      "3199/3199 [==============================] - 2s 597us/step - loss: 0.3775 - auc: 0.8572 - val_loss: 0.3660 - val_auc: 0.8670\n",
      "Epoch 52/200\n",
      "3199/3199 [==============================] - 2s 594us/step - loss: 0.3776 - auc: 0.8570 - val_loss: 0.3651 - val_auc: 0.8671\n",
      "Epoch 53/200\n",
      "3199/3199 [==============================] - 2s 594us/step - loss: 0.3771 - auc: 0.8575 - val_loss: 0.3649 - val_auc: 0.8670\n",
      "Epoch 54/200\n",
      "3199/3199 [==============================] - 2s 594us/step - loss: 0.3766 - auc: 0.8578 - val_loss: 0.3651 - val_auc: 0.8671\n",
      "Epoch 55/200\n",
      "3199/3199 [==============================] - 2s 598us/step - loss: 0.3776 - auc: 0.8570 - val_loss: 0.3648 - val_auc: 0.8671\n",
      "Epoch 56/200\n",
      "3199/3199 [==============================] - 2s 590us/step - loss: 0.3772 - auc: 0.8574 - val_loss: 0.3648 - val_auc: 0.8671\n",
      "Epoch 57/200\n",
      "3199/3199 [==============================] - 2s 590us/step - loss: 0.3763 - auc: 0.8581 - val_loss: 0.3646 - val_auc: 0.8672\n",
      "Epoch 58/200\n",
      "3199/3199 [==============================] - 2s 612us/step - loss: 0.3772 - auc: 0.8573 - val_loss: 0.3645 - val_auc: 0.8672\n",
      "Epoch 59/200\n",
      "3199/3199 [==============================] - 2s 601us/step - loss: 0.3765 - auc: 0.8580 - val_loss: 0.3644 - val_auc: 0.8673\n",
      "Epoch 60/200\n",
      "3199/3199 [==============================] - 2s 604us/step - loss: 0.3763 - auc: 0.8577 - val_loss: 0.3643 - val_auc: 0.8673\n",
      "Epoch 61/200\n",
      "3199/3199 [==============================] - 2s 592us/step - loss: 0.3758 - auc: 0.8580 - val_loss: 0.3641 - val_auc: 0.8673\n",
      "Epoch 62/200\n",
      "3199/3199 [==============================] - 2s 597us/step - loss: 0.3769 - auc: 0.8575 - val_loss: 0.3642 - val_auc: 0.8673\n",
      "Epoch 63/200\n",
      "3199/3199 [==============================] - 2s 590us/step - loss: 0.3770 - auc: 0.8577 - val_loss: 0.3641 - val_auc: 0.8674\n",
      "Epoch 64/200\n",
      "3199/3199 [==============================] - 2s 618us/step - loss: 0.3769 - auc: 0.8572 - val_loss: 0.3640 - val_auc: 0.8675\n",
      "Epoch 65/200\n",
      "3199/3199 [==============================] - 2s 619us/step - loss: 0.3752 - auc: 0.8586 - val_loss: 0.3639 - val_auc: 0.8674\n",
      "Epoch 66/200\n",
      "3199/3199 [==============================] - 2s 654us/step - loss: 0.3762 - auc: 0.8580 - val_loss: 0.3639 - val_auc: 0.8676\n",
      "Epoch 67/200\n",
      "3199/3199 [==============================] - 2s 592us/step - loss: 0.3759 - auc: 0.8579 - val_loss: 0.3637 - val_auc: 0.8675\n",
      "Epoch 68/200\n",
      "3199/3199 [==============================] - 2s 598us/step - loss: 0.3758 - auc: 0.8579 - val_loss: 0.3636 - val_auc: 0.8675\n",
      "Epoch 69/200\n",
      "3199/3199 [==============================] - 2s 599us/step - loss: 0.3745 - auc: 0.8589 - val_loss: 0.3639 - val_auc: 0.8674\n",
      "Epoch 70/200\n",
      "3199/3199 [==============================] - 2s 595us/step - loss: 0.3751 - auc: 0.8587 - val_loss: 0.3635 - val_auc: 0.8674\n",
      "Epoch 71/200\n",
      "3199/3199 [==============================] - 2s 642us/step - loss: 0.3760 - auc: 0.8582 - val_loss: 0.3635 - val_auc: 0.8676\n",
      "Epoch 72/200\n",
      "3199/3199 [==============================] - 2s 640us/step - loss: 0.3754 - auc: 0.8585 - val_loss: 0.3633 - val_auc: 0.8676 - loss: 0.3751 - au\n",
      "Epoch 73/200\n",
      "3199/3199 [==============================] - 2s 605us/step - loss: 0.3748 - auc: 0.8587 - val_loss: 0.3637 - val_auc: 0.8675\n",
      "Epoch 74/200\n",
      "3199/3199 [==============================] - 2s 645us/step - loss: 0.3755 - auc: 0.8582 - val_loss: 0.3632 - val_auc: 0.8677\n",
      "Epoch 75/200\n",
      "3199/3199 [==============================] - 2s 655us/step - loss: 0.3747 - auc: 0.8587 - val_loss: 0.3631 - val_auc: 0.8677\n",
      "Epoch 76/200\n",
      "3199/3199 [==============================] - 3s 809us/step - loss: 0.3752 - auc: 0.8585 - val_loss: 0.3633 - val_auc: 0.8677\n",
      "Epoch 77/200\n",
      "3199/3199 [==============================] - 2s 724us/step - loss: 0.3753 - auc: 0.8582 - val_loss: 0.3630 - val_auc: 0.8678\n",
      "Epoch 78/200\n",
      "3199/3199 [==============================] - 2s 738us/step - loss: 0.3748 - auc: 0.8585 - val_loss: 0.3650 - val_auc: 0.8677\n",
      "Epoch 79/200\n",
      "3199/3199 [==============================] - 2s 703us/step - loss: 0.3750 - auc: 0.8590 - val_loss: 0.3631 - val_auc: 0.8678\n",
      "Epoch 80/200\n",
      "3199/3199 [==============================] - 2s 660us/step - loss: 0.3751 - auc: 0.8583 - val_loss: 0.3628 - val_auc: 0.8678\n",
      "Epoch 81/200\n",
      "3199/3199 [==============================] - 2s 640us/step - loss: 0.3748 - auc: 0.8590 - val_loss: 0.3629 - val_auc: 0.8678\n",
      "Epoch 82/200\n",
      "3199/3199 [==============================] - 2s 612us/step - loss: 0.3749 - auc: 0.8585 - val_loss: 0.3631 - val_auc: 0.8677\n",
      "Epoch 83/200\n",
      "3199/3199 [==============================] - 2s 608us/step - loss: 0.3739 - auc: 0.8589 - val_loss: 0.3628 - val_auc: 0.8676\n",
      "Epoch 84/200\n",
      "3199/3199 [==============================] - 2s 606us/step - loss: 0.3747 - auc: 0.8587 - val_loss: 0.3627 - val_auc: 0.8678\n",
      "Epoch 85/200\n",
      "3199/3199 [==============================] - 2s 608us/step - loss: 0.3741 - auc: 0.8596 - val_loss: 0.3629 - val_auc: 0.8678\n",
      "Epoch 86/200\n",
      "3199/3199 [==============================] - 2s 612us/step - loss: 0.3746 - auc: 0.8589 - val_loss: 0.3627 - val_auc: 0.8679\n",
      "Epoch 87/200\n",
      "3199/3199 [==============================] - 2s 596us/step - loss: 0.3743 - auc: 0.8593 - val_loss: 0.3626 - val_auc: 0.8678\n",
      "Epoch 88/200\n",
      "3199/3199 [==============================] - 2s 607us/step - loss: 0.3737 - auc: 0.8596 - val_loss: 0.3625 - val_auc: 0.8679\n",
      "Epoch 89/200\n",
      "3199/3199 [==============================] - 2s 603us/step - loss: 0.3744 - auc: 0.8590 - val_loss: 0.3634 - val_auc: 0.8678\n",
      "Epoch 90/200\n",
      "3199/3199 [==============================] - 2s 597us/step - loss: 0.3748 - auc: 0.8587 - val_loss: 0.3630 - val_auc: 0.8678\n",
      "Epoch 91/200\n",
      "3199/3199 [==============================] - 2s 608us/step - loss: 0.3745 - auc: 0.8587 - val_loss: 0.3626 - val_auc: 0.8678\n",
      "Epoch 92/200\n",
      "3199/3199 [==============================] - 2s 592us/step - loss: 0.3735 - auc: 0.8595 - val_loss: 0.3623 - val_auc: 0.8678\n",
      "Epoch 93/200\n",
      "3199/3199 [==============================] - 2s 605us/step - loss: 0.3742 - auc: 0.8590 - val_loss: 0.3623 - val_auc: 0.8680\n",
      "Epoch 94/200\n",
      "3199/3199 [==============================] - 2s 587us/step - loss: 0.3738 - auc: 0.8592 - val_loss: 0.3624 - val_auc: 0.8680\n",
      "Epoch 95/200\n",
      "3199/3199 [==============================] - 2s 605us/step - loss: 0.3740 - auc: 0.8590 - val_loss: 0.3624 - val_auc: 0.8680\n",
      "Epoch 96/200\n",
      "3199/3199 [==============================] - 2s 600us/step - loss: 0.3743 - auc: 0.8588 - val_loss: 0.3624 - val_auc: 0.8680\n",
      "Epoch 97/200\n",
      "3199/3199 [==============================] - 2s 602us/step - loss: 0.3747 - auc: 0.8582 - val_loss: 0.3622 - val_auc: 0.8680\n",
      "Epoch 98/200\n",
      "3199/3199 [==============================] - 2s 597us/step - loss: 0.3736 - auc: 0.8592 - val_loss: 0.3624 - val_auc: 0.8680\n",
      "Epoch 99/200\n",
      "3199/3199 [==============================] - 2s 601us/step - loss: 0.3738 - auc: 0.8592 - val_loss: 0.3622 - val_auc: 0.8680\n",
      "Epoch 100/200\n",
      "3199/3199 [==============================] - 2s 606us/step - loss: 0.3735 - auc: 0.8597 - val_loss: 0.3620 - val_auc: 0.8679\n",
      "Epoch 101/200\n",
      "3199/3199 [==============================] - 2s 592us/step - loss: 0.3733 - auc: 0.8598 - val_loss: 0.3623 - val_auc: 0.8680\n",
      "Epoch 102/200\n",
      "3199/3199 [==============================] - 2s 624us/step - loss: 0.3738 - auc: 0.8591 - val_loss: 0.3621 - val_auc: 0.8680\n",
      "Epoch 103/200\n",
      "3199/3199 [==============================] - 2s 697us/step - loss: 0.3740 - auc: 0.8591 - val_loss: 0.3623 - val_auc: 0.8679\n",
      "Epoch 104/200\n",
      "3199/3199 [==============================] - 2s 664us/step - loss: 0.3740 - auc: 0.8594 - val_loss: 0.3621 - val_auc: 0.8680\n",
      "Epoch 105/200\n",
      "3199/3199 [==============================] - 2s 760us/step - loss: 0.3734 - auc: 0.8595 - val_loss: 0.3619 - val_auc: 0.8679\n",
      "Epoch 106/200\n",
      "3199/3199 [==============================] - 2s 667us/step - loss: 0.3738 - auc: 0.8590 - val_loss: 0.3624 - val_auc: 0.8680\n",
      "Epoch 107/200\n",
      "3199/3199 [==============================] - 2s 673us/step - loss: 0.3725 - auc: 0.8602 - val_loss: 0.3618 - val_auc: 0.8680\n",
      "Epoch 108/200\n",
      "3199/3199 [==============================] - 2s 727us/step - loss: 0.3733 - auc: 0.8596 - val_loss: 0.3617 - val_auc: 0.8680\n",
      "Epoch 109/200\n",
      "3199/3199 [==============================] - 2s 692us/step - loss: 0.3731 - auc: 0.8599 - val_loss: 0.3617 - val_auc: 0.8680\n",
      "Epoch 110/200\n",
      "3199/3199 [==============================] - 2s 700us/step - loss: 0.3729 - auc: 0.8597 - val_loss: 0.3618 - val_auc: 0.8680\n",
      "Epoch 111/200\n",
      "3199/3199 [==============================] - 2s 680us/step - loss: 0.3734 - auc: 0.8591 - val_loss: 0.3617 - val_auc: 0.8680\n",
      "Epoch 112/200\n",
      "3199/3199 [==============================] - 2s 618us/step - loss: 0.3738 - auc: 0.8593 - val_loss: 0.3618 - val_auc: 0.8681\n",
      "Epoch 113/200\n",
      "3199/3199 [==============================] - 2s 685us/step - loss: 0.3744 - auc: 0.8585 - val_loss: 0.3617 - val_auc: 0.8680\n",
      "Epoch 114/200\n",
      "3199/3199 [==============================] - 2s 666us/step - loss: 0.3745 - auc: 0.8588 - val_loss: 0.3619 - val_auc: 0.8680\n",
      "Epoch 115/200\n",
      "3199/3199 [==============================] - 2s 637us/step - loss: 0.3737 - auc: 0.8590 - val_loss: 0.3621 - val_auc: 0.8680\n",
      "Epoch 116/200\n",
      "3199/3199 [==============================] - 2s 773us/step - loss: 0.3729 - auc: 0.8597 - val_loss: 0.3615 - val_auc: 0.8681\n",
      "Epoch 117/200\n",
      "3199/3199 [==============================] - 2s 701us/step - loss: 0.3735 - auc: 0.8594 - val_loss: 0.3615 - val_auc: 0.8681\n",
      "Epoch 118/200\n",
      "3199/3199 [==============================] - 2s 662us/step - loss: 0.3733 - auc: 0.8592 - val_loss: 0.3614 - val_auc: 0.8680\n",
      "Epoch 119/200\n",
      "3199/3199 [==============================] - 2s 646us/step - loss: 0.3723 - auc: 0.8602 - val_loss: 0.3617 - val_auc: 0.8681\n",
      "Epoch 120/200\n",
      "3199/3199 [==============================] - 2s 631us/step - loss: 0.3721 - auc: 0.8607 - val_loss: 0.3617 - val_auc: 0.8681\n",
      "Epoch 121/200\n",
      "3199/3199 [==============================] - 2s 658us/step - loss: 0.3730 - auc: 0.8597 - val_loss: 0.3616 - val_auc: 0.8682\n",
      "Epoch 122/200\n",
      "3199/3199 [==============================] - 2s 686us/step - loss: 0.3731 - auc: 0.8596 - val_loss: 0.3616 - val_auc: 0.8681\n",
      "Epoch 123/200\n",
      "3199/3199 [==============================] - 2s 609us/step - loss: 0.3729 - auc: 0.8598 - val_loss: 0.3615 - val_auc: 0.8680\n",
      "Epoch 124/200\n",
      "3199/3199 [==============================] - 2s 599us/step - loss: 0.3728 - auc: 0.8599 - val_loss: 0.3613 - val_auc: 0.8680\n",
      "Epoch 125/200\n",
      "3199/3199 [==============================] - 2s 600us/step - loss: 0.3735 - auc: 0.8593 - val_loss: 0.3614 - val_auc: 0.8681\n",
      "Epoch 126/200\n",
      "3199/3199 [==============================] - 2s 609us/step - loss: 0.3735 - auc: 0.8594 - val_loss: 0.3613 - val_auc: 0.8680\n",
      "Epoch 127/200\n",
      "3199/3199 [==============================] - 2s 603us/step - loss: 0.3736 - auc: 0.8590 - val_loss: 0.3616 - val_auc: 0.8682\n",
      "Epoch 128/200\n",
      "3199/3199 [==============================] - 2s 598us/step - loss: 0.3733 - auc: 0.8594 - val_loss: 0.3613 - val_auc: 0.8682\n",
      "Epoch 129/200\n",
      "3199/3199 [==============================] - 2s 676us/step - loss: 0.3736 - auc: 0.8590 - val_loss: 0.3614 - val_auc: 0.8683\n",
      "Epoch 130/200\n",
      "3199/3199 [==============================] - 2s 615us/step - loss: 0.3725 - auc: 0.8595 - val_loss: 0.3612 - val_auc: 0.8681\n",
      "Epoch 131/200\n",
      "3199/3199 [==============================] - 2s 665us/step - loss: 0.3730 - auc: 0.8595 - val_loss: 0.3616 - val_auc: 0.8682\n",
      "Epoch 132/200\n",
      "3199/3199 [==============================] - 3s 793us/step - loss: 0.3724 - auc: 0.8597 - val_loss: 0.3613 - val_auc: 0.8681\n",
      "Epoch 133/200\n",
      "3199/3199 [==============================] - 2s 727us/step - loss: 0.3729 - auc: 0.8597 - val_loss: 0.3612 - val_auc: 0.8680\n",
      "Epoch 134/200\n",
      "3199/3199 [==============================] - 2s 662us/step - loss: 0.3732 - auc: 0.8596 - val_loss: 0.3613 - val_auc: 0.8682\n",
      "Epoch 135/200\n",
      "3199/3199 [==============================] - 2s 645us/step - loss: 0.3733 - auc: 0.8591 - val_loss: 0.3613 - val_auc: 0.8682\n",
      "Epoch 136/200\n",
      "3199/3199 [==============================] - 2s 687us/step - loss: 0.3729 - auc: 0.8592 - val_loss: 0.3612 - val_auc: 0.8681\n",
      "Epoch 137/200\n",
      "3199/3199 [==============================] - 2s 636us/step - loss: 0.3730 - auc: 0.8595 - val_loss: 0.3611 - val_auc: 0.8681\n",
      "Epoch 138/200\n",
      "3199/3199 [==============================] - 2s 626us/step - loss: 0.3731 - auc: 0.8595 - val_loss: 0.3610 - val_auc: 0.8681\n",
      "Epoch 139/200\n",
      "3199/3199 [==============================] - 2s 606us/step - loss: 0.3727 - auc: 0.8595 - val_loss: 0.3612 - val_auc: 0.8682\n",
      "Epoch 140/200\n",
      "3199/3199 [==============================] - 2s 636us/step - loss: 0.3727 - auc: 0.8597 - val_loss: 0.3610 - val_auc: 0.8681\n",
      "Epoch 141/200\n",
      "3199/3199 [==============================] - 2s 652us/step - loss: 0.3723 - auc: 0.8598 - val_loss: 0.3612 - val_auc: 0.8682\n",
      "Epoch 142/200\n",
      "3199/3199 [==============================] - 2s 617us/step - loss: 0.3730 - auc: 0.8592 - val_loss: 0.3611 - val_auc: 0.8683\n",
      "Epoch 143/200\n",
      "3199/3199 [==============================] - 2s 598us/step - loss: 0.3728 - auc: 0.8595 - val_loss: 0.3612 - val_auc: 0.8682\n",
      "Epoch 144/200\n",
      "3199/3199 [==============================] - 2s 608us/step - loss: 0.3728 - auc: 0.8593 - val_loss: 0.3609 - val_auc: 0.8681\n",
      "Epoch 145/200\n",
      "3199/3199 [==============================] - 2s 600us/step - loss: 0.3722 - auc: 0.8600 - val_loss: 0.3609 - val_auc: 0.8682\n",
      "Epoch 146/200\n",
      "3199/3199 [==============================] - 2s 604us/step - loss: 0.3724 - auc: 0.8599 - val_loss: 0.3611 - val_auc: 0.8682\n",
      "Epoch 147/200\n",
      "3199/3199 [==============================] - 2s 604us/step - loss: 0.3722 - auc: 0.8600 - val_loss: 0.3610 - val_auc: 0.8682\n",
      "Epoch 148/200\n",
      "3199/3199 [==============================] - 2s 602us/step - loss: 0.3728 - auc: 0.8595 - val_loss: 0.3609 - val_auc: 0.8682\n",
      "Epoch 149/200\n",
      "3199/3199 [==============================] - 2s 602us/step - loss: 0.3722 - auc: 0.8598 - val_loss: 0.3609 - val_auc: 0.8681\n",
      "Epoch 150/200\n",
      "3199/3199 [==============================] - 2s 615us/step - loss: 0.3731 - auc: 0.8593 - val_loss: 0.3610 - val_auc: 0.8680\n",
      "Epoch 151/200\n",
      "3199/3199 [==============================] - 2s 602us/step - loss: 0.3710 - auc: 0.8604 - val_loss: 0.3608 - val_auc: 0.8683\n",
      "Epoch 152/200\n",
      "3199/3199 [==============================] - 2s 616us/step - loss: 0.3721 - auc: 0.8603 - val_loss: 0.3614 - val_auc: 0.8681\n",
      "Epoch 153/200\n",
      "3199/3199 [==============================] - 2s 597us/step - loss: 0.3714 - auc: 0.8606 - val_loss: 0.3613 - val_auc: 0.8683\n",
      "Epoch 154/200\n",
      "3199/3199 [==============================] - 2s 607us/step - loss: 0.3729 - auc: 0.8595 - val_loss: 0.3609 - val_auc: 0.8681\n",
      "Epoch 155/200\n",
      "3199/3199 [==============================] - 2s 596us/step - loss: 0.3718 - auc: 0.8603 - val_loss: 0.3608 - val_auc: 0.8682\n",
      "Epoch 156/200\n",
      "3199/3199 [==============================] - 2s 596us/step - loss: 0.3726 - auc: 0.8598 - val_loss: 0.3612 - val_auc: 0.8682\n",
      "Epoch 157/200\n",
      "3199/3199 [==============================] - 2s 610us/step - loss: 0.3726 - auc: 0.8595 - val_loss: 0.3620 - val_auc: 0.8681\n",
      "Epoch 158/200\n",
      "3199/3199 [==============================] - 2s 596us/step - loss: 0.3719 - auc: 0.8602 - val_loss: 0.3608 - val_auc: 0.8681\n",
      "Epoch 159/200\n",
      "3199/3199 [==============================] - 2s 598us/step - loss: 0.3721 - auc: 0.8603 - val_loss: 0.3610 - val_auc: 0.8681\n",
      "Epoch 160/200\n",
      "3199/3199 [==============================] - 2s 596us/step - loss: 0.3729 - auc: 0.8593 - val_loss: 0.3608 - val_auc: 0.8682\n",
      "Epoch 161/200\n",
      "3199/3199 [==============================] - 2s 598us/step - loss: 0.3729 - auc: 0.8597 - val_loss: 0.3611 - val_auc: 0.8682\n",
      "Epoch 162/200\n",
      "3199/3199 [==============================] - 2s 613us/step - loss: 0.3720 - auc: 0.8602 - val_loss: 0.3609 - val_auc: 0.8681\n",
      "Epoch 163/200\n",
      "3199/3199 [==============================] - 2s 603us/step - loss: 0.3719 - auc: 0.8603 - val_loss: 0.3614 - val_auc: 0.8681\n",
      "Epoch 164/200\n",
      "3199/3199 [==============================] - 2s 608us/step - loss: 0.3726 - auc: 0.8597 - val_loss: 0.3608 - val_auc: 0.8681\n",
      "Epoch 165/200\n",
      "3199/3199 [==============================] - 2s 669us/step - loss: 0.3725 - auc: 0.8598 - val_loss: 0.3608 - val_auc: 0.8682\n",
      "Epoch 166/200\n",
      "3199/3199 [==============================] - 2s 742us/step - loss: 0.3728 - auc: 0.8595 - val_loss: 0.3607 - val_auc: 0.8682\n",
      "Epoch 167/200\n",
      "3199/3199 [==============================] - 2s 666us/step - loss: 0.3721 - auc: 0.8602 - val_loss: 0.3608 - val_auc: 0.8682\n",
      "Epoch 168/200\n",
      "3199/3199 [==============================] - 2s 678us/step - loss: 0.3723 - auc: 0.8597 - val_loss: 0.3608 - val_auc: 0.8681\n",
      "Epoch 169/200\n",
      "3199/3199 [==============================] - 2s 576us/step - loss: 0.3720 - auc: 0.8601 - val_loss: 0.3608 - val_auc: 0.8680\n",
      "Epoch 170/200\n",
      "3199/3199 [==============================] - 2s 666us/step - loss: 0.3727 - auc: 0.8594 - val_loss: 0.3608 - val_auc: 0.8682\n",
      "Epoch 171/200\n",
      "3199/3199 [==============================] - 2s 670us/step - loss: 0.3723 - auc: 0.8598 - val_loss: 0.3607 - val_auc: 0.8682\n",
      "Epoch 172/200\n",
      "3199/3199 [==============================] - 2s 669us/step - loss: 0.3712 - auc: 0.8607 - val_loss: 0.3609 - val_auc: 0.8682\n",
      "Epoch 173/200\n",
      "3199/3199 [==============================] - 2s 655us/step - loss: 0.3714 - auc: 0.8603 - val_loss: 0.3607 - val_auc: 0.8680\n",
      "Epoch 174/200\n",
      "3199/3199 [==============================] - 2s 681us/step - loss: 0.3721 - auc: 0.8602 - val_loss: 0.3607 - val_auc: 0.8681\n",
      "Epoch 175/200\n",
      "3199/3199 [==============================] - 2s 685us/step - loss: 0.3726 - auc: 0.8594 - val_loss: 0.3606 - val_auc: 0.8682\n",
      "Epoch 176/200\n",
      "3199/3199 [==============================] - 2s 638us/step - loss: 0.3719 - auc: 0.8600 - val_loss: 0.3613 - val_auc: 0.8681\n",
      "Epoch 177/200\n",
      "3199/3199 [==============================] - 2s 622us/step - loss: 0.3717 - auc: 0.8601 - val_loss: 0.3606 - val_auc: 0.8681\n",
      "Epoch 178/200\n",
      "3199/3199 [==============================] - 2s 641us/step - loss: 0.3719 - auc: 0.8603 - val_loss: 0.3621 - val_auc: 0.8682\n",
      "Epoch 179/200\n",
      "3199/3199 [==============================] - 2s 612us/step - loss: 0.3723 - auc: 0.8597 - val_loss: 0.3606 - val_auc: 0.8682\n",
      "Epoch 180/200\n",
      "3199/3199 [==============================] - 2s 636us/step - loss: 0.3726 - auc: 0.8594 - val_loss: 0.3606 - val_auc: 0.8681\n",
      "Epoch 181/200\n",
      "3199/3199 [==============================] - 2s 615us/step - loss: 0.3731 - auc: 0.8593 - val_loss: 0.3607 - val_auc: 0.8681\n",
      "Epoch 182/200\n",
      "3199/3199 [==============================] - 2s 667us/step - loss: 0.3712 - auc: 0.8604 - val_loss: 0.3606 - val_auc: 0.8681\n",
      "Epoch 183/200\n",
      "3199/3199 [==============================] - 2s 696us/step - loss: 0.3722 - auc: 0.8599 - val_loss: 0.3605 - val_auc: 0.8683\n",
      "Epoch 184/200\n",
      "3199/3199 [==============================] - 2s 596us/step - loss: 0.3716 - auc: 0.8599 - val_loss: 0.3606 - val_auc: 0.8683\n",
      "Epoch 185/200\n",
      "3199/3199 [==============================] - 2s 618us/step - loss: 0.3713 - auc: 0.8605 - val_loss: 0.3605 - val_auc: 0.8681\n",
      "Epoch 186/200\n",
      "3199/3199 [==============================] - 2s 575us/step - loss: 0.3723 - auc: 0.8594 - val_loss: 0.3606 - val_auc: 0.8682\n",
      "Epoch 187/200\n",
      "3199/3199 [==============================] - 2s 590us/step - loss: 0.3716 - auc: 0.8600 - val_loss: 0.3613 - val_auc: 0.8681\n",
      "Epoch 188/200\n",
      "3199/3199 [==============================] - 2s 580us/step - loss: 0.3723 - auc: 0.8600 - val_loss: 0.3608 - val_auc: 0.8683\n",
      "Epoch 189/200\n",
      "3199/3199 [==============================] - 2s 603us/step - loss: 0.3727 - auc: 0.8597 - val_loss: 0.3605 - val_auc: 0.8681\n",
      "Epoch 190/200\n",
      "3199/3199 [==============================] - 2s 590us/step - loss: 0.3720 - auc: 0.8599 - val_loss: 0.3606 - val_auc: 0.8680\n",
      "Epoch 191/200\n",
      "3199/3199 [==============================] - 2s 650us/step - loss: 0.3715 - auc: 0.8598 - val_loss: 0.3605 - val_auc: 0.8681\n",
      "Epoch 192/200\n",
      "3199/3199 [==============================] - 2s 666us/step - loss: 0.3720 - auc: 0.8597 - val_loss: 0.3605 - val_auc: 0.8681\n",
      "Epoch 193/200\n",
      "3199/3199 [==============================] - 2s 607us/step - loss: 0.3722 - auc: 0.8598 - val_loss: 0.3609 - val_auc: 0.8682\n",
      "Epoch 194/200\n",
      "3199/3199 [==============================] - 2s 577us/step - loss: 0.3720 - auc: 0.8605 - val_loss: 0.3612 - val_auc: 0.8683\n",
      "Epoch 195/200\n",
      "3199/3199 [==============================] - 2s 580us/step - loss: 0.3713 - auc: 0.8603 - val_loss: 0.3613 - val_auc: 0.8681\n",
      "Epoch 196/200\n",
      "3199/3199 [==============================] - 2s 599us/step - loss: 0.3718 - auc: 0.8602 - val_loss: 0.3604 - val_auc: 0.8681\n",
      "Epoch 197/200\n",
      "3199/3199 [==============================] - 2s 573us/step - loss: 0.3716 - auc: 0.8603 - val_loss: 0.3606 - val_auc: 0.8683\n",
      "Epoch 198/200\n",
      "3199/3199 [==============================] - 2s 675us/step - loss: 0.3714 - auc: 0.8602 - val_loss: 0.3610 - val_auc: 0.8681\n",
      "Epoch 199/200\n",
      "3199/3199 [==============================] - 2s 672us/step - loss: 0.3716 - auc: 0.8600 - val_loss: 0.3604 - val_auc: 0.8683\n",
      "Epoch 200/200\n",
      "3199/3199 [==============================] - 2s 602us/step - loss: 0.3712 - auc: 0.8603 - val_loss: 0.3604 - val_auc: 0.8681\n"
     ]
    }
   ],
   "source": [
    "historia = red_n.fit(\n",
    "    X_train_1, y_train_binario, epochs=200, \n",
    "    validation_data=(X_test_1, y_test_binario), \n",
    "    verbose=1,\n",
    "    callbacks=[early_stopping],\n",
    ")"
   ]
  },
  {
   "cell_type": "markdown",
   "id": "51993adb-0ea3-4fc1-8878-89f1abb34104",
   "metadata": {},
   "source": [
    "### Curva de aprendizaje\n",
    "\n",
    "\n",
    "Graficamos la curva de aprendizaje para tener una mejor idea de como fue el entrenamiento de nuestra red"
   ]
  },
  {
   "cell_type": "code",
   "execution_count": 13,
   "id": "88829ad1-9d41-4f1c-8503-9d5e81099a11",
   "metadata": {},
   "outputs": [
    {
     "data": {
      "image/png": "[encoded data removed]",
      "text/plain": [
       "<Figure size 910x260 with 1 Axes>"
      ]
     },
     "metadata": {
      "needs_background": "light"
     },
     "output_type": "display_data"
    },
    {
     "data": {
      "image/png": "[encoded data removed]",
      "text/plain": [
       "<Figure size 910x260 with 1 Axes>"
      ]
     },
     "metadata": {
      "needs_background": "light"
     },
     "output_type": "display_data"
    }
   ],
   "source": [
    "graficar_curva_aprendizaje(historia,'loss')\n",
    "graficar_curva_aprendizaje(historia,'auc')"
   ]
  },
  {
   "cell_type": "markdown",
   "id": "ce055f71-28ae-45d3-88f0-ccc64c73e0f7",
   "metadata": {},
   "source": [
    "### Predicción del modelo sobre holdout\n",
    "\n",
    "Una vez que vimos que no se produjo un overfitting (dado que las curvas de validation y training son muy similares) y que la métrica alcanzada es lo suficientemente buena, realizamos la predicción sobre los valores de holdout, y gráficamos la curva AUC-ROC y la matriz de confusión"
   ]
  },
  {
   "cell_type": "code",
   "execution_count": 14,
   "id": "eb99e515-f571-404c-b27a-0cfe1e06c12e",
   "metadata": {},
   "outputs": [],
   "source": [
    "y_pred = red_n.predict(X_test_1)"
   ]
  },
  {
   "cell_type": "code",
   "execution_count": 15,
   "id": "6fd61589-f3fa-4b9c-9d6c-6e7c24fc7308",
   "metadata": {},
   "outputs": [
    {
     "data": {
      "image/png": "[encoded data removed]",
      "text/plain": [
       "<Figure size 1080x720 with 1 Axes>"
      ]
     },
     "metadata": {
      "needs_background": "light"
     },
     "output_type": "display_data"
    },
    {
     "name": "stdout",
     "output_type": "stream",
     "text": [
      "AUC-ROC para este modelo es: 0.8681712856841466\n"
     ]
    }
   ],
   "source": [
    "graficar_auc_roc(y_test_binario, y_pred) "
   ]
  },
  {
   "cell_type": "code",
   "execution_count": 16,
   "id": "56dff7ba-428b-4bc6-b3af-9ab5ee4b0309",
   "metadata": {},
   "outputs": [
    {
     "name": "stderr",
     "output_type": "stream",
     "text": [
      "c:\\users\\juan cruz\\appdata\\local\\programs\\python\\python38\\lib\\site-packages\\sklearn\\utils\\validation.py:67: FutureWarning: Pass labels=[0, 1] as keyword args. From version 0.25 passing these as positional arguments will result in an error\n",
      "  warnings.warn(\"Pass {} as keyword args. From version 0.25 \"\n"
     ]
    },
    {
     "data": {
      "image/png": "[encoded data removed]",
      "text/plain": [
       "<Figure size 600x400 with 2 Axes>"
      ]
     },
     "metadata": {
      "needs_background": "light"
     },
     "output_type": "display_data"
    }
   ],
   "source": [
    "graficar_matriz_confusion(y_test_binario, y_pred.round())"
   ]
  },
  {
   "cell_type": "code",
   "execution_count": 17,
   "id": "0b3f696b-06c7-490f-8921-f8942c5a9fa2",
   "metadata": {},
   "outputs": [
    {
     "name": "stdout",
     "output_type": "stream",
     "text": [
      "              precision    recall  f1-score   support\n",
      "\n",
      "          no       0.87      0.94      0.90      8828\n",
      "          si       0.72      0.51      0.60      2545\n",
      "\n",
      "    accuracy                           0.85     11373\n",
      "   macro avg       0.79      0.73      0.75     11373\n",
      "weighted avg       0.84      0.85      0.84     11373\n",
      "\n"
     ]
    }
   ],
   "source": [
    "print(classification_report(y_test_binario, y_pred.round(), target_names=['no', 'si']))"
   ]
  },
  {
   "cell_type": "markdown",
   "id": "f61abdcc-8979-488f-9e01-9b832cf6d1d1",
   "metadata": {},
   "source": [
    "Aunque a partir de la red obtuvimos una métrica bastante buena, intentaremos mejorarla con un optimizador mas sofisticado que adam, como lo es adagrad, y ampliando la cantidad de epochs a 500."
   ]
  },
  {
   "cell_type": "code",
   "execution_count": 18,
   "id": "cbd0420f-7f3d-46a7-83e5-b4c1e101686b",
   "metadata": {},
   "outputs": [
    {
     "name": "stdout",
     "output_type": "stream",
     "text": [
      "Model: \"sequential_1\"\n",
      "_________________________________________________________________\n",
      "Layer (type)                 Output Shape              Param #   \n",
      "=================================================================\n",
      "dense_3 (Dense)              (None, 8)                 152       \n",
      "_________________________________________________________________\n",
      "dropout_2 (Dropout)          (None, 8)                 0         \n",
      "_________________________________________________________________\n",
      "dense_4 (Dense)              (None, 5)                 45        \n",
      "_________________________________________________________________\n",
      "dropout_3 (Dropout)          (None, 5)                 0         \n",
      "_________________________________________________________________\n",
      "dense_5 (Dense)              (None, 1)                 6         \n",
      "=================================================================\n",
      "Total params: 203\n",
      "Trainable params: 203\n",
      "Non-trainable params: 0\n",
      "_________________________________________________________________\n"
     ]
    }
   ],
   "source": [
    "red_sofisticada = crear_red(keras.optimizers.Adagrad(learning_rate=0.0001))\n",
    "red_sofisticada.summary()"
   ]
  },
  {
   "cell_type": "code",
   "execution_count": 19,
   "id": "e044e5c6-0b13-4ddb-aa2c-6ca1f5b30fc9",
   "metadata": {
    "scrolled": true,
    "tags": []
   },
   "outputs": [
    {
     "name": "stdout",
     "output_type": "stream",
     "text": [
      "Epoch 1/500\n",
      "3199/3199 [==============================] - 3s 708us/step - loss: 0.7731 - auc: 0.4125 - val_loss: 0.7254 - val_auc: 0.2619\n",
      "Epoch 2/500\n",
      "3199/3199 [==============================] - 2s 648us/step - loss: 0.7361 - auc: 0.4163 - val_loss: 0.7000 - val_auc: 0.2605\n",
      "Epoch 3/500\n",
      "3199/3199 [==============================] - 2s 610us/step - loss: 0.7170 - auc: 0.4187 - val_loss: 0.6830 - val_auc: 0.2595\n",
      "Epoch 4/500\n",
      "3199/3199 [==============================] - 2s 606us/step - loss: 0.7016 - auc: 0.4233 - val_loss: 0.6703 - val_auc: 0.2594\n",
      "Epoch 5/500\n",
      "3199/3199 [==============================] - 2s 621us/step - loss: 0.6901 - auc: 0.4255 - val_loss: 0.6600 - val_auc: 0.2594\n",
      "Epoch 6/500\n",
      "3199/3199 [==============================] - 2s 609us/step - loss: 0.6817 - auc: 0.4259 - val_loss: 0.6515 - val_auc: 0.2598\n",
      "Epoch 7/500\n",
      "3199/3199 [==============================] - 2s 603us/step - loss: 0.6743 - auc: 0.4277 - val_loss: 0.6442 - val_auc: 0.2602\n",
      "Epoch 8/500\n",
      "3199/3199 [==============================] - 2s 615us/step - loss: 0.6662 - auc: 0.4320 - val_loss: 0.6379 - val_auc: 0.2613\n",
      "Epoch 9/500\n",
      "3199/3199 [==============================] - 2s 624us/step - loss: 0.6621 - auc: 0.4294 - val_loss: 0.6324 - val_auc: 0.2611\n",
      "Epoch 10/500\n",
      "3199/3199 [==============================] - 2s 607us/step - loss: 0.6555 - auc: 0.4367 - val_loss: 0.6275 - val_auc: 0.2620\n",
      "Epoch 11/500\n",
      "3199/3199 [==============================] - 2s 601us/step - loss: 0.6519 - auc: 0.4346 - val_loss: 0.6232 - val_auc: 0.2632\n",
      "Epoch 12/500\n",
      "3199/3199 [==============================] - 2s 618us/step - loss: 0.6461 - auc: 0.4389 - val_loss: 0.6192 - val_auc: 0.2642\n",
      "Epoch 13/500\n",
      "3199/3199 [==============================] - 2s 624us/step - loss: 0.6443 - auc: 0.4354 - val_loss: 0.6156 - val_auc: 0.2647\n",
      "Epoch 14/500\n",
      "3199/3199 [==============================] - 2s 634us/step - loss: 0.6408 - auc: 0.4390 - val_loss: 0.6124 - val_auc: 0.2651\n",
      "Epoch 15/500\n",
      "3084/3199 [===========================>..] - ETA: 0s - loss: 0.6376 - auc: 0.4398"
     ]
    },
    {
     "ename": "KeyboardInterrupt",
     "evalue": "",
     "output_type": "error",
     "traceback": [
      "\u001b[1;31m---------------------------------------------------------------------------\u001b[0m",
      "\u001b[1;31mKeyboardInterrupt\u001b[0m                         Traceback (most recent call last)",
      "\u001b[1;32mC:\\Users\\JUANCR~1\\AppData\\Local\\Temp/ipykernel_12532/3290609547.py\u001b[0m in \u001b[0;36m<module>\u001b[1;34m\u001b[0m\n\u001b[1;32m----> 1\u001b[1;33m historia_sofisticada = red_sofisticada.fit(\n\u001b[0m\u001b[0;32m      2\u001b[0m     \u001b[0mX_train_1\u001b[0m\u001b[1;33m,\u001b[0m \u001b[0my_train_binario\u001b[0m\u001b[1;33m,\u001b[0m \u001b[0mepochs\u001b[0m\u001b[1;33m=\u001b[0m\u001b[1;36m500\u001b[0m\u001b[1;33m,\u001b[0m\u001b[1;33m\u001b[0m\u001b[1;33m\u001b[0m\u001b[0m\n\u001b[0;32m      3\u001b[0m     \u001b[0mvalidation_data\u001b[0m\u001b[1;33m=\u001b[0m\u001b[1;33m(\u001b[0m\u001b[0mX_test_1\u001b[0m\u001b[1;33m,\u001b[0m \u001b[0my_test_binario\u001b[0m\u001b[1;33m)\u001b[0m\u001b[1;33m,\u001b[0m\u001b[1;33m\u001b[0m\u001b[1;33m\u001b[0m\u001b[0m\n\u001b[0;32m      4\u001b[0m     \u001b[0mverbose\u001b[0m\u001b[1;33m=\u001b[0m\u001b[1;36m1\u001b[0m\u001b[1;33m,\u001b[0m\u001b[1;33m\u001b[0m\u001b[1;33m\u001b[0m\u001b[0m\n\u001b[0;32m      5\u001b[0m     \u001b[0mcallbacks\u001b[0m\u001b[1;33m=\u001b[0m\u001b[1;33m[\u001b[0m\u001b[0mearly_stopping\u001b[0m\u001b[1;33m]\u001b[0m\u001b[1;33m\u001b[0m\u001b[1;33m\u001b[0m\u001b[0m\n",
      "\u001b[1;32mc:\\users\\juan cruz\\appdata\\local\\programs\\python\\python38\\lib\\site-packages\\tensorflow\\python\\keras\\engine\\training.py\u001b[0m in \u001b[0;36mfit\u001b[1;34m(self, x, y, batch_size, epochs, verbose, callbacks, validation_split, validation_data, shuffle, class_weight, sample_weight, initial_epoch, steps_per_epoch, validation_steps, validation_batch_size, validation_freq, max_queue_size, workers, use_multiprocessing)\u001b[0m\n\u001b[0;32m   1176\u001b[0m                 _r=1):\n\u001b[0;32m   1177\u001b[0m               \u001b[0mcallbacks\u001b[0m\u001b[1;33m.\u001b[0m\u001b[0mon_train_batch_begin\u001b[0m\u001b[1;33m(\u001b[0m\u001b[0mstep\u001b[0m\u001b[1;33m)\u001b[0m\u001b[1;33m\u001b[0m\u001b[1;33m\u001b[0m\u001b[0m\n\u001b[1;32m-> 1178\u001b[1;33m               \u001b[0mtmp_logs\u001b[0m \u001b[1;33m=\u001b[0m \u001b[0mself\u001b[0m\u001b[1;33m.\u001b[0m\u001b[0mtrain_function\u001b[0m\u001b[1;33m(\u001b[0m\u001b[0miterator\u001b[0m\u001b[1;33m)\u001b[0m\u001b[1;33m\u001b[0m\u001b[1;33m\u001b[0m\u001b[0m\n\u001b[0m\u001b[0;32m   1179\u001b[0m               \u001b[1;32mif\u001b[0m \u001b[0mdata_handler\u001b[0m\u001b[1;33m.\u001b[0m\u001b[0mshould_sync\u001b[0m\u001b[1;33m:\u001b[0m\u001b[1;33m\u001b[0m\u001b[1;33m\u001b[0m\u001b[0m\n\u001b[0;32m   1180\u001b[0m                 \u001b[0mcontext\u001b[0m\u001b[1;33m.\u001b[0m\u001b[0masync_wait\u001b[0m\u001b[1;33m(\u001b[0m\u001b[1;33m)\u001b[0m\u001b[1;33m\u001b[0m\u001b[1;33m\u001b[0m\u001b[0m\n",
      "\u001b[1;32mc:\\users\\juan cruz\\appdata\\local\\programs\\python\\python38\\lib\\site-packages\\tensorflow\\python\\eager\\def_function.py\u001b[0m in \u001b[0;36m__call__\u001b[1;34m(self, *args, **kwds)\u001b[0m\n\u001b[0;32m    887\u001b[0m \u001b[1;33m\u001b[0m\u001b[0m\n\u001b[0;32m    888\u001b[0m       \u001b[1;32mwith\u001b[0m \u001b[0mOptionalXlaContext\u001b[0m\u001b[1;33m(\u001b[0m\u001b[0mself\u001b[0m\u001b[1;33m.\u001b[0m\u001b[0m_jit_compile\u001b[0m\u001b[1;33m)\u001b[0m\u001b[1;33m:\u001b[0m\u001b[1;33m\u001b[0m\u001b[1;33m\u001b[0m\u001b[0m\n\u001b[1;32m--> 889\u001b[1;33m         \u001b[0mresult\u001b[0m \u001b[1;33m=\u001b[0m \u001b[0mself\u001b[0m\u001b[1;33m.\u001b[0m\u001b[0m_call\u001b[0m\u001b[1;33m(\u001b[0m\u001b[1;33m*\u001b[0m\u001b[0margs\u001b[0m\u001b[1;33m,\u001b[0m \u001b[1;33m**\u001b[0m\u001b[0mkwds\u001b[0m\u001b[1;33m)\u001b[0m\u001b[1;33m\u001b[0m\u001b[1;33m\u001b[0m\u001b[0m\n\u001b[0m\u001b[0;32m    890\u001b[0m \u001b[1;33m\u001b[0m\u001b[0m\n\u001b[0;32m    891\u001b[0m       \u001b[0mnew_tracing_count\u001b[0m \u001b[1;33m=\u001b[0m \u001b[0mself\u001b[0m\u001b[1;33m.\u001b[0m\u001b[0mexperimental_get_tracing_count\u001b[0m\u001b[1;33m(\u001b[0m\u001b[1;33m)\u001b[0m\u001b[1;33m\u001b[0m\u001b[1;33m\u001b[0m\u001b[0m\n",
      "\u001b[1;32mc:\\users\\juan cruz\\appdata\\local\\programs\\python\\python38\\lib\\site-packages\\tensorflow\\python\\eager\\def_function.py\u001b[0m in \u001b[0;36m_call\u001b[1;34m(self, *args, **kwds)\u001b[0m\n\u001b[0;32m    915\u001b[0m       \u001b[1;31m# In this case we have created variables on the first call, so we run the\u001b[0m\u001b[1;33m\u001b[0m\u001b[1;33m\u001b[0m\u001b[1;33m\u001b[0m\u001b[0m\n\u001b[0;32m    916\u001b[0m       \u001b[1;31m# defunned version which is guaranteed to never create variables.\u001b[0m\u001b[1;33m\u001b[0m\u001b[1;33m\u001b[0m\u001b[1;33m\u001b[0m\u001b[0m\n\u001b[1;32m--> 917\u001b[1;33m       \u001b[1;32mreturn\u001b[0m \u001b[0mself\u001b[0m\u001b[1;33m.\u001b[0m\u001b[0m_stateless_fn\u001b[0m\u001b[1;33m(\u001b[0m\u001b[1;33m*\u001b[0m\u001b[0margs\u001b[0m\u001b[1;33m,\u001b[0m \u001b[1;33m**\u001b[0m\u001b[0mkwds\u001b[0m\u001b[1;33m)\u001b[0m  \u001b[1;31m# pylint: disable=not-callable\u001b[0m\u001b[1;33m\u001b[0m\u001b[1;33m\u001b[0m\u001b[0m\n\u001b[0m\u001b[0;32m    918\u001b[0m     \u001b[1;32melif\u001b[0m \u001b[0mself\u001b[0m\u001b[1;33m.\u001b[0m\u001b[0m_stateful_fn\u001b[0m \u001b[1;32mis\u001b[0m \u001b[1;32mnot\u001b[0m \u001b[1;32mNone\u001b[0m\u001b[1;33m:\u001b[0m\u001b[1;33m\u001b[0m\u001b[1;33m\u001b[0m\u001b[0m\n\u001b[0;32m    919\u001b[0m       \u001b[1;31m# Release the lock early so that multiple threads can perform the call\u001b[0m\u001b[1;33m\u001b[0m\u001b[1;33m\u001b[0m\u001b[1;33m\u001b[0m\u001b[0m\n",
      "\u001b[1;32mc:\\users\\juan cruz\\appdata\\local\\programs\\python\\python38\\lib\\site-packages\\tensorflow\\python\\eager\\function.py\u001b[0m in \u001b[0;36m__call__\u001b[1;34m(self, *args, **kwargs)\u001b[0m\n\u001b[0;32m   3021\u001b[0m       (graph_function,\n\u001b[0;32m   3022\u001b[0m        filtered_flat_args) = self._maybe_define_function(args, kwargs)\n\u001b[1;32m-> 3023\u001b[1;33m     return graph_function._call_flat(\n\u001b[0m\u001b[0;32m   3024\u001b[0m         filtered_flat_args, captured_inputs=graph_function.captured_inputs)  # pylint: disable=protected-access\n\u001b[0;32m   3025\u001b[0m \u001b[1;33m\u001b[0m\u001b[0m\n",
      "\u001b[1;32mc:\\users\\juan cruz\\appdata\\local\\programs\\python\\python38\\lib\\site-packages\\tensorflow\\python\\eager\\function.py\u001b[0m in \u001b[0;36m_call_flat\u001b[1;34m(self, args, captured_inputs, cancellation_manager)\u001b[0m\n\u001b[0;32m   1958\u001b[0m         and executing_eagerly):\n\u001b[0;32m   1959\u001b[0m       \u001b[1;31m# No tape is watching; skip to running the function.\u001b[0m\u001b[1;33m\u001b[0m\u001b[1;33m\u001b[0m\u001b[1;33m\u001b[0m\u001b[0m\n\u001b[1;32m-> 1960\u001b[1;33m       return self._build_call_outputs(self._inference_function.call(\n\u001b[0m\u001b[0;32m   1961\u001b[0m           ctx, args, cancellation_manager=cancellation_manager))\n\u001b[0;32m   1962\u001b[0m     forward_backward = self._select_forward_and_backward_functions(\n",
      "\u001b[1;32mc:\\users\\juan cruz\\appdata\\local\\programs\\python\\python38\\lib\\site-packages\\tensorflow\\python\\eager\\function.py\u001b[0m in \u001b[0;36mcall\u001b[1;34m(self, ctx, args, cancellation_manager)\u001b[0m\n\u001b[0;32m    589\u001b[0m       \u001b[1;32mwith\u001b[0m \u001b[0m_InterpolateFunctionError\u001b[0m\u001b[1;33m(\u001b[0m\u001b[0mself\u001b[0m\u001b[1;33m)\u001b[0m\u001b[1;33m:\u001b[0m\u001b[1;33m\u001b[0m\u001b[1;33m\u001b[0m\u001b[0m\n\u001b[0;32m    590\u001b[0m         \u001b[1;32mif\u001b[0m \u001b[0mcancellation_manager\u001b[0m \u001b[1;32mis\u001b[0m \u001b[1;32mNone\u001b[0m\u001b[1;33m:\u001b[0m\u001b[1;33m\u001b[0m\u001b[1;33m\u001b[0m\u001b[0m\n\u001b[1;32m--> 591\u001b[1;33m           outputs = execute.execute(\n\u001b[0m\u001b[0;32m    592\u001b[0m               \u001b[0mstr\u001b[0m\u001b[1;33m(\u001b[0m\u001b[0mself\u001b[0m\u001b[1;33m.\u001b[0m\u001b[0msignature\u001b[0m\u001b[1;33m.\u001b[0m\u001b[0mname\u001b[0m\u001b[1;33m)\u001b[0m\u001b[1;33m,\u001b[0m\u001b[1;33m\u001b[0m\u001b[1;33m\u001b[0m\u001b[0m\n\u001b[0;32m    593\u001b[0m               \u001b[0mnum_outputs\u001b[0m\u001b[1;33m=\u001b[0m\u001b[0mself\u001b[0m\u001b[1;33m.\u001b[0m\u001b[0m_num_outputs\u001b[0m\u001b[1;33m,\u001b[0m\u001b[1;33m\u001b[0m\u001b[1;33m\u001b[0m\u001b[0m\n",
      "\u001b[1;32mc:\\users\\juan cruz\\appdata\\local\\programs\\python\\python38\\lib\\site-packages\\tensorflow\\python\\eager\\execute.py\u001b[0m in \u001b[0;36mquick_execute\u001b[1;34m(op_name, num_outputs, inputs, attrs, ctx, name)\u001b[0m\n\u001b[0;32m     57\u001b[0m   \u001b[1;32mtry\u001b[0m\u001b[1;33m:\u001b[0m\u001b[1;33m\u001b[0m\u001b[1;33m\u001b[0m\u001b[0m\n\u001b[0;32m     58\u001b[0m     \u001b[0mctx\u001b[0m\u001b[1;33m.\u001b[0m\u001b[0mensure_initialized\u001b[0m\u001b[1;33m(\u001b[0m\u001b[1;33m)\u001b[0m\u001b[1;33m\u001b[0m\u001b[1;33m\u001b[0m\u001b[0m\n\u001b[1;32m---> 59\u001b[1;33m     tensors = pywrap_tfe.TFE_Py_Execute(ctx._handle, device_name, op_name,\n\u001b[0m\u001b[0;32m     60\u001b[0m                                         inputs, attrs, num_outputs)\n\u001b[0;32m     61\u001b[0m   \u001b[1;32mexcept\u001b[0m \u001b[0mcore\u001b[0m\u001b[1;33m.\u001b[0m\u001b[0m_NotOkStatusException\u001b[0m \u001b[1;32mas\u001b[0m \u001b[0me\u001b[0m\u001b[1;33m:\u001b[0m\u001b[1;33m\u001b[0m\u001b[1;33m\u001b[0m\u001b[0m\n",
      "\u001b[1;31mKeyboardInterrupt\u001b[0m: "
     ]
    }
   ],
   "source": [
    "historia_sofisticada = red_sofisticada.fit(\n",
    "    X_train_1, y_train_binario, epochs=500, \n",
    "    validation_data=(X_test_1, y_test_binario), \n",
    "    verbose=1,\n",
    "    callbacks=[early_stopping]\n",
    ")"
   ]
  },
  {
   "cell_type": "code",
   "execution_count": null,
   "id": "7e058268-d82a-4e7c-af18-3dd3b56b9b21",
   "metadata": {},
   "outputs": [],
   "source": [
    "graficar_curva_aprendizaje(historia_sofisticada,'loss')\n",
    "graficar_curva_aprendizaje(historia_sofisticada,'auc')"
   ]
  },
  {
   "cell_type": "code",
   "execution_count": null,
   "id": "4d450db9-8ed7-443d-a114-952e4c9ac5b7",
   "metadata": {},
   "outputs": [],
   "source": [
    "y_pred_sofisticado = red_sofisticada.predict(X_test)"
   ]
  },
  {
   "cell_type": "code",
   "execution_count": null,
   "id": "0f5ac164-3f92-4ad0-9f65-60fbf884d20d",
   "metadata": {},
   "outputs": [],
   "source": [
    "graficar_auc_roc(y_test_binario, y_pred_sofisticado) "
   ]
  },
  {
   "cell_type": "code",
   "execution_count": null,
   "id": "f27e1c0d-b6ce-44e0-953d-e31d9b932c28",
   "metadata": {},
   "outputs": [],
   "source": [
    "graficar_matriz_confusion(y_test_binario, y_pred_sofisticado.round())"
   ]
  },
  {
   "cell_type": "code",
   "execution_count": null,
   "id": "7e4b2b1d-7a72-4a13-aca0-856e3cf18060",
   "metadata": {},
   "outputs": [],
   "source": [
    "print(classification_report(y_test_binario, y_pred_sofisticado.round(), target_names=['no', 'si']))"
   ]
  },
  {
   "cell_type": "markdown",
   "id": "46ae57e8-d84e-492f-af8f-dd1d9b164b58",
   "metadata": {},
   "source": [
    "Vemos que nuestro intento de mejorar la performance resulto completamente contraproducente, habiendo generado un modelo el cual tiene una metrica AUC ROC muy baja. Esto puede deberse a que si bien el optimizador adagrad es mas complejo y en general mas sofisticado, no funciona tan bien para la arquitectura y el set de datos y la prediccion de lluvia de hamburguesas.\n",
    "\n",
    "Además se observa que el modelo no logra mejorar la métrica auc para el set de validación y para training es muy errática, a pesar de tener un learning rate bastante bajo. \n",
    "\n",
    "Como las métricas de loss tanto para el set de validación como para el de entramiento dan una curva bastante similar pero trasladada hacia arriba, no podemos afirmar que el problema se deba a overfit.\n",
    "\n",
    "Por esto, no será tenido en cuenta en la conclusión"
   ]
  },
  {
   "cell_type": "markdown",
   "id": "22927415-2944-42c4-8f75-50a7429e7a28",
   "metadata": {},
   "source": [
    "# Modelo con preprocesamiento normalizados"
   ]
  },
  {
   "cell_type": "markdown",
   "id": "1e8b2b10-2acd-4387-851f-393757a6707d",
   "metadata": {},
   "source": [
    "Intentaremos mejorar la performance agregando el preprocesamiento de normalizacion de los datos ya que en general suele ayudar a los modelos."
   ]
  },
  {
   "cell_type": "code",
   "execution_count": null,
   "id": "24763a48-34e1-46fd-aaeb-38603f61986c",
   "metadata": {
    "scrolled": true,
    "tags": []
   },
   "outputs": [],
   "source": [
    "red_norm = crear_red(keras.optimizers.Adam(learning_rate=0.0001))\n",
    "\n",
    "historia_norm = red_norm.fit(\n",
    "    X_train_2, y_train_binario, epochs=200, \n",
    "    validation_data=(X_test_2, y_test_binario), \n",
    "    verbose=1,\n",
    "    callbacks=[early_stopping]\n",
    ")"
   ]
  },
  {
   "cell_type": "code",
   "execution_count": null,
   "id": "0042db76-ccbb-4a50-8e21-1fbb70e6bbc9",
   "metadata": {},
   "outputs": [],
   "source": [
    "graficar_curva_aprendizaje(historia_norm,'loss')\n",
    "graficar_curva_aprendizaje(historia_norm,'auc')"
   ]
  },
  {
   "cell_type": "code",
   "execution_count": null,
   "id": "1dba5f02-83a7-4209-9f92-ab0d41396ae9",
   "metadata": {},
   "outputs": [],
   "source": [
    "y_pred_norm = red_norm.predict(X_test_2)"
   ]
  },
  {
   "cell_type": "code",
   "execution_count": null,
   "id": "f3adc25f-3fe9-452a-9c8a-0fa6ef56028d",
   "metadata": {},
   "outputs": [],
   "source": [
    "graficar_auc_roc(y_test_binario, y_pred_norm) "
   ]
  },
  {
   "cell_type": "code",
   "execution_count": null,
   "id": "48bd86c9-577a-46c4-9642-c3385a240dc7",
   "metadata": {},
   "outputs": [],
   "source": [
    "graficar_matriz_confusion(y_test_binario, y_pred_norm.round()) "
   ]
  },
  {
   "cell_type": "code",
   "execution_count": null,
   "id": "43d3a2bf-5d76-47c7-88c1-87721bb0579d",
   "metadata": {},
   "outputs": [],
   "source": [
    "print(classification_report(y_test_binario, y_pred_norm.round(), target_names=['no', 'si']))"
   ]
  },
  {
   "cell_type": "markdown",
   "id": "7004258e-08ff-4cca-a414-5f89d6272c4a",
   "metadata": {},
   "source": [
    "# Conclusiones y predicción final"
   ]
  },
  {
   "cell_type": "markdown",
   "id": "b5d4da36-e2a5-4e12-ae01-4ddbb082d5d3",
   "metadata": {},
   "source": [
    "Vemos que el modelo que mejor funciona según la metrica AUC de keras es el que utiliza a adam como optimizador y 200 epochs. Sin embargo el criterio de early stopping con una paciencia relativamente baja (50) nos indica que aproximadamente a partir de la epoch 20 (dado que el entrenamiento se frena en la epoca 70) ya no tiene sentido seguir entrenando. Por lo tanto la complejidad computacional que puede generar la normalizacion de los datos, podría verse compensada por lo que se ahorra al entrenar la red. \n",
    "\n",
    "Sin embargo vemos en la matriz de confusión que este modelo pierde instancias de True positives acertadas, y mejora los true negatives absolutos. Esto podría verse como una desventaja frente al primer modelo ya que a grandes rasgos, lo dificil del problema propuesto por Flint es predecir los true positives. \n",
    "\n",
    "A pesar de que el primer modelo resulte en mayores true positives acertados, también aumenta la proporción de false positives, resultando en una métrica de precision menor, y en una métrica de recall mas alta.\n",
    "\n",
    "Concluimos entonces que por tener metricas auc-roc, accuracy y precision mas altas, el mejor modelo para predecir será el ultimo, que utiliza el preprocesamiento normalizado. "
   ]
  },
  {
   "cell_type": "markdown",
   "id": "3ced54cb-a705-4208-9096-514a291a23b2",
   "metadata": {},
   "source": [
    "Procedemos a realizar la prediccion del dataset nuevo con este modelo y guardarlo en el archivo csv"
   ]
  },
  {
   "cell_type": "code",
   "execution_count": null,
   "id": "d560c549-340c-4f57-b88b-bad366d16257",
   "metadata": {},
   "outputs": [],
   "source": [
    "def formatear_prediccion_red(predicciones):\n",
    "    pred_finales = []\n",
    "    for pred in predicciones:\n",
    "        pred_finales.append(pred[0])\n",
    "    return pred_finales "
   ]
  },
  {
   "cell_type": "code",
   "execution_count": null,
   "id": "9454675b-7d19-4f6a-a227-7a3f89e6f8f6",
   "metadata": {},
   "outputs": [],
   "source": [
    "from funciones_auxiliares import exportar_prediccion_final\n",
    "\n",
    "df_prediccion_final = traer_dataset_prediccion_final()\n",
    "ids = df_prediccion_final['id'].to_numpy()\n",
    "\n",
    "df_prediccion_final = preprocesamiento_basico([df_prediccion_final])[0]\n",
    "df_prediccion_final = normalizar_datos([df_prediccion_final])\n",
    "\n",
    "predicciones = red_norm.predict(df_prediccion_final).round()\n",
    "mapeo_categorico_v = np.vectorize(mapear_target_binario_a_categorico)\n",
    "predicciones = mapeo_categorico_v(predicciones)\n",
    "predicciones = formatear_prediccion_red(predicciones)\n",
    "\n",
    "exportar_prediccion_final(ids, predicciones, 'red_neuronal')"
   ]
  }
 ],
 "metadata": {
  "kernelspec": {
   "display_name": "Python 3 (ipykernel)",
   "language": "python",
   "name": "python3"
  },
  "language_info": {
   "codemirror_mode": {
    "name": "ipython",
    "version": 3
   },
   "file_extension": ".py",
   "mimetype": "text/x-python",
   "name": "python",
   "nbconvert_exporter": "python",
   "pygments_lexer": "ipython3",
   "version": "3.8.2"
  }
 },
 "nbformat": 4,
 "nbformat_minor": 5
}

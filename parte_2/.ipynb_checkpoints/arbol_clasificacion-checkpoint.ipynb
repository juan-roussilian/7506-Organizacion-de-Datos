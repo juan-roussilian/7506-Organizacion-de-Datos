{
 "cells": [
  {
   "cell_type": "code",
   "execution_count": 1,
   "id": "dcba4b8e-174e-4edc-a7f5-dca0db98d31e",
   "metadata": {},
   "outputs": [],
   "source": [
    "import pandas as pd\n",
    "import numpy as np\n",
    "\n",
    "from sklearn import tree\n",
    "from sklearn.model_selection import train_test_split\n",
    "from sklearn.metrics import classification_report\n",
    "from sklearn.metrics import roc_auc_score\n",
    "from sklearn.model_selection import KFold, StratifiedKFold\n",
    "from sklearn.tree import DecisionTreeClassifier\n",
    "\n",
    "from preprocessing import preprocesamiento_basico\n",
    "from graficos_modelos import mostrar_reporte_clasificacion, graficar_auc_roc,graficar_matriz_confusion\n",
    "from funciones_auxiliares import traer_datasets, traer_dataset_prediccion_final, separar_dataset, encontrar_hiperparametros_RGSCV, mapear_target_binario"
   ]
  },
  {
   "cell_type": "markdown",
   "id": "608f5146-35a4-4989-9d80-84c5b10061d3",
   "metadata": {},
   "source": [
    "# Arbol de clasificación"
   ]
  },
  {
   "cell_type": "markdown",
   "id": "bc1bfe73-d902-4602-8a2e-b8497052a0ca",
   "metadata": {},
   "source": [
    "### Obtención de los datos y preprocesamiento"
   ]
  },
  {
   "cell_type": "code",
   "execution_count": 2,
   "id": "3148b579-0c3a-41b8-b428-3366406e0844",
   "metadata": {},
   "outputs": [],
   "source": [
    "df, df_sin_target, solo_target = traer_datasets()\n",
    "\n",
    "X_train, X_test, y_train, y_test = separar_dataset(df_sin_target, solo_target)\n",
    "\n",
    "X_train.is_copy=False\n",
    "X_test.is_copy=False\n",
    "y_train.is_copy=False\n",
    "y_test.is_copy=False\n",
    "\n",
    "y_train.set_index('id', inplace=True)\n",
    "y_train = y_train.sort_values(by=['id'], ascending=True).copy()\n",
    "\n",
    "y_test.set_index('id', inplace=True)\n",
    "y_test = y_test.sort_values(by=['id'], ascending=True).copy()\n"
   ]
  },
  {
   "cell_type": "markdown",
   "id": "0c07afed-7652-4936-8ac5-e53694eee262",
   "metadata": {},
   "source": [
    "Aplicamos metodo de feature engineering general"
   ]
  },
  {
   "cell_type": "code",
   "execution_count": 3,
   "id": "7d1536d8-12f0-4db2-8ef3-5e55ab9efea3",
   "metadata": {},
   "outputs": [],
   "source": [
    "dataframes_procesados = preprocesamiento_basico([X_train, X_test])\n",
    "X_train = dataframes_procesados[0]\n",
    "X_test = dataframes_procesados[1]"
   ]
  },
  {
   "cell_type": "markdown",
   "id": "b7a8d8c9-e725-4fa4-ae4c-2d034f6e3058",
   "metadata": {},
   "source": [
    "### Búsqueda de Hiperparámetros"
   ]
  },
  {
   "cell_type": "markdown",
   "id": "395a8e07-17c6-40f3-8868-d95363332ddb",
   "metadata": {},
   "source": [
    "Buscamos hiperparámetros con RandomGridSearch, pues GridSearch iterativamente es bastante lento.\n",
    "Estos parámetros serán:\n",
    "* criterion: La función que evalua la calidad de una división en el árbol\n",
    "* min_samples_leaf: La mínima cantidad de muestras requeridas para dividir un nodo\n",
    "* max_depth: La máxima profundiad que le permitimos al árbol. Un árbol muy profundo implicaría un overfit."
   ]
  },
  {
   "cell_type": "code",
   "execution_count": 4,
   "id": "b16bf2c9-0606-421d-9959-0e14bf33c8dd",
   "metadata": {},
   "outputs": [],
   "source": [
    "params = {'criterion': ['gini','entropy'], 'min_samples_leaf':np.arange(1,16),'max_depth': np.arange(1,30)}\n",
    "hiperparametros = encontrar_hiperparametros_RGSCV(DecisionTreeClassifier(), params=params, x_np=X_train.to_numpy(), y_np=y_train.to_numpy())"
   ]
  },
  {
   "cell_type": "code",
   "execution_count": 5,
   "id": "da10c8a2-9d3a-4ffd-a2f2-38d51a0ae6ff",
   "metadata": {},
   "outputs": [
    {
     "name": "stdout",
     "output_type": "stream",
     "text": [
      "Mejor criterio: gini\n",
      "Mejor profundidad máxima: 8\n",
      "Mejor mínima cantidad de instancias por hoja: 9\n"
     ]
    }
   ],
   "source": [
    "criterio_elegido = hiperparametros['criterion']\n",
    "profundidad_elegida = hiperparametros['max_depth']\n",
    "min_leaf_elegido = hiperparametros['min_samples_leaf']\n",
    "print(f'Mejor criterio: {criterio_elegido}')\n",
    "print(f'Mejor profundidad máxima: {profundidad_elegida}')\n",
    "print(f'Mejor mínima cantidad de instancias por hoja: {min_leaf_elegido}')"
   ]
  },
  {
   "cell_type": "markdown",
   "id": "b5342653-7674-4ac6-990c-d79390cae5d6",
   "metadata": {},
   "source": [
    "### Entrenando el Modelo con CrossValidation"
   ]
  },
  {
   "cell_type": "markdown",
   "id": "d2c86964-0d50-455b-acb9-8ea17a09a2c5",
   "metadata": {},
   "source": [
    "Procedemos a testear con kfolds, stratificados pues nuestro dataset es desbalanceado. Además, usamos los hiperparámetros encontrados previamente."
   ]
  },
  {
   "cell_type": "code",
   "execution_count": 6,
   "id": "69c2f2e1-9415-455d-a3ae-7476df162242",
   "metadata": {
    "tags": []
   },
   "outputs": [
    {
     "name": "stdout",
     "output_type": "stream",
     "text": [
      "Reporte para el FOLD 0\n",
      "                                          precision    recall  f1-score   support\n",
      "\n",
      "No llueven hamburguesas al dia siguiente       0.86      0.95      0.90     15891\n",
      "   Llueven hamburguesas al dia siguiente       0.72      0.45      0.56      4581\n",
      "\n",
      "                                accuracy                           0.84     20472\n",
      "                               macro avg       0.79      0.70      0.73     20472\n",
      "                            weighted avg       0.83      0.84      0.82     20472\n",
      "\n",
      "Reporte para el FOLD 1\n",
      "                                          precision    recall  f1-score   support\n",
      "\n",
      "No llueven hamburguesas al dia siguiente       0.87      0.91      0.89     15891\n",
      "   Llueven hamburguesas al dia siguiente       0.62      0.53      0.57      4580\n",
      "\n",
      "                                accuracy                           0.82     20471\n",
      "                               macro avg       0.74      0.72      0.73     20471\n",
      "                            weighted avg       0.81      0.82      0.82     20471\n",
      "\n",
      "Reporte para el FOLD 2\n",
      "                                          precision    recall  f1-score   support\n",
      "\n",
      "No llueven hamburguesas al dia siguiente       0.87      0.93      0.90     15891\n",
      "   Llueven hamburguesas al dia siguiente       0.68      0.51      0.58      4580\n",
      "\n",
      "                                accuracy                           0.84     20471\n",
      "                               macro avg       0.77      0.72      0.74     20471\n",
      "                            weighted avg       0.83      0.84      0.83     20471\n",
      "\n",
      "Reporte para el FOLD 3\n",
      "                                          precision    recall  f1-score   support\n",
      "\n",
      "No llueven hamburguesas al dia siguiente       0.86      0.96      0.90     15891\n",
      "   Llueven hamburguesas al dia siguiente       0.74      0.44      0.55      4580\n",
      "\n",
      "                                accuracy                           0.84     20471\n",
      "                               macro avg       0.80      0.70      0.73     20471\n",
      "                            weighted avg       0.83      0.84      0.82     20471\n",
      "\n",
      "Reporte para el FOLD 4\n",
      "                                          precision    recall  f1-score   support\n",
      "\n",
      "No llueven hamburguesas al dia siguiente       0.86      0.95      0.90     15890\n",
      "   Llueven hamburguesas al dia siguiente       0.73      0.45      0.56      4581\n",
      "\n",
      "                                accuracy                           0.84     20471\n",
      "                               macro avg       0.79      0.70      0.73     20471\n",
      "                            weighted avg       0.83      0.84      0.83     20471\n",
      "\n"
     ]
    }
   ],
   "source": [
    "kf = StratifiedKFold(n_splits=5)\n",
    "for fold_idx, (train_index, test_index) in enumerate(kf.split(X_train, y_train)):\n",
    "    arbol_clasificacion = DecisionTreeClassifier(max_depth=profundidad_elegida, min_samples_leaf=min_leaf_elegido, criterion=criterio_elegido, random_state=117)\n",
    "    arbol_clasificacion.fit(X_train.iloc[train_index], y_train.iloc[train_index])\n",
    "    print ('Reporte para el FOLD ' + str(fold_idx))\n",
    "    print(classification_report(y_train.iloc[test_index], arbol_clasificacion.predict(X_train.iloc[test_index]), target_names=['No llueven hamburguesas al dia siguiente', 'Llueven hamburguesas al dia siguiente']))\n",
    "    "
   ]
  },
  {
   "cell_type": "markdown",
   "id": "4f454599-13d2-4547-b906-fc0c15baa62c",
   "metadata": {},
   "source": [
    "### Predicción del modelo sobre holdout"
   ]
  },
  {
   "cell_type": "markdown",
   "id": "f9f16703-38ae-49fa-986c-1ddfecef41b8",
   "metadata": {},
   "source": [
    "Una vez entrenado y validado el modelo con CrossValidation, viendo que las métricas resultantes fueron razonables y no dan indicio de overfit o mala división del dataset, pasaremos a probar el modelo en la partición Holdout. Para esto usaremos los mejores hiperparámetros hallados previamente en Training."
   ]
  },
  {
   "cell_type": "code",
   "execution_count": 7,
   "id": "0cfe0a9f-961c-487d-8548-5e0bbafc7e74",
   "metadata": {},
   "outputs": [
    {
     "data": {
      "text/plain": [
       "DecisionTreeClassifier(max_depth=8, min_samples_leaf=9, random_state=117)"
      ]
     },
     "execution_count": 7,
     "metadata": {},
     "output_type": "execute_result"
    }
   ],
   "source": [
    "arbol_holdout = DecisionTreeClassifier(max_depth=profundidad_elegida, min_samples_leaf=min_leaf_elegido, criterion=criterio_elegido, random_state=117)\n",
    "arbol_holdout.fit(X_train.to_numpy(), y_train.to_numpy())"
   ]
  },
  {
   "cell_type": "code",
   "execution_count": 8,
   "id": "58da92c3-cf58-431e-9592-f6df4337ae2b",
   "metadata": {
    "tags": []
   },
   "outputs": [
    {
     "name": "stdout",
     "output_type": "stream",
     "text": [
      "              precision    recall  f1-score   support\n",
      "\n",
      "          no       0.86      0.94      0.90      8828\n",
      "          si       0.71      0.48      0.58      2545\n",
      "\n",
      "    accuracy                           0.84     11373\n",
      "   macro avg       0.79      0.71      0.74     11373\n",
      "weighted avg       0.83      0.84      0.83     11373\n",
      "\n"
     ]
    }
   ],
   "source": [
    "mapeo_binario_v = np.vectorize(mapear_target_binario)\n",
    "y_pred = arbol_holdout.predict(X_test.to_numpy())\n",
    "y_pred_binario = mapeo_binario_v(y_pred)\n",
    "y_pred_proba = arbol_holdout.predict_proba(X_test.to_numpy())[:, 1]\n",
    "y_test_binario = y_test['llovieron_hamburguesas_al_dia_siguiente'].map({'si': 1, 'no': 0}).to_numpy()\n",
    "print(classification_report(y_test['llovieron_hamburguesas_al_dia_siguiente'].to_numpy(), y_pred))"
   ]
  },
  {
   "cell_type": "markdown",
   "id": "727c1241-57e9-4aad-9fe5-7ec16424ccf7",
   "metadata": {},
   "source": [
    "### Curva AUC ROC\n"
   ]
  },
  {
   "cell_type": "code",
   "execution_count": 9,
   "id": "d5a29849-6959-4db6-ac1e-b34f9f3fd8ce",
   "metadata": {},
   "outputs": [
    {
     "data": {
      "image/png": "[encoded data removed]",
      "text/plain": [
       "<Figure size 1080x720 with 1 Axes>"
      ]
     },
     "metadata": {
      "needs_background": "light"
     },
     "output_type": "display_data"
    },
    {
     "name": "stdout",
     "output_type": "stream",
     "text": [
      "AUC-ROC para este modelo es: 0.8540447077213688\n"
     ]
    }
   ],
   "source": [
    "graficar_auc_roc(y_test_binario, y_pred_proba)"
   ]
  },
  {
   "cell_type": "markdown",
   "id": "f8d1f2cc-3d4a-4b92-9d39-ea3988da6627",
   "metadata": {},
   "source": [
    "### Matriz de confusion"
   ]
  },
  {
   "cell_type": "code",
   "execution_count": 10,
   "id": "744e1bcf-6980-475f-bba0-73c6780b898e",
   "metadata": {},
   "outputs": [
    {
     "name": "stderr",
     "output_type": "stream",
     "text": [
      "C:\\Users\\Guillermo\\anaconda3\\lib\\site-packages\\sklearn\\utils\\validation.py:70: FutureWarning: Pass labels=[0, 1] as keyword args. From version 1.0 (renaming of 0.25) passing these as positional arguments will result in an error\n",
      "  warnings.warn(f\"Pass {args_msg} as keyword args. From version \"\n"
     ]
    },
    {
     "data": {
      "image/png": "[encoded data removed]",
      "text/plain": [
       "<Figure size 600x400 with 2 Axes>"
      ]
     },
     "metadata": {
      "needs_background": "light"
     },
     "output_type": "display_data"
    }
   ],
   "source": [
    "graficar_matriz_confusion(y_test_binario, y_pred_binario)"
   ]
  },
  {
   "cell_type": "markdown",
   "id": "46a427a2-52ff-4141-ba6d-d08072191805",
   "metadata": {},
   "source": [
    "## Predicción con el dataset nuevo\n",
    "A continuación, realizamos la predicción con el árbol sobre el dataset de predicciones nuevo, y escribimos los resultados al archivo 'ArbolDeDecision.csv'"
   ]
  },
  {
   "cell_type": "code",
   "execution_count": 11,
   "id": "e01fc36b-d7fb-4052-94d3-3f2edca94f71",
   "metadata": {},
   "outputs": [],
   "source": [
    "from funciones_auxiliares import exportar_prediccion_final\n",
    "\n",
    "df_prediccion_final = traer_dataset_prediccion_final()\n",
    "ids = df_prediccion_final['id'].to_numpy()\n",
    "\n",
    "df_prediccion_final = preprocesamiento_basico([df_prediccion_final])[0]\n",
    "predicciones = arbol_holdout.predict(df_prediccion_final.to_numpy())\n",
    "\n",
    "exportar_prediccion_final(ids, predicciones, 'arbol_de_decision')"
   ]
  }
 ],
 "metadata": {
  "kernelspec": {
   "display_name": "Python 3 (ipykernel)",
   "language": "python",
   "name": "python3"
  },
  "language_info": {
   "codemirror_mode": {
    "name": "ipython",
    "version": 3
   },
   "file_extension": ".py",
   "mimetype": "text/x-python",
   "name": "python",
   "nbconvert_exporter": "python",
   "pygments_lexer": "ipython3",
   "version": "3.9.7"
  }
 },
 "nbformat": 4,
 "nbformat_minor": 5
}

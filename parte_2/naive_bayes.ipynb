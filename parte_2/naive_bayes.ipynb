{
 "cells": [
  {
   "cell_type": "code",
   "execution_count": 1,
   "id": "3304735d-9a24-4cbb-9049-c270bb30efd7",
   "metadata": {},
   "outputs": [],
   "source": [
    "import pandas as pd\n",
    "import numpy as np\n",
    "import preprocessing as pre\n",
    "\n",
    "from sklearn import tree\n",
    "from sklearn.model_selection import train_test_split, StratifiedKFold\n",
    "\n",
    "from sklearn.metrics import classification_report\n",
    "from sklearn.metrics import roc_auc_score\n",
    "from sklearn.naive_bayes import GaussianNB\n",
    "from sklearn.naive_bayes import MultinomialNB\n",
    "from sklearn.naive_bayes import CategoricalNB\n",
    "from sklearn.feature_extraction import FeatureHasher\n",
    "\n",
    "from graficos_modelos import mostrar_reporte_clasificacion, graficar_auc_roc,graficar_matriz_confusion\n",
    "from funciones_auxiliares import traer_datasets, traer_dataset_prediccion_final, separar_dataset, encontrar_hiperparametros_RGSCV,encontrar_hiperparametros_GSCV, mapear_target_binario"
   ]
  },
  {
   "cell_type": "markdown",
   "id": "e8ffc962-13a4-49ad-a873-c16f33254f14",
   "metadata": {},
   "source": [
    "# Naive Bayes"
   ]
  },
  {
   "cell_type": "markdown",
   "id": "66023437-a06a-49a0-a86f-61db4b76a643",
   "metadata": {},
   "source": [
    "### Obtención de los datos "
   ]
  },
  {
   "cell_type": "code",
   "execution_count": 2,
   "id": "b47ede94-fbe2-4e7e-8cb0-77a18336d396",
   "metadata": {},
   "outputs": [],
   "source": [
    "df, df_sin_target, solo_target = traer_datasets()\n",
    "\n",
    "X_train, X_test, y_train, y_test = separar_dataset(df_sin_target, solo_target)\n",
    "\n",
    "y_train.set_index('id', inplace=True)\n",
    "y_train = y_train.sort_values(by=['id'], ascending=True).copy()\n",
    "\n",
    "y_test.set_index('id', inplace=True)\n",
    "y_test = y_test.sort_values(by=['id'], ascending=True).copy()"
   ]
  },
  {
   "cell_type": "markdown",
   "id": "bcfa08be-5d64-40c8-aeb1-ae2c74dff411",
   "metadata": {},
   "source": [
    "### Definiendo distintos preprocesamientos "
   ]
  },
  {
   "cell_type": "code",
   "execution_count": 3,
   "id": "30bfe4d4-ee03-4252-aa7a-7d82df6fd106",
   "metadata": {},
   "outputs": [],
   "source": [
    "def preprocesamiento_1(df_original:pd.DataFrame, imputer=None):\n",
    "    df = df_original.copy(deep=True)\n",
    "    df = pre.limpiar_datos(df)\n",
    "    pre.eliminar_features(df, ['dia','barrio', 'direccion_viento_tarde', 'direccion_viento_temprano', 'rafaga_viento_max_direccion', 'llovieron_hamburguesas_hoy'])\n",
    "    \n",
    "    if(imputer is None):\n",
    "        imputer = pre.entrenar_iterative_imputer(df)\n",
    "    df = pre.imputar_missings_iterative(df, imputer)\n",
    "    \n",
    "    return df, imputer"
   ]
  },
  {
   "cell_type": "markdown",
   "id": "c43722e6-e129-4809-a25d-ba9cdb201d8f",
   "metadata": {},
   "source": [
    "Primer preprocesamiento: Este funcion de preprocesamiento, se compone a su vez por las funciones de preprocesamiento que eliminan features (en este caso, todas las categóricas que por el analisís de la parte 1 vimos que no eran muy relevantes), limpian los datos pasando los missings al tipo NaN de numpy y la feature presión_atmosférica_tarde a float en lugar de string, y finalmente utiliza el imputer iterativo para rellenar missings restantes."
   ]
  },
  {
   "cell_type": "code",
   "execution_count": 4,
   "id": "da6a5935-58cd-4cf1-8ef3-be39e1bf1324",
   "metadata": {},
   "outputs": [],
   "source": [
    "def preprocesamiento_2(df_original:pd.DataFrame, imputer=None, scaler=None):    \n",
    "    df = df_original.copy(deep=True)\n",
    "    df = pre.limpiar_datos(df)\n",
    "    pre.eliminar_features(df, ['dia','barrio'])\n",
    "    df = pre.aplicar_dummy_variables_encoding(df, ['llovieron_hamburguesas_hoy'])\n",
    "    df = pre.aplicar_hashing_trick(df, ['direccion_viento_tarde','direccion_viento_temprano','rafaga_viento_max_direccion'], [3,3,3])\n",
    "\n",
    "    if(imputer is None):\n",
    "        imputer = pre.entrenar_iterative_imputer(df)\n",
    "    df = pre.imputar_missings_iterative(df, imputer)\n",
    "    \n",
    "    if(scaler is None):\n",
    "        scaler = pre.entrenar_normalizador_minmax(df)\n",
    "    df = pre.normalizar_dataframe(df, scaler)\n",
    "    \n",
    "    return df, imputer, scaler\n",
    "    "
   ]
  },
  {
   "cell_type": "markdown",
   "id": "7423b5cd-c341-43ee-9426-df7ada466034",
   "metadata": {},
   "source": [
    "Segundo preprocesamiento: Limpia datos al igual que en el preprocesamiento primero, aplica dummy variables encoding para llovieron hamburguesas hoy, y en lugar de eliminar las todas las features categoricas irrevelantes, solo elimina el barrio y el dia, y para las direcciones de los vientos y de la rafaga de mayor viento las transforma en un vector de 3 dimensiones mediante hashing trick. Además vuelve a utilizar el imputer iterativo para completar missings, y normaliza los datos entre el rango por defecto del min max scaler (0,1)."
   ]
  },
  {
   "cell_type": "markdown",
   "id": "13fa722f-f3be-4596-ada1-95aee79a0f49",
   "metadata": {},
   "source": [
    "### Aplicamos preprocesamientos 1 y 2 para obtener X_train_1 / X_test_1 y X_train_2 / X_test_2 respectivamente"
   ]
  },
  {
   "cell_type": "code",
   "execution_count": 5,
   "id": "47d54f44-d2d6-4804-a5f3-f1d199161927",
   "metadata": {},
   "outputs": [],
   "source": [
    "X_train_1, imputer_entrenado_1 = preprocesamiento_1(X_train)\n",
    "X_test_1, imputer_entrenado_1 = preprocesamiento_1(X_test, imputer_entrenado_1)"
   ]
  },
  {
   "cell_type": "code",
   "execution_count": 6,
   "id": "ed16cc97-2b29-4945-bb9a-62bdde1c8bdc",
   "metadata": {},
   "outputs": [],
   "source": [
    "X_train_2, imputer_entrenado_2, scaler_entrenado  = preprocesamiento_2(X_train)\n",
    "X_test_2, imputer_entrenado_2, scaler_entrenado = preprocesamiento_2(X_test, imputer_entrenado_2, scaler_entrenado)"
   ]
  },
  {
   "cell_type": "markdown",
   "id": "54537407-8170-4e90-a6e7-3647818d484e",
   "metadata": {},
   "source": [
    "### Búsqueda de Hiperparámetros para el modelo que entrenará sobre X_train_1"
   ]
  },
  {
   "cell_type": "markdown",
   "id": "5e13078d-4ac6-4490-8cc6-4fb7f4f4d9d0",
   "metadata": {},
   "source": [
    "Buscamos hiperparámetros GridSearch pues al ser un solo hiperparametro limitado a los valores seleccionados, no tendremos problemas de performance y será deterministico. \n",
    "* var_smoothing: Porción de la varianza que es añadida a las demás por razones de estabilidad en el cálculo."
   ]
  },
  {
   "cell_type": "code",
   "execution_count": 7,
   "id": "729b29fb-5153-4368-a772-5aa29a13fdd7",
   "metadata": {},
   "outputs": [
    {
     "name": "stdout",
     "output_type": "stream",
     "text": [
      "Mejor suavizado: 0.0001\n"
     ]
    }
   ],
   "source": [
    "params = {'var_smoothing': [1e-9,1e-8,1e-7,1e-6,1e-5,1e-4]}\n",
    "hiperparametros = encontrar_hiperparametros_GSCV(GaussianNB(), params=params, x_np=X_train_1, y_np=y_train['llovieron_hamburguesas_al_dia_siguiente'].to_numpy())\n",
    "\n",
    "suavizado_elegido_1 = hiperparametros['var_smoothing']\n",
    "print(f'Mejor suavizado: {suavizado_elegido_1}')"
   ]
  },
  {
   "cell_type": "markdown",
   "id": "3570d0d2-d566-405e-ab12-843fcb978c98",
   "metadata": {},
   "source": [
    "### Entrenando el Modelo sobre X_train_1 con CrossValidation"
   ]
  },
  {
   "cell_type": "markdown",
   "id": "315eb135-4279-444e-a6ff-41f74a7b189e",
   "metadata": {},
   "source": [
    "Procedemos a testear con kfolds, stratificados pues nuestro dataset es desbalanceado. Además, usamos el hiperparámetros encontrado previamente."
   ]
  },
  {
   "cell_type": "code",
   "execution_count": 8,
   "id": "d73ecb60-872c-403e-accb-a7b8acc881bd",
   "metadata": {
    "tags": []
   },
   "outputs": [
    {
     "name": "stdout",
     "output_type": "stream",
     "text": [
      "Reporte para el FOLD 0\n",
      "                                          precision    recall  f1-score   support\n",
      "\n",
      "No llueven hamburguesas al dia siguiente       0.88      0.88      0.88     15891\n",
      "   Llueven hamburguesas al dia siguiente       0.59      0.59      0.59      4581\n",
      "\n",
      "                                accuracy                           0.82     20472\n",
      "                               macro avg       0.73      0.73      0.73     20472\n",
      "                            weighted avg       0.82      0.82      0.82     20472\n",
      "\n",
      "Reporte para el FOLD 1\n",
      "                                          precision    recall  f1-score   support\n",
      "\n",
      "No llueven hamburguesas al dia siguiente       0.90      0.77      0.83     15891\n",
      "   Llueven hamburguesas al dia siguiente       0.47      0.70      0.56      4580\n",
      "\n",
      "                                accuracy                           0.76     20471\n",
      "                               macro avg       0.68      0.74      0.70     20471\n",
      "                            weighted avg       0.80      0.76      0.77     20471\n",
      "\n",
      "Reporte para el FOLD 2\n",
      "                                          precision    recall  f1-score   support\n",
      "\n",
      "No llueven hamburguesas al dia siguiente       0.91      0.77      0.83     15891\n",
      "   Llueven hamburguesas al dia siguiente       0.48      0.73      0.58      4580\n",
      "\n",
      "                                accuracy                           0.76     20471\n",
      "                               macro avg       0.69      0.75      0.70     20471\n",
      "                            weighted avg       0.81      0.76      0.78     20471\n",
      "\n",
      "Reporte para el FOLD 3\n",
      "                                          precision    recall  f1-score   support\n",
      "\n",
      "No llueven hamburguesas al dia siguiente       0.89      0.87      0.88     15891\n",
      "   Llueven hamburguesas al dia siguiente       0.58      0.64      0.61      4580\n",
      "\n",
      "                                accuracy                           0.82     20471\n",
      "                               macro avg       0.74      0.75      0.74     20471\n",
      "                            weighted avg       0.82      0.82      0.82     20471\n",
      "\n",
      "Reporte para el FOLD 4\n",
      "                                          precision    recall  f1-score   support\n",
      "\n",
      "No llueven hamburguesas al dia siguiente       0.89      0.90      0.89     15890\n",
      "   Llueven hamburguesas al dia siguiente       0.63      0.60      0.61      4581\n",
      "\n",
      "                                accuracy                           0.83     20471\n",
      "                               macro avg       0.76      0.75      0.75     20471\n",
      "                            weighted avg       0.83      0.83      0.83     20471\n",
      "\n"
     ]
    }
   ],
   "source": [
    "kf = StratifiedKFold(n_splits=5)\n",
    "for fold_idx, (train_index, test_index) in enumerate(kf.split(X_train_1, y_train)):\n",
    "    naive_bayes_gaussiano = GaussianNB(var_smoothing=suavizado_elegido_1)\n",
    "    naive_bayes_gaussiano.fit(X_train_1.iloc[train_index], y_train.iloc[train_index].values.ravel())\n",
    "    print ('Reporte para el FOLD ' + str(fold_idx))\n",
    "    print(classification_report(y_train.iloc[test_index], naive_bayes_gaussiano.predict(X_train_1.iloc[test_index]), target_names=['No llueven hamburguesas al dia siguiente', 'Llueven hamburguesas al dia siguiente']))\n",
    "    "
   ]
  },
  {
   "cell_type": "markdown",
   "id": "c41f3ebd-ef2c-47fd-abfb-8e16d7799ce5",
   "metadata": {},
   "source": [
    "### Búsqueda de Hiperparámetros para el modelo que entrenará sobre X_train_2"
   ]
  },
  {
   "cell_type": "code",
   "execution_count": 9,
   "id": "b6d15fe2-c4b7-495a-8c44-107230da6910",
   "metadata": {},
   "outputs": [
    {
     "name": "stdout",
     "output_type": "stream",
     "text": [
      "Mejor suavizado: 0.0001\n"
     ]
    }
   ],
   "source": [
    "params = {'var_smoothing': [1e-9,1e-8,1e-7,1e-6,1e-5,1e-4]}\n",
    "hiperparametros = encontrar_hiperparametros_GSCV(GaussianNB(), params=params, x_np=X_train_2, y_np=y_train.to_numpy().ravel())\n",
    "\n",
    "suavizado_elegido_2 = hiperparametros['var_smoothing']\n",
    "print(f'Mejor suavizado: {suavizado_elegido_2}')"
   ]
  },
  {
   "cell_type": "markdown",
   "id": "f3bdc223-d8ff-4fa8-a1ad-0708ee579889",
   "metadata": {},
   "source": [
    "### Entrenando el Modelo sobre X_train_2 con CrossValidation"
   ]
  },
  {
   "cell_type": "code",
   "execution_count": 10,
   "id": "7096e6b3-7d91-4664-8137-d2302c7ba0fa",
   "metadata": {},
   "outputs": [
    {
     "name": "stdout",
     "output_type": "stream",
     "text": [
      "Reporte para el FOLD 0\n",
      "                                          precision    recall  f1-score   support\n",
      "\n",
      "No llueven hamburguesas al dia siguiente       0.87      0.89      0.88     15891\n",
      "   Llueven hamburguesas al dia siguiente       0.59      0.55      0.57      4581\n",
      "\n",
      "                                accuracy                           0.81     20472\n",
      "                               macro avg       0.73      0.72      0.72     20472\n",
      "                            weighted avg       0.81      0.81      0.81     20472\n",
      "\n",
      "Reporte para el FOLD 1\n",
      "                                          precision    recall  f1-score   support\n",
      "\n",
      "No llueven hamburguesas al dia siguiente       0.90      0.80      0.85     15891\n",
      "   Llueven hamburguesas al dia siguiente       0.50      0.68      0.58      4580\n",
      "\n",
      "                                accuracy                           0.77     20471\n",
      "                               macro avg       0.70      0.74      0.71     20471\n",
      "                            weighted avg       0.81      0.77      0.79     20471\n",
      "\n",
      "Reporte para el FOLD 2\n",
      "                                          precision    recall  f1-score   support\n",
      "\n",
      "No llueven hamburguesas al dia siguiente       0.90      0.80      0.85     15891\n",
      "   Llueven hamburguesas al dia siguiente       0.50      0.70      0.58      4580\n",
      "\n",
      "                                accuracy                           0.78     20471\n",
      "                               macro avg       0.70      0.75      0.72     20471\n",
      "                            weighted avg       0.81      0.78      0.79     20471\n",
      "\n",
      "Reporte para el FOLD 3\n",
      "                                          precision    recall  f1-score   support\n",
      "\n",
      "No llueven hamburguesas al dia siguiente       0.89      0.88      0.88     15891\n",
      "   Llueven hamburguesas al dia siguiente       0.60      0.62      0.61      4580\n",
      "\n",
      "                                accuracy                           0.82     20471\n",
      "                               macro avg       0.74      0.75      0.75     20471\n",
      "                            weighted avg       0.82      0.82      0.82     20471\n",
      "\n",
      "Reporte para el FOLD 4\n",
      "                                          precision    recall  f1-score   support\n",
      "\n",
      "No llueven hamburguesas al dia siguiente       0.88      0.90      0.89     15890\n",
      "   Llueven hamburguesas al dia siguiente       0.63      0.59      0.61      4581\n",
      "\n",
      "                                accuracy                           0.83     20471\n",
      "                               macro avg       0.76      0.74      0.75     20471\n",
      "                            weighted avg       0.83      0.83      0.83     20471\n",
      "\n"
     ]
    }
   ],
   "source": [
    "kf = StratifiedKFold(n_splits=5)\n",
    "for fold_idx, (train_index, test_index) in enumerate(kf.split(X_train_2, y_train)):\n",
    "    naive_bayes_gaussiano = GaussianNB(var_smoothing=suavizado_elegido_2)\n",
    "    naive_bayes_gaussiano.fit(X_train_2[train_index], y_train.iloc[train_index].values.ravel())\n",
    "    print ('Reporte para el FOLD ' + str(fold_idx))\n",
    "    print(classification_report(y_train.iloc[test_index], naive_bayes_gaussiano.predict(X_train_2[test_index]), target_names=['No llueven hamburguesas al dia siguiente', 'Llueven hamburguesas al dia siguiente']))"
   ]
  },
  {
   "cell_type": "markdown",
   "id": "a4ed0b53-4880-40c8-aa40-de6a6de68d43",
   "metadata": {},
   "source": [
    "### Predicción del modelo sobre holdout"
   ]
  },
  {
   "cell_type": "markdown",
   "id": "7870cb7a-389f-49a6-ba6f-895f0c6691af",
   "metadata": {},
   "source": [
    "Una vez entrenado y validado el modelo con CrossValidation, viendo que las métricas resultantes fueron razonables y no dan indicio de overfit o mala división del dataset, debemos elegir uno de ellos para probar en Holdout. Podemos notar si los comparamos, que el promedio del recall de los folds del primero, es bastante mayor al del segundo, que aplico un preprocesamiento mas complejo (0.652 vs 0.628). Sin embargo el modelo que fue entrenado con datos preprocesados de manera mas compleja, da un promedio de la métrica accuracy levemente mayor al del modelo con preprocesamiento mas sencillo (80.2% vs 79.8%). En nuestro caso, valoramos mas el recall ya que por el desbalance de nuestro dataset, es una métrica dificil de maximizar"
   ]
  },
  {
   "cell_type": "code",
   "execution_count": 11,
   "id": "abf8f0b2-5f5c-4ba1-981c-e8618825073e",
   "metadata": {},
   "outputs": [
    {
     "data": {
      "text/plain": [
       "GaussianNB(var_smoothing=0.0001)"
      ]
     },
     "execution_count": 11,
     "metadata": {},
     "output_type": "execute_result"
    }
   ],
   "source": [
    "gnb_holdout = GaussianNB(var_smoothing=suavizado_elegido_1)\n",
    "gnb_holdout.fit(X_train_1.to_numpy(), y_train.to_numpy().ravel())"
   ]
  },
  {
   "cell_type": "code",
   "execution_count": 12,
   "id": "cfda0646-673b-4fde-958c-54791fcd839a",
   "metadata": {
    "tags": []
   },
   "outputs": [
    {
     "name": "stdout",
     "output_type": "stream",
     "text": [
      "              precision    recall  f1-score   support\n",
      "\n",
      "          no       0.89      0.84      0.86      8828\n",
      "          si       0.54      0.66      0.59      2545\n",
      "\n",
      "    accuracy                           0.80     11373\n",
      "   macro avg       0.72      0.75      0.73     11373\n",
      "weighted avg       0.81      0.80      0.80     11373\n",
      "\n"
     ]
    }
   ],
   "source": [
    "mapeo_binario_v = np.vectorize(mapear_target_binario)\n",
    "y_pred = gnb_holdout.predict(X_test_1.to_numpy())\n",
    "y_pred_binario = mapeo_binario_v(y_pred)\n",
    "y_pred_proba = gnb_holdout.predict_proba(X_test_1)[:, 1]\n",
    "y_test_binario = y_test['llovieron_hamburguesas_al_dia_siguiente'].map({'si': 1, 'no': 0}).to_numpy()\n",
    "print(classification_report(y_test['llovieron_hamburguesas_al_dia_siguiente'].to_numpy(), y_pred))"
   ]
  },
  {
   "cell_type": "markdown",
   "id": "ae69e2a7-6ffc-4a95-b296-d7c544e0fbc0",
   "metadata": {},
   "source": [
    "### Curva AUC ROC\n"
   ]
  },
  {
   "cell_type": "code",
   "execution_count": 13,
   "id": "506292ad-880a-446c-a1ac-b6eaf05df505",
   "metadata": {},
   "outputs": [
    {
     "data": {
      "image/png": "[encoded data removed]",
      "text/plain": [
       "<Figure size 1080x720 with 1 Axes>"
      ]
     },
     "metadata": {
      "needs_background": "light"
     },
     "output_type": "display_data"
    },
    {
     "name": "stdout",
     "output_type": "stream",
     "text": [
      "AUC-ROC para este modelo es: 0.8321089220492397\n"
     ]
    }
   ],
   "source": [
    "graficar_auc_roc(y_test_binario, y_pred_proba)"
   ]
  },
  {
   "cell_type": "markdown",
   "id": "1719d472-0c79-401b-bfa0-5e84507166a2",
   "metadata": {},
   "source": [
    "### Matriz de confusion"
   ]
  },
  {
   "cell_type": "code",
   "execution_count": 14,
   "id": "fea9182e-d337-49bf-91bd-50a17a17ed43",
   "metadata": {},
   "outputs": [
    {
     "name": "stderr",
     "output_type": "stream",
     "text": [
      "c:\\users\\juan cruz\\appdata\\local\\programs\\python\\python38\\lib\\site-packages\\sklearn\\utils\\validation.py:67: FutureWarning: Pass labels=[0, 1] as keyword args. From version 0.25 passing these as positional arguments will result in an error\n",
      "  warnings.warn(\"Pass {} as keyword args. From version 0.25 \"\n"
     ]
    },
    {
     "data": {
      "image/png": "[encoded data removed]",
      "text/plain": [
       "<Figure size 600x400 with 2 Axes>"
      ]
     },
     "metadata": {
      "needs_background": "light"
     },
     "output_type": "display_data"
    }
   ],
   "source": [
    "graficar_matriz_confusion(y_test_binario, y_pred_binario)"
   ]
  },
  {
   "cell_type": "markdown",
   "id": "99865d64-a41a-4e38-95c6-70efccfb37b0",
   "metadata": {},
   "source": [
    "## Predicción con el dataset nuevo\n",
    "A continuación, realizamos la predicción con el modelo de Naive Bayes Gaussiano sobre el dataset de predicciones nuevo, y la escribimos al archivo 'NaiveBayes.csv'."
   ]
  },
  {
   "cell_type": "code",
   "execution_count": 15,
   "id": "a9d436f5-bd82-41b6-b134-289e468ee6c9",
   "metadata": {},
   "outputs": [
    {
     "ename": "NameError",
     "evalue": "name 'preprocesamiento_GNB' is not defined",
     "output_type": "error",
     "traceback": [
      "\u001b[1;31m---------------------------------------------------------------------------\u001b[0m",
      "\u001b[1;31mNameError\u001b[0m                                 Traceback (most recent call last)",
      "\u001b[1;32mC:\\Users\\JUANCR~1\\AppData\\Local\\Temp/ipykernel_8432/2813209917.py\u001b[0m in \u001b[0;36m<module>\u001b[1;34m\u001b[0m\n\u001b[0;32m      4\u001b[0m \u001b[0mids\u001b[0m \u001b[1;33m=\u001b[0m \u001b[0mdf_prediccion_final\u001b[0m\u001b[1;33m[\u001b[0m\u001b[1;34m'id'\u001b[0m\u001b[1;33m]\u001b[0m\u001b[1;33m.\u001b[0m\u001b[0mto_numpy\u001b[0m\u001b[1;33m(\u001b[0m\u001b[1;33m)\u001b[0m\u001b[1;33m\u001b[0m\u001b[1;33m\u001b[0m\u001b[0m\n\u001b[0;32m      5\u001b[0m \u001b[1;33m\u001b[0m\u001b[0m\n\u001b[1;32m----> 6\u001b[1;33m \u001b[0mdf_prediccion_final\u001b[0m \u001b[1;33m=\u001b[0m \u001b[0mpreprocesamiento_GNB\u001b[0m\u001b[1;33m(\u001b[0m\u001b[1;33m[\u001b[0m\u001b[0mdf_prediccion_final\u001b[0m\u001b[1;33m]\u001b[0m\u001b[1;33m)\u001b[0m\u001b[1;33m[\u001b[0m\u001b[1;36m0\u001b[0m\u001b[1;33m]\u001b[0m\u001b[1;33m\u001b[0m\u001b[1;33m\u001b[0m\u001b[0m\n\u001b[0m\u001b[0;32m      7\u001b[0m \u001b[0mpredicciones\u001b[0m \u001b[1;33m=\u001b[0m \u001b[0mgnb_holdout\u001b[0m\u001b[1;33m.\u001b[0m\u001b[0mpredict\u001b[0m\u001b[1;33m(\u001b[0m\u001b[0mdf_prediccion_final\u001b[0m\u001b[1;33m.\u001b[0m\u001b[0mto_numpy\u001b[0m\u001b[1;33m(\u001b[0m\u001b[1;33m)\u001b[0m\u001b[1;33m)\u001b[0m\u001b[1;33m\u001b[0m\u001b[1;33m\u001b[0m\u001b[0m\n\u001b[0;32m      8\u001b[0m \u001b[1;33m\u001b[0m\u001b[0m\n",
      "\u001b[1;31mNameError\u001b[0m: name 'preprocesamiento_GNB' is not defined"
     ]
    }
   ],
   "source": [
    "from funciones_auxiliares import exportar_prediccion_final\n",
    "\n",
    "df_prediccion_final = traer_dataset_prediccion_final()\n",
    "ids = df_prediccion_final['id'].to_numpy()\n",
    "\n",
    "df_prediccion_final = preprocesamiento_GNB([df_prediccion_final])[0]\n",
    "predicciones = gnb_holdout.predict(df_prediccion_final.to_numpy())\n",
    "\n",
    "exportar_prediccion_final(ids, predicciones, 'NaiveBayes')"
   ]
  }
 ],
 "metadata": {
  "kernelspec": {
   "display_name": "Python 3 (ipykernel)",
   "language": "python",
   "name": "python3"
  },
  "language_info": {
   "codemirror_mode": {
    "name": "ipython",
    "version": 3
   },
   "file_extension": ".py",
   "mimetype": "text/x-python",
   "name": "python",
   "nbconvert_exporter": "python",
   "pygments_lexer": "ipython3",
   "version": "3.8.2"
  }
 },
 "nbformat": 4,
 "nbformat_minor": 5
}

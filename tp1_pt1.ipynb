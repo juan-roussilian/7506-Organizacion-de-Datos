{
 "cells": [
  {
   "cell_type": "markdown",
   "id": "305eba69-d76c-4c26-aa56-3b3e77e0a0e1",
   "metadata": {},
   "source": [
    "# Introducción\n",
    "\n",
    "## El objetivo del presente trabajo práctico es aplicar los conceptos teóricos y práticos aprendidos de la materia a la predicción de una feature en el dataset de lluvia de hamburguesas y a su vez relatar en el notebook el análisis y procedimiento utilizado para poder generar dicha predicción."
   ]
  },
  {
   "cell_type": "code",
   "execution_count": 1,
   "id": "7d7ed354-d0ea-439a-b79e-ad86ed6aed0c",
   "metadata": {},
   "outputs": [],
   "source": [
    "import pandas as pd\n",
    "import numpy as np\n",
    "import requests\n",
    "from matplotlib import pyplot as plt\n",
    "import seaborn as sns\n",
    "from sklearn.metrics import accuracy_score\n",
    "from pandas_profiling import ProfileReport"
   ]
  },
  {
   "cell_type": "code",
   "execution_count": null,
   "id": "70bc0422-b63d-4af7-b982-a21aa412dc93",
   "metadata": {},
   "outputs": [],
   "source": [
    "df_1 = pd.read_csv(\n",
    "    'https://docs.google.com/spreadsheets/d/1gvZ03uAL6THwd04Y98GtIj6SeAHiKyQY5UisuuyFSUs/export?format=csv', low_memory=False\n",
    ")\n",
    "df_2 = pd.read_csv(\n",
    "    'https://docs.google.com/spreadsheets/d/1wduqo5WyYmCpaGnE81sLNGU0VSodIekMfpmEwU0fGqs/export?format=csv', low_memory=False\n",
    ")\n",
    "pd.options.display.max_columns = None\n",
    "\n",
    "df = df_2.merge(df_1, left_on = 'id', right_on = 'id')\n",
    "df.sort_values(by=['id'], inplace=True, ascending=True)\n",
    "\n",
    "df_original = df.copy()\n",
    "\n",
    "df.sample(10)"
   ]
  },
  {
   "cell_type": "markdown",
   "id": "7f5aa809-b468-4479-b89d-f785ac948ea4",
   "metadata": {},
   "source": [
    "# Feature engineering\n",
    "### Buscamos filas duplicadas\n",
    "### Consideramos a una fila duplicada unicamente cuando se repite el ID de la medicion"
   ]
  },
  {
   "cell_type": "code",
   "execution_count": null,
   "id": "cd9865ed-5c1c-4c00-8a96-dafcc213a694",
   "metadata": {},
   "outputs": [],
   "source": [
    "df[df.duplicated(subset=['id'],keep=False)]"
   ]
  },
  {
   "cell_type": "markdown",
   "id": "b3bae12d-14a1-481d-8c7f-da03687393b8",
   "metadata": {},
   "source": [
    "### Vemos que no hay duplicados, pero verifiquemos además que el tipo para cada feature es razonable:"
   ]
  },
  {
   "cell_type": "code",
   "execution_count": null,
   "id": "2549b8dc-1228-4e99-b1c8-1299c2d88c6f",
   "metadata": {},
   "outputs": [],
   "source": [
    "df.dtypes"
   ]
  },
  {
   "cell_type": "markdown",
   "id": "1fb5396f-3497-401c-b089-efd677d933d6",
   "metadata": {},
   "source": [
    "#### Sabiendo que el pandas trata los strings como 'object', inmediatamente notamos que hay una feature que debería estar marcada como float pero se está tratando como un object: presion_atmosferica_tarde. Por dicho motivo procedemos a transformarla a numérica:"
   ]
  },
  {
   "cell_type": "markdown",
   "id": "56ca8cec-e0c4-499a-a2e9-a0cc26e0ac0f",
   "metadata": {},
   "source": [
    "Si hacemos directamente to_numeric(), vemos que encuentra un valor que no puede convertir por tener dos simbolos '.' de decimal, por lo que asumimos que fue un error\n",
    "al cargar el dato de presion_atmosferica_tarde, y preferimos dejar ese casillero en NaN que eliminar el registro completo:"
   ]
  },
  {
   "cell_type": "code",
   "execution_count": null,
   "id": "75ebdd5d-7c6e-47d7-ba44-7c3b3d1f44f9",
   "metadata": {},
   "outputs": [],
   "source": [
    "df['presion_atmosferica_tarde'].replace('.+\\..+\\..+', np.nan, inplace=True, regex=True)\n",
    "df['presion_atmosferica_tarde'] = pd.to_numeric(df['presion_atmosferica_tarde'])"
   ]
  },
  {
   "cell_type": "markdown",
   "id": "8198a7e1-d288-4719-84c4-d54e7e479392",
   "metadata": {},
   "source": [
    "## Variables __categoricas__\n",
    "1. Barrio \n",
    "2. direccion_viento_tarde\n",
    "3. direccion_viento_temprano\n",
    "4. rafaga_viento_max_direccion\n",
    "5. llovieron_hamburguesas_hoy\n",
    "\n",
    "### Comenzamos por reemplazar los valores nulos en direcciones de viento y ráfagas por una nueva opcion que puede tomar la feature : \"Otra direccion\""
   ]
  },
  {
   "cell_type": "code",
   "execution_count": null,
   "id": "bf4849ce-40fe-4113-b108-b6cf863374f6",
   "metadata": {},
   "outputs": [],
   "source": [
    "df['direccion_viento_tarde'].replace(np.nan, 'Otra direccion', inplace=True)\n",
    "df['direccion_viento_temprano'].replace(np.nan, 'Otra direccion', inplace=True)\n",
    "df['rafaga_viento_max_direccion'].replace(np.nan, 'Otra direccion',inplace=True)"
   ]
  },
  {
   "cell_type": "markdown",
   "id": "d61d148f-4ca7-448c-936c-4762db8f6a0c",
   "metadata": {},
   "source": [
    "### Luego verificamos que ninguna feature categorica tenga valores repetidos o sin sentido por errores de tipado "
   ]
  },
  {
   "cell_type": "code",
   "execution_count": null,
   "id": "dae8fe0e-d915-494c-a524-b6f88a6f579b",
   "metadata": {},
   "outputs": [],
   "source": [
    "df.barrio.value_counts().to_frame()"
   ]
  },
  {
   "cell_type": "code",
   "execution_count": null,
   "id": "7f0be858-aef9-445b-b414-15f4b1621ea7",
   "metadata": {},
   "outputs": [],
   "source": [
    "df.direccion_viento_temprano.value_counts().to_frame()"
   ]
  },
  {
   "cell_type": "code",
   "execution_count": null,
   "id": "85744569-d6c4-4066-80e2-bc51b11f3a51",
   "metadata": {},
   "outputs": [],
   "source": [
    "df.direccion_viento_tarde.value_counts().to_frame()"
   ]
  },
  {
   "cell_type": "code",
   "execution_count": null,
   "id": "2a64c87d-4cd6-41c9-b71f-ca6e3b51a861",
   "metadata": {},
   "outputs": [],
   "source": [
    "df.rafaga_viento_max_direccion.value_counts().to_frame()"
   ]
  },
  {
   "cell_type": "code",
   "execution_count": null,
   "id": "312f62b6-bf80-4b6d-883c-cc1552d6147d",
   "metadata": {},
   "outputs": [],
   "source": [
    "df.llovieron_hamburguesas_hoy.value_counts().to_frame()"
   ]
  },
  {
   "cell_type": "markdown",
   "id": "f0a15df3-79ad-46ca-9003-4c8f9a1bb0f2",
   "metadata": {},
   "source": [
    "#### Vemos que todos los valores son unicos, no hay necesidad de alterar las features y podemos seguir con la conversion a valores numericos"
   ]
  },
  {
   "cell_type": "markdown",
   "id": "2139904a-b5f2-4860-8e28-e04f0bef34a2",
   "metadata": {},
   "source": [
    "## Variables __numéricas__\n",
    "\n",
    "\n",
    "### Comenzamos por buscar cuáles columnas tienen missings"
   ]
  },
  {
   "cell_type": "code",
   "execution_count": null,
   "id": "7ffb96d0-14ca-495c-933f-69e1a2eb8fe2",
   "metadata": {},
   "outputs": [],
   "source": [
    "df.fillna(np.nan, inplace = True)\n",
    "df_nulos = pd.DataFrame({'Cantidad de nulos': df.isnull().sum(), 'Porcentaje de nulos': (df.isnull().mean() * 100)})\n",
    "df_nulos.sort_values(by=['Porcentaje de nulos'])"
   ]
  },
  {
   "cell_type": "markdown",
   "id": "2779f83f-8f1e-403e-92d8-ec8892dacb26",
   "metadata": {},
   "source": [
    "Vemos que algunos de los features tienen menos de un 1.5% de NaNs, por lo cual usar la media para rellenarlos no implicaría una disonancia significativa en la información, sinó más bien un suavizado de esos casos vacíos."
   ]
  },
  {
   "cell_type": "code",
   "execution_count": null,
   "id": "ba245119-1b71-4168-a621-9099ff4ba16b",
   "metadata": {},
   "outputs": [],
   "source": [
    "df['temp_max'].replace(np.nan, df['temp_max'].mean(), inplace = True)\n",
    "df['temp_min'].replace(np.nan, df['temp_min'].mean(), inplace = True)\n",
    "df['temperatura_temprano'].replace(np.nan, df['temperatura_temprano'].mean(), inplace = True)\n",
    "df['velocidad_viendo_temprano'].replace(np.nan, df['velocidad_viendo_temprano'].mean(), inplace = True)\n",
    "\n",
    "df_nulos = pd.DataFrame({'Cantidad de nulos': df.isnull().sum(), 'Porcentaje de nulos': (df.isnull().mean() * 100)})\n",
    "df_nulos.sort_values(by=['Porcentaje de nulos'])"
   ]
  },
  {
   "cell_type": "markdown",
   "id": "812036d7-e363-4ac1-8502-1dc6f65e3b8d",
   "metadata": {},
   "source": [
    "Para las features con alta cardinalidad de nulos (horas_de_sol, mm_evaporados_agua, nubosidad_temprano, nubosidad_tarde) analizaremos cada caso en particular para observar la relacion de dichos nulos con la variable target. \n",
    "Desconocemos como se computa la nubosidad, y por eso no podemos afirmar que se trata de columnas con missings at random (MAR). Es decir, no podemos afirmar que la falta de informacion en nubosidad dependa de horas_de_sol, (lo mismo aplica para las nubosidades y los milimetros evaporados de agua), por ende trataremos estos missings como MCAR completely at random."
   ]
  },
  {
   "cell_type": "markdown",
   "id": "ddad2511-f07c-4c78-8602-75c41cdca88f",
   "metadata": {},
   "source": [
    "# Formulación de Preguntas y Visualización\n",
    "## Planteamos un heatmap donde se pueden ver las correlaciones entre todas las variables númericas y la feature target, y en base a dicho gráfico y al dataset, planteamos una serie de preguntas que guiaran el análisis"
   ]
  },
  {
   "cell_type": "code",
   "execution_count": null,
   "id": "c54c69a5-d6ed-4f3c-a5b5-fa8336369c13",
   "metadata": {},
   "outputs": [],
   "source": [
    "df_numerico = df.drop(['barrio','dia','direccion_viento_tarde','direccion_viento_temprano','id','llovieron_hamburguesas_hoy','rafaga_viento_max_direccion'], axis=1)\n",
    "df_numerico['llovieron_hamburguesas_al_dia_siguiente'] = df['llovieron_hamburguesas_al_dia_siguiente'].map({'si': 1, 'no': 0})\n",
    "\n",
    "fig, ax = plt.subplots(figsize=(15, 15))\n",
    "\n",
    "hm = sns.heatmap(df_numerico.corr(),annot=True)\n",
    "\n",
    "plt.show()"
   ]
  },
  {
   "cell_type": "markdown",
   "id": "c53b3662-aa61-4113-b5b1-328f264761b5",
   "metadata": {},
   "source": [
    " 1. ¿Suponiendo desconocimiento de todas las features excepto el target, que tan probable es que lluevan hamburguesas al dia siguiente?\n",
    " 2. ¿De qué manera se relaciona el barrio con que lluevan hamburguesas al dia siguiente?\n",
    " 3. ¿Si llovieron hamburguesas hoy, qué tan probable es que lluevan hamburguesas mañana?\n",
    " 4. ¿Cómo afecta la feature mm_lluvia_dia al target? ¿Y qué sucede con los mm evaporados?\n",
    " 5. ¿Hay correlación entre la feature horas_de_sol y la lluvia de hamburguesas del dia siguiente?\n",
    " 6. ¿Cómo se relacionan la nubosidad_temprano y la nubosidad_tarde con el target?\n",
    " 7. ¿Las direcciones del viento temprano y tarde, estarán involucradas en la búsqueda del baseline?\n",
    " 8. ¿Cómo afectan las velocidades de los vientos tempranos y tardes al baseline?\n",
    " 9. ¿En cuánto al viento, las ráfagas tienen efecto en el target?\n",
    " 10. ¿Los máximos y mínimos de temperatura, indican algo sobre si llueven o no hamburguesas al dia siguiente?\n",
    " 11. ¿Podemos encontrar alguna correlación entre la máxima temperatura en el día, y los milímetros que se evaporan de lluvia?\n",
    " 12. ¿Tiene relación la humedad con la variable target?\n",
    " 13. ¿Encontraremos alguna correlacion entre humedad, temperatura y el target, tal cual indicaría el sentido común?\n",
    " 14. ¿Es observable una correlación entre la presión atmosférica y el target?\n",
    " 15. ¿Qué correlaciones encontramos entre horas_de_sol, nubosidad_tarde y el target?\n",
    " 16. ¿Cómo se comporta el target cuando las features que prometen mejor predicción están todas en valores nulos?\n",
    " 17. ¿Cómo afecta al target la cantidad de features nulas en una medición?\n",
    " 18. ¿Son de utilidad las mediciones donde el target tiene el valor NaN?\n",
    " \n",
    "Buscamos entender cada uno de los datos, cómo se relacionan entre sí y ver que conclusiones podemos obtener. A partir de ellos vamos a determinar los factores que determinan si lloverán hamburguesas al dia siguiente, y verificaremos cuáles features son reelevantes de mantener en el dataset."
   ]
  },
  {
   "cell_type": "markdown",
   "id": "eaa627b6-c557-4749-806f-122ee71f6afa",
   "metadata": {},
   "source": [
    "### 1.¿Suponiendo desconocimiento de todas las features excepto el target, que tan probable es que lluevan hamburguesas al dia siguiente?"
   ]
  },
  {
   "cell_type": "code",
   "execution_count": null,
   "id": "184d94df-3323-4249-8473-5f9951e6fc5d",
   "metadata": {},
   "outputs": [],
   "source": [
    "plt.figure(figsize=(5.4, 3.8), dpi=150)\n",
    "labels = ['No', 'Si']\n",
    "sizes = df['llovieron_hamburguesas_al_dia_siguiente'].value_counts()\n",
    "explode = (0, 0.1)\n",
    "plt.title('Llueven hamburguesas al dia siguiente')\n",
    "plt.pie(sizes, explode=explode, data = df['llovieron_hamburguesas_al_dia_siguiente'],labels = labels ,autopct='%1.1f%%',\n",
    "        shadow=True, startangle=90)\n",
    "plt.show()"
   ]
  },
  {
   "cell_type": "markdown",
   "id": "17a929f2-4f7d-4a36-90cc-bcbcc44f0053",
   "metadata": {},
   "source": [
    "Podemos corroborar, que desconociendo el resto de features, para el 77.6% de los registros en el dataset al dia siguiente no llueven hamburguesas. Esto quiere decir que si armaramos una baseline que simplemente devuelva siempre \"NO\", el accuracy ya sería de ese porcentaje. Sin embargo, no solo es un accuracy que no nos satisface, sinó que resulta en algo poco reutilizable que desperdicia el resto de información."
   ]
  },
  {
   "cell_type": "markdown",
   "id": "15cd298e-e50c-492a-bee8-e30298433403",
   "metadata": {},
   "source": [
    "### 2. ¿De qué manera se relaciona el barrio con que lluevan hamburguesas al dia siguiente?"
   ]
  },
  {
   "cell_type": "code",
   "execution_count": null,
   "id": "8370cd96-d003-46fb-a84f-55e430dd11fc",
   "metadata": {},
   "outputs": [],
   "source": [
    "lluvurguesas_por_barrio = df.groupby(by=\"barrio\")['llovieron_hamburguesas_al_dia_siguiente'].value_counts(normalize=True)\n",
    "lluvurguesas_por_barrio = lluvurguesas_por_barrio.to_frame()\n",
    "lluvurguesas_por_barrio.rename(columns={'llovieron_hamburguesas_al_dia_siguiente':'porcentaje_por_barrio'},inplace=True)\n",
    "lluvurguesas_por_barrio.reset_index(inplace=True)\n",
    "\n",
    "g = sns.catplot(\n",
    "    data=lluvurguesas_por_barrio, kind=\"bar\",\n",
    "    x=\"barrio\", y=\"porcentaje_por_barrio\", hue=\"llovieron_hamburguesas_al_dia_siguiente\", order=df[\"barrio\"].value_counts().index,\n",
    "    ci=None, height=8,aspect=2\n",
    ")\n",
    "plt.title(\"Porcentaje de lluvia de hamburguesas según barrio\", fontsize=25)\n",
    "g.despine(left=True)\n",
    "plt.ylim(0,1)\n",
    "plt.xticks(rotation=90)\n",
    "g.set_axis_labels(\"Barrio\", \"Porcentaje de lluvia de hamburguesas\",  fontsize=15)\n",
    "plt.show()"
   ]
  },
  {
   "cell_type": "markdown",
   "id": "fd98a1fd-e065-41f0-88a2-b422123317fc",
   "metadata": {},
   "source": [
    "Podemos ver que en ningún barrio es predominante el \"SI\" para la feature llovieron_hamburguesas_al_dia_siguiente, por lo que no podemos hacer ninguna afirmación positiva para la lluvia de hamburguesas según el barrio. Sin embargo, podemos notar que ciertos barrios como Parque Patricios y Villa Pueryrredón, tienen lluvia de hamburguesas al dia siguiente más seguido de lo normal (un \\~30% de las veces), mientras que barrios como Villa Crespo y Villa Santa Rita rondan números mas bajos (\\~10%)."
   ]
  },
  {
   "cell_type": "markdown",
   "id": "c4bded5a-1dac-40dc-9f8e-56297fc5da95",
   "metadata": {},
   "source": [
    "### 3.¿Si llovieron hamburguesas hoy, qué tan probable es que lluevan hamburguesas mañana?"
   ]
  },
  {
   "cell_type": "code",
   "execution_count": null,
   "id": "48a2b247-0bb2-409c-bd3b-dd488575c0ef",
   "metadata": {},
   "outputs": [],
   "source": [
    "fig, axes = plt.subplots(nrows=1, ncols=2, figsize=[6.4 * 2, 4.8], dpi=100)\n",
    "\n",
    "sns.countplot(data=df, x='llovieron_hamburguesas_hoy', hue='llovieron_hamburguesas_al_dia_siguiente', ax=axes[0])\n",
    "axes[0].set_title(\"Cantidad de veces que llovieron hamburguesas \\n\" +  \"al dia siguiente según si llovieron hoy\")\n",
    "\n",
    "sns.barplot(\n",
    "    data=df.groupby(\"llovieron_hamburguesas_hoy\")\n",
    "    .llovieron_hamburguesas_al_dia_siguiente.value_counts(normalize=True)\n",
    "    .rename(\"llovieron_al_dia_siguiente_prop\")\n",
    "    .reset_index(),\n",
    "    x='llovieron_hamburguesas_hoy',\n",
    "    y=\"llovieron_al_dia_siguiente_prop\",\n",
    "    hue='llovieron_hamburguesas_al_dia_siguiente',\n",
    "    ax=axes[1],\n",
    ")\n",
    "axes[1].set_ylabel(\"% intragrupo\")\n",
    "axes[1].set_title(\"Porcentaje para lluvia de hamburguesas\\n\" +  \"al dia siguiente según si llovieron hoy\")\n",
    "\n",
    "plt.show()"
   ]
  },
  {
   "cell_type": "markdown",
   "id": "47f556c5-0411-4e5b-94e1-071fa3a4fb27",
   "metadata": {},
   "source": [
    "Podemos ver que si bien la cantidad de veces que llueven hamburguesas al dia siguiente es prácticamente la misma en ambas mitades del primer gráfico, cuando lo analizamos en porcentajes, vemos que si llovio el dia de hoy, la probabilidad de que lluevan hamburguesas al dia siguiente aumenta radicalmente. Concluimos de esta visualización, que si llovieron hamburguesas hoy, hay practicamente un 45% de probabilidades que llueva mañana, mientras que si hoy no llovieron hamburguesas, entonces esa probabilidad es mucho menor, de aproximadamente el 15%"
   ]
  },
  {
   "cell_type": "markdown",
   "id": "70020c84-ff79-47cc-94cd-942104bb037f",
   "metadata": {},
   "source": [
    "### 4.¿Cómo afecta la feature mm_lluvia_dia al target? ¿Y qué sucede con los mm evaporados?"
   ]
  },
  {
   "cell_type": "code",
   "execution_count": null,
   "id": "7e15f56f-0acf-47fe-9652-2646290c2cd0",
   "metadata": {
    "tags": []
   },
   "outputs": [],
   "source": [
    "fig = plt.figure(figsize=[6.4 * 2, 4.8], dpi=100)\n",
    "\n",
    "df_llovio_h_maniana = df[df.llovieron_hamburguesas_al_dia_siguiente == 'si']\n",
    "df_no_llovio_h_maniana = df[df.llovieron_hamburguesas_al_dia_siguiente == 'no']\n",
    "\n",
    "plt.hist(df_no_llovio_h_maniana.mm_lluvia_dia, alpha=1, range=[0, 5], label='No llovieron hamburguesas al dia siguiente')\n",
    "plt.hist(df_llovio_h_maniana.mm_lluvia_dia, alpha=0.75, range=[0, 5], label='Llovieron hamburguesas al dia siguiente')\n",
    "plt.legend()\n",
    "plt.title('mm lluvia - llovieron hamburguesas al dia siguiente')\n",
    "plt.ylabel(\"Cantidad de mediciones\")\n",
    "plt.xlabel(\"mm de lluvia\")\n",
    "plt.yscale('log')\n",
    "plt.show()\n"
   ]
  },
  {
   "cell_type": "markdown",
   "id": "1ea386e7-e74b-4929-8155-4b54804e257a",
   "metadata": {},
   "source": [
    "Se puede observar que la distribución de los mm de lluvia es muy similar para ámbos valores del target, por lo que no nos llevaría a ninguna estimación concluyente del target. Esto se puede notar ya que si bien el número de mediciones para cuando el target es positivo es mucho menor que cuando es negativo, se mantiene la proporción del dataset de aproximadamente 80% de casos negativos vs 20% positivos, y dentro de dicha proporcion, ambas distribuciones acumulan la mayor cantidad de mediciones en valores entre 0 y 1,5 mm de lluvia. \n",
    "Veamos si para los mm evaporados de agua en el día obtenemos una distribución mejor indicadora del target:"
   ]
  },
  {
   "cell_type": "code",
   "execution_count": null,
   "id": "e7acd12e-63ff-4aeb-884e-7cd85a7e3aae",
   "metadata": {},
   "outputs": [],
   "source": [
    "fig = plt.figure(figsize=[6.4 * 2, 4.8], dpi=100)\n",
    "\n",
    "df_llovio_h_maniana = df[df.llovieron_hamburguesas_al_dia_siguiente == 'si']\n",
    "df_no_llovio_h_maniana = df[df.llovieron_hamburguesas_al_dia_siguiente == 'no']\n",
    "\n",
    "plt.hist(df_no_llovio_h_maniana.mm_evaporados_agua, alpha=1, range=[0, 30], label='No llovieron hamburguesas al dia siguiente')\n",
    "plt.hist(df_llovio_h_maniana.mm_evaporados_agua, alpha=0.75, range=[0, 30], label='Llovieron hamburguesas al dia siguiente')\n",
    "plt.title('mm evaporados - llovieron hamburguesas al dia siguiente')\n",
    "plt.ylabel(\"Cantidad de mediciones\")\n",
    "plt.xlabel(\"mm evaporados\")\n",
    "plt.yscale('log')\n",
    "plt.legend()\n",
    "plt.show()"
   ]
  },
  {
   "cell_type": "markdown",
   "id": "b81b8df1-e5cc-4f13-872e-33fb9f498fe6",
   "metadata": {},
   "source": [
    "Nuevamente observamos que las distribuciones en la visualización mantienen la proporción de 80% de casos de target negativo, y dentro de dicha proporción ambos casos acumulan la mayor cantidad de mediciones entre 0mm y 15mm por lo que a priori los milímetros evaporados no parecen ser un gran indicador para predecir el mismo. Para considerar una relación con la variable target deberiamos apreciar diferencias más significativas."
   ]
  },
  {
   "cell_type": "markdown",
   "id": "74faeff5-0768-4601-ac60-f48c70272fd6",
   "metadata": {},
   "source": [
    "### 5.¿Hay correlación entre la feature horas_de_sol y la lluvia de hamburguesas del dia siguiente?\n"
   ]
  },
  {
   "cell_type": "code",
   "execution_count": null,
   "id": "d67d5c28-b4f0-4fb6-917a-b7698677419c",
   "metadata": {},
   "outputs": [],
   "source": [
    "fig = plt.figure(figsize=[6.4 * 2, 4.8], dpi=100)\n",
    "\n",
    "df_llovio_h_maniana = df[df.llovieron_hamburguesas_al_dia_siguiente == 'si']\n",
    "df_no_llovio_h_maniana = df[df.llovieron_hamburguesas_al_dia_siguiente == 'no']\n",
    "\n",
    "plt.hist(df_no_llovio_h_maniana.horas_de_sol, range=[0,15], label='No llovieron hamburguesas al dia siguiente')\n",
    "plt.hist(df_llovio_h_maniana.horas_de_sol, alpha=0.75, range=[0,15], label='Llovieron hamburguesas al dia siguiente')\n",
    "plt.title('Horas de sol - llovieron hamburguesas al dia siguiente')\n",
    "plt.ylabel(\"Cantidad de mediciones\")\n",
    "plt.xlabel(\"Horas de sol\")\n",
    "plt.legend()\n",
    "plt.show()"
   ]
  },
  {
   "cell_type": "markdown",
   "id": "528fac2b-2666-46ab-a001-206068e5e09a",
   "metadata": {},
   "source": [
    "Comparando ámbas distribuciones, vemos grandes diferencias entre las horas de sol según el valor del target. Cuando al día siguiente llueven hamburguesas, el gráfico naranja nos indica que suele haber en general pocas horas de sol. Caso contrario, en el gráfico azul vemo que la mayoría de mediciones en los cuales no llueven hamburguesas al día siguiente se agrupan a partir de aproximadamente 8 horas de sol."
   ]
  },
  {
   "cell_type": "markdown",
   "id": "5ed077d4-3e62-4287-bbf8-06d823b28457",
   "metadata": {},
   "source": [
    "Sin embargo, debemos analizar que sucede cuando horas de sol tiene missings. Dado que es una feature con una cardinalidad muy grande de valores nulos, amerita un análisis en detalle."
   ]
  },
  {
   "cell_type": "code",
   "execution_count": null,
   "id": "54ba31c6-9cae-4368-9431-56493e80ecb6",
   "metadata": {},
   "outputs": [],
   "source": [
    "fig =  plt.figure(figsize=(5.4, 3.8), dpi=150)\\\n",
    "\n",
    "df_horas_sol_desconocidas = df[(df['horas_de_sol'].isna())]\n",
    "\n",
    "total_dias_lluvia = sum(df_horas_sol_desconocidas.llovieron_hamburguesas_al_dia_siguiente == 'si')\n",
    "total_dias_sin_lluvia = sum(df_horas_sol_desconocidas.llovieron_hamburguesas_al_dia_siguiente == 'no')\n",
    "\n",
    "sns.countplot(data=df_horas_sol_desconocidas, x='llovieron_hamburguesas_al_dia_siguiente', hue='llovieron_hamburguesas_al_dia_siguiente')\n",
    "plt.title(\"Cantidad de mediciones en las que llovieron hamburguesas al día \\n siguiente para horas de sol no conocidas\")\n",
    "plt.xlabel(\"Llovieron hamburguesas al día siguiente\")\n",
    "plt.axhline(y=total_dias_sin_lluvia, color=\"C0\", label=f\"{total_dias_sin_lluvia} dias\", linestyle='--')\n",
    "plt.axhline(y=total_dias_lluvia, color=\"C1\", label=f\"{total_dias_lluvia} dias\",  linestyle='--')\n",
    "plt.legend(loc='best')\n",
    "plt.show()"
   ]
  },
  {
   "cell_type": "markdown",
   "id": "84ad8a8d-8429-4d50-a9e2-145e52109477",
   "metadata": {},
   "source": [
    "Del gráfico de barras vemos que aproximadamente el 80% de los casos en los que no conocemos las horas de sol, tampoco llovieron hamburguesas al dia siguiente, manteniendo asi la propoción del dataset original mencionada con anterioridad. La falta de esta feature no genera anomal"
   ]
  },
  {
   "cell_type": "markdown",
   "id": "bd8ba2ea-36a6-4a40-a1e1-ceca4646c8e1",
   "metadata": {},
   "source": [
    "### 6. ¿Cómo se relacionan la nubosidad_temprano y la nubosidad_tarde con el target?\n",
    "\n"
   ]
  },
  {
   "cell_type": "code",
   "execution_count": null,
   "id": "5e855e24-e3c7-434d-827b-ba6837d64a64",
   "metadata": {},
   "outputs": [],
   "source": [
    "fig = plt.figure(figsize=[6.4 * 2, 4.8], dpi=100)\n",
    "\n",
    "df_llovio_h_maniana = df[df.llovieron_hamburguesas_al_dia_siguiente == 'si']\n",
    "df_no_llovio_h_maniana = df[df.llovieron_hamburguesas_al_dia_siguiente == 'no']\n",
    "rango_nubosidad_temp = [0,9]\n",
    "\n",
    "plt.hist(df_no_llovio_h_maniana.nubosidad_temprano, range=rango_nubosidad_temp, label='No llovieron hamburguesas al dia siguiente')\n",
    "plt.hist(df_llovio_h_maniana.nubosidad_temprano, alpha=0.75, range=rango_nubosidad_temp, label='Llovieron hamburguesas al dia siguiente')\n",
    "plt.title('nubosidad temprano - llovieron hamburguesas al dia siguiente')\n",
    "plt.ylabel(\"Cantidad de mediciones\")\n",
    "plt.xlabel(\"Nubosidad temprano\")\n",
    "plt.legend()\n",
    "plt.show()\n"
   ]
  },
  {
   "cell_type": "markdown",
   "id": "b5edfae8-d437-4b4a-90d6-5c7c3a3f71c6",
   "metadata": {},
   "source": [
    "Vemos que la distribución en ambos histogramas es muy diferente, pues la forma nos indica que es mucho mas probable que lluevan hamburguesas al día siguiente si la nubosidad es alta en comparación a cuando es baja. Además, cuando llovieron hamburguesas al día siguiente, la nubosidad muestra una tendencia siempre creciente, como una proporcionalidad directa, mientras que en el caso contrario, se observa una forma parabólica, es decir, hay muchas mediciones que se agrupan entre los rangos de valores 0-2 y 6-8 de nubosidad."
   ]
  },
  {
   "cell_type": "code",
   "execution_count": null,
   "id": "711be94a-ed05-4487-9beb-bb928f7b7a01",
   "metadata": {},
   "outputs": [],
   "source": [
    "fig = plt.figure(figsize=[6.4 * 2, 4.8], dpi=100)\n",
    "\n",
    "df_llovio_h_maniana = df[df.llovieron_hamburguesas_al_dia_siguiente == 'si']\n",
    "df_no_llovio_h_maniana = df[df.llovieron_hamburguesas_al_dia_siguiente == 'no']\n",
    "rango_nubosidad_tarde = [0,9]\n",
    "\n",
    "plt.hist(df_no_llovio_h_maniana.nubosidad_tarde, range=rango_nubosidad_tarde, label='No llovieron hamburguesas al dia siguiente')\n",
    "plt.hist(df_llovio_h_maniana.nubosidad_tarde,alpha=0.75, range=rango_nubosidad_tarde, label='Llovieron hamburguesas al dia siguiente')\n",
    "plt.title('Nubosidad - llovieron hamburguesas al dia siguiente')\n",
    "plt.ylabel(\"Cantidad de mediciones\")\n",
    "plt.xlabel(\"Nubosidad tarde\")\n",
    "plt.legend()\n",
    "plt.show()"
   ]
  },
  {
   "cell_type": "markdown",
   "id": "5a15b901-9f20-44b3-8701-7681c44aea14",
   "metadata": {},
   "source": [
    "Para la nubosidad a la tarde, la visualización resulta muy similar al caso de la nubosidad temprana, tanto para cuando llueven hamburguesas al dia siguiente como cuando no lo hace. Ambos graficos nos indican que la mayoría de casos donde han llovido hamburguesas al dia siguiente se agrupan para nubosidades entre 5 y 8. Creemos que debido a esta tan marcada diferencia, esta feature será de suma utilidad cuando haya que predecir el target. "
   ]
  },
  {
   "cell_type": "code",
   "execution_count": null,
   "id": "8b9b6b2f-cca9-4742-86f9-dc94d5ad4dc0",
   "metadata": {},
   "outputs": [],
   "source": [
    "fig, axes = plt.subplots(nrows=1, ncols=2, figsize=(11,3.8), dpi=125)\n",
    "\n",
    "df_nubosidad_temprana_desconocida = df[(df['nubosidad_temprano'].isna())]\n",
    "total_dias_lluvia_nubosidad_temprana_desc = sum(df_nubosidad_temprana_desconocida.llovieron_hamburguesas_al_dia_siguiente == 'si')\n",
    "total_dias_sin_lluvia_nubosidad_temprana_desc = sum(df_nubosidad_temprana_desconocida.llovieron_hamburguesas_al_dia_siguiente == 'no')\n",
    "\n",
    "sns.countplot(data=df_nubosidad_temprana_desconocida, x='llovieron_hamburguesas_al_dia_siguiente', hue='llovieron_hamburguesas_al_dia_siguiente', ax=axes[0])\n",
    "axes[0].set_title(\"Cantidad de dias que llovieron hamburguesas al día \\n siguiente para nubosidad temprano desconocida\")\n",
    "axes[0].set_xlabel(\"Llovieron hamburguesas al día siguiente\")\n",
    "axes[0].axhline(y=total_dias_lluvia_nubosidad_temprana_desc, color=\"C1\", label=f\"{total_dias_lluvia_nubosidad_temprana_desc} dias\",  linestyle='--')\n",
    "axes[0].axhline(y=total_dias_sin_lluvia_nubosidad_temprana_desc, color=\"C0\", label=f\"{total_dias_sin_lluvia_nubosidad_temprana_desc} dias\", linestyle='--')\n",
    "axes[0].legend(loc='best')\n",
    "\n",
    "df_nubosidad_tarde_desconocida = df[(df['nubosidad_tarde'].isna())]\n",
    "total_dias_lluvia_nubosidad_tarde_desc = sum(df_nubosidad_tarde_desconocida.llovieron_hamburguesas_al_dia_siguiente == 'si')\n",
    "total_dias_sin_lluvia_nubosidad_tarde_desc = sum(df_nubosidad_tarde_desconocida.llovieron_hamburguesas_al_dia_siguiente == 'no')\n",
    "\n",
    "sns.countplot(data=df_nubosidad_tarde_desconocida, x='llovieron_hamburguesas_al_dia_siguiente', hue='llovieron_hamburguesas_al_dia_siguiente',ax=axes[1])\n",
    "axes[1].set_title(\"Cantidad de dias que llovieron hamburguesas al día \\n siguiente para nubosidad tarde desconocida\")\n",
    "axes[1].set_xlabel(\"Llovieron hamburguesas al día siguiente\")\n",
    "axes[1].axhline(y=total_dias_lluvia_nubosidad_tarde_desc, color=\"C1\", label=f\"{total_dias_lluvia_nubosidad_tarde_desc} dias\",  linestyle='--')\n",
    "axes[1].axhline(y=total_dias_sin_lluvia_nubosidad_tarde_desc, color=\"C0\", label=f\"{total_dias_sin_lluvia_nubosidad_tarde_desc} dias\", linestyle='--')\n",
    "axes[1].legend(loc='best')\n",
    "\n",
    "plt.show()"
   ]
  },
  {
   "cell_type": "markdown",
   "id": "19db7309-3123-450d-8ef4-9a5fe0c4452a",
   "metadata": {},
   "source": [
    "Analogamente al caso de las horas de sol desconocidas, cuando la nubosidad es desconocida (practicamente idéntico para ambas), en el 80% de los casos no llovieron hamburguesas al dia siguiente."
   ]
  },
  {
   "cell_type": "markdown",
   "id": "4a34410b-02da-4584-8e17-5320be5b0447",
   "metadata": {},
   "source": [
    "### 7. ¿Las direcciones del viento temprano y tarde, estarán involucradas en la búsqueda del baseline?"
   ]
  },
  {
   "cell_type": "code",
   "execution_count": null,
   "id": "a21f9ec6-eb67-43ea-832e-b05664384154",
   "metadata": {},
   "outputs": [],
   "source": [
    "lluvurguesas_viento_temprano = df.groupby(by=\"direccion_viento_temprano\")['llovieron_hamburguesas_al_dia_siguiente'].value_counts(normalize=True)\n",
    "\n",
    "lluvurguesas_viento_temprano = lluvurguesas_viento_temprano.to_frame()\n",
    "lluvurguesas_viento_temprano.rename(columns={'llovieron_hamburguesas_al_dia_siguiente':'porcentaje_viento_temprano'},inplace=True)\n",
    "lluvurguesas_viento_temprano.reset_index(inplace=True)\n",
    "\n",
    "g = sns.catplot(\n",
    "    data=lluvurguesas_viento_temprano, kind=\"bar\",\n",
    "    x=\"direccion_viento_temprano\", y=\"porcentaje_viento_temprano\", hue=\"llovieron_hamburguesas_al_dia_siguiente\", order=df[\"direccion_viento_temprano\"].value_counts().index,\n",
    "    ci=None, height=8,aspect=2\n",
    ")\n",
    "plt.title(\"Porcentaje de lluvia de hamburguesas según dirección del viento temprano\", fontsize=18)\n",
    "g.despine(left=True)\n",
    "plt.ylim(0,1)\n",
    "plt.xticks(rotation=90)\n",
    "g.set_axis_labels(\"Dirección del viento temprano\", \"Porcentaje de lluvia de hamburguesas\",  fontsize=15)\n",
    "plt.show()"
   ]
  },
  {
   "cell_type": "markdown",
   "id": "8b9f783f-48bf-4f8a-9453-8d8cae1a10ce",
   "metadata": {},
   "source": [
    "No parece que la dirección del viento temprano tenga una influencia tajante en el comportamiento del target. Vemos que todas las direcciones tienen la mayoría rotunda de no llover hamburguesas al dia siguiente. Probemos ahora qué sucede con la dirección del viento a la tarde."
   ]
  },
  {
   "cell_type": "code",
   "execution_count": null,
   "id": "2912cd63-10e5-42ef-8ea9-f588be8a2fd8",
   "metadata": {},
   "outputs": [],
   "source": [
    "lluvurguesas_viento_tarde = df.groupby(by=\"direccion_viento_tarde\")['llovieron_hamburguesas_al_dia_siguiente'].value_counts(normalize=True)\n",
    "\n",
    "lluvurguesas_viento_tarde = lluvurguesas_viento_tarde.to_frame()\n",
    "lluvurguesas_viento_tarde.rename(columns={'llovieron_hamburguesas_al_dia_siguiente':'porcentaje_viento_tarde'},inplace=True)\n",
    "lluvurguesas_viento_tarde.reset_index(inplace=True)\n",
    "\n",
    "g = sns.catplot(\n",
    "    data=lluvurguesas_viento_tarde, kind=\"bar\",\n",
    "    x=\"direccion_viento_tarde\", y=\"porcentaje_viento_tarde\", hue=\"llovieron_hamburguesas_al_dia_siguiente\", order=df[\"direccion_viento_tarde\"].value_counts().index,\n",
    "    ci=None, height=8,aspect=2\n",
    ")\n",
    "plt.title(\"Porcentaje de lluvia de hamburguesas según dirección del viento tardío\", fontsize=18)\n",
    "g.despine(left=True)\n",
    "plt.ylim(0,1)\n",
    "plt.xticks(rotation=90)\n",
    "g.set_axis_labels(\"Dirección del viento tardío\", \"Porcentaje de lluvia de hamburguesas\",  fontsize=15)\n",
    "plt.show()"
   ]
  },
  {
   "cell_type": "markdown",
   "id": "e9e1b5d3-737a-43a0-a693-df5e59f21d97",
   "metadata": {},
   "source": [
    "Al igual que con el viento temprano, el viento a la tarde no parece tampoco influenciar el target de manera determinante como para volverlo parte de nuestra predicción, ya que si bien hay leves diferencias entre cuantas veces el target toma valores positivos y negativos para cada dirección, estas no son suficientemente sustanciales."
   ]
  },
  {
   "cell_type": "markdown",
   "id": "0df13de5-9618-4cb7-952b-5f2b3ceef4b1",
   "metadata": {},
   "source": [
    "### 8. ¿Cómo afectan las velocidades de los vientos tempranos y tardes al baseline?"
   ]
  },
  {
   "cell_type": "code",
   "execution_count": null,
   "id": "017790e5-ed22-4227-abc1-2dd49cd077f9",
   "metadata": {},
   "outputs": [],
   "source": [
    "fig = plt.figure( figsize=[6.4 * 2, 4.8], dpi=100)\n",
    "\n",
    "df_llovio_h_maniana = df[df.llovieron_hamburguesas_al_dia_siguiente == 'si']\n",
    "df_no_llovio_h_maniana = df[df.llovieron_hamburguesas_al_dia_siguiente == 'no']\n",
    "rango_velocidad_viento_temp = [0,70]\n",
    "\n",
    "plt.hist(df_no_llovio_h_maniana.velocidad_viendo_temprano,range=rango_velocidad_viento_temp, label='No llovieron hamburguesas al dia siguiente')\n",
    "plt.hist(df_llovio_h_maniana.velocidad_viendo_temprano, alpha=0.75, range=rango_velocidad_viento_temp, label='Llovieron hamburguesas al dia siguiente')\n",
    "plt.title('Velocidad viento temprano - llovieron hamburguesas al dia siguiente')\n",
    "plt.ylabel(\"Cantidad de mediciones\")\n",
    "plt.xlabel(\"Velocidad del viento [km/h]\")\n",
    "plt.yscale('log')\n",
    "plt.legend()\n",
    "plt.show()"
   ]
  },
  {
   "cell_type": "code",
   "execution_count": null,
   "id": "c30f7f95-3eaf-4a2b-a023-72515283fefc",
   "metadata": {},
   "outputs": [],
   "source": [
    "fig = plt.figure( figsize=[6.4 * 2, 4.8], dpi=100)\n",
    "\n",
    "df_llovio_h_maniana = df[df.llovieron_hamburguesas_al_dia_siguiente == 'si']\n",
    "df_no_llovio_h_maniana = df[df.llovieron_hamburguesas_al_dia_siguiente == 'no']\n",
    "rango_velocidad_viento_tarde = [0,70]\n",
    "\n",
    "plt.hist(df_no_llovio_h_maniana.velocidad_viendo_tarde,range=rango_velocidad_viento_temp, label='No llovieron hamburguesas al dia siguiente')\n",
    "plt.hist(df_llovio_h_maniana.velocidad_viendo_tarde, alpha=0.75, range=rango_velocidad_viento_temp, label='Llovieron hamburguesas al dia siguiente')\n",
    "plt.title('Velocidad viento tardío - hamburguesas al dia siguiente')\n",
    "plt.ylabel('Cantidad de mediciones')\n",
    "plt.xlabel('Velocidad del viento[km/h]')\n",
    "plt.yscale('log')\n",
    "plt.legend()\n",
    "plt.show()"
   ]
  },
  {
   "cell_type": "markdown",
   "id": "35ad7def-d8ea-492b-b0d8-d4f2cf0d839f",
   "metadata": {},
   "source": [
    "Concluimos que la distribución del viento temprano, así como la del viento tardío, son prácticamente idénticas (salvando la diferencia de cantidad de mediciones para cada una, producto del desbalance de la proporción del target en el dataset original) lluevan hamburguesas al día siguiente o no. Esto se manifiesta en que para ambos valores de target, la proporción de registros que de distribuye en cada bin es la misma. \n",
    "Creemos importante mencionar que en el primer gráfico vemos en el último bin (60-70km/h) que aumenta la relacion porcentual de la feature target positiva con respecto a la negativa, sin embargo dado que la cantidad de casos esta en el orden de las decenas, tenerlos en cuenta para el baseline causaría overfitting. Si las mediciones donde sucediera esto fueran más, sería claramente una condición a agregar."
   ]
  },
  {
   "cell_type": "markdown",
   "id": "8a97c17f-7ef3-471a-a34e-adc003dd10c0",
   "metadata": {},
   "source": [
    "### 9. ¿En cuánto al viento, las ráfagas tienen efecto en el target?"
   ]
  },
  {
   "cell_type": "code",
   "execution_count": null,
   "id": "ef5d570e-482c-4ad6-b3ff-c5cae6071799",
   "metadata": {},
   "outputs": [],
   "source": [
    "lluvurguesas_dir_rafaga = df.groupby(by=\"rafaga_viento_max_direccion\")['llovieron_hamburguesas_al_dia_siguiente'].value_counts(normalize=True)\n",
    "\n",
    "lluvurguesas_dir_rafaga = lluvurguesas_dir_rafaga.to_frame()\n",
    "lluvurguesas_dir_rafaga.rename(columns={'llovieron_hamburguesas_al_dia_siguiente':'porcentaje_dir_rafaga'},inplace=True)\n",
    "lluvurguesas_dir_rafaga.reset_index(inplace=True)\n",
    "\n",
    "g = sns.catplot(\n",
    "    data=lluvurguesas_dir_rafaga, kind=\"bar\",\n",
    "    x=\"rafaga_viento_max_direccion\", y=\"porcentaje_dir_rafaga\", hue=\"llovieron_hamburguesas_al_dia_siguiente\", order=df[\"rafaga_viento_max_direccion\"].value_counts().index,\n",
    "    ci=None, height=8,aspect=2\n",
    ")\n",
    "plt.title(\"Porcentaje de lluvia de hamburguesas al dia siguiente \\n según la dirección de la ráfaga de viento\", fontsize=18)\n",
    "g.despine(left=True)\n",
    "plt.ylim(0,1)\n",
    "plt.xticks(rotation=90)\n",
    "g.set_axis_labels(\"Dirección de la ráfaga de máximo viento\", \"Porcentaje de lluvia de hamburguesas al dia siguiente\",  fontsize=15)\n",
    "plt.show()"
   ]
  },
  {
   "cell_type": "markdown",
   "id": "d2111a5e-b1fe-4bfd-90bf-ed728b05cd77",
   "metadata": {},
   "source": [
    "Vemos que al igual que el propio viento, la dirección de su máxima ráfaga no parece tener un distribución divisiva en cuanto al target. Esto lo notamos al observar que sin importar la dirección que tomemos, se mantiene una proporción similar para los dos valores que puede tomar el target (aproximadamente 80% son 'no' y 20% 'si'). Consideraremos que esta feature no influye en el target.\n",
    "\n",
    "¿Y qué hay de la velocidad de la ráfaga? Vemos a continuación:"
   ]
  },
  {
   "cell_type": "code",
   "execution_count": null,
   "id": "6bbb213c-cbf7-44ef-8e2a-3786cc5576a2",
   "metadata": {},
   "outputs": [],
   "source": [
    "fig, axes = plt.subplots(ncols=1, nrows=2, figsize=[6.4 * 2, 2 * 5], dpi=100)\n",
    "\n",
    "df_llovio_h_maniana = df[df.llovieron_hamburguesas_al_dia_siguiente == 'si']\n",
    "df_no_llovio_h_maniana = df[df.llovieron_hamburguesas_al_dia_siguiente == 'no']\n",
    "rango_velocidad_rafaga = [0,120]\n",
    "\n",
    "axes[0].set_title('Velocidad máxima ráfaga de viento - hamburguesas al dia siguiente')\n",
    "axes[0].hist(df_no_llovio_h_maniana.rafaga_viento_max_velocidad, range=rango_velocidad_rafaga, label='No llovieron hamburguesas al dia siguiente')\n",
    "axes[0].hist(df_llovio_h_maniana.rafaga_viento_max_velocidad, alpha=0.75, range=rango_velocidad_rafaga, label='Llovieron hamburguesas al dia siguiente')\n",
    "axes[0].set_ylabel('Cantidad de mediciones')\n",
    "axes[0].set_xlabel('Velocidad del viento[km/h]')\n",
    "#axes[0].set_yscale('log')\n",
    "\n",
    "\n",
    "D1 = sns.kdeplot(\n",
    "    df_no_llovio_h_maniana.rafaga_viento_max_velocidad, \n",
    "    label=\"No llovieron hamburguesas al dia siguiente\",\n",
    "    legend=True,\n",
    "    ax=axes[1]\n",
    ")\n",
    "D1.legend()\n",
    "D2 = sns.kdeplot(\n",
    "    df_llovio_h_maniana.rafaga_viento_max_velocidad, label=\"Llovieron hamburguesas al dia siguiente\", \n",
    "    legend=True,\n",
    "    ax=axes[1]\n",
    ")\n",
    "D2.legend()\n",
    "plt.grid()\n",
    "plt.show()"
   ]
  },
  {
   "cell_type": "markdown",
   "id": "b8e53ee7-df0f-4b83-a00f-0fffeb3463a2",
   "metadata": {},
   "source": [
    "Vemos que la velocidad de dicha ráfaga tiene también una distribución similar tanto para los casos en los que llueve al dia siguiente como en los que no, ya que si bien en el histograma se ve una gran diferencia en altura por el desbalanceo de registros segun el valor del target, el density plot no hace diferencia segun la cantidad de mediciones de cada valor. \n",
    "\n",
    "En la curva de los casos en los que llovieron hamburguesas al dia siguiente se observa ligeramente mejor distribuida la densidad de mediciones, agrupando la mayoria de casos entre 30 y 70km/h. Por el contrario la curva de los casos en los que no llovieron hamburguesas al dia siguiente se distribuye en su mayoría entre los valores de  30 y 50km/h. No consideramos que la diferencia sea lo suficientemente marcada como para agregar una condición sobre esta feature en el baseline.\n",
    "\n",
    "Concluimos finalmente que ninguno de los datos respecto al viento nos da información que vayamos a utilizar para discriminar en el baseline."
   ]
  },
  {
   "cell_type": "markdown",
   "id": "c4e889af-05c7-4719-88bf-810e20d22343",
   "metadata": {},
   "source": [
    " ### 10. ¿Los máximos y mínimos de temperatura, indican algo sobre si llueven o no hamburguesas al día siguiente?"
   ]
  },
  {
   "cell_type": "code",
   "execution_count": null,
   "id": "f5177055-d48c-4d20-895e-1fc436041cc0",
   "metadata": {},
   "outputs": [],
   "source": [
    "plt.figure(dpi=120)\n",
    "plt.title(\"Distribución de la temperatura máxima según \\n si llovieron hamburguesas o no al día siguiente\")\n",
    "sns.violinplot(\n",
    "    data=df,\n",
    "    y='temp_max',\n",
    "    x='llovieron_hamburguesas_al_dia_siguiente'\n",
    "#    palette=['#D17049', \"#89D15E\"],\n",
    ")\n",
    "plt.xlabel(\"Llovieron hamburguesas al día siguiente\")\n",
    "plt.ylabel(\"Temperatura máxima  [Celcius]\")\n",
    "plt.axhline(y=35, color=\"#382119\", label=\"35\", linestyle=\"dashed\")\n",
    "plt.axhline(y=25, color=\"#E0DCD3\", label=\"25\", linestyle=\"dashed\")\n",
    "plt.axhline(y=15, color=\"#ABC3C9\", label=\"15\", linestyle=\"dashed\")\n",
    "plt.legend(title=\"Grados\")\n",
    "plt.xticks([False, True], [\"No\", \"Sí\"])\n",
    "plt.show()"
   ]
  },
  {
   "cell_type": "code",
   "execution_count": null,
   "id": "8af3e109-09cf-4729-9e23-7801eb790870",
   "metadata": {},
   "outputs": [],
   "source": [
    "plt.figure(dpi=120)\n",
    "plt.title(\"Distribución de la temperatura mínima según \\n si llovieron hamburguesas o no al día siguiente\")\n",
    "sns.violinplot(\n",
    "    data=df,\n",
    "    y='temp_min',\n",
    "    x='llovieron_hamburguesas_al_dia_siguiente'\n",
    ")\n",
    "plt.xlabel(\"Llovieron hamburguesas al día siguiente\")\n",
    "plt.ylabel(\"Temperatura mínima  [Celcius]\")\n",
    "plt.axhline(y=20, color=\"#382119\", label=\"20\", linestyle=\"dashed\")\n",
    "plt.axhline(y=5, color=\"#ABC3C9\", label=\"5\", linestyle=\"dashed\")\n",
    "plt.legend(title=\"Grados\")\n",
    "plt.xticks([False, True], [\"No\", \"Sí\"])\n",
    "plt.show()"
   ]
  },
  {
   "cell_type": "markdown",
   "id": "d656a0d4-c0dc-4574-9e3d-e07d0b859161",
   "metadata": {},
   "source": [
    "Para el caso de la temperatura máxima, observamos que la mayoría de casos donde el target es positivo, el valor de esta feature se agrupa entre 15 y 25 grados, con una gran parte del resto de sus mediciones tomando valores entre 25 y 35. Análogamente, cuando el target es negativo, esta feature también se distribuye para la mayor parte de las mediciones entre los valores 15 y 35, con la única diferencia que lo hace mas equitativamente, y no muestra el pico entre los valores 15 y 25 que se observa cuando llovieron hamburguesas al  día siguiente.\n",
    "\n",
    "Analizando la temperatura mínima, vemos aun menos diferencias entre las distribuciones gráficadas para cada valor del target, ya que tanto para cuando es positivo, como para cuando es negativo, la cantidad más grande de mediciones se agrupan en valores entre 5 y 20 grados. La única diferencia observable a simple vista es que cuando el target es negativo, la distribución es mas suave que cuando es positivo, ya que la última presenta una forma escalonada cuando alcanza temperaturas mas elevadas que 15 grados.\n",
    "\n",
    "Si bien vemos ligeras diferencias para ambas features, no son suficientemente grandes como para ser tenidas en cuenta a la hora de realizar la predicción, y por ende no lo serán."
   ]
  },
  {
   "cell_type": "markdown",
   "id": "e7778747-2e48-4187-ac3d-82951d2b0481",
   "metadata": {},
   "source": [
    "### 11. ¿Podemos encontrar alguna correlación entre la máxima temperatura en el día, y los milímetros que se evaporan de lluvia?\n",
    "Intuitivamente creemos que debería haber una correlación entre estas features, ya que a mayor temperatura el agua debería pasar antes a estado gaseoso. Intentemos visualizar su relación mediante un line-plot:"
   ]
  },
  {
   "cell_type": "code",
   "execution_count": null,
   "id": "7bb1efa0-0f7b-4bb2-9cb4-f17cd40e547f",
   "metadata": {},
   "outputs": [],
   "source": [
    "df_mm = df.sort_values(by=['mm_evaporados_agua', 'temp_max'], ascending = False)\n",
    "plt.figure(dpi=150)\n",
    "sns.lineplot(\n",
    "    data=df, x='temp_max', y='mm_evaporados_agua'\n",
    ")\n",
    "plt.show()\n",
    "print(\"Hay \" + str(len(df_mm[df_mm['mm_evaporados_agua'] > 25])) + \" mediciones que contaron con más de 25mm de agua evaporados.\") \n"
   ]
  },
  {
   "cell_type": "markdown",
   "id": "bbab25b0-ee0e-41ae-8b0b-1ced5968bf49",
   "metadata": {},
   "source": [
    "Podemos observar que los milímetros evaporados parecen escalar de forma cuasi lineal con la temperatura máxima en el día. Sin embargo, notamos que hay un gran pico de milímetros evaporados cuando la temperatura ronda los 45 grados. Podemos asociar esto a una potencial época de sequía, pero viendo que la cantidad registros que lo cumplen son menos del 1%, entonces también podría ser un caso de ruido."
   ]
  },
  {
   "cell_type": "markdown",
   "id": "46b15ca0-8035-446c-990a-586facfcfd56",
   "metadata": {},
   "source": [
    "### 12. ¿Tiene relación la humedad con la variable target?\n",
    "Para responder esta pregunta análitica, planteamos dos pares de boxplots, uno para cada momento del día"
   ]
  },
  {
   "cell_type": "code",
   "execution_count": null,
   "id": "50d7ed9d-2cd4-4673-a7f0-381fb2236b70",
   "metadata": {},
   "outputs": [],
   "source": [
    "plt.figure(dpi=120)\n",
    "plt.title(\"Distribucion de la humedad según si llovio al día siguiente o no (temprano) \")\n",
    "sns.boxplot(\n",
    "    data=df,\n",
    "    y='humedad_temprano',\n",
    "    x='llovieron_hamburguesas_al_dia_siguiente'\n",
    ")\n",
    "plt.ylabel(\"Humedad porcentual\")\n",
    "plt.xlabel(\"Llovieron hamburguesas al dia siguiente\")\n",
    "plt.axhline(y=80, color=\"blue\", label=\"%80\", alpha=0.7)\n",
    "plt.legend(title=\"Porcentaje de humedad\")\n",
    "plt.show()"
   ]
  },
  {
   "cell_type": "markdown",
   "id": "54372b6d-4608-411c-bac7-ea3d2088bbf8",
   "metadata": {},
   "source": [
    "No es observable una gran diferencia en cuanto a las distribuciones de humedad temprana. Se ve como dato notable que la mediana de humedad para cuando llueven hamburguesas al día siguiente esta donde termina el rango intercuartilico de la humedad para los dias que no llovieron hamburguesas, sin embargo no es un dato tan fuerte como para suponer afirmaciones en la baseline. Analizaremos la humedad a la tarde para ver si podemos concluir afirmaciones más precisas."
   ]
  },
  {
   "cell_type": "code",
   "execution_count": null,
   "id": "c2cb0ef8-bb81-4bf2-85a4-b8d65708fefb",
   "metadata": {},
   "outputs": [],
   "source": [
    "plt.figure(dpi=120)\n",
    "plt.title(\"Distribución de la humedad según si llovio al día siguiente o no (tarde)\")\n",
    "sns.boxplot(\n",
    "    data=df,\n",
    "    y='humedad_tarde',\n",
    "    x='llovieron_hamburguesas_al_dia_siguiente'\n",
    ")\n",
    "plt.ylabel(\"Humedad porcentual\")\n",
    "plt.xlabel(\"Llovieron hamburguesas al dia siguiente\")\n",
    "plt.axhline(y=60, color=\"blue\", label=\"%60\", alpha=0.7)\n",
    "plt.axhline(y=84, color=\"red\", label=\"%84\", alpha=0.7)\n",
    "plt.legend(title=\"Porcentaje de humedad\")\n",
    "plt.xticks([False, True], [\"No\", \"Sí\"])\n",
    "plt.show()"
   ]
  },
  {
   "cell_type": "markdown",
   "id": "59261ca0-1f3b-4ead-9688-29161ab5e054",
   "metadata": {},
   "source": [
    "En este caso se ve una diferencia mucho más clara, ya que donde termina el rango intercuartilico de los casos en los que no llueven hamburguesas al día siguiente, \n",
    "esta próximo al inicio del rango intercuartilico de los casos en los que si llueven al día siguiente. Entonces podemos suponer que si la humedad a la tarde es aproximadamente mayor a 80%, es probable que al día siguiente lluevan hamburguesas."
   ]
  },
  {
   "cell_type": "markdown",
   "id": "ab105db9-61da-4dba-9ece-3e5b9bcb66a1",
   "metadata": {},
   "source": [
    "### 13. ¿Encontraremos alguna correlacion entre humedad, temperatura y el target, tal cual indicaría el sentido común?\n",
    "En el clima de nuestra región es intuitivo pensar que para temperaturas y humedades altas, aumenta la probabilidad de que llueva, sin embargo el target no se trata de una lluvia común y corriente si no de una lluvia de hamburguesas y por ende no podemos confiar en la lógica y el sentido común. Debemos realizar un análisis mas riguroso, para lo cual planteamos un scatter plot que relaciona la humedad en el eje X, la temperatura en el eje Y, y la variable target en el color de los puntos, uno para cada momento del día (temprano y tarde)."
   ]
  },
  {
   "cell_type": "code",
   "execution_count": null,
   "id": "fdc74c46-8677-4a30-9f04-b901a32cb232",
   "metadata": {},
   "outputs": [],
   "source": [
    "fig, ax = plt.subplots(dpi=150)\n",
    "\n",
    "df_copia = df.copy()\n",
    "df_copia['llovieron_hamburguesas_al_dia_siguiente'].replace(['no','si'],[0,1],inplace=True)\n",
    "df_copia = df_copia.dropna(subset = ['llovieron_hamburguesas_al_dia_siguiente'])\n",
    "\n",
    "sns.scatterplot(\n",
    "    x='humedad_temprano',\n",
    "    y='temperatura_temprano',\n",
    "    hue=df_copia['llovieron_hamburguesas_al_dia_siguiente'].tolist(),\n",
    "    data=df_copia,\n",
    "    alpha=0.7,\n",
    ")\n",
    "ax.legend(title=\"Llovieron hamburguesas al dia siguiente\")\n",
    "plt.xlabel(\"Humedad\")\n",
    "plt.ylabel(\"Temperatura\")\n",
    "plt.title('Relación humedad - temperatura (temprano)')\n",
    "plt.show()"
   ]
  },
  {
   "cell_type": "code",
   "execution_count": null,
   "id": "c931360c-fab8-437e-b6ca-931de4bcc9e1",
   "metadata": {},
   "outputs": [],
   "source": [
    "fig, ax = plt.subplots(dpi=150)\n",
    "\n",
    "df_copia = df.copy()\n",
    "df_copia['llovieron_hamburguesas_al_dia_siguiente'].replace(['no','si'],[0,1],inplace=True)\n",
    "df_copia = df_copia.dropna(subset = ['llovieron_hamburguesas_al_dia_siguiente'])\n",
    "\n",
    "sns.scatterplot(\n",
    "    x='humedad_tarde',\n",
    "    y='temperatura_tarde',\n",
    "    hue=df_copia['llovieron_hamburguesas_al_dia_siguiente'].tolist(),\n",
    "    data=df_copia,\n",
    "    alpha=0.7,\n",
    ")\n",
    "ax.legend(title=\"Llovieron hamburguesas al dia siguiente\")\n",
    "plt.xlabel(\"Humedad\")\n",
    "plt.ylabel(\"Temperatura\")\n",
    "plt.title('Relación humedad - temperatura (tarde)')\n",
    "plt.show()"
   ]
  },
  {
   "cell_type": "markdown",
   "id": "f1a16e9d-fba4-4332-b243-5dba31dad818",
   "metadata": {},
   "source": [
    "Para ámbos momentos del día podemos observar de manera difusa y poco clara una relación lineal decreciente entre temperatura y humedad. \n",
    "\n",
    "En el gráfico del momento del día temprano, la mayoría de puntos indican que al día siguiente no llovieron hamburguesas. Solo para humedades muy altas (más de 80%) y temperaturas de entre 20 y 30 grados celsius vemos una leve predominancia de lluvia de hamburguesas al día siguiente. También vemos casos separados del grupo mencionado para todas las humedades, así que el primer gráfico no nos parece lo suficientemente conclusivo.\n",
    "\n",
    "En cambio, para el gráfico del momento del día tarde, vemos una separación mas clara de los puntos en cuanto al target se refiere, siendo que la mayoría de casos donde el target es positivo se agrupan para humedades altas, de entre 70-100%, y la mayoría de casos donde dicha feature es negativa, se agrupan para valores mucho menores de humedad. \n",
    "\n",
    "Esto tiene sentido ya que la tarde esta mucho mas cercana del día siguiente que la mañana, es decir, si a la mañana hay una humedad alta, esta tiene mas posibilidades de cambiar antes del día siguiente que la humedad de la tarde, dejando de afectar al target."
   ]
  },
  {
   "cell_type": "markdown",
   "id": "58716598-16d0-4fb6-8d39-ab7090a3982a",
   "metadata": {},
   "source": [
    "### 14. ¿Es observable una correlación entre la presión atmosférica y el target?"
   ]
  },
  {
   "cell_type": "code",
   "execution_count": null,
   "id": "fe59ed1e-35f5-4ca4-91e8-cd20fce65160",
   "metadata": {},
   "outputs": [],
   "source": [
    "plt.figure(dpi=120)\n",
    "plt.title(\"Distribución de la presión atmosférica temprana \\n si llovieron hamburguesas o no al día siguiente\")\n",
    "sns.violinplot(\n",
    "    data=df,\n",
    "    y='presion_atmosferica_temprano',\n",
    "    x='llovieron_hamburguesas_al_dia_siguiente'\n",
    ")\n",
    "plt.xlabel(\"Llovieron hamburguesas al día siguiente\")\n",
    "plt.ylabel(\"Presión atmosférica [hPa]\")\n",
    "plt.xticks([False, True], [\"No\", \"Sí\"])\n",
    "plt.show()"
   ]
  },
  {
   "cell_type": "code",
   "execution_count": null,
   "id": "c4c57a11-b147-4f4f-9283-f4d2bf984925",
   "metadata": {},
   "outputs": [],
   "source": [
    "plt.figure(dpi=120)\n",
    "plt.title(\"Distribución de la presión atmosférica a la tarde \\n si llovieron hamburguesas o no al día siguiente\")\n",
    "\n",
    "df_aux = df.explode('presion_atmosferica_tarde')\n",
    "df_aux['presion_atmosferica_tarde'] = df_aux['presion_atmosferica_tarde'].astype('float')\n",
    "\n",
    "sns.violinplot(\n",
    "    data=df_aux,\n",
    "    y='presion_atmosferica_tarde',\n",
    "    x='llovieron_hamburguesas_al_dia_siguiente'\n",
    ")\n",
    "plt.xlabel(\"Llovieron hamburguesas al día siguiente\")\n",
    "plt.ylabel(\"Presión atmosférica [hPa]\")\n",
    "plt.xticks([False, True], [\"No\", \"Sí\"])\n",
    "plt.show()"
   ]
  },
  {
   "cell_type": "markdown",
   "id": "fb11fd65-2be4-402a-86f5-64ba5d1b4143",
   "metadata": {},
   "source": [
    "Podemos ver que la feature de presíon atmosférica para ámbos momentos del día no muestra una fuerte correlación con la lluvia de hamburguesas al día siguiente, y esto se debe a que tanto para el momento temprano y el momento tarde, para los valores de 'si' y 'no' del target la mayoría de mediciones se agrupa entre los valores 1000 y 1030 hPa de una manera equitativa. La diferencia que se observa es un mínimo desplazamiento de unos pocos hPa hacia abajo cuando el target es positivo, pero es tan pequeño el desplazamiento que no sería correcto considerarlo como una diferencia significante.\n",
    "\n",
    "Obtenemos como conclusión que esta feature no influye en el target y no será tenida en cuenta a la hora de predecirlo."
   ]
  },
  {
   "cell_type": "markdown",
   "id": "e819b596-92a0-48bf-a2df-4b96d462d9d1",
   "metadata": {},
   "source": [
    "### 15. ¿Qué correlaciones encontramos entre horas_de_sol, nubosidad_tarde y el target?"
   ]
  },
  {
   "cell_type": "markdown",
   "id": "6ecb9bf2-2218-4063-8882-039800cf1bc2",
   "metadata": {},
   "source": [
    "Los features horas_de_sol y nubosidad_tarde fueron de interés durante el proceso de visualización, a pesar de tener un gran número de missings. Debido a esto puede ser útil visualizar la relación entre sí y a su vez con el target llovieron_hamburguesas_al_dia_siguiente. Además observando la nubosidad, nos dimos cuenta que solo consta de números enteros del 0 al 9, por lo que podríamos considerar que ya fue discretizada y es posible usarla en un heatmap.\n",
    "\n",
    "Para poder compararla con las horas de sol, primero categorizaremos estas mismas según rangos:"
   ]
  },
  {
   "cell_type": "code",
   "execution_count": null,
   "id": "b4a64b63-e467-4472-9803-1d906d7ebe64",
   "metadata": {},
   "outputs": [],
   "source": [
    "def categorizar_horas_sol(horas_de_sol):\n",
    "    if horas_de_sol < 2:\n",
    "        return 'Menos de 2'\n",
    "    elif horas_de_sol < 4:\n",
    "        return 'Entre 2 y 4'\n",
    "    elif horas_de_sol < 6:\n",
    "        return 'Entre 4 y 6'\n",
    "    elif horas_de_sol < 8:\n",
    "        return 'Entre 6 y 8'\n",
    "    elif horas_de_sol < 10:\n",
    "        return 'Entre 8 y 10'\n",
    "    elif horas_de_sol < 12:\n",
    "        return 'Entre 10 y 12'\n",
    "    elif horas_de_sol < 14:\n",
    "        return 'Entre 12 y 14'\n",
    "    return 'Más de 14'"
   ]
  },
  {
   "cell_type": "code",
   "execution_count": null,
   "id": "28644db9-d331-4062-aa63-6b71820f0dcd",
   "metadata": {},
   "outputs": [],
   "source": [
    "df_copia = df.copy()\n",
    "df_copia['rango_horas_sol'] = df_copia['horas_de_sol'].apply(categorizar_horas_sol)\n",
    "df_copia['llovieron_hamburguesas_al_dia_siguiente'] = df_copia['llovieron_hamburguesas_al_dia_siguiente'].map({'si': 1, 'no': 0})\n",
    "\n",
    "correlacion_sol_nubes = pd.pivot_table(data=df_copia, index = 'rango_horas_sol',values = 'llovieron_hamburguesas_al_dia_siguiente', columns = 'nubosidad_tarde')\n",
    "correlacion_sol_nubes.sort_index(ascending =  False, inplace = True)\n",
    "correlacion_sol_nubes = correlacion_sol_nubes.reindex(['Más de 14', 'Entre 12 y 14','Entre 10 y 12','Entre 8 y 10','Entre 6 y 8','Entre 4 y 6','Entre 2 y 4','Menos de 2'], axis=0)\n",
    "display(correlacion_sol_nubes)\n",
    "df_copia[df_copia.nubosidad_tarde > 8]"
   ]
  },
  {
   "cell_type": "markdown",
   "id": "0eec8086-20ef-4215-922f-73e74ef34260",
   "metadata": {},
   "source": [
    "Al observar la matriz de correlaciones vemos que la columna de nubosidad_tarde de valor 9 tiene la mayoría de valores en nulo, esto se debe que solo hay un registro en el dataset con valor de nubosidad mayor a 8 y no será tenido en cuenta a la hora de graficar el heatmap."
   ]
  },
  {
   "cell_type": "code",
   "execution_count": null,
   "id": "1f7379eb-462c-4e1d-a94c-0487c741eefa",
   "metadata": {},
   "outputs": [],
   "source": [
    "fig = plt.figure(dpi=150)\n",
    "\n",
    "df_copia = df_copia[df_copia.nubosidad_tarde <= 8]\n",
    "correlacion_sol_nubes_2 = pd.pivot_table(data=df_copia, index = 'rango_horas_sol',values = 'llovieron_hamburguesas_al_dia_siguiente', columns = 'nubosidad_tarde')\n",
    "correlacion_sol_nubes_2.sort_index(ascending =  False, inplace = True)\n",
    "correlacion_sol_nubes_2 = correlacion_sol_nubes_2.reindex(['Más de 14', 'Entre 12 y 14','Entre 10 y 12','Entre 8 y 10','Entre 6 y 8','Entre 4 y 6','Entre 2 y 4','Menos de 2'], axis=0)\n",
    "\n",
    "mascara = correlacion_sol_nubes_2.isnull()\n",
    "\n",
    "cmap=\"YlGnBu\"\n",
    "g = sns.heatmap(correlacion_sol_nubes_2,  annot = True, annot_kws={\"fontsize\":7},cmap=\"YlGnBu\" )\n",
    "plt.xlabel(\"Nubosidad tarde\")\n",
    "plt.ylabel(\"Horas de Sol\")\n",
    "plt.title('Relación nubosidad tarde - horas de sol, y llovieron hamburguesas al dia siguiente')\n",
    "plt.show()"
   ]
  },
  {
   "cell_type": "markdown",
   "id": "54c5f946-b1f2-43f7-98e1-3ce9eb3860c4",
   "metadata": {},
   "source": [
    "Podemos inmediatamente ver que cuando hay alta nubosidad a la tarde y pocas horas de sol en el día, se presentan condiciones favorables para que lluevan hamburguesas al día siguiente. Los gradientes en el heatmap nos dan a entender que estas features están inversamente correlacionadas, y podremos tomar provecho de esto una vez planteadas nuestras conclusiones. Sin embargo hay algunas excepciones, que nos dan a entender que la nubosidad esta más correlacionada con el target que horas de sol, y estos son los casos donde nubosidad toma valores de 6 en adelante, y horas de sol toma valores mayores a 14. En estas 3 secciones se rompe la relación de proporcionalidad inversa ya que el porcentaje de target positivo toma valores más elevados, similares a cuando las horas de sol toman valores entre 2 y 4, y por ende se termina observando algo más similar a una proporcionalidad directa."
   ]
  },
  {
   "cell_type": "markdown",
   "id": "92effe1c-c80c-422b-abe1-71a0aca203c5",
   "metadata": {},
   "source": [
    "### 16. ¿Cómo se comporta el target cuando las features que prometen mejor predicción están todas en valores nulos?"
   ]
  },
  {
   "cell_type": "markdown",
   "id": "00522aa5-3665-4253-a68c-0c81cd60df33",
   "metadata": {},
   "source": [
    "Queremos ver qué sucede con el target cuando simultáneamente se encuentran todas nuestras variables candidatas del baseline en un estado nulo."
   ]
  },
  {
   "cell_type": "code",
   "execution_count": null,
   "id": "5c16a192-c59a-4c94-9cb7-e50dbbeb7737",
   "metadata": {},
   "outputs": [],
   "source": [
    "plt.figure(figsize=(5.4, 3.8), dpi=150)\n",
    "\n",
    "df_triple_missing = df[(df['horas_de_sol'].isna() & df['nubosidad_tarde'].isna() & df['humedad_tarde'].isna())]\n",
    "\n",
    "labels = ['No', 'Si']\n",
    "sizes = df['llovieron_hamburguesas_al_dia_siguiente'].value_counts()\n",
    "explode = (0, 0.1)\n",
    "plt.title('Llueven hamburguesas al dia siguiente')\n",
    "plt.pie(sizes, explode=explode, data = df['llovieron_hamburguesas_al_dia_siguiente'],labels = labels , autopct='%1.1f%%',\n",
    "        shadow=True, startangle=90)\n",
    "plt.show()\n",
    "\n",
    "\n",
    "plt.figure(figsize=(5.4, 3.8), dpi=150)\n",
    "labels = ['No', 'Si']\n",
    "sizes = df_triple_missing['llovieron_hamburguesas_al_dia_siguiente'].value_counts()\n",
    "explode = (0, 0.1)\n",
    "plt.title('Llueven hamburguesas al dia siguiente cuando \\n las tres features de interés están missing')\n",
    "plt.pie(sizes, explode=explode, data = df_triple_missing['llovieron_hamburguesas_al_dia_siguiente'],labels = labels , autopct='%1.1f%%',\n",
    "        shadow=True, startangle=90)\n",
    "\n",
    "plt.show()"
   ]
  },
  {
   "cell_type": "markdown",
   "id": "a29f0e73-8bad-4249-a19a-1cf545d529d1",
   "metadata": {},
   "source": [
    "Podemos ver que hay una diferencia porcentual de alrededor del 5% a favor del valor 'Si' cuando dichas tres features están en missing, si lo comparamos con el dataframe entero. Debido a esto, tomaremos la decisión de no droppear dichos registros a la hora de formar una baseline."
   ]
  },
  {
   "cell_type": "markdown",
   "id": "c02f4413-6964-4297-8fed-b79e67667702",
   "metadata": {},
   "source": [
    "### 17. ¿Cómo afecta al target la cantidad de features nulas en una medición?"
   ]
  },
  {
   "cell_type": "code",
   "execution_count": null,
   "id": "7efe4554-dde4-4fdb-8ebf-c91127ae46ef",
   "metadata": {},
   "outputs": [],
   "source": [
    "df_copia = df.copy()\n",
    "df_copia['cantidad_features_null'] = df_copia.isnull().sum(axis=1)\n",
    "\n",
    "lluvurguesas_features_null = df_copia.groupby(by=\"cantidad_features_null\")['llovieron_hamburguesas_al_dia_siguiente'].value_counts(normalize=True)\n",
    "lluvurguesas_features_null = lluvurguesas_features_null.to_frame()\n",
    "lluvurguesas_features_null.rename(columns={'llovieron_hamburguesas_al_dia_siguiente':'porcentaje_feature_missing'},inplace=True)\n",
    "lluvurguesas_features_null.reset_index(inplace=True)\n",
    "g = sns.catplot(\n",
    "    data=lluvurguesas_features_null, kind=\"bar\",\n",
    "    x=\"cantidad_features_null\", y=\"porcentaje_feature_missing\", hue=\"llovieron_hamburguesas_al_dia_siguiente\",\n",
    "    ci=None, height=8,aspect=2\n",
    ")\n",
    "\n",
    "plt.title(\"Porcentaje de lluvia de hamburguesas al dia siguiente \\n según la cantidad de missings en mediciones\", fontsize=18)\n",
    "g.despine(left=True)\n",
    "plt.ylim(0,1)\n",
    "plt.xticks(rotation=90)\n",
    "g.set_axis_labels(\"Cantidad de missings en registro\", \"Porcentaje de lluvia de hamburguesas al dia siguiente\",  fontsize=15)\n",
    "plt.show()"
   ]
  },
  {
   "cell_type": "markdown",
   "id": "d71eb5ff-6e91-40d5-b809-2ce82e24fb71",
   "metadata": {},
   "source": [
    "Podemos detectar una anomalía cuando hay exactamente 13 valores nulos en las mediciones. Cuando esto sucede, el target se encuentra predominantemente en el valor \"Sí\" de una forma desproporcionada, y contradiciendo a la media del dataset. Esto podría tratarse de ruido en mediciones que fueron de poca calidad, así que observamos en cuántos registros pasa esto para determinar si los excluiremos del dataset:"
   ]
  },
  {
   "cell_type": "code",
   "execution_count": null,
   "id": "3d0ebe3a-3cbb-4eda-979f-69bab1988d5f",
   "metadata": {},
   "outputs": [],
   "source": [
    "cantidad_13_nulos = len(df_copia[df_copia['cantidad_features_null'] == 13])\n",
    "porcentaje_13_nulos = (len(df_copia[df_copia['cantidad_features_null'] == 13]) / len(df_copia)) * 100\n",
    "print(\"La cantidad de mediciones con 13 features en missing fue: \" + str(cantidad_13_nulos))\n",
    "print(\"Del total, esto es un : \" + str(round(porcentaje_13_nulos, 4)) + \"%\")"
   ]
  },
  {
   "cell_type": "markdown",
   "id": "31ae62ff-84cc-49a9-99fb-92ff86277eaa",
   "metadata": {},
   "source": [
    "Al haber sido un porcentaje tan bajo del total, podemos con confianza tomar el criterio de eliminar estos registros sospechosos antes de confeccionar la baseline."
   ]
  },
  {
   "cell_type": "markdown",
   "id": "62e3b68a-3899-4bc6-adbc-3104bc900eb4",
   "metadata": {},
   "source": [
    "### 18. ¿Son de utilidad las mediciones donde el target tiene el valor NaN?"
   ]
  },
  {
   "cell_type": "markdown",
   "id": "7a79edeb-afeb-4f5a-aaa1-f3f38c633908",
   "metadata": {},
   "source": [
    "Recordando como se ve a continuación, que el porcentaje de missings en la variable target es relativamente bajo, es válido plantearnos si seria conveniente droppear del dataset los registros que tengan un NaN en la variable target."
   ]
  },
  {
   "cell_type": "code",
   "execution_count": null,
   "id": "b8afc0ec-0bdc-45b2-98d4-f2e70e8228f8",
   "metadata": {},
   "outputs": [],
   "source": [
    "df_con_nulos = df_nulos[df_nulos['Cantidad de nulos'] > 0]\n",
    "df_con_nulos.sort_values(by=['Porcentaje de nulos']).head()"
   ]
  },
  {
   "cell_type": "markdown",
   "id": "0bd2a1f1-963a-4df2-8a20-b914b6c41e77",
   "metadata": {},
   "source": [
    "Como podemos ver, llovieron_hamburguesas_al_dia_siguiente tiene missings en un ~2.3% de los registros del dataset, por lo que no sería a primera vista muy grave droppear aquellas mediciones con el target en NaN. Sin embargo, también es de importancia tener en cuenta que a la hora de predecir el target en nuestro algoritmo no tendremos con qué comparar la estimación de dicho algoritmo si la feature pertinente se encuentra en NaN. Esto nos resulta un importante indicativo de que terminaremos ignorando en el baseline las mediciones con missings en el target. \n",
    "\n",
    "Aun así, vamos a comparar para estar seguros las distribuciones de las feature humedad_tarde, horas_sol y nubosidad_tarde cuando el target está en NaN contra cuando no. Ya que estas features son las que nosotros consideramos con mejor potencial de predicción, si no tienen un cambio radical de comportamiento cuando el target tiene missings, entonces procederemos a droppear dichos registros."
   ]
  },
  {
   "cell_type": "code",
   "execution_count": null,
   "id": "6990ccd2-114c-4f14-b427-b1f79a1ebbfb",
   "metadata": {},
   "outputs": [],
   "source": [
    "fig = plt.figure(figsize=[6.4 * 2, 4.8], dpi=100)\n",
    "\n",
    "df_target_missings = df[(df['llovieron_hamburguesas_al_dia_siguiente'].isna())]\n",
    "df_target_completo = df[(df['llovieron_hamburguesas_al_dia_siguiente'].isna() == False)] \n",
    "\n",
    "plt.hist(df_target_completo.humedad_tarde, label='Humedad cuando el target tiene valor')\n",
    "plt.hist(df_target_missings.humedad_tarde, alpha=0.75, label='Humedad cuando el target es nulo')\n",
    "plt.yscale(\"log\")\n",
    "\n",
    "plt.ylabel(\"Cantidad\")\n",
    "plt.xlabel(\"Humedad\")\n",
    "\n",
    "plt.legend()\n",
    "plt.show()"
   ]
  },
  {
   "cell_type": "markdown",
   "id": "971ffe90-30c5-4b9c-a3ce-eb0e5ba570bc",
   "metadata": {},
   "source": [
    "Vemos que a pesar de ser una cantidad mucho menor de registros (lo cuál es esperado habiendo solo un 2.3% de missings en el target), se mantiene la forma de la distribución de humedad a pesar de no conocer el valor de llovieron_hamburguesas_al_dia_siguiente. Comprobemos qué sucede con las horas de sol:"
   ]
  },
  {
   "cell_type": "code",
   "execution_count": null,
   "id": "7cc441e6-cd5b-4db8-87e4-40192fd90d27",
   "metadata": {},
   "outputs": [],
   "source": [
    "fig = plt.figure(figsize=[6.4 * 2, 4.8], dpi=100)\n",
    "\n",
    "plt.hist(df_target_completo.horas_de_sol, label='Horas de sol cuando el target tiene valor')\n",
    "plt.hist(df_target_missings.horas_de_sol, alpha=0.75, label='Horas de sol cuando el target es nulo')\n",
    "plt.yscale(\"log\")\n",
    "\n",
    "plt.ylabel(\"Cantidad\")\n",
    "plt.xlabel(\"Horas de sol\")\n",
    "\n",
    "plt.legend()\n",
    "plt.show()"
   ]
  },
  {
   "cell_type": "markdown",
   "id": "2bf59df4-b88d-49d5-9f59-0b3c4f704a24",
   "metadata": {},
   "source": [
    "En el caso de las horas de sol, tenemos una situación similar donde la forma de la distribución se mantiene independientemente de los missings del target, si bien obviamente la escala sigue siendo muy distinta. Pasemos a analizar la nubosidad:"
   ]
  },
  {
   "cell_type": "code",
   "execution_count": null,
   "id": "07a38e11-16e4-4ceb-989b-76d439909cc1",
   "metadata": {},
   "outputs": [],
   "source": [
    "fig = plt.figure(figsize=[6.4 * 2, 4.8], dpi=100)\n",
    "\n",
    "plt.hist(df_target_completo.nubosidad_tarde,range=[0,9], label='Nubosidad a la tarde cuando el target tiene valor')\n",
    "plt.hist(df_target_missings.nubosidad_tarde,range=[0,9], alpha=0.75, label='Nubosidad a la tarde cuando el target es nulo')\n",
    "plt.yscale(\"log\")\n",
    "\n",
    "plt.ylabel(\"Cantidad\")\n",
    "plt.xlabel(\"Nubosidad a la tarde\")\n",
    "\n",
    "plt.legend()\n",
    "plt.show()"
   ]
  },
  {
   "cell_type": "markdown",
   "id": "4491edc1-19c8-458a-9d69-6da766ca5762",
   "metadata": {},
   "source": [
    "En este caso la diferencia de escalas es mucho más grosera, pues podemos ver que para nubosidades muy bajas tenemos una cantidad de registros que ronda los dígitos dobles si el target es nulo, mientras que cuando no es nulo tenemos alrededor de 4000 registros con dicho valor de nubosidad.\n",
    "\n",
    "A pesar de esto, sigue sin ser una visualización que nos indique una correlación entre la existencia de un valor concreto del target y la nubosidad, por lo que nuevamente se refuerza nuestra hipótesis, e ignoraremos del dataset aquellos registros donde el target sea nulo."
   ]
  },
  {
   "cell_type": "markdown",
   "id": "bdfe9176-a4b4-4f70-af90-66b2aa22c632",
   "metadata": {},
   "source": [
    "# Conclusiones de la visualizacion y análisis:\n",
    " * La humedad de la tarde parece ser una buena indicadora de la variable target, siendo así que será considerada como feature principal de predicción dentro de nuestra baseline.\n",
    " * Las features horas de sol y de nubosidades, a pesar de tener una gran cantidad de missings, fueron destacadas ya que también discriminan de manera clara los casos en los que llueven hamburguesas al día siguiente de los que no.\n",
    " * La feature \"llovieron_hamburguesas_hoy\" también sera considerada para predecir el target ya que cuando su valor es 'si', la probabilidad de que llovieron_hamburguesas_al_dia_siguiente sea positiva aumenta drásticamente con respecto a cuando no.\n",
    " * Hay una gran cantidad de features de las cuales no pudimos sacar conclusiones que nos ayuden a predecir el valor de la variable target ya que poseian una distribución equitativa en todos sus valores posibles, para ambos valores del target."
   ]
  },
  {
   "cell_type": "markdown",
   "id": "043e536d-1d56-4562-8aef-942afd4ff761",
   "metadata": {},
   "source": [
    "# Baselines posibles\n",
    "### Comencemos por definir una serie de baselines posibles según nuestro análisis previo, con el objetivo de intentar predecir la variable target."
   ]
  },
  {
   "cell_type": "markdown",
   "id": "3eca6e87-2fee-4500-82e2-58a493cba602",
   "metadata": {},
   "source": [
    "#### Para esto primero crearemos una función de preprocesamiento, la cuál se encargará de:\n",
    "    1. Droppear del dataset los registros que tengan un NaN en la variable target, por lo cual no podemos saber si nuestra predicción está bien o no, ni aprender nada de ellos.\n",
    "    2. Droppear del dataset los registros que tengan exactamente 13 de campos en NaN, los cuales consideramos mediciones de poca calidad e incompletas. Para esto, tomamos como treshold tener 12 no nulos. "
   ]
  },
  {
   "cell_type": "code",
   "execution_count": null,
   "id": "9b9e7141-29e5-4232-8032-bc16d592e36d",
   "metadata": {},
   "outputs": [],
   "source": [
    "def preprocesar_df(df_raw:pd.DataFrame):\n",
    "    df_raw = df_raw.dropna(subset=['llovieron_hamburguesas_al_dia_siguiente'])\n",
    "    df_raw = df_raw.dropna(thresh = len(df_raw.columns) - 12)\n",
    "    return df_raw"
   ]
  },
  {
   "cell_type": "markdown",
   "id": "86fdea81-b2b0-4ed3-bda0-e4f523660356",
   "metadata": {},
   "source": [
    "#### Una vez definida la función de preprocesamiento, programamos una serie de diferentes baselines que intuimos superaran el 80% de accuracy al predecir el target:"
   ]
  },
  {
   "cell_type": "code",
   "execution_count": null,
   "id": "8160a287-ffe6-4265-8f9e-fad328ca18f8",
   "metadata": {},
   "outputs": [],
   "source": [
    "def baseline(df_baseline:pd.DataFrame):\n",
    "    \n",
    "    llovio_h_hoy = (df_baseline['llovieron_hamburguesas_hoy'] == 'si')\n",
    "    \n",
    "    alta_humedad_tarde = (df_baseline['humedad_tarde'] >= 79)\n",
    "    horas_sol_bajas = (df_baseline['horas_de_sol'] <= 7.5)\n",
    "    alta_nubosidad_tarde = (df_baseline['nubosidad_tarde'] >= 7.1)\n",
    "    \n",
    "    df_baseline['prediccion_llueven_h_al_dia_siguiente'] = 'no'\n",
    "    df.loc[alta_humedad_tarde, 'prediccion_llueven_h_al_dia_siguiente'] = 'si'\n",
    "    df.loc[llovio_h_hoy & alta_nubosidad_tarde & horas_sol_bajas, 'prediccion_llueven_h_al_dia_siguiente'] = 'si'\n",
    "    \n",
    "    resultado =  df_baseline['prediccion_llueven_h_al_dia_siguiente'].values.tolist()\n",
    "    df_baseline.drop(columns=['prediccion_llueven_h_al_dia_siguiente']) #remuevo la columna de predicciones para no alterar el df original\n",
    "    return resultado\n",
    "\n",
    "def baseline_2(df_baseline:pd.DataFrame):\n",
    "    \n",
    "    alta_humedad_tarde = (df_baseline['humedad_tarde'] >= 79)\n",
    "    \n",
    "    df_baseline['prediccion_llueven_h_al_dia_siguiente'] = 'no'\n",
    "    df.loc[alta_humedad_tarde, 'prediccion_llueven_h_al_dia_siguiente'] = 'si'\n",
    "    \n",
    "    resultado =  df_baseline['prediccion_llueven_h_al_dia_siguiente'].values.tolist()\n",
    "    df_baseline.drop(columns=['prediccion_llueven_h_al_dia_siguiente'])\n",
    "    return resultado\n",
    "\n",
    "def baseline_3(df_baseline:pd.DataFrame):\n",
    "    \n",
    "    llovio_h_hoy = (df_baseline['llovieron_hamburguesas_hoy'] == 'si')\n",
    "    alta_humedad_tarde = (df_baseline['humedad_tarde'] >= 79)\n",
    "    alta_nubosidad_tarde = (df_baseline['nubosidad_tarde'] >= 7.1)\n",
    "\n",
    "    df_baseline['prediccion_llueven_h_al_dia_siguiente'] = 'no'\n",
    "    df.loc[alta_humedad_tarde, 'prediccion_llueven_h_al_dia_siguiente'] = 'si'\n",
    "    df.loc[llovio_h_hoy & alta_nubosidad_tarde , 'prediccion_llueven_h_al_dia_siguiente'] = 'si'\n",
    "    \n",
    "    resultado =  df_baseline['prediccion_llueven_h_al_dia_siguiente'].values.tolist()\n",
    "    df_baseline.drop(columns=['prediccion_llueven_h_al_dia_siguiente']) #remuevo la columna de predicciones para no alterar el df original\n",
    "    return resultado"
   ]
  },
  {
   "cell_type": "markdown",
   "id": "5deea80c-2867-4d0c-ba80-b02781289db5",
   "metadata": {},
   "source": [
    "# Predicción según baselines\n",
    "### Pasamos entonces a probar las funciones baselines definidas y a comparar las accuracies resultantes:"
   ]
  },
  {
   "cell_type": "markdown",
   "id": "1dd7163f-4b0f-4f40-913a-fd8b3720216f",
   "metadata": {},
   "source": [
    "Para el primer baseline, que tiene en cuenta principalmente la feature humedad_tarde, y luego también predice que llueve al dia siguiente para aquellas filas donde haya alta nubosidad a la tarde, bajas horas de sol, y haya llovido hamburguesas hoy, la accuracy resulta:"
   ]
  },
  {
   "cell_type": "code",
   "execution_count": null,
   "id": "9de63dbe-df11-4281-9ad6-72ee67944fc9",
   "metadata": {},
   "outputs": [],
   "source": [
    "df = preprocesar_df(df_original)\n",
    "(baseline(df) == df['llovieron_hamburguesas_al_dia_siguiente']).mean().round(4)"
   ]
  },
  {
   "cell_type": "markdown",
   "id": "604677fc-369e-4ca4-b887-829136ab8aa3",
   "metadata": {},
   "source": [
    "Para el segundo baseline, que se guia únicamente en si hubo una alta humedad a la tarde o no, la accuracy resulta:"
   ]
  },
  {
   "cell_type": "code",
   "execution_count": null,
   "id": "cae872c8-4bb3-402a-b96a-fc9341ae0fdb",
   "metadata": {},
   "outputs": [],
   "source": [
    "df = preprocesar_df(df_original)\n",
    "(baseline_2(df) == df['llovieron_hamburguesas_al_dia_siguiente']).mean().round(4)"
   ]
  },
  {
   "cell_type": "markdown",
   "id": "b6b5e45b-24fa-4ad4-bb1a-8c2a714475f2",
   "metadata": {},
   "source": [
    "Finalmente nuestro tercer baseline es muy parecido al primero, con la diferencia de ignorar las horas de sol:"
   ]
  },
  {
   "cell_type": "code",
   "execution_count": null,
   "id": "15bcfd9c-a2cb-428a-9b0e-915858a467ef",
   "metadata": {},
   "outputs": [],
   "source": [
    "df = preprocesar_df(df_original)\n",
    "(baseline_3(df) == df['llovieron_hamburguesas_al_dia_siguiente']).mean().round(4)"
   ]
  },
  {
   "cell_type": "markdown",
   "id": "8a1ca53f-4adc-4db1-ae81-15bb7de021e8",
   "metadata": {},
   "source": [
    "### Se observa que en caso de tener que elegir entre nuestros baselines, aquel con un puntaje de accuracy más elevado, entonces se utilizaría el primero. Sin embargo consideramos de alta importancia notar que el segundo baseline es solamente un 0,1% menos preciso, siendo a su vez más simple por necesitar solamente de la feature humedad_tarde para predecir."
   ]
  }
 ],
 "metadata": {
  "kernelspec": {
   "display_name": "Python 3 (ipykernel)",
   "language": "python",
   "name": "python3"
  },
  "language_info": {
   "codemirror_mode": {
    "name": "ipython",
    "version": 3
   },
   "file_extension": ".py",
   "mimetype": "text/x-python",
   "name": "python",
   "nbconvert_exporter": "python",
   "pygments_lexer": "ipython3",
   "version": "3.8.2"
  }
 },
 "nbformat": 4,
 "nbformat_minor": 5
}

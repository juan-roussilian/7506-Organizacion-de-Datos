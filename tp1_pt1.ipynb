{
 "cells": [
  {
   "cell_type": "code",
   "execution_count": 1,
   "id": "7d7ed354-d0ea-439a-b79e-ad86ed6aed0c",
   "metadata": {},
   "outputs": [],
   "source": [
    "import pandas as pd\n",
    "import numpy as np\n",
    "import requests\n",
    "from matplotlib import pyplot as plt\n",
    "import seaborn as sns\n",
    "from sklearn.metrics import accuracy_score\n",
    "from pandas_profiling import ProfileReport"
   ]
  },
  {
   "cell_type": "code",
   "execution_count": null,
   "id": "70bc0422-b63d-4af7-b982-a21aa412dc93",
   "metadata": {},
   "outputs": [],
   "source": [
    "df_1 = pd.read_csv(\n",
    "    'https://docs.google.com/spreadsheets/d/1gvZ03uAL6THwd04Y98GtIj6SeAHiKyQY5UisuuyFSUs/export?format=csv', low_memory=False\n",
    ")\n",
    "df_2 = pd.read_csv(\n",
    "    'https://docs.google.com/spreadsheets/d/1wduqo5WyYmCpaGnE81sLNGU0VSodIekMfpmEwU0fGqs/export?format=csv', low_memory=False\n",
    ")\n",
    "pd.options.display.max_columns = None\n",
    "\n",
    "df_mergeado = df_2.merge(df_1, left_on = 'id', right_on = 'id')\n",
    "df_mergeado.sort_values(by=['id'], inplace=True, ascending=True)\n",
    "df_mergeado.sample(10)"
   ]
  },
  {
   "cell_type": "markdown",
   "id": "7f5aa809-b468-4479-b89d-f785ac948ea4",
   "metadata": {},
   "source": [
    "# Feature engineering\n",
    "### Buscamos filas duplicadas\n",
    "### Consideramos a una fila duplicada unicamente cuando se repite el dia y el barrio"
   ]
  },
  {
   "cell_type": "code",
   "execution_count": null,
   "id": "cd9865ed-5c1c-4c00-8a96-dafcc213a694",
   "metadata": {},
   "outputs": [],
   "source": [
    "display(df_mergeado[df_mergeado.duplicated(subset=['barrio','dia'],keep=False)])"
   ]
  },
  {
   "cell_type": "markdown",
   "id": "8198a7e1-d288-4719-84c4-d54e7e479392",
   "metadata": {},
   "source": [
    "## Variables __categoricas__\n",
    "1. Barrio \n",
    "2. direccion_viento_tarde\n",
    "3. direccion_viento_temprano\n",
    "4. rafaga_viento_max_direccion\n",
    "\n",
    "### Comenzamos por reemplazar los valores nulos en direcciones de viento y ráfagas por una nueva opcion que puede tomar la feature : \"Otra direccion\""
   ]
  },
  {
   "cell_type": "code",
   "execution_count": null,
   "id": "bf4849ce-40fe-4113-b108-b6cf863374f6",
   "metadata": {},
   "outputs": [],
   "source": [
    "df_mergeado['direccion_viento_tarde'].replace(np.nan, 'Otra direccion', inplace=True)\n",
    "df_mergeado['direccion_viento_temprano'].replace(np.nan, 'Otra direccion', inplace=True)\n",
    "df_mergeado['rafaga_viento_max_direccion'].replace(np.nan, 'Otra direccion',inplace=True)"
   ]
  },
  {
   "cell_type": "markdown",
   "id": "9ea6e82a-c430-438b-9a9c-cddd5f8e9c7a",
   "metadata": {},
   "source": [
    "### Ademas reemplazamos el valor del barrio palermo que vino como 'Palermo cheto' a palermo, ya que seria poco profesional operar con el dato escrito de esta manera"
   ]
  },
  {
   "cell_type": "code",
   "execution_count": null,
   "id": "6c3f9845-13a8-44d5-99d1-92da57051c90",
   "metadata": {},
   "outputs": [],
   "source": [
    "df_mergeado['barrio'].replace('Palermo cheto', 'Palermo', inplace=True)"
   ]
  },
  {
   "cell_type": "markdown",
   "id": "d61d148f-4ca7-448c-936c-4762db8f6a0c",
   "metadata": {},
   "source": [
    "### Luego verificamos que ninguna feature categorica tenga valores repetidos o sin sentido por errores de tipado "
   ]
  },
  {
   "cell_type": "code",
   "execution_count": null,
   "id": "dae8fe0e-d915-494c-a524-b6f88a6f579b",
   "metadata": {},
   "outputs": [],
   "source": [
    "df_mergeado.barrio.value_counts().to_frame()"
   ]
  },
  {
   "cell_type": "code",
   "execution_count": null,
   "id": "7f0be858-aef9-445b-b414-15f4b1621ea7",
   "metadata": {},
   "outputs": [],
   "source": [
    "df_mergeado.direccion_viento_temprano.value_counts().to_frame()"
   ]
  },
  {
   "cell_type": "code",
   "execution_count": null,
   "id": "85744569-d6c4-4066-80e2-bc51b11f3a51",
   "metadata": {},
   "outputs": [],
   "source": [
    "df_mergeado.direccion_viento_tarde.value_counts().to_frame()"
   ]
  },
  {
   "cell_type": "code",
   "execution_count": null,
   "id": "312f62b6-bf80-4b6d-883c-cc1552d6147d",
   "metadata": {},
   "outputs": [],
   "source": [
    "df_mergeado.llovieron_hamburguesas_hoy.value_counts().to_frame()"
   ]
  },
  {
   "cell_type": "code",
   "execution_count": null,
   "id": "e03cb3ff-459f-4927-bf92-84a6c9471381",
   "metadata": {},
   "outputs": [],
   "source": [
    "df_mergeado.rafaga_viento_max_direccion.value_counts().to_frame()"
   ]
  },
  {
   "cell_type": "markdown",
   "id": "f0a15df3-79ad-46ca-9003-4c8f9a1bb0f2",
   "metadata": {},
   "source": [
    "#### Vemos que todos los valores son unicos, no hay necesidad de alterar las features y podemos seguir con la conversion a valores numericos"
   ]
  },
  {
   "cell_type": "markdown",
   "id": "28f77c20-7443-4d78-ac5a-d3022424d51d",
   "metadata": {},
   "source": [
    "## ...\n",
    "\n",
    "\n",
    "\n",
    "\n",
    "\n",
    "\n",
    "\n",
    "\n",
    "\n",
    "\n",
    "\n",
    "\n",
    "## ....\n",
    "\n",
    "\n",
    "\n",
    "\n",
    "\n",
    "\n",
    "\n"
   ]
  },
  {
   "cell_type": "markdown",
   "id": "2139904a-b5f2-4860-8e28-e04f0bef34a2",
   "metadata": {},
   "source": [
    "## Variables __numéricas__\n",
    "1.\n",
    "\n",
    "### Comenzamos por buscar cuáles columnas tienen missings"
   ]
  },
  {
   "cell_type": "code",
   "execution_count": null,
   "id": "7ffb96d0-14ca-495c-933f-69e1a2eb8fe2",
   "metadata": {},
   "outputs": [],
   "source": [
    "df_mergeado.fillna(np.nan, inplace = True)\n",
    "df_nulos = df_mergeado.isnull().sum().to_frame(name=\"NaN_Count\")\n",
    "df_nulos['NaN_%'] = df_nulos['NaN_Count'] / df_mergeado.count()\n",
    "df_nulos.sort_values(by=['NaN_%']) #este % por alguna razón muestra mal a partir de nubosidad_temprano"
   ]
  },
  {
   "cell_type": "markdown",
   "id": "2779f83f-8f1e-403e-92d8-ec8892dacb26",
   "metadata": {},
   "source": [
    "Vemos que algunos de los features tienen menos de un 1.5% de NaNs, por lo cual usar la media para rellenarlos no implicaría una disonancia significativa en la información, sinó más bien un suavizado de esos casos vacíos."
   ]
  },
  {
   "cell_type": "code",
   "execution_count": null,
   "id": "ba245119-1b71-4168-a621-9099ff4ba16b",
   "metadata": {},
   "outputs": [],
   "source": [
    "df = df_mergeado.copy()\n",
    "df['temp_max'].replace(np.nan, df['temp_max'].mean(), inplace = True)\n",
    "df['temp_min'].replace(np.nan, df['temp_min'].mean(), inplace = True)\n",
    "df['temperatura_temprano'].replace(np.nan, df['temperatura_temprano'].mean(), inplace = True)\n",
    "df['velocidad_viendo_temprano'].replace(np.nan, df['velocidad_viendo_temprano'].mean(), inplace = True)\n",
    "\n",
    "df_nulos = df.isnull().sum().to_frame(name=\"NaN_Count\")\n",
    "df_nulos['NaN_%'] = df_nulos['NaN_Count'] / df.count()\n",
    "df_nulos.sort_values(by=['NaN_%']) #este % por alguna razón muestra mal a partir de nubosidad_temprano"
   ]
  },
  {
   "cell_type": "markdown",
   "id": "812036d7-e363-4ac1-8502-1dc6f65e3b8d",
   "metadata": {},
   "source": [
    "Para las features con alta cardinalidad de nulos (horas_de_sol, nubosidad_temprano, nubosidad_tarde) creamos una feature nueva por cada una que nos indica si son conocidas o no. \n",
    "Desconocemos como se computa la nubosidad, y por eso no podemos afirmar que se trata de columnas con missings at random (MAR. Es decir, no podemos afirmar que la falta de informacion en nubosidad depende de horas_de_sol, (lo mismo aplica para nubosidad_temprano y nubosidad_tarde), por ende trataremos estos missings como MCAR completely at random y analizaremos cada columna por separado para decidir con que valor completar las 3 nuevas features"
   ]
  },
  {
   "cell_type": "code",
   "execution_count": null,
   "id": "19a19b1e-2723-4fd9-9fc8-391e251aadf7",
   "metadata": {},
   "outputs": [],
   "source": [
    "def conocemos_feature(valor):\n",
    "    if np.isnan(valor):\n",
    "        return 0\n",
    "    else:\n",
    "        return 1\n",
    "\n",
    "df['horas_de_sol_conocidas'] = df['horas_de_sol'].apply(conocemos_feature)\n",
    "df['nubosidad_temprano_conocida'] = df['nubosidad_temprano'].apply(conocemos_feature)\n",
    "df['nubosidad_tarde_conocida'] = df['nubosidad_tarde'].apply(conocemos_feature)\n",
    "\n",
    "selected_rows = df[~df['horas_de_sol'].isnull()]\n",
    "selected_rows.head()"
   ]
  },
  {
   "cell_type": "markdown",
   "id": "f750fc4d-8da6-4468-b426-30cd63e16fb3",
   "metadata": {},
   "source": [
    "# Formulación de Preguntas y Visualización\n",
    "## Primero nos hacemos una serie de preguntas para comprender y analizar mejor nuestros datos:  \n",
    "\n",
    " 1. ¿Suponiendo desconocimiento de todas las features excepto el target, que tan probable es que lluevan hamburguesas al dia siguiente?\n",
    " 2. ¿De qué manera se relaciona el barrio con que lluevan hamburguesas al dia siguiente?\n",
    " 3. ¿De qué manera se relaciona el barrio con que lluevan hamburguesas al dia siguiente, en ese mismo barrio? (esta no me convence)\n",
    " 4. ¿Si llovieron hamburguesas hoy, qué tan probable es que lluevan hamburguesas mañana?\n",
    " 5. ¿Features con gran numero de missings como horas_de_sol, mm_evaporados_agua, y las nubosidades para la mañana y la tarde, tienen correlación con el target?\n",
    " 6. ¿Cómo afecta la feature mm_lluvia_dia al target?\n",
    " 7. ¿Hay correlación entre la feature horas_de_sol y la lluvia de hamburguesas del dia siguiente?\n",
    " 8. ¿Cómo se relacionan la nubosidad_temprano y la nubosidad_tarde con el target?\n",
    " 9. ¿Las direcciones del viento temprano y tarde, estarán involucradas en la búsqueda del baseline?\n",
    " 10. ¿Cómo afectan las velocidades de los vientos tempranos y tardes al baseline?\n",
    " 11. ¿En cuánto al viento, las ráfagas tienen efecto en el target?\n",
    " 12. ¿Los máximos y mínimos de temperatura, indican algo sobre si llueven o no hamburguesas al dia siguiente?\n",
    " \n",
    "Buscamos entender cada uno de los datos, cómo se relacionan entre sí y ver que conclusiones podemos obtener. A partir de ellos vamos a determinar los factores que determinan si lloverá al dia siguiente, y verificaremos cuáles features son reelevantes de mantener en el dataset."
   ]
  },
  {
   "cell_type": "markdown",
   "id": "eaa627b6-c557-4749-806f-122ee71f6afa",
   "metadata": {},
   "source": [
    "### 1.¿Suponiendo desconocimiento de todas las features excepto el target, que tan probable es que lluevan hamburguesas al dia siguiente?"
   ]
  },
  {
   "cell_type": "code",
   "execution_count": null,
   "id": "184d94df-3323-4249-8473-5f9951e6fc5d",
   "metadata": {},
   "outputs": [],
   "source": [
    "plt.figure(figsize=(5.4, 3.8), dpi=150)\n",
    "labels = ['No', 'Si']\n",
    "sizes = df['llovieron_hamburguesas_al_dia_siguiente'].value_counts()\n",
    "explode = (0, 0.1)\n",
    "plt.title('Llueven hamburguesas al dia siguiente')\n",
    "plt.pie(sizes, explode=explode, data = df['llovieron_hamburguesas_al_dia_siguiente'],labels = labels ,autopct='%1.1f%%',\n",
    "        shadow=True, startangle=90)\n",
    "plt.show()"
   ]
  },
  {
   "cell_type": "markdown",
   "id": "17a929f2-4f7d-4a36-90cc-bcbcc44f0053",
   "metadata": {},
   "source": [
    "Podemos corroborar, que desconociendo el resto de features, para el 77.6% de los registros en el dataset al dia siguiente no llueven hamburguesas. Esto quiere decir que si armaramos una baseline que simplemente devuelva siempre \"NO\", el accuracy ya sería de ese porcentaje. Sin embargo, no solo es un accuracy que no nos satisface, sinó que resulta en algo poco reutilizable que desperdicia el resto de información."
   ]
  },
  {
   "cell_type": "markdown",
   "id": "15cd298e-e50c-492a-bee8-e30298433403",
   "metadata": {},
   "source": [
    "### 2. ¿De qué manera se relaciona el barrio con que lluevan hamburguesas al dia siguiente?"
   ]
  },
  {
   "cell_type": "code",
   "execution_count": null,
   "id": "8370cd96-d003-46fb-a84f-55e430dd11fc",
   "metadata": {},
   "outputs": [],
   "source": [
    "lluvurguesas_por_barrio = df.groupby(by=\"barrio\")['llovieron_hamburguesas_al_dia_siguiente'].value_counts(normalize=True)\n",
    "\n",
    "lluvurguesas_por_barrio = lluvurguesas_por_barrio.to_frame()\n",
    "lluvurguesas_por_barrio.rename(columns={'llovieron_hamburguesas_al_dia_siguiente':'porcentaje_por_barrio'},inplace=True)\n",
    "lluvurguesas_por_barrio.reset_index(inplace=True)\n",
    "\n",
    "g = sns.catplot(\n",
    "    data=lluvurguesas_por_barrio, kind=\"bar\",\n",
    "    x=\"barrio\", y=\"porcentaje_por_barrio\", hue=\"llovieron_hamburguesas_al_dia_siguiente\", order=df[\"barrio\"].value_counts().index,\n",
    "    ci=None, height=8,aspect=2\n",
    ")\n",
    "plt.title(\"Porcentaje de lluvia de hamburguesas según barrio\", fontsize=25)\n",
    "g.despine(left=True)\n",
    "plt.ylim(0,1)\n",
    "plt.xticks(rotation=90)\n",
    "g.set_axis_labels(\"Barrio\", \"Porcentaje de lluvia de hamburguesas\",  fontsize=15)\n",
    "plt.show()"
   ]
  },
  {
   "cell_type": "markdown",
   "id": "fd98a1fd-e065-41f0-88a2-b422123317fc",
   "metadata": {},
   "source": [
    "Podemos ver que en ningún barrio es predominante el \"SI\" para la feature llovieron_hamburguesas_al_dia_siguiente, por lo que no podemos hacer ninguna afirmación positiva para la lluvia de hamburguesas según el barrio. Sin embargo, podemos notar que ciertos barrios como Parque Patricios y Villa Pueryrredón, tienen lluvia de hamburguesas al dia siguiente más seguido de lo normal (un \\~30% de las veces), mientras que barrios como Villa Crespo y Villa Santa Rita rondan números bajos (\\~10%)."
   ]
  },
  {
   "cell_type": "markdown",
   "id": "c4bded5a-1dac-40dc-9f8e-56297fc5da95",
   "metadata": {},
   "source": [
    "### 4.¿Si llovieron hamburguesas hoy, qué tan probable es que lluevan hamburguesas mañana?"
   ]
  },
  {
   "cell_type": "code",
   "execution_count": null,
   "id": "48a2b247-0bb2-409c-bd3b-dd488575c0ef",
   "metadata": {},
   "outputs": [],
   "source": [
    "fig, axes = plt.subplots(nrows=1, ncols=2, figsize=[6.4 * 2, 4.8], dpi=100)\n",
    "\n",
    "sns.countplot(data=df, x='llovieron_hamburguesas_hoy', hue='llovieron_hamburguesas_al_dia_siguiente', ax=axes[0])\n",
    "axes[0].set_title(\"Cantidad de veces que llovieron hamburguesas \\n\" +  \"al dia siguiente según si llovieron hoy\")\n",
    "\n",
    "sns.barplot(\n",
    "    data=df.groupby(\"llovieron_hamburguesas_hoy\")\n",
    "    .llovieron_hamburguesas_al_dia_siguiente.value_counts(normalize=True)\n",
    "    .rename(\"llovieron_al_dia_siguiente_prop\")\n",
    "    .reset_index(),\n",
    "    x='llovieron_hamburguesas_hoy',\n",
    "    y=\"llovieron_al_dia_siguiente_prop\",\n",
    "    hue='llovieron_hamburguesas_al_dia_siguiente',\n",
    "    ax=axes[1],\n",
    ")\n",
    "axes[1].set_ylabel(\"% intragrupo\")\n",
    "axes[1].set_title(\"Porcentaje para lluvia de hamburguesas\\n\" +  \"al dia siguiente según si llovieron hoy\")\n",
    "\n",
    "plt.show()"
   ]
  },
  {
   "cell_type": "markdown",
   "id": "47f556c5-0411-4e5b-94e1-071fa3a4fb27",
   "metadata": {},
   "source": [
    "Podemos ver que si bien la cantidad de veces que llueven_hamburguesas_al_dia siguiente es prácticamente la misma en ambas mitades del gráfico, su proporción con llovieron_hamburguesas_hoy cambia radicalmente. Concluimos de esta visualización, que si llovieron hamburguesas hoy, hay practicamente un 45% de probabilidades que llueva mañana, mientras que si hoy no llovieron hamburguesas, entonces esa probabilidad es mucho menor, de aproximadamente el 15%"
   ]
  },
  {
   "cell_type": "markdown",
   "id": "70020c84-ff79-47cc-94cd-942104bb037f",
   "metadata": {},
   "source": [
    "### 6.¿Cómo afecta la feature mm_lluvia_dia al target?"
   ]
  },
  {
   "cell_type": "code",
   "execution_count": null,
   "id": "7e15f56f-0acf-47fe-9652-2646290c2cd0",
   "metadata": {
    "tags": []
   },
   "outputs": [],
   "source": [
    "fig, axes = plt.subplots(nrows=1, ncols=2, figsize=[6.4 * 2, 4.8], dpi=100)\n",
    "\n",
    "df_llovio_h_maniana = df[df.llovieron_hamburguesas_al_dia_siguiente == 'si']\n",
    "df_no_llovio_h_maniana = df[df.llovieron_hamburguesas_al_dia_siguiente == 'no']\n",
    "\n",
    "df_llovio_h_maniana.mm_lluvia_dia.plot(kind='hist', range=[0, 5], ax=axes[0], xlim=0, color='#f5793a')\n",
    "axes[0].set_title(\"mm lluvia - llueven hamburguesas al dia siguiente\")\n",
    "axes[0].set_ylabel(\"Cantidad\")\n",
    "axes[0].set_xlabel(\"mm lluvia\")\n",
    "\n",
    "df_no_llovio_h_maniana.mm_lluvia_dia.plot(kind='hist', range=[0,5], ax=axes[1], xlim=0)\n",
    "axes[1].set_title(\"mm lluvia - no llueven hamburguesas al dia siguiente\")\n",
    "axes[1].set_ylabel(\"Cantidad\")\n",
    "axes[1].set_xlabel(\"mm lluvia\")\n",
    "plt.show()"
   ]
  },
  {
   "cell_type": "markdown",
   "id": "1ea386e7-e74b-4929-8155-4b54804e257a",
   "metadata": {},
   "source": [
    "Se puede observar que si tomamos en cuenta las distintas escalas del eje de las ordenadas (cantidad de dias donde llovieron o no hamburguesas), entonces la distribución de los mm de lluvia es muy similar en ambas, por lo que no nos llevaria a ninguna estimación concluyente del target."
   ]
  },
  {
   "cell_type": "markdown",
   "id": "74faeff5-0768-4601-ac60-f48c70272fd6",
   "metadata": {},
   "source": [
    "### 7.¿Hay correlación entre la feature horas_de_sol y la lluvia de hamburguesas del dia siguiente?\n"
   ]
  },
  {
   "cell_type": "code",
   "execution_count": null,
   "id": "40c14974-894e-4d2a-b1a0-c9234b78b422",
   "metadata": {},
   "outputs": [],
   "source": [
    "fig, axes = plt.subplots(nrows=1, ncols=2, figsize=[6.4 * 2, 4.8], dpi=100)\n",
    "\n",
    "df_llovio_h_maniana = df[df.llovieron_hamburguesas_al_dia_siguiente == 'si']\n",
    "df_no_llovio_h_maniana = df[df.llovieron_hamburguesas_al_dia_siguiente == 'no']\n",
    "\n",
    "df_llovio_h_maniana.horas_de_sol.plot(kind='hist', bins=15, range=[0, 15], ax=axes[0], xlim=0,color='#f5793a')\n",
    "axes[0].set_title(\"horas de sol - llueven hamburguesas al dia siguiente\")\n",
    "axes[0].set_ylabel(\"Cantidad\")\n",
    "axes[0].set_xlabel(\"Horas de sol\")\n",
    "\n",
    "df_no_llovio_h_maniana.horas_de_sol.plot(kind='hist', bins=15, range=[0,15], ax=axes[1], xlim=0)\n",
    "axes[1].set_title(\"horas de sol - no llueven hamburguesas al dia siguiente\")\n",
    "axes[1].set_ylabel(\"Cantidad\")\n",
    "axes[1].set_xlabel(\"Horas de sol\")\n",
    "plt.show()\n"
   ]
  },
  {
   "cell_type": "markdown",
   "id": "5ed077d4-3e62-4287-bbf8-06d823b28457",
   "metadata": {},
   "source": [
    "Estos histogramas no tienen en cuenta los valores nulos, por lo tanto para analizar como se relacionan estos valores con la variable target, visualizaremos las features binarias creadas con el fin de guardar informacion sobre si conocemos o no los datos"
   ]
  },
  {
   "cell_type": "markdown",
   "id": "bd8ba2ea-36a6-4a40-a1e1-ceca4646c8e1",
   "metadata": {},
   "source": [
    "### 8. ¿Cómo se relacionan la nubosidad_temprano y la nubosidad_tarde con el target?\n",
    "\n"
   ]
  },
  {
   "cell_type": "code",
   "execution_count": null,
   "id": "20a478f1-3736-405e-8eb0-9a85839edbd2",
   "metadata": {},
   "outputs": [],
   "source": [
    "fig, axes = plt.subplots(nrows=1, ncols=2, figsize=[6.4 * 2, 4.8], dpi=100)\n",
    "\n",
    "df_llovio_h_maniana = df[df.llovieron_hamburguesas_al_dia_siguiente == 'si']\n",
    "df_no_llovio_h_maniana = df[df.llovieron_hamburguesas_al_dia_siguiente == 'no']\n",
    "\n",
    "\n",
    "df_llovio_h_maniana.nubosidad_temprano.plot(kind='hist', ax=axes[0], xlim=0,color='#f5793a', bins=10)\n",
    "axes[0].set_title(\"Nubosidad temprano - llueven hamburguesas al dia siguiente\")\n",
    "axes[0].set_ylabel(\"Cantidad\")\n",
    "axes[0].set_xlabel(\"Nubosidad temprano\")\n",
    "\n",
    "df_no_llovio_h_maniana.nubosidad_temprano.plot(kind='hist', ax=axes[1], xlim=0, bins=10)\n",
    "axes[1].set_title(\"Nubosidad temprano - no llueven hamburguesas al dia siguiente\")\n",
    "axes[1].set_ylabel(\"Cantidad\")\n",
    "axes[1].set_xlabel(\"Nubosidad temprano\")\n",
    "plt.show()\n"
   ]
  },
  {
   "cell_type": "markdown",
   "id": "b5edfae8-d437-4b4a-90d6-5c7c3a3f71c6",
   "metadata": {},
   "source": [
    "Desde ya vemos que la distribución en ambos gráficos es muy diferente, por lo que parece claramente interesante inspeccionar los dias de alta nubosidad temprana en búsqueda del target. Pasemos a analizar la nubosidad a la tarde:"
   ]
  },
  {
   "cell_type": "code",
   "execution_count": null,
   "id": "9dcd64d3-3a37-4928-995b-f5459c7afc04",
   "metadata": {},
   "outputs": [],
   "source": [
    "fig, axes = plt.subplots(nrows=1, ncols=2, figsize=[6.4 * 2, 4.8], dpi=100)\n",
    "\n",
    "df_llovio_h_maniana = df[df.llovieron_hamburguesas_al_dia_siguiente == 'si']\n",
    "df_no_llovio_h_maniana = df[df.llovieron_hamburguesas_al_dia_siguiente == 'no']\n",
    "\n",
    "df_llovio_h_maniana.nubosidad_tarde.plot(kind='hist', ax=axes[0], xlim=0,color='#f5793a', bins=10)\n",
    "axes[0].set_title(\"Nubosidad tarde - llueven hamburguesas al dia siguiente\")\n",
    "axes[0].set_ylabel(\"Cantidad\")\n",
    "axes[0].set_xlabel(\"Nubosidad tarde\")\n",
    "\n",
    "df_no_llovio_h_maniana.nubosidad_tarde.plot(kind='hist', ax=axes[1], xlim=0, bins=10)\n",
    "axes[1].set_title(\"Nubosidad tarde - no llueven hamburguesas al dia siguiente\")\n",
    "axes[1].set_ylabel(\"Cantidad\")\n",
    "axes[1].set_xlabel(\"Nubosidad tarde\")\n",
    "plt.show()\n"
   ]
  },
  {
   "cell_type": "markdown",
   "id": "5a15b901-9f20-44b3-8701-7681c44aea14",
   "metadata": {},
   "source": [
    "Para la nubosidad a la tarde, la visualización resulta muy similar al caso de la nubosidad temprana, tanto para cuando llueven hamburguesas al dia siguiente como cuando no lo hace."
   ]
  },
  {
   "cell_type": "markdown",
   "id": "4a34410b-02da-4584-8e17-5320be5b0447",
   "metadata": {},
   "source": [
    "### 9. ¿Las direcciones del viento temprano y tarde, estarán involucradas en la búsqueda del baseline?"
   ]
  },
  {
   "cell_type": "code",
   "execution_count": null,
   "id": "a21f9ec6-eb67-43ea-832e-b05664384154",
   "metadata": {},
   "outputs": [],
   "source": [
    "lluvurguesas_viento_temprano = df.groupby(by=\"direccion_viento_temprano\")['llovieron_hamburguesas_al_dia_siguiente'].value_counts(normalize=True)\n",
    "\n",
    "lluvurguesas_viento_temprano = lluvurguesas_viento_temprano.to_frame()\n",
    "lluvurguesas_viento_temprano.rename(columns={'llovieron_hamburguesas_al_dia_siguiente':'porcentaje_viento_temprano'},inplace=True)\n",
    "lluvurguesas_viento_temprano.reset_index(inplace=True)\n",
    "\n",
    "g = sns.catplot(\n",
    "    data=lluvurguesas_viento_temprano, kind=\"bar\",\n",
    "    x=\"direccion_viento_temprano\", y=\"porcentaje_viento_temprano\", hue=\"llovieron_hamburguesas_al_dia_siguiente\", order=df[\"direccion_viento_temprano\"].value_counts().index,\n",
    "    ci=None, height=8,aspect=2\n",
    ")\n",
    "plt.title(\"Porcentaje de lluvia de hamburguesas según dirección del viento temprano\", fontsize=18)\n",
    "g.despine(left=True)\n",
    "plt.ylim(0,1)\n",
    "plt.xticks(rotation=90)\n",
    "g.set_axis_labels(\"Dirección del viento temprano\", \"Porcentaje de lluvia de hamburguesas\",  fontsize=15)\n",
    "plt.show()"
   ]
  },
  {
   "cell_type": "markdown",
   "id": "8b9f783f-48bf-4f8a-9453-8d8cae1a10ce",
   "metadata": {},
   "source": [
    "No parece que la dirección del viento temprano tenga una influencia tajante en el comportamiento del target. Vemos que todas las direcciones tienen la mayoría rotunda de no llover hamburguesas al dia siguiente. Probemos ahora qué sucede con la dirección del viento a la tarde."
   ]
  },
  {
   "cell_type": "code",
   "execution_count": null,
   "id": "2912cd63-10e5-42ef-8ea9-f588be8a2fd8",
   "metadata": {},
   "outputs": [],
   "source": [
    "lluvurguesas_viento_tarde = df.groupby(by=\"direccion_viento_tarde\")['llovieron_hamburguesas_al_dia_siguiente'].value_counts(normalize=True)\n",
    "\n",
    "lluvurguesas_viento_tarde = lluvurguesas_viento_tarde.to_frame()\n",
    "lluvurguesas_viento_tarde.rename(columns={'llovieron_hamburguesas_al_dia_siguiente':'porcentaje_viento_tarde'},inplace=True)\n",
    "lluvurguesas_viento_tarde.reset_index(inplace=True)\n",
    "\n",
    "g = sns.catplot(\n",
    "    data=lluvurguesas_viento_tarde, kind=\"bar\",\n",
    "    x=\"direccion_viento_tarde\", y=\"porcentaje_viento_tarde\", hue=\"llovieron_hamburguesas_al_dia_siguiente\", order=df[\"direccion_viento_tarde\"].value_counts().index,\n",
    "    ci=None, height=8,aspect=2\n",
    ")\n",
    "plt.title(\"Porcentaje de lluvia de hamburguesas según dirección del viento tardío\", fontsize=18)\n",
    "g.despine(left=True)\n",
    "plt.ylim(0,1)\n",
    "plt.xticks(rotation=90)\n",
    "g.set_axis_labels(\"Dirección del viento tardío\", \"Porcentaje de lluvia de hamburguesas\",  fontsize=15)\n",
    "plt.show()"
   ]
  },
  {
   "cell_type": "markdown",
   "id": "e9e1b5d3-737a-43a0-a693-df5e59f21d97",
   "metadata": {},
   "source": [
    "Al igual que con el viento temprano, el viento a la tarde no parece tampoco influenciar el target de manera determinante como para volverlo parte de nuestra predicción."
   ]
  },
  {
   "cell_type": "markdown",
   "id": "0df13de5-9618-4cb7-952b-5f2b3ceef4b1",
   "metadata": {},
   "source": [
    "### 10. ¿Cómo afectan las velocidades de los vientos tempranos y tardes al baseline?"
   ]
  },
  {
   "cell_type": "code",
   "execution_count": null,
   "id": "955bc021-5e28-41ff-91e5-62d0a6de4bf3",
   "metadata": {},
   "outputs": [],
   "source": [
    "fig, axes = plt.subplots(nrows=1, ncols=2, figsize=[6.4 * 2, 4.8], dpi=100)\n",
    "\n",
    "df_llovio_h_maniana = df[df.llovieron_hamburguesas_al_dia_siguiente == 'si']\n",
    "df_no_llovio_h_maniana = df[df.llovieron_hamburguesas_al_dia_siguiente == 'no']\n",
    "\n",
    "df_llovio_h_maniana.velocidad_viendo_temprano.plot(kind='hist', ax=axes[0], xlim=0,range = [0,70], color='#f5793a')\n",
    "axes[0].set_title(\"Velocidad viento temprano \\n  Llueven hamburguesas al dia siguiente\")\n",
    "axes[0].set_ylabel(\"Cantidad\")\n",
    "axes[0].set_xlabel(\"Velocidad del viento [km/h]\")\n",
    "\n",
    "df_no_llovio_h_maniana.velocidad_viendo_temprano.plot(kind='hist', ax=axes[1], xlim=0, range = [0,70])\n",
    "axes[1].set_title(\"Velocidad viento temprano \\n  No llueven hamburguesas al dia siguiente\")\n",
    "axes[1].set_ylabel(\"Cantidad\")\n",
    "axes[1].set_xlabel(\"Velocidad del viento [km/h]\")\n",
    "plt.show()"
   ]
  },
  {
   "cell_type": "code",
   "execution_count": null,
   "id": "4c6a3109-ecf5-4c65-b8b1-862846b17ec4",
   "metadata": {},
   "outputs": [],
   "source": [
    "fig, axes = plt.subplots(nrows=1, ncols=2, figsize=[6.4 * 2, 4.8], dpi=100)\n",
    "\n",
    "df_llovio_h_maniana = df[df.llovieron_hamburguesas_al_dia_siguiente == 'si']\n",
    "df_no_llovio_h_maniana = df[df.llovieron_hamburguesas_al_dia_siguiente == 'no']\n",
    "\n",
    "df_llovio_h_maniana.velocidad_viendo_tarde.plot(kind='hist', ax=axes[0], xlim=0,range = [0,70], color='#f5793a')\n",
    "axes[0].set_title(\"Velocidad viento tardío \\n  Llueven hamburguesas al dia siguiente\")\n",
    "axes[0].set_ylabel(\"Cantidad\")\n",
    "axes[0].set_xlabel(\"Velocidad del viento [km/h]\")\n",
    "\n",
    "df_no_llovio_h_maniana.velocidad_viendo_tarde.plot(kind='hist', ax=axes[1], xlim=0, range = [0,70])\n",
    "axes[1].set_title(\"Velocidad viento tardío \\n  No llueven hamburguesas al dia siguiente\")\n",
    "axes[1].set_ylabel(\"Cantidad\")\n",
    "axes[1].set_xlabel(\"Velocidad del viento [km/h]\")\n",
    "plt.show()"
   ]
  },
  {
   "cell_type": "markdown",
   "id": "35ad7def-d8ea-492b-b0d8-d4f2cf0d839f",
   "metadata": {},
   "source": [
    "Concluimos que la distribución del tiempo temprano, así como el viento tardío, son prácticamente idénticas lluevan hamburguesas al dia siguiente o no, por lo que no nos servirán para la predicción."
   ]
  },
  {
   "cell_type": "markdown",
   "id": "8a97c17f-7ef3-471a-a34e-adc003dd10c0",
   "metadata": {},
   "source": [
    "### 11. ¿En cuánto al viento, las ráfagas tienen efecto en el target?"
   ]
  },
  {
   "cell_type": "code",
   "execution_count": null,
   "id": "ef5d570e-482c-4ad6-b3ff-c5cae6071799",
   "metadata": {},
   "outputs": [],
   "source": [
    "lluvurguesas_dir_rafaga = df.groupby(by=\"rafaga_viento_max_direccion\")['llovieron_hamburguesas_al_dia_siguiente'].value_counts(normalize=True)\n",
    "\n",
    "lluvurguesas_dir_rafaga = lluvurguesas_dir_rafaga.to_frame()\n",
    "lluvurguesas_dir_rafaga.rename(columns={'llovieron_hamburguesas_al_dia_siguiente':'porcentaje_dir_rafaga'},inplace=True)\n",
    "lluvurguesas_dir_rafaga.reset_index(inplace=True)\n",
    "\n",
    "g = sns.catplot(\n",
    "    data=lluvurguesas_dir_rafaga, kind=\"bar\",\n",
    "    x=\"rafaga_viento_max_direccion\", y=\"porcentaje_dir_rafaga\", hue=\"llovieron_hamburguesas_al_dia_siguiente\", order=df[\"rafaga_viento_max_direccion\"].value_counts().index,\n",
    "    ci=None, height=8,aspect=2\n",
    ")\n",
    "plt.title(\"Porcentaje de lluvia de hamburguesas al dia siguiente \\n según la dirección de la ráfaga de viento\", fontsize=18)\n",
    "g.despine(left=True)\n",
    "plt.ylim(0,1)\n",
    "plt.xticks(rotation=90)\n",
    "g.set_axis_labels(\"Dirección de la ráfaga de máximo viento\", \"Porcentaje de lluvia de hamburguesas al dia siguiente\",  fontsize=15)\n",
    "plt.show()"
   ]
  },
  {
   "cell_type": "markdown",
   "id": "d2111a5e-b1fe-4bfd-90bf-ed728b05cd77",
   "metadata": {},
   "source": [
    "Vemos que al igual que el propio viento, la dirección de su máxima ráfaga no parece tener un distribución divisiba en cuanto al target. Y qué hay de la velocidad de la ráfaga? Vemos a continuación:"
   ]
  },
  {
   "cell_type": "code",
   "execution_count": null,
   "id": "787cb69a-58cc-442f-be66-6bdf5c6e2056",
   "metadata": {},
   "outputs": [],
   "source": [
    "fig, axes = plt.subplots(nrows=1, ncols=2, figsize=[6.4 * 2, 4.8], dpi=100)\n",
    "\n",
    "df_llovio_h_maniana = df[df.llovieron_hamburguesas_al_dia_siguiente == 'si']\n",
    "df_no_llovio_h_maniana = df[df.llovieron_hamburguesas_al_dia_siguiente == 'no']\n",
    "\n",
    "df_llovio_h_maniana.rafaga_viento_max_velocidad.plot(kind='hist', ax=axes[0], xlim=0, color='#f5793a')\n",
    "axes[0].set_title(\"Velocidad máxima ráfaga de viento \\n  Llueven hamburguesas al dia siguiente\")\n",
    "axes[0].set_ylabel(\"Cantidad\")\n",
    "axes[0].set_xlabel(\"Velocidad de la ráfaga [km/h]\")\n",
    "\n",
    "df_no_llovio_h_maniana.rafaga_viento_max_velocidad.plot(kind='hist', ax=axes[1], xlim=0)\n",
    "axes[1].set_title(\"Velocidad máxima ráfaga de viento \\n  No llueven hamburguesas al dia siguiente\")\n",
    "axes[1].set_ylabel(\"Cantidad\")\n",
    "axes[1].set_xlabel(\"Velocidad de la ráfaga [km/h]\")\n",
    "plt.show()"
   ]
  },
  {
   "cell_type": "markdown",
   "id": "b8e53ee7-df0f-4b83-a00f-0fffeb3463a2",
   "metadata": {},
   "source": [
    "Adicionalmente, vemos que la velocidad de dicha ráfaga tiene también una distribución similar tanto para los casos en los que llueve al dia siguiente como en los que no, por lo que concluimos finalmente que ninguno de los datos respecto al viento nos da información que vayamos a utilizar para discriminar en el baseline."
   ]
  },
  {
   "cell_type": "markdown",
   "id": "c4e889af-05c7-4719-88bf-810e20d22343",
   "metadata": {},
   "source": [
    " ### 12. ¿Los máximos y mínimos de temperatura, indican algo sobre si llueven o no hamburguesas al dia siguiente?"
   ]
  },
  {
   "cell_type": "code",
   "execution_count": null,
   "id": "f5177055-d48c-4d20-895e-1fc436041cc0",
   "metadata": {},
   "outputs": [],
   "source": [
    "df_llovio_h_maniana = df[df.llovieron_hamburguesas_al_dia_siguiente == 'si']\n",
    "df_no_llovio_h_maniana = df[df.llovieron_hamburguesas_al_dia_siguiente == 'no']\n",
    "\n",
    "plt.figure(dpi=150)\n",
    "plt.title(\"Distribución de la temperatura máxima según \\n si llovieron hamburguesas o no al día siguiente\")\n",
    "sns.violinplot(\n",
    "    data=df,\n",
    "    y='temp_max',\n",
    "    x='llovieron_hamburguesas_al_dia_siguiente'\n",
    "#    palette=['#D17049', \"#89D15E\"],\n",
    ")\n",
    "plt.xlabel(\"Llovieron hamburguesas al día siguiente\")\n",
    "plt.ylabel(\"Temperatura máxima  [Celcius]\")\n",
    "plt.xticks([False, True], [\"No\", \"Sí\"])\n",
    "plt.show()"
   ]
  },
  {
   "cell_type": "code",
   "execution_count": null,
   "id": "8af3e109-09cf-4729-9e23-7801eb790870",
   "metadata": {},
   "outputs": [],
   "source": [
    "df_llovio_h_maniana = df[df.llovieron_hamburguesas_al_dia_siguiente == 'si']\n",
    "df_no_llovio_h_maniana = df[df.llovieron_hamburguesas_al_dia_siguiente == 'no']\n",
    "\n",
    "plt.figure(dpi=150)\n",
    "plt.title(\"Distribución de la temperatura mínima según \\n si llovieron hamburguesas o no al día siguiente\")\n",
    "sns.violinplot(\n",
    "    data=df,\n",
    "    y='temp_min',\n",
    "    x='llovieron_hamburguesas_al_dia_siguiente'\n",
    "#    palette=['#D17049', \"#89D15E\"],\n",
    ")\n",
    "plt.xlabel(\"Llovieron hamburguesas al día siguiente\")\n",
    "plt.ylabel(\"Temperatura mínima  [Celcius]\")\n",
    "plt.xticks([False, True], [\"No\", \"Sí\"])\n",
    "plt.show()"
   ]
  },
  {
   "cell_type": "markdown",
   "id": "d656a0d4-c0dc-4574-9e3d-e07d0b859161",
   "metadata": {},
   "source": [
    "Vemos que ni la temperatura máxima ni la mínima en el dia parecen ser determinantes de si llueven o no hamburguesas al dia siguiente, ya que si bien están en diferentes escalas, la distribución del histograma es prácticamente la misma se cumpla o no el target."
   ]
  },
  {
   "cell_type": "markdown",
   "id": "46b15ca0-8035-446c-990a-586facfcfd56",
   "metadata": {},
   "source": [
    "### 13. ¿Tienen relación la humedad con la variable target?\n",
    "Para responder esta pregunta analitica, planteamos dos boxplots, uno para cada momento del dia"
   ]
  },
  {
   "cell_type": "code",
   "execution_count": null,
   "id": "50d7ed9d-2cd4-4673-a7f0-381fb2236b70",
   "metadata": {},
   "outputs": [],
   "source": [
    "plt.figure(dpi=120)\n",
    "plt.title(\"Distribucion de la humedad segun si llovio al dia siguiente o no (temprano) \")\n",
    "sns.boxplot(\n",
    "    data=df,\n",
    "    y='humedad_temprano',\n",
    "    x='llovieron_hamburguesas_al_dia_siguiente'\n",
    ")\n",
    "plt.ylabel(\"Humedad porcentual\")\n",
    "plt.xlabel(\"Llovieron hamburguesas al dia siguiente\")\n",
    "plt.axhline(y=80, color=\"blue\", label=\"%80\", alpha=0.7)\n",
    "plt.legend(title=\"Porcentaje de humedad\")\n",
    "plt.show()"
   ]
  },
  {
   "cell_type": "markdown",
   "id": "54372b6d-4608-411c-bac7-ea3d2088bbf8",
   "metadata": {},
   "source": [
    "No es observable una gran diferencia en cuanto a las distribuciones de humedad. Se ve como dato notable que la mediana de humedad para cuando llueven hamburguesas al dia siguiente esta donde termina el rango intercuartilico de la humedad de para los dias que no llovieron hamburguesas, sin embargo no es un dato tan fuerte como para suponer afirmaciones en la baseline. Analizaremos la humedad a la tarde para ver si podemos concluir afirmaciones mas precisas."
   ]
  },
  {
   "cell_type": "code",
   "execution_count": null,
   "id": "c2cb0ef8-bb81-4bf2-85a4-b8d65708fefb",
   "metadata": {},
   "outputs": [],
   "source": [
    "plt.figure(dpi=120)\n",
    "plt.title(\"Distribucion de la humedad segun si llovio al dia siguiente o no (tarde)\")\n",
    "sns.boxplot(\n",
    "    data=df,\n",
    "    y='humedad_tarde',\n",
    "    x='llovieron_hamburguesas_al_dia_siguiente'\n",
    ")\n",
    "plt.ylabel(\"Humedad porcentual\")\n",
    "plt.xlabel(\"Llovieron hamburguesas al dia siguiente\")\n",
    "plt.axhline(y=60, color=\"blue\", label=\"%60\", alpha=0.7)\n",
    "plt.axhline(y=84, color=\"red\", label=\"%84\", alpha=0.7)\n",
    "plt.legend(title=\"Porcentaje de humedad\")\n",
    "plt.xticks([False, True], [\"No\", \"Sí\"])\n",
    "plt.show()"
   ]
  },
  {
   "cell_type": "markdown",
   "id": "59261ca0-1f3b-4ead-9688-29161ab5e054",
   "metadata": {},
   "source": [
    "En este caso se ve una diferencia mucho mas clara, ya que donde termina el rango intercuartilico de los casos en los que no llueve al dia siguiente, \n",
    "comienza el rango intercuartilico de los casos en los que siguiente. Entonces podemos suponer que si la humedad a la tarde es aproximadamente mayor a 80%, es probable que al dia siguiente llueva."
   ]
  },
  {
   "cell_type": "code",
   "execution_count": null,
   "id": "8160a287-ffe6-4265-8f9e-fad328ca18f8",
   "metadata": {},
   "outputs": [],
   "source": [
    "def preprocesar_df(df_raw:pd.DataFrame):\n",
    "    df_raw = df_raw.dropna(subset=['llovieron_hamburguesas_al_dia_siguiente'])\n",
    "    df_raw = df_raw.dropna(subset=['humedad_tarde', 'horas_sol', 'nubosidad_tarde'], how='all')\n",
    "    df_raw = df_raw.dropna(thresh = len(df_raw.columns) - 10)\n",
    "    return df_raw\n",
    "    \n",
    "\n",
    "def baseline(df_baseline:pd.DataFrame):\n",
    "    \n",
    "    llovio_h_hoy = (df_baseline['llovieron_hamburguesas_hoy'] == 'si')\n",
    "    \n",
    "    alta_humedad_tarde = (df_baseline['humedad_tarde'] >= 79)\n",
    "    horas_sol_bajas = (df_baseline['horas_de_sol'] <= 7.5)\n",
    "    alta_nubosidad_tarde = (df_baseline['nubosidad_tarde'] >= 7.1)\n",
    "    \n",
    "    df_baseline['prediccion_llueven_h_al_dia_siguiente'] = 'no'\n",
    "    df.loc[alta_humedad_tarde, 'prediccion_llueven_h_al_dia_siguiente'] = 'si'\n",
    "    df.loc[llovio_h_hoy & ( alta_nubosidad_tarde) & horas_sol_bajas, 'prediccion_llueven_h_al_dia_siguiente'] = 'si'\n",
    "    \n",
    "    resultado =  df_baseline['prediccion_llueven_h_al_dia_siguiente'].values.tolist()\n",
    "   \n",
    "    return resultado"
   ]
  },
  {
   "cell_type": "code",
   "execution_count": null,
   "id": "9de63dbe-df11-4281-9ad6-72ee67944fc9",
   "metadata": {},
   "outputs": [],
   "source": [
    "df = preprocesar_df(df)\n",
    "(baseline(df) == df['llovieron_hamburguesas_al_dia_siguiente']).mean().round(5)"
   ]
  },
  {
   "cell_type": "code",
   "execution_count": null,
   "id": "cae872c8-4bb3-402a-b96a-fc9341ae0fdb",
   "metadata": {},
   "outputs": [],
   "source": []
  }
 ],
 "metadata": {
  "kernelspec": {
   "display_name": "Python 3 (ipykernel)",
   "language": "python",
   "name": "python3"
  },
  "language_info": {
   "codemirror_mode": {
    "name": "ipython",
    "version": 3
   },
   "file_extension": ".py",
   "mimetype": "text/x-python",
   "name": "python",
   "nbconvert_exporter": "python",
   "pygments_lexer": "ipython3",
   "version": "3.9.7"
  }
 },
 "nbformat": 4,
 "nbformat_minor": 5
}

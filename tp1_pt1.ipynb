{
 "cells": [
  {
   "cell_type": "markdown",
   "id": "305eba69-d76c-4c26-aa56-3b3e77e0a0e1",
   "metadata": {},
   "source": [
    "# Introducción\n",
    "\n",
    "## El objetivo del presente trabajo práctico es aplicar los conceptos teóricos y práticos aprendidos de la materia a la predicción de una feature en el dataset de lluvia de hamburguesas y a su vez relatar en el notebook el análisis y procedimiento utilizado para poder generar dicha predicción."
   ]
  },
  {
   "cell_type": "code",
   "execution_count": 1,
   "id": "7d7ed354-d0ea-439a-b79e-ad86ed6aed0c",
   "metadata": {},
   "outputs": [],
   "source": [
    "import pandas as pd\n",
    "import numpy as np\n",
    "import requests\n",
    "from matplotlib import pyplot as plt\n",
    "import seaborn as sns\n",
    "from sklearn.metrics import accuracy_score\n",
    "from pandas_profiling import ProfileReport"
   ]
  },
  {
   "cell_type": "code",
   "execution_count": null,
   "id": "70bc0422-b63d-4af7-b982-a21aa412dc93",
   "metadata": {},
   "outputs": [],
   "source": [
    "df_1 = pd.read_csv(\n",
    "    'https://docs.google.com/spreadsheets/d/1gvZ03uAL6THwd04Y98GtIj6SeAHiKyQY5UisuuyFSUs/export?format=csv', low_memory=False\n",
    ")\n",
    "df_2 = pd.read_csv(\n",
    "    'https://docs.google.com/spreadsheets/d/1wduqo5WyYmCpaGnE81sLNGU0VSodIekMfpmEwU0fGqs/export?format=csv', low_memory=False\n",
    ")\n",
    "pd.options.display.max_columns = None\n",
    "\n",
    "df = df_2.merge(df_1, left_on = 'id', right_on = 'id')\n",
    "df.sort_values(by=['id'], inplace=True, ascending=True)\n",
    "\n",
    "df_original = df.copy()\n",
    "\n",
    "df.sample(10)"
   ]
  },
  {
   "cell_type": "markdown",
   "id": "7f5aa809-b468-4479-b89d-f785ac948ea4",
   "metadata": {},
   "source": [
    "# Feature engineering\n",
    "### Buscamos filas duplicadas\n",
    "### Consideramos a una fila duplicada unicamente cuando se repite el ID de la medicion"
   ]
  },
  {
   "cell_type": "code",
   "execution_count": null,
   "id": "cd9865ed-5c1c-4c00-8a96-dafcc213a694",
   "metadata": {},
   "outputs": [],
   "source": [
    "df[df.duplicated(subset=['id'],keep=False)]"
   ]
  },
  {
   "cell_type": "markdown",
   "id": "b3bae12d-14a1-481d-8c7f-da03687393b8",
   "metadata": {},
   "source": [
    "### Vemos que no hay duplicados, pero verifiquemos además que el tipo para cada feature es razonable:"
   ]
  },
  {
   "cell_type": "code",
   "execution_count": null,
   "id": "2549b8dc-1228-4e99-b1c8-1299c2d88c6f",
   "metadata": {},
   "outputs": [],
   "source": [
    "df.dtypes"
   ]
  },
  {
   "cell_type": "markdown",
   "id": "1fb5396f-3497-401c-b089-efd677d933d6",
   "metadata": {},
   "source": [
    "#### Sabiendo que el pandas trata los strings como 'object', inmediatamente notamos que hay una feature que debería estar marcada como float pero se está tratando como un object: presion_atmosferica_tarde. Por dicho motivo procedemos a transformarla a numérica:"
   ]
  },
  {
   "cell_type": "markdown",
   "id": "56ca8cec-e0c4-499a-a2e9-a0cc26e0ac0f",
   "metadata": {},
   "source": [
    "Si hacemos directamente to_numeric(), vemos que encuentra un valor que no puede convertir por tener dos simbolos '.' de decimal, por lo que asumimos que fue un error\n",
    "al cargar el dato de presion_atmosferica_tarde, y preferimos dejar ese casillero en NaN que eliminar el registro completo:"
   ]
  },
  {
   "cell_type": "code",
   "execution_count": null,
   "id": "75ebdd5d-7c6e-47d7-ba44-7c3b3d1f44f9",
   "metadata": {},
   "outputs": [],
   "source": [
    "df['presion_atmosferica_tarde'].replace('.+\\..+\\..+', np.nan, inplace=True, regex=True)\n",
    "df['presion_atmosferica_tarde'] = pd.to_numeric(df['presion_atmosferica_tarde'])"
   ]
  },
  {
   "cell_type": "markdown",
   "id": "8198a7e1-d288-4719-84c4-d54e7e479392",
   "metadata": {},
   "source": [
    "## Variables __categoricas__\n",
    "1. Barrio \n",
    "2. direccion_viento_tarde\n",
    "3. direccion_viento_temprano\n",
    "4. rafaga_viento_max_direccion\n",
    "5. llovieron_hamburguesas_hoy\n",
    "\n",
    "### Comenzamos por reemplazar los valores nulos en direcciones de viento y ráfagas por una nueva opcion que puede tomar la feature : \"Otra direccion\""
   ]
  },
  {
   "cell_type": "code",
   "execution_count": null,
   "id": "bf4849ce-40fe-4113-b108-b6cf863374f6",
   "metadata": {},
   "outputs": [],
   "source": [
    "df['direccion_viento_tarde'].replace(np.nan, 'Otra direccion', inplace=True)\n",
    "df['direccion_viento_temprano'].replace(np.nan, 'Otra direccion', inplace=True)\n",
    "df['rafaga_viento_max_direccion'].replace(np.nan, 'Otra direccion',inplace=True)"
   ]
  },
  {
   "cell_type": "markdown",
   "id": "d61d148f-4ca7-448c-936c-4762db8f6a0c",
   "metadata": {},
   "source": [
    "### Luego verificamos que ninguna feature categorica tenga valores repetidos o sin sentido por errores de tipado "
   ]
  },
  {
   "cell_type": "code",
   "execution_count": null,
   "id": "dae8fe0e-d915-494c-a524-b6f88a6f579b",
   "metadata": {},
   "outputs": [],
   "source": [
    "df.barrio.value_counts().to_frame()"
   ]
  },
  {
   "cell_type": "code",
   "execution_count": null,
   "id": "7f0be858-aef9-445b-b414-15f4b1621ea7",
   "metadata": {},
   "outputs": [],
   "source": [
    "df.direccion_viento_temprano.value_counts().to_frame()"
   ]
  },
  {
   "cell_type": "code",
   "execution_count": null,
   "id": "85744569-d6c4-4066-80e2-bc51b11f3a51",
   "metadata": {},
   "outputs": [],
   "source": [
    "df.direccion_viento_tarde.value_counts().to_frame()"
   ]
  },
  {
   "cell_type": "code",
   "execution_count": null,
   "id": "2a64c87d-4cd6-41c9-b71f-ca6e3b51a861",
   "metadata": {},
   "outputs": [],
   "source": [
    "df.rafaga_viento_max_direccion.value_counts().to_frame()"
   ]
  },
  {
   "cell_type": "code",
   "execution_count": null,
   "id": "312f62b6-bf80-4b6d-883c-cc1552d6147d",
   "metadata": {},
   "outputs": [],
   "source": [
    "df.llovieron_hamburguesas_hoy.value_counts().to_frame()"
   ]
  },
  {
   "cell_type": "markdown",
   "id": "f0a15df3-79ad-46ca-9003-4c8f9a1bb0f2",
   "metadata": {},
   "source": [
    "#### Vemos que todos los valores son unicos, no hay necesidad de alterar las features y podemos seguir con la conversion a valores numericos"
   ]
  },
  {
   "cell_type": "markdown",
   "id": "2139904a-b5f2-4860-8e28-e04f0bef34a2",
   "metadata": {},
   "source": [
    "## Variables __numéricas__\n",
    "\n",
    "\n",
    "### Comenzamos por buscar cuáles columnas tienen missings"
   ]
  },
  {
   "cell_type": "code",
   "execution_count": null,
   "id": "7ffb96d0-14ca-495c-933f-69e1a2eb8fe2",
   "metadata": {},
   "outputs": [],
   "source": [
    "df.fillna(np.nan, inplace = True)\n",
    "df_nulos = pd.DataFrame({'Cantidad de nulos': df.isnull().sum(), 'Porcentaje de nulos': (df.isnull().mean() * 100)})\n",
    "df_nulos.sort_values(by=['Porcentaje de nulos'])"
   ]
  },
  {
   "cell_type": "markdown",
   "id": "2779f83f-8f1e-403e-92d8-ec8892dacb26",
   "metadata": {},
   "source": [
    "Vemos que algunos de los features tienen menos de un 1.5% de NaNs, por lo cual usar la media para rellenarlos no implicaría una disonancia significativa en la información, sinó más bien un suavizado de esos casos vacíos."
   ]
  },
  {
   "cell_type": "code",
   "execution_count": null,
   "id": "ba245119-1b71-4168-a621-9099ff4ba16b",
   "metadata": {},
   "outputs": [],
   "source": [
    "df['temp_max'].replace(np.nan, df['temp_max'].mean(), inplace = True)\n",
    "df['temp_min'].replace(np.nan, df['temp_min'].mean(), inplace = True)\n",
    "df['temperatura_temprano'].replace(np.nan, df['temperatura_temprano'].mean(), inplace = True)\n",
    "df['velocidad_viendo_temprano'].replace(np.nan, df['velocidad_viendo_temprano'].mean(), inplace = True)\n",
    "\n",
    "df_nulos = pd.DataFrame({'Cantidad de nulos': df.isnull().sum(), 'Porcentaje de nulos': (df.isnull().mean() * 100)})\n",
    "df_nulos.sort_values(by=['Porcentaje de nulos'])"
   ]
  },
  {
   "cell_type": "markdown",
   "id": "812036d7-e363-4ac1-8502-1dc6f65e3b8d",
   "metadata": {},
   "source": [
    "Para las features con alta cardinalidad de nulos (horas_de_sol, nubosidad_temprano, nubosidad_tarde) analizaremos cada caso en particular para observar la relacion de dichos nulos con la variable target. \n",
    "Desconocemos como se computa la nubosidad, y por eso no podemos afirmar que se trata de columnas con missings at random (MAR)}. Es decir, no podemos afirmar que la falta de informacion en nubosidad dependa de horas_de_sol, (lo mismo aplica para nubosidad_temprano y nubosidad_tarde), por ende trataremos estos missings como MCAR completely at random."
   ]
  },
  {
   "cell_type": "markdown",
   "id": "f750fc4d-8da6-4468-b426-30cd63e16fb3",
   "metadata": {},
   "source": [
    "# Formulación de Preguntas y Visualización\n",
    "## Primero nos hacemos una serie de preguntas para comprender y analizar mejor nuestros datos:  \n",
    "\n",
    " 1. ¿Suponiendo desconocimiento de todas las features excepto el target, que tan probable es que lluevan hamburguesas al dia siguiente?\n",
    " 2. ¿De qué manera se relaciona el barrio con que lluevan hamburguesas al dia siguiente?\n",
    " 3. ¿Si llovieron hamburguesas hoy, qué tan probable es que lluevan hamburguesas mañana?\n",
    " 4. ¿Cómo afecta la feature mm_lluvia_dia al target? ¿Y qué sucede con los mm evaporados?\n",
    " 5. ¿Hay correlación entre la feature horas_de_sol y la lluvia de hamburguesas del dia siguiente?\n",
    " 6. ¿Cómo se relacionan la nubosidad_temprano y la nubosidad_tarde con el target?\n",
    " 7. ¿Las direcciones del viento temprano y tarde, estarán involucradas en la búsqueda del baseline?\n",
    " 8. ¿Cómo afectan las velocidades de los vientos tempranos y tardes al baseline?\n",
    " 9. ¿En cuánto al viento, las ráfagas tienen efecto en el target?\n",
    " 10. ¿Los máximos y mínimos de temperatura, indican algo sobre si llueven o no hamburguesas al dia siguiente?\n",
    " 11. ¿Tiene relación la humedad con la variable target?\n",
    " 12. ¿Encontraremos alguna correlacion entre humedad, temperatura y el target, tal cual indicaría el sentido común?\n",
    " 13. ¿Es observable una correlación entre la presión atmosférica y el target?\n",
    " 14. ¿Son de utilidad las mediciones donde el target tiene el valor NaN?\n",
    " \n",
    "Buscamos entender cada uno de los datos, cómo se relacionan entre sí y ver que conclusiones podemos obtener. A partir de ellos vamos a determinar los factores que determinan si lloverá al dia siguiente, y verificaremos cuáles features son reelevantes de mantener en el dataset."
   ]
  },
  {
   "cell_type": "markdown",
   "id": "eaa627b6-c557-4749-806f-122ee71f6afa",
   "metadata": {},
   "source": [
    "### 1.¿Suponiendo desconocimiento de todas las features excepto el target, que tan probable es que lluevan hamburguesas al dia siguiente?"
   ]
  },
  {
   "cell_type": "code",
   "execution_count": null,
   "id": "184d94df-3323-4249-8473-5f9951e6fc5d",
   "metadata": {},
   "outputs": [],
   "source": [
    "plt.figure(figsize=(5.4, 3.8), dpi=150)\n",
    "labels = ['No', 'Si']\n",
    "sizes = df['llovieron_hamburguesas_al_dia_siguiente'].value_counts()\n",
    "explode = (0, 0.1)\n",
    "plt.title('Llueven hamburguesas al dia siguiente')\n",
    "plt.pie(sizes, explode=explode, data = df['llovieron_hamburguesas_al_dia_siguiente'],labels = labels ,autopct='%1.1f%%',\n",
    "        shadow=True, startangle=90)\n",
    "plt.show()"
   ]
  },
  {
   "cell_type": "markdown",
   "id": "17a929f2-4f7d-4a36-90cc-bcbcc44f0053",
   "metadata": {},
   "source": [
    "Podemos corroborar, que desconociendo el resto de features, para el 77.6% de los registros en el dataset al dia siguiente no llueven hamburguesas. Esto quiere decir que si armaramos una baseline que simplemente devuelva siempre \"NO\", el accuracy ya sería de ese porcentaje. Sin embargo, no solo es un accuracy que no nos satisface, sinó que resulta en algo poco reutilizable que desperdicia el resto de información."
   ]
  },
  {
   "cell_type": "markdown",
   "id": "15cd298e-e50c-492a-bee8-e30298433403",
   "metadata": {},
   "source": [
    "### 2. ¿De qué manera se relaciona el barrio con que lluevan hamburguesas al dia siguiente?"
   ]
  },
  {
   "cell_type": "code",
   "execution_count": null,
   "id": "8370cd96-d003-46fb-a84f-55e430dd11fc",
   "metadata": {},
   "outputs": [],
   "source": [
    "lluvurguesas_por_barrio = df.groupby(by=\"barrio\")['llovieron_hamburguesas_al_dia_siguiente'].value_counts(normalize=True)\n",
    "lluvurguesas_por_barrio = lluvurguesas_por_barrio.to_frame()\n",
    "lluvurguesas_por_barrio.rename(columns={'llovieron_hamburguesas_al_dia_siguiente':'porcentaje_por_barrio'},inplace=True)\n",
    "lluvurguesas_por_barrio.reset_index(inplace=True)\n",
    "\n",
    "g = sns.catplot(\n",
    "    data=lluvurguesas_por_barrio, kind=\"bar\",\n",
    "    x=\"barrio\", y=\"porcentaje_por_barrio\", hue=\"llovieron_hamburguesas_al_dia_siguiente\", order=df[\"barrio\"].value_counts().index,\n",
    "    ci=None, height=8,aspect=2\n",
    ")\n",
    "plt.title(\"Porcentaje de lluvia de hamburguesas según barrio\", fontsize=25)\n",
    "g.despine(left=True)\n",
    "plt.ylim(0,1)\n",
    "plt.xticks(rotation=90)\n",
    "g.set_axis_labels(\"Barrio\", \"Porcentaje de lluvia de hamburguesas\",  fontsize=15)\n",
    "plt.show()"
   ]
  },
  {
   "cell_type": "markdown",
   "id": "fd98a1fd-e065-41f0-88a2-b422123317fc",
   "metadata": {},
   "source": [
    "Podemos ver que en ningún barrio es predominante el \"SI\" para la feature llovieron_hamburguesas_al_dia_siguiente, por lo que no podemos hacer ninguna afirmación positiva para la lluvia de hamburguesas según el barrio. Sin embargo, podemos notar que ciertos barrios como Parque Patricios y Villa Pueryrredón, tienen lluvia de hamburguesas al dia siguiente más seguido de lo normal (un \\~30% de las veces), mientras que barrios como Villa Crespo y Villa Santa Rita rondan números mas bajos (\\~10%)."
   ]
  },
  {
   "cell_type": "markdown",
   "id": "c4bded5a-1dac-40dc-9f8e-56297fc5da95",
   "metadata": {},
   "source": [
    "### 3.¿Si llovieron hamburguesas hoy, qué tan probable es que lluevan hamburguesas mañana?"
   ]
  },
  {
   "cell_type": "code",
   "execution_count": null,
   "id": "48a2b247-0bb2-409c-bd3b-dd488575c0ef",
   "metadata": {},
   "outputs": [],
   "source": [
    "fig, axes = plt.subplots(nrows=1, ncols=2, figsize=[6.4 * 2, 4.8], dpi=100)\n",
    "\n",
    "sns.countplot(data=df, x='llovieron_hamburguesas_hoy', hue='llovieron_hamburguesas_al_dia_siguiente', ax=axes[0])\n",
    "axes[0].set_title(\"Cantidad de veces que llovieron hamburguesas \\n\" +  \"al dia siguiente según si llovieron hoy\")\n",
    "\n",
    "sns.barplot(\n",
    "    data=df.groupby(\"llovieron_hamburguesas_hoy\")\n",
    "    .llovieron_hamburguesas_al_dia_siguiente.value_counts(normalize=True)\n",
    "    .rename(\"llovieron_al_dia_siguiente_prop\")\n",
    "    .reset_index(),\n",
    "    x='llovieron_hamburguesas_hoy',\n",
    "    y=\"llovieron_al_dia_siguiente_prop\",\n",
    "    hue='llovieron_hamburguesas_al_dia_siguiente',\n",
    "    ax=axes[1],\n",
    ")\n",
    "axes[1].set_ylabel(\"% intragrupo\")\n",
    "axes[1].set_title(\"Porcentaje para lluvia de hamburguesas\\n\" +  \"al dia siguiente según si llovieron hoy\")\n",
    "\n",
    "plt.show()"
   ]
  },
  {
   "cell_type": "markdown",
   "id": "47f556c5-0411-4e5b-94e1-071fa3a4fb27",
   "metadata": {},
   "source": [
    "Podemos ver que si bien la cantidad de veces que llueven hamburguesas al dia siguiente es prácticamente la misma en ambas mitades del primer gráfico,cuando lo analizamos en porcentajes, vemos que si llovio el dia de hoy, la probabilidad de que lluevan hamburguesas al dia siguiente aumenta radicalmente. Concluimos de esta visualización, que si llovieron hamburguesas hoy, hay practicamente un 45% de probabilidades que llueva mañana, mientras que si hoy no llovieron hamburguesas, entonces esa probabilidad es mucho menor, de aproximadamente el 15%"
   ]
  },
  {
   "cell_type": "markdown",
   "id": "70020c84-ff79-47cc-94cd-942104bb037f",
   "metadata": {},
   "source": [
    "### 4.¿Cómo afecta la feature mm_lluvia_dia al target? ¿Y qué sucede con los mm evaporados?"
   ]
  },
  {
   "cell_type": "code",
   "execution_count": null,
   "id": "7e15f56f-0acf-47fe-9652-2646290c2cd0",
   "metadata": {
    "tags": []
   },
   "outputs": [],
   "source": [
    "fig = plt.figure(figsize=[6.4 * 2, 4.8], dpi=100)\n",
    "\n",
    "df_llovio_h_maniana = df[df.llovieron_hamburguesas_al_dia_siguiente == 'si']\n",
    "df_no_llovio_h_maniana = df[df.llovieron_hamburguesas_al_dia_siguiente == 'no']\n",
    "\n",
    "plt.hist(df_no_llovio_h_maniana.mm_lluvia_dia, alpha=1, range=[0, 5], label='No llovieron hamburguesas al dia siguiente')\n",
    "plt.hist(df_llovio_h_maniana.mm_lluvia_dia, alpha=0.75, range=[0, 5], label='Llovieron hamburguesas al dia siguiente')\n",
    "plt.legend()\n",
    "plt.title('mm lluvia - llovieron hamburguesas al dia siguiente')\n",
    "plt.ylabel(\"Cantidad de mediciones\")\n",
    "plt.xlabel(\"mm de lluvia\")\n",
    "plt.yscale('log')\n",
    "plt.show()\n"
   ]
  },
  {
   "cell_type": "markdown",
   "id": "1ea386e7-e74b-4929-8155-4b54804e257a",
   "metadata": {},
   "source": [
    "Se puede observar que si tomamos en cuenta las distintas escalas del eje de las ordenadas (cantidad de dias donde llovieron o no hamburguesas), entonces la distribución de los mm de lluvia es muy similar en ambas, por lo que no nos llevaria a ninguna estimación concluyente del target. Veamos si para los mm evaporados de agua en el dia obtenemos una distribución mejor indicadora del target:"
   ]
  },
  {
   "cell_type": "code",
   "execution_count": null,
   "id": "e7acd12e-63ff-4aeb-884e-7cd85a7e3aae",
   "metadata": {},
   "outputs": [],
   "source": [
    "fig = plt.figure(figsize=[6.4 * 2, 4.8], dpi=100)\n",
    "\n",
    "df_llovio_h_maniana = df[df.llovieron_hamburguesas_al_dia_siguiente == 'si']\n",
    "df_no_llovio_h_maniana = df[df.llovieron_hamburguesas_al_dia_siguiente == 'no']\n",
    "\n",
    "plt.hist(df_no_llovio_h_maniana.mm_evaporados_agua, alpha=1, range=[0, 30], label='No llovieron hamburguesas al dia siguiente')\n",
    "plt.hist(df_llovio_h_maniana.mm_evaporados_agua, alpha=0.75, range=[0, 30], label='Llovieron hamburguesas al dia siguiente')\n",
    "plt.title('mm evaporados - llovieron hamburguesas al dia siguiente')\n",
    "plt.ylabel(\"Cantidad de mediciones\")\n",
    "plt.xlabel(\"mm evaporados\")\n",
    "plt.yscale('log')\n",
    "plt.legend()\n",
    "plt.show()"
   ]
  },
  {
   "cell_type": "markdown",
   "id": "b81b8df1-e5cc-4f13-872e-33fb9f498fe6",
   "metadata": {},
   "source": [
    "Podemos observar que las distribuciones en la visualización vuelven a ser  similares tanto para el valor afirmativo del target como en caso contrario, por lo que a priori los mm_evaporados no parecen ser un gran indicador para predecir el mismo. Para considerar una relación con la variable target deberiamos apreciar diferencias más significativas."
   ]
  },
  {
   "cell_type": "markdown",
   "id": "74faeff5-0768-4601-ac60-f48c70272fd6",
   "metadata": {},
   "source": [
    "### 5.¿Hay correlación entre la feature horas_de_sol y la lluvia de hamburguesas del dia siguiente?\n"
   ]
  },
  {
   "cell_type": "code",
   "execution_count": null,
   "id": "d67d5c28-b4f0-4fb6-917a-b7698677419c",
   "metadata": {},
   "outputs": [],
   "source": [
    "fig = plt.figure(figsize=[6.4 * 2, 4.8], dpi=100)\n",
    "\n",
    "df_llovio_h_maniana = df[df.llovieron_hamburguesas_al_dia_siguiente == 'si']\n",
    "df_no_llovio_h_maniana = df[df.llovieron_hamburguesas_al_dia_siguiente == 'no']\n",
    "\n",
    "plt.hist(df_no_llovio_h_maniana.horas_de_sol, range=[0,15], label='No llovieron hamburguesas al dia siguiente')\n",
    "plt.hist(df_llovio_h_maniana.horas_de_sol, alpha=0.75, range=[0,15], label='Llovieron hamburguesas al dia siguiente')\n",
    "plt.title('Horas de sol - llovieron hamburguesas al dia siguiente')\n",
    "plt.ylabel(\"Cantidad de mediciones\")\n",
    "plt.xlabel(\"Horas de sol\")\n",
    "plt.legend()\n",
    "plt.show()"
   ]
  },
  {
   "cell_type": "markdown",
   "id": "528fac2b-2666-46ab-a001-206068e5e09a",
   "metadata": {},
   "source": [
    "Comparando ámbos gráficos, vemos grandes diferencias en las distribuciones de las horas de sol según el valor del target. Cuando al día siguiente llueven hamburguesas, el gráfico de la izquierda nos indica que suele haber en general pocas horas de sol. Caso contrario, en el gráfico de la derecha vemos que la mayoría de dias en los cuales no llueven hamburguesas al día siguiente se agrupan a partir de aproximadamente 8 horas de sol."
   ]
  },
  {
   "cell_type": "markdown",
   "id": "5ed077d4-3e62-4287-bbf8-06d823b28457",
   "metadata": {},
   "source": [
    "Sin embargo, debemos analizar que sucede cuando horas de sol tiene missings. Dado que es una feature con una cardinalidad muy grande de valores nulos, amerita un analisis en detalle."
   ]
  },
  {
   "cell_type": "code",
   "execution_count": null,
   "id": "54ba31c6-9cae-4368-9431-56493e80ecb6",
   "metadata": {},
   "outputs": [],
   "source": [
    "fig =  plt.figure(figsize=(5.4, 3.8), dpi=150)\\\n",
    "\n",
    "df_horas_sol_desconocidas = df[(df['horas_de_sol'].isna())]\n",
    "\n",
    "total_dias_lluvia = sum(df_horas_sol_desconocidas.llovieron_hamburguesas_al_dia_siguiente == 'si')\n",
    "total_dias_sin_lluvia = sum(df_horas_sol_desconocidas.llovieron_hamburguesas_al_dia_siguiente == 'no')\n",
    "\n",
    "sns.countplot(data=df_horas_sol_desconocidas, x='llovieron_hamburguesas_al_dia_siguiente', hue='llovieron_hamburguesas_al_dia_siguiente')\n",
    "plt.title(\"Cantidad de dias que llovieron hamburguesas al día \\n siguiente para horas de sol no conocidas\")\n",
    "plt.xlabel(\"Llovieron hamburguesas al día siguiente\")\n",
    "plt.axhline(y=total_dias_sin_lluvia, color=\"C0\", label=f\"{total_dias_sin_lluvia} dias\", linestyle='--')\n",
    "plt.axhline(y=total_dias_lluvia, color=\"C1\", label=f\"{total_dias_lluvia} dias\",  linestyle='--')\n",
    "plt.legend(loc='best')\n",
    "plt.show()"
   ]
  },
  {
   "cell_type": "markdown",
   "id": "84ad8a8d-8429-4d50-a9e2-145e52109477",
   "metadata": {},
   "source": [
    "Del grafico de barras vemos que aproximadamente el 80% de los casos en los que no conocemos las horas de sol, tampoco llovieron hamburguesas al dia siguiente. Este dato podría ser tenido en cuenta a la hora de definir que decisión deberia tomar nuestra baseline."
   ]
  },
  {
   "cell_type": "markdown",
   "id": "bd8ba2ea-36a6-4a40-a1e1-ceca4646c8e1",
   "metadata": {},
   "source": [
    "### 6. ¿Cómo se relacionan la nubosidad_temprano y la nubosidad_tarde con el target?\n",
    "\n"
   ]
  },
  {
   "cell_type": "code",
   "execution_count": null,
   "id": "5e855e24-e3c7-434d-827b-ba6837d64a64",
   "metadata": {},
   "outputs": [],
   "source": [
    "fig = plt.figure(figsize=[6.4 * 2, 4.8], dpi=100)\n",
    "\n",
    "df_llovio_h_maniana = df[df.llovieron_hamburguesas_al_dia_siguiente == 'si']\n",
    "df_no_llovio_h_maniana = df[df.llovieron_hamburguesas_al_dia_siguiente == 'no']\n",
    "rango_nubosidad_temp = [0,9]\n",
    "\n",
    "plt.hist(df_no_llovio_h_maniana.nubosidad_temprano, range=rango_nubosidad_temp, label='No llovieron hamburguesas al dia siguiente')\n",
    "plt.hist(df_llovio_h_maniana.nubosidad_temprano, alpha=0.75, range=rango_nubosidad_temp, label='Llovieron hamburguesas al dia siguiente')\n",
    "plt.title('nubosidad temprano - llovieron hamburguesas al dia siguiente')\n",
    "plt.ylabel(\"Cantidad de mediciones\")\n",
    "plt.xlabel(\"Nubosidad temprano\")\n",
    "plt.yscale('log')\n",
    "plt.legend()\n",
    "plt.show()\n"
   ]
  },
  {
   "cell_type": "markdown",
   "id": "b5edfae8-d437-4b4a-90d6-5c7c3a3f71c6",
   "metadata": {},
   "source": [
    "Vemos que la distribución en ambos gráficos es muy diferente, por lo que parece interesante considerar los dias de alta nubosidad temprana en búsqueda de predecir target. Pasemos a analizar la nubosidad a la tarde:"
   ]
  },
  {
   "cell_type": "code",
   "execution_count": null,
   "id": "711be94a-ed05-4487-9beb-bb928f7b7a01",
   "metadata": {},
   "outputs": [],
   "source": [
    "fig = plt.figure(figsize=[6.4 * 2, 4.8], dpi=100)\n",
    "\n",
    "df_llovio_h_maniana = df[df.llovieron_hamburguesas_al_dia_siguiente == 'si']\n",
    "df_no_llovio_h_maniana = df[df.llovieron_hamburguesas_al_dia_siguiente == 'no']\n",
    "rango_nubosidad_tarde = [0,9]\n",
    "\n",
    "plt.hist(df_no_llovio_h_maniana.nubosidad_tarde, range=rango_nubosidad_tarde, label='No llovieron hamburguesas al dia siguiente')\n",
    "plt.hist(df_llovio_h_maniana.nubosidad_tarde,alpha=0.75, range=rango_nubosidad_tarde, label='Llovieron hamburguesas al dia siguiente')\n",
    "plt.title('Nubosidad - llovieron hamburguesas al dia siguiente')\n",
    "plt.ylabel(\"Cantidad de mediciones\")\n",
    "plt.xlabel(\"Nubosidad tarde\")\n",
    "plt.yscale('log')\n",
    "plt.legend()\n",
    "plt.show()"
   ]
  },
  {
   "cell_type": "markdown",
   "id": "5a15b901-9f20-44b3-8701-7681c44aea14",
   "metadata": {},
   "source": [
    "Para la nubosidad a la tarde, la visualización resulta muy similar al caso de la nubosidad temprana, tanto para cuando llueven hamburguesas al dia siguiente como cuando no lo hace."
   ]
  },
  {
   "cell_type": "code",
   "execution_count": null,
   "id": "8b9b6b2f-cca9-4742-86f9-dc94d5ad4dc0",
   "metadata": {},
   "outputs": [],
   "source": [
    "fig, axes = plt.subplots(nrows=1, ncols=2, figsize=(11,3.8), dpi=125)\n",
    "\n",
    "df_nubosidad_temprana_desconocida = df[(df['nubosidad_temprano'].isna())]\n",
    "total_dias_lluvia_nubosidad_temprana_desc = sum(df_nubosidad_temprana_desconocida.llovieron_hamburguesas_al_dia_siguiente == 'si')\n",
    "total_dias_sin_lluvia_nubosidad_temprana_desc = sum(df_nubosidad_temprana_desconocida.llovieron_hamburguesas_al_dia_siguiente == 'no')\n",
    "\n",
    "sns.countplot(data=df_nubosidad_temprana_desconocida, x='llovieron_hamburguesas_al_dia_siguiente', hue='llovieron_hamburguesas_al_dia_siguiente', ax=axes[0])\n",
    "axes[0].set_title(\"Cantidad de dias que llovieron hamburguesas al día \\n siguiente para nubosidad temprano desconocida\")\n",
    "axes[0].set_xlabel(\"Llovieron hamburguesas al día siguiente\")\n",
    "axes[0].axhline(y=total_dias_lluvia_nubosidad_temprana_desc, color=\"C1\", label=f\"{total_dias_lluvia_nubosidad_temprana_desc} dias\",  linestyle='--')\n",
    "axes[0].axhline(y=total_dias_sin_lluvia_nubosidad_temprana_desc, color=\"C0\", label=f\"{total_dias_sin_lluvia_nubosidad_temprana_desc} dias\", linestyle='--')\n",
    "axes[0].legend(loc='best')\n",
    "\n",
    "df_nubosidad_tarde_desconocida = df[(df['nubosidad_tarde'].isna())]\n",
    "total_dias_lluvia_nubosidad_tarde_desc = sum(df_nubosidad_tarde_desconocida.llovieron_hamburguesas_al_dia_siguiente == 'si')\n",
    "total_dias_sin_lluvia_nubosidad_tarde_desc = sum(df_nubosidad_tarde_desconocida.llovieron_hamburguesas_al_dia_siguiente == 'no')\n",
    "\n",
    "sns.countplot(data=df_nubosidad_tarde_desconocida, x='llovieron_hamburguesas_al_dia_siguiente', hue='llovieron_hamburguesas_al_dia_siguiente',ax=axes[1])\n",
    "axes[1].set_title(\"Cantidad de dias que llovieron hamburguesas al día \\n siguiente para nubosidad tarde desconocida\")\n",
    "axes[1].set_xlabel(\"Llovieron hamburguesas al día siguiente\")\n",
    "axes[1].axhline(y=total_dias_lluvia_nubosidad_tarde_desc, color=\"C1\", label=f\"{total_dias_lluvia_nubosidad_tarde_desc} dias\",  linestyle='--')\n",
    "axes[1].axhline(y=total_dias_sin_lluvia_nubosidad_tarde_desc, color=\"C0\", label=f\"{total_dias_sin_lluvia_nubosidad_tarde_desc} dias\", linestyle='--')\n",
    "axes[1].legend(loc='best')\n",
    "\n",
    "plt.show()"
   ]
  },
  {
   "cell_type": "markdown",
   "id": "19db7309-3123-450d-8ef4-9a5fe0c4452a",
   "metadata": {},
   "source": [
    "Analogamente al caso de las horas de sol desconocidas, cuando la nubosidad es desconocida (practicamente idéntico para ambas),en el 80% de los casos no llovieron hamburguesas al dia siguiente. También sera tenido en cuenta este dato a la hora de predecir el target\n"
   ]
  },
  {
   "cell_type": "markdown",
   "id": "4a34410b-02da-4584-8e17-5320be5b0447",
   "metadata": {},
   "source": [
    "### 7. ¿Las direcciones del viento temprano y tarde, estarán involucradas en la búsqueda del baseline?"
   ]
  },
  {
   "cell_type": "code",
   "execution_count": null,
   "id": "a21f9ec6-eb67-43ea-832e-b05664384154",
   "metadata": {},
   "outputs": [],
   "source": [
    "lluvurguesas_viento_temprano = df.groupby(by=\"direccion_viento_temprano\")['llovieron_hamburguesas_al_dia_siguiente'].value_counts(normalize=True)\n",
    "\n",
    "lluvurguesas_viento_temprano = lluvurguesas_viento_temprano.to_frame()\n",
    "lluvurguesas_viento_temprano.rename(columns={'llovieron_hamburguesas_al_dia_siguiente':'porcentaje_viento_temprano'},inplace=True)\n",
    "lluvurguesas_viento_temprano.reset_index(inplace=True)\n",
    "\n",
    "g = sns.catplot(\n",
    "    data=lluvurguesas_viento_temprano, kind=\"bar\",\n",
    "    x=\"direccion_viento_temprano\", y=\"porcentaje_viento_temprano\", hue=\"llovieron_hamburguesas_al_dia_siguiente\", order=df[\"direccion_viento_temprano\"].value_counts().index,\n",
    "    ci=None, height=8,aspect=2\n",
    ")\n",
    "plt.title(\"Porcentaje de lluvia de hamburguesas según dirección del viento temprano\", fontsize=18)\n",
    "g.despine(left=True)\n",
    "plt.ylim(0,1)\n",
    "plt.xticks(rotation=90)\n",
    "g.set_axis_labels(\"Dirección del viento temprano\", \"Porcentaje de lluvia de hamburguesas\",  fontsize=15)\n",
    "plt.show()"
   ]
  },
  {
   "cell_type": "markdown",
   "id": "8b9f783f-48bf-4f8a-9453-8d8cae1a10ce",
   "metadata": {},
   "source": [
    "No parece que la dirección del viento temprano tenga una influencia tajante en el comportamiento del target. Vemos que todas las direcciones tienen la mayoría rotunda de no llover hamburguesas al dia siguiente. Probemos ahora qué sucede con la dirección del viento a la tarde."
   ]
  },
  {
   "cell_type": "code",
   "execution_count": null,
   "id": "2912cd63-10e5-42ef-8ea9-f588be8a2fd8",
   "metadata": {},
   "outputs": [],
   "source": [
    "lluvurguesas_viento_tarde = df.groupby(by=\"direccion_viento_tarde\")['llovieron_hamburguesas_al_dia_siguiente'].value_counts(normalize=True)\n",
    "\n",
    "lluvurguesas_viento_tarde = lluvurguesas_viento_tarde.to_frame()\n",
    "lluvurguesas_viento_tarde.rename(columns={'llovieron_hamburguesas_al_dia_siguiente':'porcentaje_viento_tarde'},inplace=True)\n",
    "lluvurguesas_viento_tarde.reset_index(inplace=True)\n",
    "\n",
    "g = sns.catplot(\n",
    "    data=lluvurguesas_viento_tarde, kind=\"bar\",\n",
    "    x=\"direccion_viento_tarde\", y=\"porcentaje_viento_tarde\", hue=\"llovieron_hamburguesas_al_dia_siguiente\", order=df[\"direccion_viento_tarde\"].value_counts().index,\n",
    "    ci=None, height=8,aspect=2\n",
    ")\n",
    "plt.title(\"Porcentaje de lluvia de hamburguesas según dirección del viento tardío\", fontsize=18)\n",
    "g.despine(left=True)\n",
    "plt.ylim(0,1)\n",
    "plt.xticks(rotation=90)\n",
    "g.set_axis_labels(\"Dirección del viento tardío\", \"Porcentaje de lluvia de hamburguesas\",  fontsize=15)\n",
    "plt.show()"
   ]
  },
  {
   "cell_type": "markdown",
   "id": "e9e1b5d3-737a-43a0-a693-df5e59f21d97",
   "metadata": {},
   "source": [
    "Al igual que con el viento temprano, el viento a la tarde no parece tampoco influenciar el target de manera determinante como para volverlo parte de nuestra predicción."
   ]
  },
  {
   "cell_type": "markdown",
   "id": "0df13de5-9618-4cb7-952b-5f2b3ceef4b1",
   "metadata": {},
   "source": [
    "### 8. ¿Cómo afectan las velocidades de los vientos tempranos y tardes al baseline?"
   ]
  },
  {
   "cell_type": "code",
   "execution_count": null,
   "id": "017790e5-ed22-4227-abc1-2dd49cd077f9",
   "metadata": {},
   "outputs": [],
   "source": [
    "fig = plt.figure( figsize=[6.4 * 2, 4.8], dpi=100)\n",
    "\n",
    "df_llovio_h_maniana = df[df.llovieron_hamburguesas_al_dia_siguiente == 'si']\n",
    "df_no_llovio_h_maniana = df[df.llovieron_hamburguesas_al_dia_siguiente == 'no']\n",
    "rango_velocidad_viento_temp = [0,70]\n",
    "\n",
    "plt.hist(df_no_llovio_h_maniana.velocidad_viendo_temprano,range=rango_velocidad_viento_temp, label='No llovieron hamburguesas al dia siguiente')\n",
    "plt.hist(df_llovio_h_maniana.velocidad_viendo_temprano, alpha=0.75, range=rango_velocidad_viento_temp, label='Llovieron hamburguesas al dia siguiente')\n",
    "plt.title('Velocidad viento temprano - llovieron hamburguesas al dia siguiente')\n",
    "plt.ylabel(\"Cantidad de mediciones\")\n",
    "plt.xlabel(\"Velocidad del viento [km/h]\")\n",
    "plt.yscale('log')\n",
    "plt.legend()\n",
    "plt.show()"
   ]
  },
  {
   "cell_type": "code",
   "execution_count": null,
   "id": "c30f7f95-3eaf-4a2b-a023-72515283fefc",
   "metadata": {},
   "outputs": [],
   "source": [
    "fig = plt.figure( figsize=[6.4 * 2, 4.8], dpi=100)\n",
    "\n",
    "df_llovio_h_maniana = df[df.llovieron_hamburguesas_al_dia_siguiente == 'si']\n",
    "df_no_llovio_h_maniana = df[df.llovieron_hamburguesas_al_dia_siguiente == 'no']\n",
    "rango_velocidad_viento_tarde = [0,70]\n",
    "\n",
    "plt.hist(df_no_llovio_h_maniana.velocidad_viendo_tarde,range=rango_velocidad_viento_temp, label='No llovieron hamburguesas al dia siguiente')\n",
    "plt.hist(df_llovio_h_maniana.velocidad_viendo_tarde, alpha=0.75, range=rango_velocidad_viento_temp, label='Llovieron hamburguesas al dia siguiente')\n",
    "plt.title('Velocidad viento tardío - hamburguesas al dia siguiente')\n",
    "plt.ylabel('Cantidad de mediciones')\n",
    "plt.xlabel('Velocidad del viento[km/h]')\n",
    "plt.yscale('log')\n",
    "plt.legend()\n",
    "plt.show()"
   ]
  },
  {
   "cell_type": "markdown",
   "id": "35ad7def-d8ea-492b-b0d8-d4f2cf0d839f",
   "metadata": {},
   "source": [
    "Concluimos que la distribución del viento temprano, así como el viento tardío, son prácticamente idénticas lluevan hamburguesas al dia siguiente o no, por lo que no nos servirán para la predicción."
   ]
  },
  {
   "cell_type": "markdown",
   "id": "8a97c17f-7ef3-471a-a34e-adc003dd10c0",
   "metadata": {},
   "source": [
    "### 9. ¿En cuánto al viento, las ráfagas tienen efecto en el target?"
   ]
  },
  {
   "cell_type": "code",
   "execution_count": null,
   "id": "ef5d570e-482c-4ad6-b3ff-c5cae6071799",
   "metadata": {},
   "outputs": [],
   "source": [
    "lluvurguesas_dir_rafaga = df.groupby(by=\"rafaga_viento_max_direccion\")['llovieron_hamburguesas_al_dia_siguiente'].value_counts(normalize=True)\n",
    "\n",
    "lluvurguesas_dir_rafaga = lluvurguesas_dir_rafaga.to_frame()\n",
    "lluvurguesas_dir_rafaga.rename(columns={'llovieron_hamburguesas_al_dia_siguiente':'porcentaje_dir_rafaga'},inplace=True)\n",
    "lluvurguesas_dir_rafaga.reset_index(inplace=True)\n",
    "\n",
    "g = sns.catplot(\n",
    "    data=lluvurguesas_dir_rafaga, kind=\"bar\",\n",
    "    x=\"rafaga_viento_max_direccion\", y=\"porcentaje_dir_rafaga\", hue=\"llovieron_hamburguesas_al_dia_siguiente\", order=df[\"rafaga_viento_max_direccion\"].value_counts().index,\n",
    "    ci=None, height=8,aspect=2\n",
    ")\n",
    "plt.title(\"Porcentaje de lluvia de hamburguesas al dia siguiente \\n según la dirección de la ráfaga de viento\", fontsize=18)\n",
    "g.despine(left=True)\n",
    "plt.ylim(0,1)\n",
    "plt.xticks(rotation=90)\n",
    "g.set_axis_labels(\"Dirección de la ráfaga de máximo viento\", \"Porcentaje de lluvia de hamburguesas al dia siguiente\",  fontsize=15)\n",
    "plt.show()"
   ]
  },
  {
   "cell_type": "markdown",
   "id": "d2111a5e-b1fe-4bfd-90bf-ed728b05cd77",
   "metadata": {},
   "source": [
    "Vemos que al igual que el propio viento, la dirección de su máxima ráfaga no parece tener un distribución divisiva en cuanto al target. ¿Y qué hay de la velocidad de la ráfaga? Vemos a continuación:"
   ]
  },
  {
   "cell_type": "code",
   "execution_count": null,
   "id": "6bbb213c-cbf7-44ef-8e2a-3786cc5576a2",
   "metadata": {},
   "outputs": [],
   "source": [
    "fig = plt.figure(figsize=[6.4 * 2, 4.8], dpi=100)\n",
    "\n",
    "df_llovio_h_maniana = df[df.llovieron_hamburguesas_al_dia_siguiente == 'si']\n",
    "df_no_llovio_h_maniana = df[df.llovieron_hamburguesas_al_dia_siguiente == 'no']\n",
    "rango_velocidad_rafaga = [0,120]\n",
    "\n",
    "plt.hist(df_no_llovio_h_maniana.rafaga_viento_max_velocidad,  range=rango_velocidad_rafaga, label='No llovieron hamburguesas al dia siguiente')\n",
    "plt.hist(df_llovio_h_maniana.rafaga_viento_max_velocidad, alpha=0.75, range=rango_velocidad_rafaga, label='Llovieron hamburguesas al dia siguiente')\n",
    "plt.title('Velocidad máxima ráfaga de viento - hamburguesas al dia siguiente')\n",
    "plt.ylabel('Cantidad de mediciones')\n",
    "plt.xlabel('Velocidad del viento[km/h]')\n",
    "plt.yscale('log')\n",
    "plt.legend()\n",
    "plt.show()"
   ]
  },
  {
   "cell_type": "markdown",
   "id": "b8e53ee7-df0f-4b83-a00f-0fffeb3463a2",
   "metadata": {},
   "source": [
    "Adicionalmente, vemos que la velocidad de dicha ráfaga tiene también una distribución similar tanto para los casos en los que llueve al dia siguiente como en los que no, por lo que concluimos finalmente que ninguno de los datos respecto al viento nos da información que vayamos a utilizar para discriminar en el baseline."
   ]
  },
  {
   "cell_type": "markdown",
   "id": "c4e889af-05c7-4719-88bf-810e20d22343",
   "metadata": {},
   "source": [
    " ### 10. ¿Los máximos y mínimos de temperatura, indican algo sobre si llueven o no hamburguesas al dia siguiente?"
   ]
  },
  {
   "cell_type": "code",
   "execution_count": null,
   "id": "f5177055-d48c-4d20-895e-1fc436041cc0",
   "metadata": {},
   "outputs": [],
   "source": [
    "plt.figure(dpi=150)\n",
    "plt.title(\"Distribución de la temperatura máxima según \\n si llovieron hamburguesas o no al día siguiente\")\n",
    "sns.violinplot(\n",
    "    data=df,\n",
    "    y='temp_max',\n",
    "    x='llovieron_hamburguesas_al_dia_siguiente'\n",
    "#    palette=['#D17049', \"#89D15E\"],\n",
    ")\n",
    "plt.xlabel(\"Llovieron hamburguesas al día siguiente\")\n",
    "plt.ylabel(\"Temperatura máxima  [Celcius]\")\n",
    "plt.xticks([False, True], [\"No\", \"Sí\"])\n",
    "plt.show()"
   ]
  },
  {
   "cell_type": "code",
   "execution_count": null,
   "id": "8af3e109-09cf-4729-9e23-7801eb790870",
   "metadata": {},
   "outputs": [],
   "source": [
    "plt.figure(dpi=150)\n",
    "plt.title(\"Distribución de la temperatura mínima según \\n si llovieron hamburguesas o no al día siguiente\")\n",
    "sns.violinplot(\n",
    "    data=df,\n",
    "    y='temp_min',\n",
    "    x='llovieron_hamburguesas_al_dia_siguiente'\n",
    "#    palette=['#D17049', \"#89D15E\"],\n",
    ")\n",
    "plt.xlabel(\"Llovieron hamburguesas al día siguiente\")\n",
    "plt.ylabel(\"Temperatura mínima  [Celcius]\")\n",
    "plt.xticks([False, True], [\"No\", \"Sí\"])\n",
    "plt.show()"
   ]
  },
  {
   "cell_type": "markdown",
   "id": "d656a0d4-c0dc-4574-9e3d-e07d0b859161",
   "metadata": {},
   "source": [
    "Vemos que ni la temperatura máxima ni la mínima en el día parecen ser determinantes de si llueven o no hamburguesas al día siguiente. La forma del violin es prácticamente la misma se cumpla o no el target."
   ]
  },
  {
   "cell_type": "markdown",
   "id": "46b15ca0-8035-446c-990a-586facfcfd56",
   "metadata": {},
   "source": [
    "### 11. ¿Tiene relación la humedad con la variable target?\n",
    "Para responder esta pregunta analitica, planteamos dos boxplots, uno para cada momento del dia"
   ]
  },
  {
   "cell_type": "code",
   "execution_count": null,
   "id": "50d7ed9d-2cd4-4673-a7f0-381fb2236b70",
   "metadata": {},
   "outputs": [],
   "source": [
    "plt.figure(dpi=120)\n",
    "plt.title(\"Distribucion de la humedad segun si llovio al dia siguiente o no (temprano) \")\n",
    "sns.boxplot(\n",
    "    data=df,\n",
    "    y='humedad_temprano',\n",
    "    x='llovieron_hamburguesas_al_dia_siguiente'\n",
    ")\n",
    "plt.ylabel(\"Humedad porcentual\")\n",
    "plt.xlabel(\"Llovieron hamburguesas al dia siguiente\")\n",
    "plt.axhline(y=80, color=\"blue\", label=\"%80\", alpha=0.7)\n",
    "plt.legend(title=\"Porcentaje de humedad\")\n",
    "plt.show()"
   ]
  },
  {
   "cell_type": "markdown",
   "id": "54372b6d-4608-411c-bac7-ea3d2088bbf8",
   "metadata": {},
   "source": [
    "No es observable una gran diferencia en cuanto a las distribuciones de humedad temprana. Se ve como dato notable que la mediana de humedad para cuando llueven hamburguesas al día siguiente esta donde termina el rango intercuartilico de la humedad para los dias que no llovieron hamburguesas, sin embargo no es un dato tan fuerte como para suponer afirmaciones en la baseline. Analizaremos la humedad a la tarde para ver si podemos concluir afirmaciones mas precisas."
   ]
  },
  {
   "cell_type": "code",
   "execution_count": null,
   "id": "c2cb0ef8-bb81-4bf2-85a4-b8d65708fefb",
   "metadata": {},
   "outputs": [],
   "source": [
    "plt.figure(dpi=120)\n",
    "plt.title(\"Distribucion de la humedad segun si llovio al dia siguiente o no (tarde)\")\n",
    "sns.boxplot(\n",
    "    data=df,\n",
    "    y='humedad_tarde',\n",
    "    x='llovieron_hamburguesas_al_dia_siguiente'\n",
    ")\n",
    "plt.ylabel(\"Humedad porcentual\")\n",
    "plt.xlabel(\"Llovieron hamburguesas al dia siguiente\")\n",
    "plt.axhline(y=60, color=\"blue\", label=\"%60\", alpha=0.7)\n",
    "plt.axhline(y=84, color=\"red\", label=\"%84\", alpha=0.7)\n",
    "plt.legend(title=\"Porcentaje de humedad\")\n",
    "plt.xticks([False, True], [\"No\", \"Sí\"])\n",
    "plt.show()"
   ]
  },
  {
   "cell_type": "markdown",
   "id": "59261ca0-1f3b-4ead-9688-29161ab5e054",
   "metadata": {},
   "source": [
    "En este caso se ve una diferencia mucho mas clara, ya que donde termina el rango intercuartilico de los casos en los que no llueven hamburguesas al dia siguiente, \n",
    "esta proximo al inicio del rango intercuartilico de los casos en los que si llueven al día siguiente. Entonces podemos suponer que si la humedad a la tarde es aproximadamente mayor a 80%, es probable que al dia siguiente lluevan hamburguesas."
   ]
  },
  {
   "cell_type": "markdown",
   "id": "ab105db9-61da-4dba-9ece-3e5b9bcb66a1",
   "metadata": {},
   "source": [
    "### 12. ¿Encontraremos alguna correlacion entre humedad, temperatura y el target, tal cual indicaría el sentido común?\n",
    "En el clima de nuestra región es intuitivo pensar que para temperaturas y humedades altas, aumenta la probabilidad de que llueva, sin embargo el target no se trata de una lluvia común y corriente si no de una lluvia de hamburguesas y por ende no podemos confiar en la lógica y el sentido común. Debemos realizar un análisis mas riguroso, para lo cual planteamos un scatter plot que relaciona la humedad en el eje X, la temperatura en el eje Y, y la variable target en el color de los puntos, uno para cada momento del día (temprano y tarde)."
   ]
  },
  {
   "cell_type": "code",
   "execution_count": null,
   "id": "fdc74c46-8677-4a30-9f04-b901a32cb232",
   "metadata": {},
   "outputs": [],
   "source": [
    "fig, ax = plt.subplots(dpi=150)\n",
    "\n",
    "df_copia = df.copy()\n",
    "df_copia['llovieron_hamburguesas_al_dia_siguiente'].replace(['no','si'],[0,1],inplace=True)\n",
    "df_copia = df_copia.dropna(subset = ['llovieron_hamburguesas_al_dia_siguiente'])\n",
    "\n",
    "sns.scatterplot(\n",
    "    x='humedad_temprano',\n",
    "    y='temperatura_temprano',\n",
    "    hue=df_copia['llovieron_hamburguesas_al_dia_siguiente'].tolist(),\n",
    "    data=df_copia,\n",
    "    alpha=0.7,\n",
    ")\n",
    "ax.legend(title=\"Llovieron hamburguesas al dia siguiente\")\n",
    "plt.xlabel(\"Humedad\")\n",
    "plt.ylabel(\"Temperatura\")\n",
    "plt.title('Relación humedad - temperatura (temprano)')\n",
    "plt.show()"
   ]
  },
  {
   "cell_type": "code",
   "execution_count": null,
   "id": "c931360c-fab8-437e-b6ca-931de4bcc9e1",
   "metadata": {},
   "outputs": [],
   "source": [
    "fig, ax = plt.subplots(dpi=150)\n",
    "\n",
    "df_copia = df.copy()\n",
    "df_copia['llovieron_hamburguesas_al_dia_siguiente'].replace(['no','si'],[0,1],inplace=True)\n",
    "df_copia = df_copia.dropna(subset = ['llovieron_hamburguesas_al_dia_siguiente'])\n",
    "\n",
    "sns.scatterplot(\n",
    "    x='humedad_tarde',\n",
    "    y='temperatura_tarde',\n",
    "    hue=df_copia['llovieron_hamburguesas_al_dia_siguiente'].tolist(),\n",
    "    data=df_copia,\n",
    "    alpha=0.7,\n",
    ")\n",
    "ax.legend(title=\"Llovieron hamburguesas al dia siguiente\")\n",
    "plt.xlabel(\"Humedad\")\n",
    "plt.ylabel(\"Temperatura\")\n",
    "plt.title('Relación humedad - temperatura (tarde)')\n",
    "plt.show()"
   ]
  },
  {
   "cell_type": "markdown",
   "id": "f1a16e9d-fba4-4332-b243-5dba31dad818",
   "metadata": {},
   "source": [
    "Para ambos momentos del día podemos observar de manera difusa y poco clara una relación lineal inversa entre temperatura y humedad. \n",
    "\n",
    "En el gráfico de el momento del día temprano, la mayoria de puntos indican que al día siguiente no llovieron hamburguesas. Solo para humedades muy altas (mas de 80%) y temperaturas de entre 20 y 30 grados celsius vemos una leve predominancia de lluvia de hamburguesas al día siguiente. También vemos casos separados del grupo mencionado para todas las humedades, así que el primer gráfico no nos parece lo suficientemente conclusivo.\n",
    "\n",
    "En cambio, para el grafio del momento del día tarde, vemos una separación mas clara de los puntos en cuanto al target se refiere, siendo que la mayoría de casos donde el target es positivo se agrupan para humedades altas, de entre 70-100%, y la mayoría de casos donde dicha feature es negativa, se agrupan para valores mucho menores de humedad. \n",
    "\n",
    "Esto tiene sentido ya que la tarde esta mucho mas cercana del dia siguiente que la mañana, es decir, si a la mañana hay una humedad alta, esta tiene mas posibilidades de cambiar antes del día siguiente que la humedad de la tarde, dejando de afectar al target."
   ]
  },
  {
   "cell_type": "markdown",
   "id": "58716598-16d0-4fb6-8d39-ab7090a3982a",
   "metadata": {},
   "source": [
    "### 13. ¿Es observable una correlación entre la presión atmosférica y el target?"
   ]
  },
  {
   "cell_type": "code",
   "execution_count": null,
   "id": "fe59ed1e-35f5-4ca4-91e8-cd20fce65160",
   "metadata": {},
   "outputs": [],
   "source": [
    "plt.figure(dpi=100)\n",
    "plt.title(\"Distribución de la presión atmosférica temprana \\n si llovieron hamburguesas o no al día siguiente\")\n",
    "sns.violinplot(\n",
    "    data=df,\n",
    "    y='presion_atmosferica_temprano',\n",
    "    x='llovieron_hamburguesas_al_dia_siguiente'\n",
    ")\n",
    "plt.xlabel(\"Llovieron hamburguesas al día siguiente\")\n",
    "plt.ylabel(\"Presión atmosférica [hPa]\")\n",
    "plt.xticks([False, True], [\"No\", \"Sí\"])\n",
    "plt.show()"
   ]
  },
  {
   "cell_type": "code",
   "execution_count": null,
   "id": "c4c57a11-b147-4f4f-9283-f4d2bf984925",
   "metadata": {},
   "outputs": [],
   "source": [
    "plt.figure(dpi=100)\n",
    "plt.title(\"Distribución de la presión atmosférica a la tarde \\n si llovieron hamburguesas o no al día siguiente\")\n",
    "\n",
    "df_aux = df.explode('presion_atmosferica_tarde')\n",
    "df_aux['presion_atmosferica_tarde'] = df_aux['presion_atmosferica_tarde'].astype('float')\n",
    "\n",
    "sns.violinplot(\n",
    "    data=df_aux,\n",
    "    y='presion_atmosferica_tarde',\n",
    "    x='llovieron_hamburguesas_al_dia_siguiente'\n",
    ")\n",
    "plt.xlabel(\"Llovieron hamburguesas al día siguiente\")\n",
    "plt.ylabel(\"Presión atmosférica [hPa]\")\n",
    "plt.xticks([False, True], [\"No\", \"Sí\"])\n",
    "plt.show()"
   ]
  },
  {
   "cell_type": "markdown",
   "id": "3104c6a9-efb6-4ffc-b1fb-b9008d5a9112",
   "metadata": {},
   "source": [
    "### 14. ¿Son de utilidad las mediciones donde el target tiene el valor NaN?"
   ]
  },
  {
   "cell_type": "markdown",
   "id": "5b68d9be-f08c-46b1-9c47-081622663785",
   "metadata": {},
   "source": [
    "Recordando como se ve a continuación, que el porcentaje de missings en la variable target es relativamente bajo, es válido plantearnos si seria conveniente droppear del dataset los registros que tengan un NaN en la variable target."
   ]
  },
  {
   "cell_type": "code",
   "execution_count": null,
   "id": "faa49573-7418-40dd-bf58-af9d928782f2",
   "metadata": {},
   "outputs": [],
   "source": [
    "df_con_nulos = df_nulos[df_nulos['Cantidad de nulos'] > 0]\n",
    "df_con_nulos.sort_values(by=['Porcentaje de nulos']).head()"
   ]
  },
  {
   "cell_type": "markdown",
   "id": "d9fba940-60c7-4d49-804e-7c7088109736",
   "metadata": {},
   "source": [
    "Como podemos ver, llovieron_hamburguesas_al_dia_siguiente tiene missings en un ~2.3% de los registros del dataset, por lo que no sería a primera vista muy grave droppear aquellas mediciones con el target en NaN. Sin embargo, también es de importancia tener en cuenta que a la hora de predecir el target en nuestro algoritmo no tendremos con qué comparar la estimación de dicho algoritmo si la feature pertinente se encuentra en NaN. Esto nos resulta un importante indicativo de que terminaremos ignorando en el baseline las mediciones con missings en el target. \n",
    "\n",
    "Aun así, vamos a comparar para estar seguros las distribuciones de las feature humedad_tarde, horas_sol y nubosidad_tarde cuando el target está en NaN contra cuando no. Ya que estas features son las que nosotros consideramos con mejor potencial de predicción, si no tienen un cambio radical de comportamiento cuando el target tiene missings, entonces procederemos a droppear dichos registros."
   ]
  },
  {
   "cell_type": "code",
   "execution_count": null,
   "id": "77197bde-bcc2-4514-b164-3dd7cf11934e",
   "metadata": {},
   "outputs": [],
   "source": [
    "fig = plt.figure(figsize=[6.4 * 2, 4.8], dpi=100)\n",
    "\n",
    "df_target_missings = df[(df['llovieron_hamburguesas_al_dia_siguiente'].isna())]\n",
    "df_target_completo = df[(df['llovieron_hamburguesas_al_dia_siguiente'].isna() == False)] \n",
    "\n",
    "plt.hist(df_target_completo.humedad_tarde, label='Humedad cuando el target tiene valor')\n",
    "plt.hist(df_target_missings.humedad_tarde, alpha=0.75, label='Humedad cuando el target es nulo')\n",
    "plt.yscale(\"log\")\n",
    "\n",
    "plt.ylabel(\"Cantidad\")\n",
    "plt.xlabel(\"Humedad\")\n",
    "\n",
    "plt.legend()\n",
    "plt.show()"
   ]
  },
  {
   "cell_type": "markdown",
   "id": "16585f07-32a7-4ca6-87a3-0c1779ba60ad",
   "metadata": {},
   "source": [
    "Vemos que a pesar de ser una cantidad mucho menor de registros (lo cuál es esperado habiendo solo un 2.3% de missings en el target), se mantiene la forma de la distribución de humedad a pesar de no conocer el valor de llovieron_hamburguesas_al_dia_siguiente. Comprobemos qué sucede con las horas de sol:"
   ]
  },
  {
   "cell_type": "code",
   "execution_count": null,
   "id": "568debf6-ccaa-4df9-8ef5-8c9acaa4d3d3",
   "metadata": {},
   "outputs": [],
   "source": [
    "fig = plt.figure(figsize=[6.4 * 2, 4.8], dpi=100)\n",
    "\n",
    "plt.hist(df_target_completo.horas_de_sol, label='Horas de sol cuando el target tiene valor')\n",
    "plt.hist(df_target_missings.horas_de_sol, alpha=0.75, label='Horas de sol cuando el target es nulo')\n",
    "plt.yscale(\"log\")\n",
    "\n",
    "plt.ylabel(\"Cantidad\")\n",
    "plt.xlabel(\"Horas de sol\")\n",
    "\n",
    "plt.legend()\n",
    "plt.show()"
   ]
  },
  {
   "cell_type": "markdown",
   "id": "027c7f2f-42fe-48f8-b6fb-5385f6d649b8",
   "metadata": {},
   "source": [
    "En el caso de las horas de sol, tenemos una situación similar donde la forma de la distribución se mantiene independientemente de los missings del target, si bien obviamente la escala sigue siendo muy distinta. Pasemos a analizar la nubosidad:"
   ]
  },
  {
   "cell_type": "code",
   "execution_count": null,
   "id": "86726511-5028-4f37-9019-87a404d84f0d",
   "metadata": {},
   "outputs": [],
   "source": [
    "fig = plt.figure(figsize=[6.4 * 2, 4.8], dpi=100)\n",
    "\n",
    "plt.hist(df_target_completo.nubosidad_tarde,range=[0,9], label='Nubosidad a la tarde cuando el target tiene valor')\n",
    "plt.hist(df_target_missings.nubosidad_tarde,range=[0,9], alpha=0.75, label='Nubosidad a la tarde cuando el target es nulo')\n",
    "plt.yscale(\"log\")\n",
    "\n",
    "plt.ylabel(\"Cantidad\")\n",
    "plt.xlabel(\"Nubosidad a la tarde\")\n",
    "\n",
    "plt.legend()\n",
    "plt.show()"
   ]
  },
  {
   "cell_type": "markdown",
   "id": "1a16bb1b-afa4-41a8-8851-4cf90546321f",
   "metadata": {},
   "source": [
    "En este caso la diferencia de escalas es mucho más grosera, pues podemos ver que para nubosidades muy bajas tenemos una cantidad de registros que ronda los dígitos dobles si el target es nulo, mientras que cuando no es nulo tenemos alrededor de 4000 registros con dicho valor de nubosidad. Otro aspecto interesante, es que las nubosidades altas (>=8) parecen ser raras en ambos casos.\n",
    "\n",
    "A pesar de esto, sigue sin ser una visualización que nos indique una correlación entre la existencia de un valor concreto del target y la nubosidad, por lo que nuevamente se refuerza nuestra hipótesis, e ignoraremos del dataset aquellos registros donde el target sea nulo."
   ]
  },
  {
   "cell_type": "markdown",
   "id": "bdfe9176-a4b4-4f70-af90-66b2aa22c632",
   "metadata": {},
   "source": [
    "# Conclusiones de la visualizacion y análisis:\n",
    " * La humedad de la tarde parece ser una buena indicadora de la variable target, siendo así que será considerada como feature principal de predicción dentro de nuestra baseline.\n",
    " * Las features horas de sol y de nubosidades, a pesar de tener una gran cantidad de missings, fueron destacadas ya que también discriminan de manera clara los casos en los que llueven hamburguesas al día siguiente de los que no.\n",
    " * La feature \"llovieron_hamburguesas_hoy\" también sera considerada para predecir el target ya que cuando su valor es 'si', la probabilidad de que llovieron_hamburguesas_al_dia_siguiente sea positiva aumenta drásticamente con respecto a cuando no.\n",
    " * Hay una gran cantidad de features de las cuales no pudimos sacar conclusiones que nos ayuden a predecir el valor de la variable target ya que poseian una distribución equitativa en todos sus valores posibles, para ambos valores del target."
   ]
  },
  {
   "cell_type": "markdown",
   "id": "043e536d-1d56-4562-8aef-942afd4ff761",
   "metadata": {},
   "source": [
    "# Baselines posibles\n",
    "### Comencemos por definir una serie de baselines posibles según nuestro análisis previo, con el objetivo de intentar predecir la variable target."
   ]
  },
  {
   "cell_type": "markdown",
   "id": "3eca6e87-2fee-4500-82e2-58a493cba602",
   "metadata": {},
   "source": [
    "#### Para esto primero crearemos una función de preprocesamiento, la cuál se encargará de:\n",
    "    1. Droppear del dataset los registros que tengan un NaN en la variable target, por lo cual no podemos saber si nuestra predicción está bien o no, ni aprender nada de ellos.\n",
    "    2. Droppear del dataset las filas que tengan todos los siguientes registros en null: humedad_tarde, horas_de_sol, nubosidad_tarde. Esto se debe a que son los más indicativos que vimos durante el análisis y necesitaremos de ellos para formar el baseline.\n",
    "    3. Droppear del dataset los registros que tengan alrededor de la mitad de campos en NaN, los cuales consideramos mediciones de poca calidad e incompletas."
   ]
  },
  {
   "cell_type": "code",
   "execution_count": null,
   "id": "9b9e7141-29e5-4232-8032-bc16d592e36d",
   "metadata": {},
   "outputs": [],
   "source": [
    "def preprocesar_df(df_raw:pd.DataFrame):\n",
    "    df_raw = df_raw.dropna(subset=['llovieron_hamburguesas_al_dia_siguiente'])\n",
    "    df_raw = df_raw.dropna(subset=['humedad_tarde', 'horas_de_sol', 'nubosidad_tarde'], how='all')\n",
    "    df_raw = df_raw.dropna(thresh = len(df_raw.columns) - 10)\n",
    "    return df_raw"
   ]
  },
  {
   "cell_type": "markdown",
   "id": "86fdea81-b2b0-4ed3-bda0-e4f523660356",
   "metadata": {},
   "source": [
    "#### Una vez definida la función de preprocesamiento, programamos una serie de diferentes baselines que intuimos superaran el 80% de accuracy al predecir el target:"
   ]
  },
  {
   "cell_type": "code",
   "execution_count": null,
   "id": "8160a287-ffe6-4265-8f9e-fad328ca18f8",
   "metadata": {},
   "outputs": [],
   "source": [
    "def baseline(df_baseline:pd.DataFrame):\n",
    "    \n",
    "    llovio_h_hoy = (df_baseline['llovieron_hamburguesas_hoy'] == 'si')\n",
    "    \n",
    "    alta_humedad_tarde = (df_baseline['humedad_tarde'] >= 79)\n",
    "    horas_sol_bajas = (df_baseline['horas_de_sol'] <= 7.5)\n",
    "    alta_nubosidad_tarde = (df_baseline['nubosidad_tarde'] >= 7.1)\n",
    "    \n",
    "    df_baseline['prediccion_llueven_h_al_dia_siguiente'] = 'no'\n",
    "    df.loc[alta_humedad_tarde, 'prediccion_llueven_h_al_dia_siguiente'] = 'si'\n",
    "    df.loc[llovio_h_hoy & alta_nubosidad_tarde & horas_sol_bajas, 'prediccion_llueven_h_al_dia_siguiente'] = 'si'\n",
    "    \n",
    "    resultado =  df_baseline['prediccion_llueven_h_al_dia_siguiente'].values.tolist()\n",
    "    df_baseline.drop(columns=['prediccion_llueven_h_al_dia_siguiente']) #remuevo la columna de predicciones para no alterar el df original\n",
    "    return resultado\n",
    "\n",
    "def baseline_2(df_baseline:pd.DataFrame):\n",
    "    \n",
    "    alta_humedad_tarde = (df_baseline['humedad_tarde'] >= 79)\n",
    "    \n",
    "    df_baseline['prediccion_llueven_h_al_dia_siguiente'] = 'no'\n",
    "    df.loc[alta_humedad_tarde, 'prediccion_llueven_h_al_dia_siguiente'] = 'si'\n",
    "    \n",
    "    resultado =  df_baseline['prediccion_llueven_h_al_dia_siguiente'].values.tolist()\n",
    "    df_baseline.drop(columns=['prediccion_llueven_h_al_dia_siguiente'])\n",
    "    return resultado\n",
    "\n",
    "def baseline_3(df_baseline:pd.DataFrame):\n",
    "    \n",
    "    llovio_h_hoy = (df_baseline['llovieron_hamburguesas_hoy'] == 'si')\n",
    "    alta_humedad_tarde = (df_baseline['humedad_tarde'] >= 79)\n",
    "    alta_nubosidad_tarde = (df_baseline['nubosidad_tarde'] >= 7.1)\n",
    "\n",
    "    df_baseline['prediccion_llueven_h_al_dia_siguiente'] = 'no'\n",
    "    df.loc[alta_humedad_tarde, 'prediccion_llueven_h_al_dia_siguiente'] = 'si'\n",
    "    df.loc[llovio_h_hoy & alta_nubosidad_tarde , 'prediccion_llueven_h_al_dia_siguiente'] = 'si'\n",
    "    \n",
    "    resultado =  df_baseline['prediccion_llueven_h_al_dia_siguiente'].values.tolist()\n",
    "    df_baseline.drop(columns=['prediccion_llueven_h_al_dia_siguiente']) #remuevo la columna de predicciones para no alterar el df original\n",
    "    return resultado\n",
    "\n",
    "\n",
    "\n",
    "\n"
   ]
  },
  {
   "cell_type": "markdown",
   "id": "5deea80c-2867-4d0c-ba80-b02781289db5",
   "metadata": {},
   "source": [
    "# Predicción según baselines\n",
    "### Pasamos entonces a probar las funciones baselines definidas y a comparar las accuracies resultantes:"
   ]
  },
  {
   "cell_type": "markdown",
   "id": "1dd7163f-4b0f-4f40-913a-fd8b3720216f",
   "metadata": {},
   "source": [
    "Para el primer baseline, que tiene en cuenta principalmente la feature humedad_tarde, y luego también predice que llueve al dia siguiente para aquellas filas donde haya alta nubosidad a la tarde, bajas horas de sol, y haya llovido hamburguesas hoy, la accuracy resulta:"
   ]
  },
  {
   "cell_type": "code",
   "execution_count": null,
   "id": "9de63dbe-df11-4281-9ad6-72ee67944fc9",
   "metadata": {},
   "outputs": [],
   "source": [
    "df = preprocesar_df(df_original)\n",
    "(baseline(df) == df['llovieron_hamburguesas_al_dia_siguiente']).mean().round(4)"
   ]
  },
  {
   "cell_type": "markdown",
   "id": "604677fc-369e-4ca4-b887-829136ab8aa3",
   "metadata": {},
   "source": [
    "Para el segundo baseline, que se guia únicamente en si hubo una alta humedad a la tarde o no, la accuracy resulta:"
   ]
  },
  {
   "cell_type": "code",
   "execution_count": null,
   "id": "cae872c8-4bb3-402a-b96a-fc9341ae0fdb",
   "metadata": {},
   "outputs": [],
   "source": [
    "df = preprocesar_df(df_original)\n",
    "(baseline_2(df) == df['llovieron_hamburguesas_al_dia_siguiente']).mean().round(4)"
   ]
  },
  {
   "cell_type": "markdown",
   "id": "b6b5e45b-24fa-4ad4-bb1a-8c2a714475f2",
   "metadata": {},
   "source": [
    "Finalmente nuestro tercer baseline es muy parecido al primero, con la diferencia de ignorar las horas de sol:"
   ]
  },
  {
   "cell_type": "code",
   "execution_count": null,
   "id": "15bcfd9c-a2cb-428a-9b0e-915858a467ef",
   "metadata": {},
   "outputs": [],
   "source": [
    "df = preprocesar_df(df_original)\n",
    "(baseline_3(df) == df['llovieron_hamburguesas_al_dia_siguiente']).mean().round(4)"
   ]
  },
  {
   "cell_type": "markdown",
   "id": "8a1ca53f-4adc-4db1-ae81-15bb7de021e8",
   "metadata": {},
   "source": [
    "### Se observa que en caso de tener que elegir entre nuestros baselines, aquel con un puntaje de accuracy más elevado, entonces se utilizaría el primero. Sin embargo consideramos de alta importancia notar que el segundo baseline es solamente un 0,1% menos preciso, siendo a su vez más simple por necesitar solamente de la feature humedad_tarde para predecir."
   ]
  }
 ],
 "metadata": {
  "kernelspec": {
   "display_name": "Python 3 (ipykernel)",
   "language": "python",
   "name": "python3"
  },
  "language_info": {
   "codemirror_mode": {
    "name": "ipython",
    "version": 3
   },
   "file_extension": ".py",
   "mimetype": "text/x-python",
   "name": "python",
   "nbconvert_exporter": "python",
   "pygments_lexer": "ipython3",
   "version": "3.8.2"
  }
 },
 "nbformat": 4,
 "nbformat_minor": 5
}

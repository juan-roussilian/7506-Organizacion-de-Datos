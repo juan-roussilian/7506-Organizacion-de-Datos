{
 "cells": [
  {
   "cell_type": "code",
   "execution_count": 1,
   "id": "7d7ed354-d0ea-439a-b79e-ad86ed6aed0c",
   "metadata": {},
   "outputs": [],
   "source": [
    "import pandas as pd\n",
    "import numpy as np\n",
    "import requests\n",
    "from matplotlib import pyplot as plt\n",
    "import seaborn as sns\n",
    "from sklearn.metrics import accuracy_score\n",
    "from pandas_profiling import ProfileReport"
   ]
  },
  {
   "cell_type": "code",
   "execution_count": null,
   "id": "70bc0422-b63d-4af7-b982-a21aa412dc93",
   "metadata": {},
   "outputs": [],
   "source": [
    "df_1 = pd.read_csv(\n",
    "    'https://docs.google.com/spreadsheets/d/1gvZ03uAL6THwd04Y98GtIj6SeAHiKyQY5UisuuyFSUs/export?format=csv', low_memory=False\n",
    ")\n",
    "df_2 = pd.read_csv(\n",
    "    'https://docs.google.com/spreadsheets/d/1wduqo5WyYmCpaGnE81sLNGU0VSodIekMfpmEwU0fGqs/export?format=csv', low_memory=False\n",
    ")\n",
    "pd.options.display.max_columns = None\n",
    "\n",
    "df_mergeado = df_2.merge(df_1, left_on = 'id', right_on = 'id')\n",
    "df_mergeado.sort_values(by=['id'], inplace=True, ascending=True)\n",
    "df_mergeado.head()"
   ]
  },
  {
   "cell_type": "code",
   "execution_count": null,
   "id": "7ffb96d0-14ca-495c-933f-69e1a2eb8fe2",
   "metadata": {},
   "outputs": [],
   "source": [
    "###### df_mergeado.fillna(np.nan, inplace = True)"
   ]
  },
  {
   "cell_type": "markdown",
   "id": "7f5aa809-b468-4479-b89d-f785ac948ea4",
   "metadata": {},
   "source": [
    "# Feature engineering\n",
    "### Buscamos filas duplicadas\n",
    "### Consideramos a una fila duplicada unicamente cuando se repite el dia"
   ]
  },
  {
   "cell_type": "code",
   "execution_count": null,
   "id": "cd9865ed-5c1c-4c00-8a96-dafcc213a694",
   "metadata": {},
   "outputs": [],
   "source": [
    "pd.to_datetime(df_mergeado['dia'])\n",
    "display(df_mergeado[df_mergeado.duplicated(subset=['dia'],keep=False)])\n",
    "df_mergeado.dtypes\n",
    "\n"
   ]
  },
  {
   "cell_type": "markdown",
   "id": "8198a7e1-d288-4719-84c4-d54e7e479392",
   "metadata": {},
   "source": [
    "## Variables __categoricas__\n",
    "1. Barrio \n",
    "2. direccion_viento_tarde\n",
    "3. direccion_viento_temprano\n",
    "4. rafaga_viento_max_direccion\n",
    "\n",
    "### Comenzamos por reemplazar los valores nulos en direcciones de viento y ráfagas por una nueva opcion que puede tomar la feature : \"Otra direccion\""
   ]
  },
  {
   "cell_type": "code",
   "execution_count": null,
   "id": "bf4849ce-40fe-4113-b108-b6cf863374f6",
   "metadata": {},
   "outputs": [],
   "source": [
    "df_mergeado['direccion_viento_tarde'].replace(np.nan, 'Otra direccion', inplace=True)\n",
    "df_mergeado['direccion_viento_temprano'].replace(np.nan, 'Otra direccion', inplace=True)\n",
    "df_mergeado['rafaga_viento_max_direccion'].replace(np.nan, 'Otra direccion',inplace=True)"
   ]
  },
  {
   "cell_type": "markdown",
   "id": "9ea6e82a-c430-438b-9a9c-cddd5f8e9c7a",
   "metadata": {},
   "source": [
    "### Ademas reemplazamos el valor del barrio palermo que vino como 'Palermo cheto' a palermo, ya que seria poco profesional operar con el dato escrito de esta manera"
   ]
  },
  {
   "cell_type": "code",
   "execution_count": null,
   "id": "6c3f9845-13a8-44d5-99d1-92da57051c90",
   "metadata": {},
   "outputs": [],
   "source": [
    "df_mergeado['barrio'].replace('Palermo cheto', 'palermo', inplace=True)"
   ]
  },
  {
   "cell_type": "markdown",
   "id": "d61d148f-4ca7-448c-936c-4762db8f6a0c",
   "metadata": {},
   "source": [
    "### Luego verificamos que ninguna feature categorica tenga valores repetidos o sin sentido por errores de tipado "
   ]
  },
  {
   "cell_type": "code",
   "execution_count": null,
   "id": "dae8fe0e-d915-494c-a524-b6f88a6f579b",
   "metadata": {},
   "outputs": [],
   "source": [
    "df_mergeado.barrio.value_counts().to_frame()"
   ]
  },
  {
   "cell_type": "code",
   "execution_count": null,
   "id": "7f0be858-aef9-445b-b414-15f4b1621ea7",
   "metadata": {},
   "outputs": [],
   "source": [
    "df_mergeado.direccion_viento_temprano.value_counts().to_frame()"
   ]
  },
  {
   "cell_type": "code",
   "execution_count": null,
   "id": "85744569-d6c4-4066-80e2-bc51b11f3a51",
   "metadata": {},
   "outputs": [],
   "source": [
    "df_mergeado.direccion_viento_tarde.value_counts().to_frame()"
   ]
  },
  {
   "cell_type": "code",
   "execution_count": null,
   "id": "312f62b6-bf80-4b6d-883c-cc1552d6147d",
   "metadata": {},
   "outputs": [],
   "source": [
    "df_mergeado.llovieron_hamburguesas_hoy.value_counts().to_frame()"
   ]
  },
  {
   "cell_type": "code",
   "execution_count": null,
   "id": "e03cb3ff-459f-4927-bf92-84a6c9471381",
   "metadata": {},
   "outputs": [],
   "source": [
    "df_mergeado.rafaga_viento_max_direccion.value_counts().to_frame()"
   ]
  },
  {
   "cell_type": "markdown",
   "id": "f0a15df3-79ad-46ca-9003-4c8f9a1bb0f2",
   "metadata": {},
   "source": [
    "#### Vemos que todos los valores son unicos, no hay necesidad de alterar las features y podemos seguir con la conversion a valores numericos"
   ]
  },
  {
   "cell_type": "code",
   "execution_count": null,
   "id": "c2d5b985-dc5a-4210-8c63-b9742cbe8c6b",
   "metadata": {},
   "outputs": [],
   "source": []
  }
 ],
 "metadata": {
  "kernelspec": {
   "display_name": "Python 3 (ipykernel)",
   "language": "python",
   "name": "python3"
  },
  "language_info": {
   "codemirror_mode": {
    "name": "ipython",
    "version": 3
   },
   "file_extension": ".py",
   "mimetype": "text/x-python",
   "name": "python",
   "nbconvert_exporter": "python",
   "pygments_lexer": "ipython3",
   "version": "3.8.2"
  }
 },
 "nbformat": 4,
 "nbformat_minor": 5
}
